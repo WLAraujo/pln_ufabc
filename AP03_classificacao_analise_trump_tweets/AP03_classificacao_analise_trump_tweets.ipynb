{
  "nbformat": 4,
  "nbformat_minor": 0,
  "metadata": {
    "colab": {
      "name": "Atividade Prática 3.ipynb",
      "provenance": [],
      "collapsed_sections": [
        "dZA3y_D-yYrQ",
        "oCgMmjv1FE-F",
        "PlgTbWTacYlk"
      ],
      "authorship_tag": "ABX9TyM1+v7JPAPJKFIp3FimtyC1"
    },
    "kernelspec": {
      "name": "python3",
      "display_name": "Python 3"
    },
    "language_info": {
      "name": "python"
    }
  },
  "cells": [
    {
      "cell_type": "markdown",
      "metadata": {
        "id": "CSeadEWg0LTL"
      },
      "source": [
        " # Análise e classificação dos insultos de Donald Trump no Twitter\n",
        "\n",
        " **Autor:** Wesley Lima de Araujo  \n",
        " **RA:**11201721514\n",
        "\n",
        "Nesse projeto será realizada uma breve análise exploratória e de sentimento de um [dataset do kaggle]( https://www.kaggle.com/ayushggarg/all-trumps-twitter-insults-20152021) que contém tweets do ex-presidente americano Donald Trump que ofendem diretamente alguém. As análises exploratória e de sentimento serão breves, pois o principal objetivo do projeto é construir alguns modelos que sejam capazes de classificar quem foi insultado pelo tweet, e ao final será feita uma comparação entre os modelos. A variável alvo dos modelos será quem foi ofendido por Trump.\n",
        "\n",
        "Segue um roteiro das etapas do projeto que serão desenvolvidas:\n",
        "1. Importação das bibliotecas que serão usadas.\n",
        "2. Importação e tratamento da base de dados.\n",
        "3. Análise exploratória e de sentimento buscando conhecer melhor a base de dados.\n",
        "4. Atividades de pré-processamento dos dados textuais.\n",
        "5. Construção das bases de treino e teste.\n",
        "6. Criar representação vetorial dos textos.\n",
        "7. Criação de modelos usando Naive-Bayes, Regressão Logística e Support Vector Machines.\n",
        "8. Comparação dos modelos criados.\n",
        "\n",
        "Ao final serão feitas algumas considerações finais."
      ]
    },
    {
      "cell_type": "markdown",
      "metadata": {
        "id": "KC66VBDQmV7D"
      },
      "source": [
        "# 1. Importação das bibliotecas e pacotes"
      ]
    },
    {
      "cell_type": "code",
      "metadata": {
        "id": "wa10-jh3fYp4",
        "colab": {
          "base_uri": "https://localhost:8080/"
        },
        "outputId": "efa4d657-c5bf-4c4e-e8ca-13584b2f3017"
      },
      "source": [
        "# Importação de bibliotecas e pacotes que serão usados ao longo do notebook\n",
        "import pandas as pd\n",
        "import plotly.express as px\n",
        "import nltk\n",
        "from textblob import TextBlob\n",
        "nltk.download('punkt')\n",
        "nltk.download('stopwords')\n",
        "nltk.download('wordnet')\n",
        "from nltk.tokenize import wordpunct_tokenize\n",
        "from nltk.corpus import stopwords\n",
        "from nltk.stem.porter import *\n",
        "from sklearn.model_selection import train_test_split\n",
        "from sklearn.feature_extraction.text import CountVectorizer\n",
        "from sklearn.svm import LinearSVC\n",
        "from sklearn.linear_model import LogisticRegression\n",
        "from sklearn.naive_bayes import GaussianNB\n",
        "from sklearn.pipeline import Pipeline\n",
        "from sklearn.metrics import confusion_matrix, classification_report\n",
        "import seaborn as sns\n",
        "import matplotlib.pyplot as plt\n",
        "from matplotlib.pyplot import figure"
      ],
      "execution_count": 63,
      "outputs": [
        {
          "output_type": "stream",
          "name": "stdout",
          "text": [
            "[nltk_data] Downloading package punkt to /root/nltk_data...\n",
            "[nltk_data]   Package punkt is already up-to-date!\n",
            "[nltk_data] Downloading package stopwords to /root/nltk_data...\n",
            "[nltk_data]   Package stopwords is already up-to-date!\n",
            "[nltk_data] Downloading package wordnet to /root/nltk_data...\n",
            "[nltk_data]   Package wordnet is already up-to-date!\n"
          ]
        }
      ]
    },
    {
      "cell_type": "markdown",
      "metadata": {
        "id": "dZA3y_D-yYrQ"
      },
      "source": [
        "# 2. Importando e tratando a base de dados"
      ]
    },
    {
      "cell_type": "markdown",
      "metadata": {
        "id": "bFlw72FszsDc"
      },
      "source": [
        "Para não termos que usar a API do Kaggle no notebook, pois precisa de token pessoal, fiz upload da base de dados no meu github pessoal. Assim, basta realizar um wget para pegar os dados em csv do github."
      ]
    },
    {
      "cell_type": "code",
      "metadata": {
        "colab": {
          "base_uri": "https://localhost:8080/"
        },
        "id": "0BrkfRTuycp6",
        "outputId": "53909940-cb9e-419a-ea75-7c5b975990fa"
      },
      "source": [
        "# Baixando os dados do github\n",
        "!wget https://raw.githubusercontent.com/WLAraujo/python_PLN/main/AP03_classificacao_analise_trump_tweets/trump_insult_tweets_2014_to_2021.csv"
      ],
      "execution_count": 2,
      "outputs": [
        {
          "output_type": "stream",
          "name": "stdout",
          "text": [
            "--2021-11-21 05:26:30--  https://raw.githubusercontent.com/WLAraujo/python_PLN/main/AP03_classificacao_analise_trump_tweets/trump_insult_tweets_2014_to_2021.csv\n",
            "Resolving raw.githubusercontent.com (raw.githubusercontent.com)... 185.199.108.133, 185.199.109.133, 185.199.110.133, ...\n",
            "Connecting to raw.githubusercontent.com (raw.githubusercontent.com)|185.199.108.133|:443... connected.\n",
            "HTTP request sent, awaiting response... 200 OK\n",
            "Length: 2810219 (2.7M) [text/plain]\n",
            "Saving to: ‘trump_insult_tweets_2014_to_2021.csv.2’\n",
            "\n",
            "\r          trump_ins   0%[                    ]       0  --.-KB/s               \rtrump_insult_tweets 100%[===================>]   2.68M  --.-KB/s    in 0.02s   \n",
            "\n",
            "2021-11-21 05:26:31 (152 MB/s) - ‘trump_insult_tweets_2014_to_2021.csv.2’ saved [2810219/2810219]\n",
            "\n"
          ]
        }
      ]
    },
    {
      "cell_type": "markdown",
      "metadata": {
        "id": "rMK6MPoj7HPH"
      },
      "source": [
        "Sobre a base de dados, o autor original das informações contidas foi o [The New York times](https://www.nytimes.com/interactive/2021/01/19/upshot/trump-complete-insult-list.html#), o usuário do Kaggle que realizou seu upload só a organizou de maneira tabelada. Os tweets vão de 2014 até 2021 e não contam com os retweets."
      ]
    },
    {
      "cell_type": "code",
      "metadata": {
        "id": "tkLAlXcu2B7t"
      },
      "source": [
        "# Criando dataframe a partir do csv\n",
        "tweets = pd.read_csv('trump_insult_tweets_2014_to_2021.csv')"
      ],
      "execution_count": 3,
      "outputs": []
    },
    {
      "cell_type": "code",
      "metadata": {
        "colab": {
          "base_uri": "https://localhost:8080/",
          "height": 363
        },
        "id": "flSz03d92Tln",
        "outputId": "b44ebf1e-fe52-49d1-f40c-1795c5f6aac1"
      },
      "source": [
        "# Visualizando a head da tabela\n",
        "tweets.head(10)"
      ],
      "execution_count": 4,
      "outputs": [
        {
          "output_type": "execute_result",
          "data": {
            "text/html": [
              "<div>\n",
              "<style scoped>\n",
              "    .dataframe tbody tr th:only-of-type {\n",
              "        vertical-align: middle;\n",
              "    }\n",
              "\n",
              "    .dataframe tbody tr th {\n",
              "        vertical-align: top;\n",
              "    }\n",
              "\n",
              "    .dataframe thead th {\n",
              "        text-align: right;\n",
              "    }\n",
              "</style>\n",
              "<table border=\"1\" class=\"dataframe\">\n",
              "  <thead>\n",
              "    <tr style=\"text-align: right;\">\n",
              "      <th></th>\n",
              "      <th>Unnamed: 0</th>\n",
              "      <th>date</th>\n",
              "      <th>target</th>\n",
              "      <th>insult</th>\n",
              "      <th>tweet</th>\n",
              "    </tr>\n",
              "  </thead>\n",
              "  <tbody>\n",
              "    <tr>\n",
              "      <th>0</th>\n",
              "      <td>1</td>\n",
              "      <td>2014-10-09</td>\n",
              "      <td>thomas-frieden</td>\n",
              "      <td>fool</td>\n",
              "      <td>Can you believe this fool, Dr. Thomas Frieden ...</td>\n",
              "    </tr>\n",
              "    <tr>\n",
              "      <th>1</th>\n",
              "      <td>2</td>\n",
              "      <td>2014-10-09</td>\n",
              "      <td>thomas-frieden</td>\n",
              "      <td>DOPE</td>\n",
              "      <td>Can you believe this fool, Dr. Thomas Frieden ...</td>\n",
              "    </tr>\n",
              "    <tr>\n",
              "      <th>2</th>\n",
              "      <td>3</td>\n",
              "      <td>2015-06-16</td>\n",
              "      <td>politicians</td>\n",
              "      <td>all talk and no action</td>\n",
              "      <td>Big time in U.S. today - MAKE AMERICA GREAT AG...</td>\n",
              "    </tr>\n",
              "    <tr>\n",
              "      <th>3</th>\n",
              "      <td>4</td>\n",
              "      <td>2015-06-24</td>\n",
              "      <td>ben-cardin</td>\n",
              "      <td>It's politicians like Cardin that have destroy...</td>\n",
              "      <td>Politician @SenatorCardin didn't like that I s...</td>\n",
              "    </tr>\n",
              "    <tr>\n",
              "      <th>4</th>\n",
              "      <td>5</td>\n",
              "      <td>2015-06-24</td>\n",
              "      <td>neil-young</td>\n",
              "      <td>total hypocrite</td>\n",
              "      <td>For the nonbeliever, here is a photo of @Neily...</td>\n",
              "    </tr>\n",
              "    <tr>\n",
              "      <th>5</th>\n",
              "      <td>6</td>\n",
              "      <td>2015-06-24</td>\n",
              "      <td>rockin-in-the-free-world</td>\n",
              "      <td>didn't love it</td>\n",
              "      <td>.@Neilyoung’s song, “Rockin’ In The Free World...</td>\n",
              "    </tr>\n",
              "    <tr>\n",
              "      <th>6</th>\n",
              "      <td>7</td>\n",
              "      <td>2015-06-25</td>\n",
              "      <td>willie-geist</td>\n",
              "      <td>uncomfortable looking</td>\n",
              "      <td>Uncomfortable looking NBC reporter Willie Geis...</td>\n",
              "    </tr>\n",
              "    <tr>\n",
              "      <th>7</th>\n",
              "      <td>8</td>\n",
              "      <td>2015-06-25</td>\n",
              "      <td>jeb-bush</td>\n",
              "      <td>will NEVER Make America Great Again</td>\n",
              "      <td>Just out, the new nationwide @FoxNews poll has...</td>\n",
              "    </tr>\n",
              "    <tr>\n",
              "      <th>8</th>\n",
              "      <td>9</td>\n",
              "      <td>2015-06-25</td>\n",
              "      <td>molly-sims</td>\n",
              "      <td>a disaster</td>\n",
              "      <td>The ratings for The View are really low. Nicol...</td>\n",
              "    </tr>\n",
              "    <tr>\n",
              "      <th>9</th>\n",
              "      <td>10</td>\n",
              "      <td>2015-06-25</td>\n",
              "      <td>nicole-wallace</td>\n",
              "      <td>a disaster</td>\n",
              "      <td>The ratings for The View are really low. Nicol...</td>\n",
              "    </tr>\n",
              "  </tbody>\n",
              "</table>\n",
              "</div>"
            ],
            "text/plain": [
              "   Unnamed: 0  ...                                              tweet\n",
              "0           1  ...  Can you believe this fool, Dr. Thomas Frieden ...\n",
              "1           2  ...  Can you believe this fool, Dr. Thomas Frieden ...\n",
              "2           3  ...  Big time in U.S. today - MAKE AMERICA GREAT AG...\n",
              "3           4  ...  Politician @SenatorCardin didn't like that I s...\n",
              "4           5  ...  For the nonbeliever, here is a photo of @Neily...\n",
              "5           6  ...  .@Neilyoung’s song, “Rockin’ In The Free World...\n",
              "6           7  ...  Uncomfortable looking NBC reporter Willie Geis...\n",
              "7           8  ...  Just out, the new nationwide @FoxNews poll has...\n",
              "8           9  ...  The ratings for The View are really low. Nicol...\n",
              "9          10  ...  The ratings for The View are really low. Nicol...\n",
              "\n",
              "[10 rows x 5 columns]"
            ]
          },
          "metadata": {},
          "execution_count": 4
        }
      ]
    },
    {
      "cell_type": "markdown",
      "metadata": {
        "id": "QHQqo6Bn9Ff1"
      },
      "source": [
        "**Dicionário de dados:**\n",
        "* 'Unnamed: 0' - Índice original da tabela.\n",
        "* 'date' - Data em que o tweet foi realizado.\n",
        "* 'target' - Quem foi o alvo da ofensa contida no tweet.\n",
        "* 'insult' - Qual foi o insulto proferido no tweet.\n",
        "* 'tweet' - Tweet completo."
      ]
    },
    {
      "cell_type": "code",
      "metadata": {
        "id": "SbRXc7N78hGW"
      },
      "source": [
        "# Vamos remover a coluna 'Unnamed 0', usada originalmente como índice da tabela\n",
        "tweets = tweets.drop(columns='Unnamed: 0')"
      ],
      "execution_count": 5,
      "outputs": []
    },
    {
      "cell_type": "markdown",
      "metadata": {
        "id": "0ltxeFVpGJcX"
      },
      "source": [
        "Veja que podemos ter várias linhas com o mesmo tweet, pois, como o foco é encontrar os insultos, podemos ter mais de um 'insult' para o mesmo 'tweet'.  Por isso, vamos começar realizando um agrupamento dos dados por 'tweet', 'target' e 'date'."
      ]
    },
    {
      "cell_type": "code",
      "metadata": {
        "colab": {
          "base_uri": "https://localhost:8080/",
          "height": 424
        },
        "id": "gFIqUMALGL79",
        "outputId": "b68c6118-6071-4218-c17f-5c019784412b"
      },
      "source": [
        "# Realizando agrupamento de 'tweet' e 'target'\n",
        "tweets_agrupados = tweets[['target','tweet', 'date']].drop_duplicates().reset_index()\n",
        "tweets_agrupados"
      ],
      "execution_count": 6,
      "outputs": [
        {
          "output_type": "execute_result",
          "data": {
            "text/html": [
              "<div>\n",
              "<style scoped>\n",
              "    .dataframe tbody tr th:only-of-type {\n",
              "        vertical-align: middle;\n",
              "    }\n",
              "\n",
              "    .dataframe tbody tr th {\n",
              "        vertical-align: top;\n",
              "    }\n",
              "\n",
              "    .dataframe thead th {\n",
              "        text-align: right;\n",
              "    }\n",
              "</style>\n",
              "<table border=\"1\" class=\"dataframe\">\n",
              "  <thead>\n",
              "    <tr style=\"text-align: right;\">\n",
              "      <th></th>\n",
              "      <th>index</th>\n",
              "      <th>target</th>\n",
              "      <th>tweet</th>\n",
              "      <th>date</th>\n",
              "    </tr>\n",
              "  </thead>\n",
              "  <tbody>\n",
              "    <tr>\n",
              "      <th>0</th>\n",
              "      <td>0</td>\n",
              "      <td>thomas-frieden</td>\n",
              "      <td>Can you believe this fool, Dr. Thomas Frieden ...</td>\n",
              "      <td>2014-10-09</td>\n",
              "    </tr>\n",
              "    <tr>\n",
              "      <th>1</th>\n",
              "      <td>2</td>\n",
              "      <td>politicians</td>\n",
              "      <td>Big time in U.S. today - MAKE AMERICA GREAT AG...</td>\n",
              "      <td>2015-06-16</td>\n",
              "    </tr>\n",
              "    <tr>\n",
              "      <th>2</th>\n",
              "      <td>3</td>\n",
              "      <td>ben-cardin</td>\n",
              "      <td>Politician @SenatorCardin didn't like that I s...</td>\n",
              "      <td>2015-06-24</td>\n",
              "    </tr>\n",
              "    <tr>\n",
              "      <th>3</th>\n",
              "      <td>4</td>\n",
              "      <td>neil-young</td>\n",
              "      <td>For the nonbeliever, here is a photo of @Neily...</td>\n",
              "      <td>2015-06-24</td>\n",
              "    </tr>\n",
              "    <tr>\n",
              "      <th>4</th>\n",
              "      <td>5</td>\n",
              "      <td>rockin-in-the-free-world</td>\n",
              "      <td>.@Neilyoung’s song, “Rockin’ In The Free World...</td>\n",
              "      <td>2015-06-24</td>\n",
              "    </tr>\n",
              "    <tr>\n",
              "      <th>...</th>\n",
              "      <td>...</td>\n",
              "      <td>...</td>\n",
              "      <td>...</td>\n",
              "      <td>...</td>\n",
              "    </tr>\n",
              "    <tr>\n",
              "      <th>7116</th>\n",
              "      <td>10355</td>\n",
              "      <td>2020-election</td>\n",
              "      <td>If Vice President @Mike_Pence comes through fo...</td>\n",
              "      <td>2021-01-06</td>\n",
              "    </tr>\n",
              "    <tr>\n",
              "      <th>7117</th>\n",
              "      <td>10356</td>\n",
              "      <td>2020-election</td>\n",
              "      <td>States want to correct their votes, which they...</td>\n",
              "      <td>2021-01-06</td>\n",
              "    </tr>\n",
              "    <tr>\n",
              "      <th>7118</th>\n",
              "      <td>10357</td>\n",
              "      <td>2020-election</td>\n",
              "      <td>They just happened to find 50,000 ballots late...</td>\n",
              "      <td>2021-01-06</td>\n",
              "    </tr>\n",
              "    <tr>\n",
              "      <th>7119</th>\n",
              "      <td>10358</td>\n",
              "      <td>2020-election</td>\n",
              "      <td>The States want to redo their votes. They foun...</td>\n",
              "      <td>2021-01-06</td>\n",
              "    </tr>\n",
              "    <tr>\n",
              "      <th>7120</th>\n",
              "      <td>10359</td>\n",
              "      <td>chuck-todd</td>\n",
              "      <td>Sleepy Eyes Chuck Todd is so happy with the fa...</td>\n",
              "      <td>2021-01-06</td>\n",
              "    </tr>\n",
              "  </tbody>\n",
              "</table>\n",
              "<p>7121 rows × 4 columns</p>\n",
              "</div>"
            ],
            "text/plain": [
              "      index  ...        date\n",
              "0         0  ...  2014-10-09\n",
              "1         2  ...  2015-06-16\n",
              "2         3  ...  2015-06-24\n",
              "3         4  ...  2015-06-24\n",
              "4         5  ...  2015-06-24\n",
              "...     ...  ...         ...\n",
              "7116  10355  ...  2021-01-06\n",
              "7117  10356  ...  2021-01-06\n",
              "7118  10357  ...  2021-01-06\n",
              "7119  10358  ...  2021-01-06\n",
              "7120  10359  ...  2021-01-06\n",
              "\n",
              "[7121 rows x 4 columns]"
            ]
          },
          "metadata": {},
          "execution_count": 6
        }
      ]
    },
    {
      "cell_type": "code",
      "metadata": {
        "id": "jHgSnzxEIlQj"
      },
      "source": [
        "# Vamos dropar os índices antigos\n",
        "tweets_agrupados = tweets_agrupados.drop(columns='index')"
      ],
      "execution_count": 7,
      "outputs": []
    },
    {
      "cell_type": "markdown",
      "metadata": {
        "id": "gLIVhJbu80nQ"
      },
      "source": [
        "Essa é uma base de dados muito interessante e com potencial de gerar um bom projeto, mas vou mostrar um problema indesejável quando vamos fazer um projeto de aprendizado de máquina envolvendo classificação."
      ]
    },
    {
      "cell_type": "code",
      "metadata": {
        "colab": {
          "base_uri": "https://localhost:8080/"
        },
        "id": "pzzbXjto-M-n",
        "outputId": "25a5a17b-0df8-4f3e-82cd-714e057aed5a"
      },
      "source": [
        "# Primeiro vamos ver a quantidade de linhas que a base possui\n",
        "tweets_agrupados.shape"
      ],
      "execution_count": 8,
      "outputs": [
        {
          "output_type": "execute_result",
          "data": {
            "text/plain": [
              "(7121, 3)"
            ]
          },
          "metadata": {},
          "execution_count": 8
        }
      ]
    },
    {
      "cell_type": "code",
      "metadata": {
        "colab": {
          "base_uri": "https://localhost:8080/"
        },
        "id": "tNSLiKUU9ATP",
        "outputId": "3cea5762-6099-4bb6-dc4f-43e07e99c6f3"
      },
      "source": [
        "# Vamos ver a quantidade de classes que a coluna 'target' possui\n",
        "len(tweets_agrupados['target'].unique())"
      ],
      "execution_count": 9,
      "outputs": [
        {
          "output_type": "execute_result",
          "data": {
            "text/plain": [
              "867"
            ]
          },
          "metadata": {},
          "execution_count": 9
        }
      ]
    },
    {
      "cell_type": "markdown",
      "metadata": {
        "id": "kz7QRKOr-HLL"
      },
      "source": [
        "Isso significa que teriamos 867 classes para 7113 linhas disponíveis para realizar treino e teste, o que pode ser considerado inviável para realizar o treinamento de modelo de classificação que desejamos, já que, muito provavelmente, teríamos um problema de desbalanceamento de classes. Para contornar essa situação vamos pegar na base apenas as 10 classes da coluna 'target' com mais linhas na base de dados."
      ]
    },
    {
      "cell_type": "code",
      "metadata": {
        "colab": {
          "base_uri": "https://localhost:8080/",
          "height": 394
        },
        "id": "OWObUmsS-5Ir",
        "outputId": "0594f777-981c-4f1b-afde-f2970ceb7876"
      },
      "source": [
        "# Verificando quais são as classes que atendem o critério target com mais linhas\n",
        "top_10 = tweets_agrupados.groupby(['target']).count().nlargest(10, 'tweet').drop(columns='date')\n",
        "top_10"
      ],
      "execution_count": 10,
      "outputs": [
        {
          "output_type": "execute_result",
          "data": {
            "text/html": [
              "<div>\n",
              "<style scoped>\n",
              "    .dataframe tbody tr th:only-of-type {\n",
              "        vertical-align: middle;\n",
              "    }\n",
              "\n",
              "    .dataframe tbody tr th {\n",
              "        vertical-align: top;\n",
              "    }\n",
              "\n",
              "    .dataframe thead th {\n",
              "        text-align: right;\n",
              "    }\n",
              "</style>\n",
              "<table border=\"1\" class=\"dataframe\">\n",
              "  <thead>\n",
              "    <tr style=\"text-align: right;\">\n",
              "      <th></th>\n",
              "      <th>tweet</th>\n",
              "    </tr>\n",
              "    <tr>\n",
              "      <th>target</th>\n",
              "      <th></th>\n",
              "    </tr>\n",
              "  </thead>\n",
              "  <tbody>\n",
              "    <tr>\n",
              "      <th>the-media</th>\n",
              "      <td>828</td>\n",
              "    </tr>\n",
              "    <tr>\n",
              "      <th>democrats</th>\n",
              "      <td>502</td>\n",
              "    </tr>\n",
              "    <tr>\n",
              "      <th>hillary-clinton</th>\n",
              "      <td>473</td>\n",
              "    </tr>\n",
              "    <tr>\n",
              "      <th>trump-russia</th>\n",
              "      <td>319</td>\n",
              "    </tr>\n",
              "    <tr>\n",
              "      <th>joe-biden</th>\n",
              "      <td>294</td>\n",
              "    </tr>\n",
              "    <tr>\n",
              "      <th>impeachment-inquiry</th>\n",
              "      <td>208</td>\n",
              "    </tr>\n",
              "    <tr>\n",
              "      <th>the-new-york-times</th>\n",
              "      <td>206</td>\n",
              "    </tr>\n",
              "    <tr>\n",
              "      <th>cnn</th>\n",
              "      <td>177</td>\n",
              "    </tr>\n",
              "    <tr>\n",
              "      <th>2020-election</th>\n",
              "      <td>135</td>\n",
              "    </tr>\n",
              "    <tr>\n",
              "      <th>adam-schiff</th>\n",
              "      <td>111</td>\n",
              "    </tr>\n",
              "  </tbody>\n",
              "</table>\n",
              "</div>"
            ],
            "text/plain": [
              "                     tweet\n",
              "target                    \n",
              "the-media              828\n",
              "democrats              502\n",
              "hillary-clinton        473\n",
              "trump-russia           319\n",
              "joe-biden              294\n",
              "impeachment-inquiry    208\n",
              "the-new-york-times     206\n",
              "cnn                    177\n",
              "2020-election          135\n",
              "adam-schiff            111"
            ]
          },
          "metadata": {},
          "execution_count": 10
        }
      ]
    },
    {
      "cell_type": "code",
      "metadata": {
        "colab": {
          "base_uri": "https://localhost:8080/"
        },
        "id": "ngj5JTEJELTK",
        "outputId": "586043be-d673-4c1e-8e9b-bad94f24d4f2"
      },
      "source": [
        "# Vendo quantas linhas a nova base terá\n",
        "top_10['tweet'].sum()"
      ],
      "execution_count": 11,
      "outputs": [
        {
          "output_type": "execute_result",
          "data": {
            "text/plain": [
              "3253"
            ]
          },
          "metadata": {},
          "execution_count": 11
        }
      ]
    },
    {
      "cell_type": "code",
      "metadata": {
        "colab": {
          "base_uri": "https://localhost:8080/",
          "height": 363
        },
        "id": "cpziVHYKA6G4",
        "outputId": "6b8b889a-61d5-467f-e285-9b7682c5e220"
      },
      "source": [
        "# Criando nova base de tweets com apenas essas classes\n",
        "tweets_10 = tweets_agrupados.loc[tweets_agrupados['target'].isin(list(top_10.index))].reset_index().drop(columns='index')\n",
        "tweets_10.head(10)"
      ],
      "execution_count": 12,
      "outputs": [
        {
          "output_type": "execute_result",
          "data": {
            "text/html": [
              "<div>\n",
              "<style scoped>\n",
              "    .dataframe tbody tr th:only-of-type {\n",
              "        vertical-align: middle;\n",
              "    }\n",
              "\n",
              "    .dataframe tbody tr th {\n",
              "        vertical-align: top;\n",
              "    }\n",
              "\n",
              "    .dataframe thead th {\n",
              "        text-align: right;\n",
              "    }\n",
              "</style>\n",
              "<table border=\"1\" class=\"dataframe\">\n",
              "  <thead>\n",
              "    <tr style=\"text-align: right;\">\n",
              "      <th></th>\n",
              "      <th>target</th>\n",
              "      <th>tweet</th>\n",
              "      <th>date</th>\n",
              "    </tr>\n",
              "  </thead>\n",
              "  <tbody>\n",
              "    <tr>\n",
              "      <th>0</th>\n",
              "      <td>cnn</td>\n",
              "      <td>Ratings starved @CNN and @CNNPolitics does not...</td>\n",
              "      <td>2015-07-18</td>\n",
              "    </tr>\n",
              "    <tr>\n",
              "      <th>1</th>\n",
              "      <td>cnn</td>\n",
              "      <td>The $10 billion (net worth) is AFTER all debt ...</td>\n",
              "      <td>2015-07-18</td>\n",
              "    </tr>\n",
              "    <tr>\n",
              "      <th>2</th>\n",
              "      <td>the-media</td>\n",
              "      <td>I truly LOVE all of the millions of people who...</td>\n",
              "      <td>2015-07-29</td>\n",
              "    </tr>\n",
              "    <tr>\n",
              "      <th>3</th>\n",
              "      <td>the-new-york-times</td>\n",
              "      <td>Despite the false @nytimes story about Jeb Bus...</td>\n",
              "      <td>2015-08-03</td>\n",
              "    </tr>\n",
              "    <tr>\n",
              "      <th>4</th>\n",
              "      <td>hillary-clinton</td>\n",
              "      <td>Hillary said such nasty things about me, read ...</td>\n",
              "      <td>2015-09-05</td>\n",
              "    </tr>\n",
              "    <tr>\n",
              "      <th>5</th>\n",
              "      <td>hillary-clinton</td>\n",
              "      <td>Remember that I am self-funding my campaign. H...</td>\n",
              "      <td>2015-09-05</td>\n",
              "    </tr>\n",
              "    <tr>\n",
              "      <th>6</th>\n",
              "      <td>the-media</td>\n",
              "      <td>I am attracting the biggest crowds, by far, an...</td>\n",
              "      <td>2015-09-21</td>\n",
              "    </tr>\n",
              "    <tr>\n",
              "      <th>7</th>\n",
              "      <td>the-media</td>\n",
              "      <td>Despite the establishment and the media’s best...</td>\n",
              "      <td>2015-09-24</td>\n",
              "    </tr>\n",
              "    <tr>\n",
              "      <th>8</th>\n",
              "      <td>the-media</td>\n",
              "      <td>I'm leading by big margins in every poll but t...</td>\n",
              "      <td>2015-10-04</td>\n",
              "    </tr>\n",
              "    <tr>\n",
              "      <th>9</th>\n",
              "      <td>hillary-clinton</td>\n",
              "      <td>The trade deal is a disaster, she was always f...</td>\n",
              "      <td>2015-10-14</td>\n",
              "    </tr>\n",
              "  </tbody>\n",
              "</table>\n",
              "</div>"
            ],
            "text/plain": [
              "               target  ...        date\n",
              "0                 cnn  ...  2015-07-18\n",
              "1                 cnn  ...  2015-07-18\n",
              "2           the-media  ...  2015-07-29\n",
              "3  the-new-york-times  ...  2015-08-03\n",
              "4     hillary-clinton  ...  2015-09-05\n",
              "5     hillary-clinton  ...  2015-09-05\n",
              "6           the-media  ...  2015-09-21\n",
              "7           the-media  ...  2015-09-24\n",
              "8           the-media  ...  2015-10-04\n",
              "9     hillary-clinton  ...  2015-10-14\n",
              "\n",
              "[10 rows x 3 columns]"
            ]
          },
          "metadata": {},
          "execution_count": 12
        }
      ]
    },
    {
      "cell_type": "markdown",
      "metadata": {
        "id": "oCgMmjv1FE-F"
      },
      "source": [
        "# 3. Análise exploratória e de sentimento da base"
      ]
    },
    {
      "cell_type": "code",
      "metadata": {
        "colab": {
          "base_uri": "https://localhost:8080/",
          "height": 542
        },
        "id": "stdXnpn1Fd1R",
        "outputId": "f5957c0c-08ae-4953-9581-be532b88551e"
      },
      "source": [
        "# Vamos começar realizando um agrupamento por ano para ver como esses dados comportaram-se ao longo dos anos\n",
        "# Vamos aproveitar e tentar ver quantas vezes cada 'target' foi alvo ao longo de cada ano\n",
        "tweets_10['year'] = pd.DatetimeIndex(tweets_10['date']).year\n",
        "fig = px.histogram(tweets_10, x='year', color='target', labels={'year':'Ano', 'y':'Tweets'}, title = 'Tweets por target')\n",
        "fig.update_layout(bargap=0.2, yaxis_title_text='Contagem')\n",
        "fig.show()"
      ],
      "execution_count": 13,
      "outputs": [
        {
          "output_type": "display_data",
          "data": {
            "text/html": [
              "<html>\n",
              "<head><meta charset=\"utf-8\" /></head>\n",
              "<body>\n",
              "    <div>\n",
              "            <script src=\"https://cdnjs.cloudflare.com/ajax/libs/mathjax/2.7.5/MathJax.js?config=TeX-AMS-MML_SVG\"></script><script type=\"text/javascript\">if (window.MathJax) {MathJax.Hub.Config({SVG: {font: \"STIX-Web\"}});}</script>\n",
              "                <script type=\"text/javascript\">window.PlotlyConfig = {MathJaxConfig: 'local'};</script>\n",
              "        <script src=\"https://cdn.plot.ly/plotly-latest.min.js\"></script>    \n",
              "            <div id=\"cc5154f0-461c-432c-b5b8-f84ce8dd7a83\" class=\"plotly-graph-div\" style=\"height:525px; width:100%;\"></div>\n",
              "            <script type=\"text/javascript\">\n",
              "                \n",
              "                    window.PLOTLYENV=window.PLOTLYENV || {};\n",
              "                    \n",
              "                if (document.getElementById(\"cc5154f0-461c-432c-b5b8-f84ce8dd7a83\")) {\n",
              "                    Plotly.newPlot(\n",
              "                        'cc5154f0-461c-432c-b5b8-f84ce8dd7a83',\n",
              "                        [{\"alignmentgroup\": \"True\", \"bingroup\": \"x\", \"hoverlabel\": {\"namelength\": 0}, \"hovertemplate\": \"target=cnn<br>Ano=%{x}<br>count=%{y}\", \"legendgroup\": \"target=cnn\", \"marker\": {\"color\": \"#636efa\"}, \"name\": \"target=cnn\", \"offsetgroup\": \"target=cnn\", \"orientation\": \"v\", \"showlegend\": true, \"type\": \"histogram\", \"x\": [2015, 2015, 2015, 2015, 2015, 2015, 2016, 2016, 2016, 2016, 2016, 2016, 2016, 2016, 2016, 2016, 2016, 2016, 2016, 2016, 2016, 2016, 2016, 2016, 2016, 2016, 2016, 2016, 2016, 2016, 2016, 2016, 2016, 2016, 2016, 2016, 2016, 2016, 2016, 2016, 2016, 2016, 2016, 2016, 2016, 2016, 2016, 2016, 2017, 2017, 2017, 2017, 2017, 2017, 2017, 2017, 2017, 2017, 2017, 2017, 2017, 2017, 2017, 2017, 2017, 2017, 2017, 2017, 2017, 2017, 2017, 2017, 2017, 2018, 2018, 2018, 2018, 2018, 2018, 2018, 2018, 2018, 2018, 2018, 2018, 2018, 2018, 2018, 2018, 2018, 2018, 2018, 2018, 2018, 2018, 2018, 2018, 2018, 2018, 2018, 2019, 2019, 2019, 2019, 2019, 2019, 2019, 2019, 2019, 2019, 2019, 2019, 2019, 2019, 2019, 2019, 2019, 2019, 2019, 2019, 2019, 2019, 2019, 2019, 2019, 2019, 2019, 2019, 2019, 2019, 2019, 2019, 2019, 2019, 2020, 2020, 2020, 2020, 2020, 2020, 2020, 2020, 2020, 2020, 2020, 2020, 2020, 2020, 2020, 2020, 2020, 2020, 2020, 2020, 2020, 2020, 2020, 2020, 2020, 2020, 2020, 2020, 2020, 2020, 2020, 2020, 2020, 2020, 2020, 2020, 2020, 2020, 2020, 2020, 2020, 2020, 2020], \"xaxis\": \"x\", \"yaxis\": \"y\"}, {\"alignmentgroup\": \"True\", \"bingroup\": \"x\", \"hoverlabel\": {\"namelength\": 0}, \"hovertemplate\": \"target=the-media<br>Ano=%{x}<br>count=%{y}\", \"legendgroup\": \"target=the-media\", \"marker\": {\"color\": \"#EF553B\"}, \"name\": \"target=the-media\", \"offsetgroup\": \"target=the-media\", \"orientation\": \"v\", \"showlegend\": true, \"type\": \"histogram\", \"x\": [2015, 2015, 2015, 2015, 2015, 2015, 2015, 2015, 2015, 2015, 2015, 2015, 2015, 2015, 2016, 2016, 2016, 2016, 2016, 2016, 2016, 2016, 2016, 2016, 2016, 2016, 2016, 2016, 2016, 2016, 2016, 2016, 2016, 2016, 2016, 2016, 2016, 2016, 2016, 2016, 2016, 2016, 2016, 2016, 2016, 2016, 2016, 2016, 2016, 2016, 2016, 2016, 2016, 2016, 2016, 2016, 2016, 2016, 2016, 2016, 2016, 2016, 2016, 2016, 2016, 2016, 2017, 2017, 2017, 2017, 2017, 2017, 2017, 2017, 2017, 2017, 2017, 2017, 2017, 2017, 2017, 2017, 2017, 2017, 2017, 2017, 2017, 2017, 2017, 2017, 2017, 2017, 2017, 2017, 2017, 2017, 2017, 2017, 2017, 2017, 2017, 2017, 2017, 2017, 2017, 2017, 2017, 2017, 2017, 2017, 2017, 2017, 2017, 2017, 2017, 2017, 2017, 2017, 2017, 2017, 2017, 2017, 2017, 2017, 2017, 2017, 2017, 2017, 2017, 2017, 2017, 2017, 2017, 2017, 2017, 2017, 2017, 2017, 2017, 2017, 2017, 2017, 2017, 2017, 2017, 2017, 2017, 2017, 2017, 2017, 2017, 2017, 2017, 2017, 2017, 2017, 2017, 2017, 2017, 2017, 2017, 2017, 2017, 2017, 2017, 2017, 2017, 2017, 2017, 2017, 2017, 2017, 2017, 2017, 2017, 2017, 2017, 2017, 2017, 2017, 2017, 2017, 2017, 2017, 2017, 2017, 2017, 2017, 2017, 2017, 2017, 2017, 2017, 2017, 2017, 2017, 2017, 2017, 2017, 2017, 2017, 2017, 2017, 2017, 2017, 2017, 2017, 2018, 2018, 2018, 2018, 2018, 2018, 2018, 2018, 2018, 2018, 2018, 2018, 2018, 2018, 2018, 2018, 2018, 2018, 2018, 2018, 2018, 2018, 2018, 2018, 2018, 2018, 2018, 2018, 2018, 2018, 2018, 2018, 2018, 2018, 2018, 2018, 2018, 2018, 2018, 2018, 2018, 2018, 2018, 2018, 2018, 2018, 2018, 2018, 2018, 2018, 2018, 2018, 2018, 2018, 2018, 2018, 2018, 2018, 2018, 2018, 2018, 2018, 2018, 2018, 2018, 2018, 2018, 2018, 2018, 2018, 2018, 2018, 2018, 2018, 2018, 2018, 2018, 2018, 2018, 2018, 2018, 2018, 2018, 2018, 2018, 2018, 2018, 2018, 2018, 2018, 2018, 2018, 2018, 2018, 2018, 2018, 2018, 2018, 2018, 2018, 2018, 2018, 2018, 2018, 2018, 2018, 2018, 2018, 2018, 2018, 2018, 2018, 2018, 2018, 2018, 2018, 2018, 2018, 2018, 2018, 2018, 2018, 2018, 2018, 2018, 2018, 2018, 2018, 2018, 2018, 2018, 2018, 2018, 2018, 2018, 2018, 2018, 2018, 2018, 2018, 2018, 2018, 2018, 2018, 2018, 2018, 2018, 2018, 2018, 2019, 2019, 2019, 2019, 2019, 2019, 2019, 2019, 2019, 2019, 2019, 2019, 2019, 2019, 2019, 2019, 2019, 2019, 2019, 2019, 2019, 2019, 2019, 2019, 2019, 2019, 2019, 2019, 2019, 2019, 2019, 2019, 2019, 2019, 2019, 2019, 2019, 2019, 2019, 2019, 2019, 2019, 2019, 2019, 2019, 2019, 2019, 2019, 2019, 2019, 2019, 2019, 2019, 2019, 2019, 2019, 2019, 2019, 2019, 2019, 2019, 2019, 2019, 2019, 2019, 2019, 2019, 2019, 2019, 2019, 2019, 2019, 2019, 2019, 2019, 2019, 2019, 2019, 2019, 2019, 2019, 2019, 2019, 2019, 2019, 2019, 2019, 2019, 2019, 2019, 2019, 2019, 2019, 2019, 2019, 2019, 2019, 2019, 2019, 2019, 2019, 2019, 2019, 2019, 2019, 2019, 2019, 2019, 2019, 2019, 2019, 2019, 2019, 2019, 2019, 2019, 2019, 2019, 2019, 2019, 2019, 2019, 2019, 2019, 2019, 2019, 2019, 2019, 2019, 2019, 2019, 2019, 2019, 2019, 2019, 2019, 2019, 2019, 2019, 2019, 2019, 2019, 2019, 2019, 2019, 2019, 2019, 2019, 2019, 2019, 2019, 2019, 2019, 2019, 2019, 2019, 2019, 2019, 2019, 2019, 2019, 2019, 2019, 2019, 2019, 2019, 2019, 2019, 2019, 2019, 2019, 2019, 2019, 2019, 2019, 2019, 2019, 2019, 2019, 2019, 2019, 2019, 2019, 2019, 2019, 2019, 2019, 2019, 2019, 2019, 2019, 2019, 2019, 2019, 2019, 2019, 2019, 2019, 2019, 2019, 2019, 2019, 2019, 2019, 2019, 2019, 2019, 2019, 2019, 2019, 2019, 2019, 2019, 2019, 2019, 2019, 2019, 2019, 2019, 2019, 2019, 2019, 2019, 2019, 2019, 2019, 2020, 2020, 2020, 2020, 2020, 2020, 2020, 2020, 2020, 2020, 2020, 2020, 2020, 2020, 2020, 2020, 2020, 2020, 2020, 2020, 2020, 2020, 2020, 2020, 2020, 2020, 2020, 2020, 2020, 2020, 2020, 2020, 2020, 2020, 2020, 2020, 2020, 2020, 2020, 2020, 2020, 2020, 2020, 2020, 2020, 2020, 2020, 2020, 2020, 2020, 2020, 2020, 2020, 2020, 2020, 2020, 2020, 2020, 2020, 2020, 2020, 2020, 2020, 2020, 2020, 2020, 2020, 2020, 2020, 2020, 2020, 2020, 2020, 2020, 2020, 2020, 2020, 2020, 2020, 2020, 2020, 2020, 2020, 2020, 2020, 2020, 2020, 2020, 2020, 2020, 2020, 2020, 2020, 2020, 2020, 2020, 2020, 2020, 2020, 2020, 2020, 2020, 2020, 2020, 2020, 2020, 2020, 2020, 2020, 2020, 2020, 2020, 2020, 2020, 2020, 2020, 2020, 2020, 2020, 2020, 2020, 2020, 2020, 2020, 2020, 2020, 2020, 2020, 2020, 2020, 2020, 2020, 2020, 2020, 2020, 2020, 2020, 2020, 2020, 2020, 2020, 2020, 2020, 2020, 2020, 2020, 2020, 2020, 2020, 2020, 2020, 2020, 2020, 2020, 2020, 2020, 2020, 2020, 2020, 2020, 2020, 2020, 2020, 2020, 2020, 2020, 2020, 2020, 2020, 2020, 2020, 2020, 2020, 2020, 2020, 2020, 2020, 2020, 2020, 2020, 2020, 2020, 2020, 2020, 2020, 2020, 2020, 2020, 2020, 2020, 2020, 2020, 2020, 2020, 2020, 2020, 2020, 2020, 2020, 2020, 2020, 2020, 2020, 2020, 2020, 2020, 2020, 2020, 2020, 2020, 2020, 2020, 2020, 2020, 2020, 2020, 2020, 2020, 2020, 2020, 2020, 2020, 2020, 2020, 2020, 2020, 2020, 2020, 2020, 2020, 2020, 2020, 2020, 2020, 2020, 2020, 2020, 2020, 2020, 2020, 2020, 2020, 2020, 2020, 2020, 2021], \"xaxis\": \"x\", \"yaxis\": \"y\"}, {\"alignmentgroup\": \"True\", \"bingroup\": \"x\", \"hoverlabel\": {\"namelength\": 0}, \"hovertemplate\": \"target=the-new-york-times<br>Ano=%{x}<br>count=%{y}\", \"legendgroup\": \"target=the-new-york-times\", \"marker\": {\"color\": \"#00cc96\"}, \"name\": \"target=the-new-york-times\", \"offsetgroup\": \"target=the-new-york-times\", \"orientation\": \"v\", \"showlegend\": true, \"type\": \"histogram\", \"x\": [2015, 2015, 2015, 2015, 2015, 2015, 2015, 2015, 2015, 2015, 2016, 2016, 2016, 2016, 2016, 2016, 2016, 2016, 2016, 2016, 2016, 2016, 2016, 2016, 2016, 2016, 2016, 2016, 2016, 2016, 2016, 2016, 2016, 2016, 2016, 2016, 2016, 2016, 2016, 2016, 2016, 2016, 2016, 2016, 2016, 2016, 2016, 2016, 2016, 2016, 2016, 2016, 2016, 2016, 2016, 2016, 2016, 2016, 2016, 2017, 2017, 2017, 2017, 2017, 2017, 2017, 2017, 2017, 2017, 2017, 2017, 2017, 2017, 2017, 2017, 2017, 2017, 2017, 2017, 2017, 2017, 2017, 2017, 2017, 2017, 2017, 2017, 2017, 2017, 2017, 2017, 2017, 2017, 2017, 2018, 2018, 2018, 2018, 2018, 2018, 2018, 2018, 2018, 2018, 2018, 2018, 2018, 2018, 2018, 2018, 2018, 2018, 2018, 2018, 2018, 2018, 2018, 2018, 2018, 2018, 2018, 2018, 2019, 2019, 2019, 2019, 2019, 2019, 2019, 2019, 2019, 2019, 2019, 2019, 2019, 2019, 2019, 2019, 2019, 2019, 2019, 2019, 2019, 2019, 2019, 2019, 2019, 2019, 2019, 2019, 2019, 2019, 2019, 2019, 2019, 2019, 2019, 2019, 2019, 2019, 2019, 2019, 2019, 2019, 2019, 2019, 2019, 2019, 2019, 2019, 2019, 2019, 2019, 2020, 2020, 2020, 2020, 2020, 2020, 2020, 2020, 2020, 2020, 2020, 2020, 2020, 2020, 2020, 2020, 2020, 2020, 2020, 2020, 2020, 2020, 2020, 2020, 2020, 2020, 2020, 2020, 2020, 2020, 2020, 2020, 2020], \"xaxis\": \"x\", \"yaxis\": \"y\"}, {\"alignmentgroup\": \"True\", \"bingroup\": \"x\", \"hoverlabel\": {\"namelength\": 0}, \"hovertemplate\": \"target=hillary-clinton<br>Ano=%{x}<br>count=%{y}\", \"legendgroup\": \"target=hillary-clinton\", \"marker\": {\"color\": \"#ab63fa\"}, \"name\": \"target=hillary-clinton\", \"offsetgroup\": \"target=hillary-clinton\", \"orientation\": \"v\", \"showlegend\": true, \"type\": \"histogram\", \"x\": [2015, 2015, 2015, 2015, 2015, 2015, 2015, 2015, 2015, 2015, 2015, 2015, 2015, 2015, 2015, 2015, 2015, 2015, 2015, 2016, 2016, 2016, 2016, 2016, 2016, 2016, 2016, 2016, 2016, 2016, 2016, 2016, 2016, 2016, 2016, 2016, 2016, 2016, 2016, 2016, 2016, 2016, 2016, 2016, 2016, 2016, 2016, 2016, 2016, 2016, 2016, 2016, 2016, 2016, 2016, 2016, 2016, 2016, 2016, 2016, 2016, 2016, 2016, 2016, 2016, 2016, 2016, 2016, 2016, 2016, 2016, 2016, 2016, 2016, 2016, 2016, 2016, 2016, 2016, 2016, 2016, 2016, 2016, 2016, 2016, 2016, 2016, 2016, 2016, 2016, 2016, 2016, 2016, 2016, 2016, 2016, 2016, 2016, 2016, 2016, 2016, 2016, 2016, 2016, 2016, 2016, 2016, 2016, 2016, 2016, 2016, 2016, 2016, 2016, 2016, 2016, 2016, 2016, 2016, 2016, 2016, 2016, 2016, 2016, 2016, 2016, 2016, 2016, 2016, 2016, 2016, 2016, 2016, 2016, 2016, 2016, 2016, 2016, 2016, 2016, 2016, 2016, 2016, 2016, 2016, 2016, 2016, 2016, 2016, 2016, 2016, 2016, 2016, 2016, 2016, 2016, 2016, 2016, 2016, 2016, 2016, 2016, 2016, 2016, 2016, 2016, 2016, 2016, 2016, 2016, 2016, 2016, 2016, 2016, 2016, 2016, 2016, 2016, 2016, 2016, 2016, 2016, 2016, 2016, 2016, 2016, 2016, 2016, 2016, 2016, 2016, 2016, 2016, 2016, 2016, 2016, 2016, 2016, 2016, 2016, 2016, 2016, 2016, 2016, 2016, 2016, 2016, 2016, 2016, 2016, 2016, 2016, 2016, 2016, 2016, 2016, 2016, 2016, 2016, 2016, 2016, 2016, 2016, 2016, 2016, 2016, 2016, 2016, 2016, 2016, 2016, 2016, 2016, 2016, 2016, 2016, 2016, 2016, 2016, 2016, 2016, 2016, 2016, 2016, 2016, 2016, 2016, 2016, 2016, 2016, 2016, 2016, 2016, 2016, 2016, 2016, 2016, 2016, 2016, 2016, 2016, 2016, 2016, 2016, 2016, 2016, 2016, 2016, 2016, 2016, 2016, 2016, 2016, 2016, 2016, 2016, 2016, 2016, 2016, 2016, 2016, 2016, 2016, 2016, 2016, 2016, 2016, 2016, 2016, 2016, 2016, 2016, 2016, 2016, 2016, 2016, 2016, 2016, 2016, 2016, 2016, 2016, 2016, 2016, 2016, 2016, 2016, 2016, 2016, 2017, 2017, 2017, 2017, 2017, 2017, 2017, 2017, 2017, 2017, 2017, 2017, 2017, 2017, 2017, 2017, 2017, 2017, 2017, 2017, 2017, 2017, 2017, 2017, 2017, 2017, 2017, 2017, 2017, 2017, 2017, 2017, 2017, 2017, 2017, 2017, 2017, 2017, 2017, 2018, 2018, 2018, 2018, 2018, 2018, 2018, 2018, 2018, 2018, 2018, 2018, 2018, 2018, 2018, 2018, 2018, 2018, 2018, 2018, 2018, 2018, 2018, 2018, 2018, 2018, 2018, 2018, 2018, 2018, 2018, 2018, 2018, 2018, 2018, 2018, 2018, 2018, 2018, 2018, 2018, 2018, 2018, 2018, 2018, 2018, 2018, 2018, 2018, 2018, 2018, 2019, 2019, 2019, 2019, 2019, 2019, 2019, 2019, 2019, 2019, 2019, 2019, 2019, 2019, 2019, 2019, 2019, 2019, 2019, 2019, 2019, 2019, 2019, 2019, 2019, 2019, 2019, 2019, 2019, 2019, 2019, 2019, 2019, 2019, 2019, 2019, 2019, 2019, 2019, 2019, 2019, 2019, 2019, 2019, 2019, 2019, 2019, 2019, 2019, 2019, 2019, 2019, 2020, 2020, 2020, 2020, 2020, 2020, 2020, 2020, 2020, 2020, 2020, 2020, 2020, 2020, 2020, 2020, 2020, 2020, 2020, 2020, 2020, 2020], \"xaxis\": \"x\", \"yaxis\": \"y\"}, {\"alignmentgroup\": \"True\", \"bingroup\": \"x\", \"hoverlabel\": {\"namelength\": 0}, \"hovertemplate\": \"target=democrats<br>Ano=%{x}<br>count=%{y}\", \"legendgroup\": \"target=democrats\", \"marker\": {\"color\": \"#FFA15A\"}, \"name\": \"target=democrats\", \"offsetgroup\": \"target=democrats\", \"orientation\": \"v\", \"showlegend\": true, \"type\": \"histogram\", \"x\": [2015, 2016, 2016, 2016, 2016, 2016, 2016, 2017, 2017, 2017, 2017, 2017, 2017, 2017, 2017, 2017, 2017, 2017, 2017, 2017, 2017, 2017, 2017, 2017, 2017, 2017, 2017, 2017, 2017, 2017, 2017, 2017, 2017, 2017, 2017, 2017, 2017, 2017, 2017, 2017, 2017, 2017, 2017, 2017, 2017, 2017, 2017, 2017, 2017, 2017, 2017, 2017, 2017, 2017, 2017, 2017, 2017, 2017, 2017, 2017, 2017, 2018, 2018, 2018, 2018, 2018, 2018, 2018, 2018, 2018, 2018, 2018, 2018, 2018, 2018, 2018, 2018, 2018, 2018, 2018, 2018, 2018, 2018, 2018, 2018, 2018, 2018, 2018, 2018, 2018, 2018, 2018, 2018, 2018, 2018, 2018, 2018, 2018, 2018, 2018, 2018, 2018, 2018, 2018, 2018, 2018, 2018, 2018, 2018, 2018, 2018, 2018, 2018, 2018, 2018, 2018, 2018, 2018, 2018, 2018, 2018, 2018, 2018, 2018, 2018, 2018, 2018, 2018, 2018, 2018, 2018, 2018, 2018, 2018, 2018, 2018, 2018, 2018, 2018, 2018, 2018, 2018, 2018, 2018, 2018, 2018, 2018, 2018, 2018, 2018, 2018, 2018, 2018, 2018, 2018, 2018, 2018, 2018, 2018, 2018, 2018, 2018, 2018, 2019, 2019, 2019, 2019, 2019, 2019, 2019, 2019, 2019, 2019, 2019, 2019, 2019, 2019, 2019, 2019, 2019, 2019, 2019, 2019, 2019, 2019, 2019, 2019, 2019, 2019, 2019, 2019, 2019, 2019, 2019, 2019, 2019, 2019, 2019, 2019, 2019, 2019, 2019, 2019, 2019, 2019, 2019, 2019, 2019, 2019, 2019, 2019, 2019, 2019, 2019, 2019, 2019, 2019, 2019, 2019, 2019, 2019, 2019, 2019, 2019, 2019, 2019, 2019, 2019, 2019, 2019, 2019, 2019, 2019, 2019, 2019, 2019, 2019, 2019, 2019, 2019, 2019, 2019, 2019, 2019, 2019, 2019, 2019, 2019, 2019, 2019, 2019, 2019, 2019, 2019, 2019, 2019, 2019, 2019, 2019, 2019, 2019, 2019, 2019, 2019, 2019, 2019, 2019, 2019, 2019, 2019, 2019, 2019, 2019, 2019, 2019, 2019, 2019, 2019, 2019, 2019, 2019, 2019, 2019, 2019, 2019, 2019, 2019, 2019, 2019, 2019, 2019, 2019, 2019, 2019, 2019, 2019, 2019, 2019, 2019, 2019, 2019, 2019, 2019, 2019, 2019, 2019, 2019, 2019, 2019, 2019, 2019, 2019, 2019, 2019, 2019, 2019, 2019, 2019, 2019, 2019, 2019, 2019, 2019, 2019, 2019, 2019, 2019, 2019, 2019, 2019, 2019, 2019, 2019, 2019, 2019, 2019, 2019, 2019, 2019, 2019, 2019, 2019, 2019, 2019, 2019, 2019, 2019, 2019, 2019, 2019, 2019, 2019, 2019, 2019, 2019, 2019, 2019, 2019, 2019, 2019, 2019, 2019, 2019, 2019, 2019, 2019, 2019, 2019, 2019, 2019, 2019, 2019, 2019, 2019, 2019, 2019, 2019, 2019, 2019, 2019, 2019, 2019, 2019, 2019, 2019, 2020, 2020, 2020, 2020, 2020, 2020, 2020, 2020, 2020, 2020, 2020, 2020, 2020, 2020, 2020, 2020, 2020, 2020, 2020, 2020, 2020, 2020, 2020, 2020, 2020, 2020, 2020, 2020, 2020, 2020, 2020, 2020, 2020, 2020, 2020, 2020, 2020, 2020, 2020, 2020, 2020, 2020, 2020, 2020, 2020, 2020, 2020, 2020, 2020, 2020, 2020, 2020, 2020, 2020, 2020, 2020, 2020, 2020, 2020, 2020, 2020, 2020, 2020, 2020, 2020, 2020, 2020, 2020, 2020, 2020, 2020, 2020, 2020, 2020, 2020, 2020, 2020, 2020, 2020, 2020, 2020, 2020, 2020, 2020, 2020, 2020, 2020, 2020, 2020, 2020, 2020, 2020, 2020, 2020, 2020, 2020, 2020, 2020, 2020, 2020, 2020, 2020, 2020, 2020, 2020, 2020, 2020, 2020, 2020, 2020, 2020, 2020, 2020, 2020, 2020, 2020, 2021], \"xaxis\": \"x\", \"yaxis\": \"y\"}, {\"alignmentgroup\": \"True\", \"bingroup\": \"x\", \"hoverlabel\": {\"namelength\": 0}, \"hovertemplate\": \"target=joe-biden<br>Ano=%{x}<br>count=%{y}\", \"legendgroup\": \"target=joe-biden\", \"marker\": {\"color\": \"#19d3f3\"}, \"name\": \"target=joe-biden\", \"offsetgroup\": \"target=joe-biden\", \"orientation\": \"v\", \"showlegend\": true, \"type\": \"histogram\", \"x\": [2016, 2018, 2019, 2019, 2019, 2019, 2019, 2019, 2019, 2019, 2019, 2019, 2019, 2019, 2019, 2019, 2019, 2019, 2019, 2019, 2019, 2019, 2019, 2019, 2019, 2019, 2019, 2019, 2019, 2019, 2019, 2019, 2019, 2019, 2019, 2019, 2019, 2019, 2019, 2019, 2019, 2019, 2019, 2019, 2019, 2019, 2019, 2019, 2019, 2019, 2019, 2019, 2019, 2020, 2020, 2020, 2020, 2020, 2020, 2020, 2020, 2020, 2020, 2020, 2020, 2020, 2020, 2020, 2020, 2020, 2020, 2020, 2020, 2020, 2020, 2020, 2020, 2020, 2020, 2020, 2020, 2020, 2020, 2020, 2020, 2020, 2020, 2020, 2020, 2020, 2020, 2020, 2020, 2020, 2020, 2020, 2020, 2020, 2020, 2020, 2020, 2020, 2020, 2020, 2020, 2020, 2020, 2020, 2020, 2020, 2020, 2020, 2020, 2020, 2020, 2020, 2020, 2020, 2020, 2020, 2020, 2020, 2020, 2020, 2020, 2020, 2020, 2020, 2020, 2020, 2020, 2020, 2020, 2020, 2020, 2020, 2020, 2020, 2020, 2020, 2020, 2020, 2020, 2020, 2020, 2020, 2020, 2020, 2020, 2020, 2020, 2020, 2020, 2020, 2020, 2020, 2020, 2020, 2020, 2020, 2020, 2020, 2020, 2020, 2020, 2020, 2020, 2020, 2020, 2020, 2020, 2020, 2020, 2020, 2020, 2020, 2020, 2020, 2020, 2020, 2020, 2020, 2020, 2020, 2020, 2020, 2020, 2020, 2020, 2020, 2020, 2020, 2020, 2020, 2020, 2020, 2020, 2020, 2020, 2020, 2020, 2020, 2020, 2020, 2020, 2020, 2020, 2020, 2020, 2020, 2020, 2020, 2020, 2020, 2020, 2020, 2020, 2020, 2020, 2020, 2020, 2020, 2020, 2020, 2020, 2020, 2020, 2020, 2020, 2020, 2020, 2020, 2020, 2020, 2020, 2020, 2020, 2020, 2020, 2020, 2020, 2020, 2020, 2020, 2020, 2020, 2020, 2020, 2020, 2020, 2020, 2020, 2020, 2020, 2020, 2020, 2020, 2020, 2020, 2020, 2020, 2020, 2020, 2020, 2020, 2020, 2020, 2020, 2020, 2020, 2020, 2020, 2020, 2020, 2020, 2020, 2020, 2020, 2020, 2020, 2020, 2020, 2020, 2020, 2020, 2020, 2020, 2020, 2020, 2020, 2020, 2020, 2020, 2020], \"xaxis\": \"x\", \"yaxis\": \"y\"}, {\"alignmentgroup\": \"True\", \"bingroup\": \"x\", \"hoverlabel\": {\"namelength\": 0}, \"hovertemplate\": \"target=trump-russia<br>Ano=%{x}<br>count=%{y}\", \"legendgroup\": \"target=trump-russia\", \"marker\": {\"color\": \"#FF6692\"}, \"name\": \"target=trump-russia\", \"offsetgroup\": \"target=trump-russia\", \"orientation\": \"v\", \"showlegend\": true, \"type\": \"histogram\", \"x\": [2017, 2017, 2017, 2017, 2017, 2017, 2017, 2017, 2017, 2017, 2017, 2017, 2017, 2017, 2017, 2017, 2017, 2017, 2017, 2017, 2017, 2017, 2017, 2017, 2018, 2018, 2018, 2018, 2018, 2018, 2018, 2018, 2018, 2018, 2018, 2018, 2018, 2018, 2018, 2018, 2018, 2018, 2018, 2018, 2018, 2018, 2018, 2018, 2018, 2018, 2018, 2018, 2018, 2018, 2018, 2018, 2018, 2018, 2018, 2018, 2018, 2018, 2018, 2018, 2018, 2018, 2018, 2018, 2018, 2018, 2018, 2018, 2018, 2018, 2018, 2018, 2018, 2018, 2018, 2018, 2018, 2018, 2018, 2018, 2018, 2018, 2018, 2018, 2018, 2018, 2018, 2018, 2018, 2018, 2018, 2018, 2018, 2018, 2018, 2018, 2018, 2018, 2018, 2018, 2018, 2018, 2018, 2018, 2018, 2018, 2018, 2018, 2018, 2018, 2018, 2018, 2018, 2018, 2018, 2018, 2018, 2018, 2018, 2018, 2018, 2018, 2018, 2018, 2018, 2018, 2018, 2018, 2018, 2018, 2018, 2018, 2018, 2018, 2018, 2018, 2018, 2018, 2018, 2018, 2018, 2018, 2018, 2018, 2018, 2018, 2018, 2018, 2018, 2018, 2018, 2018, 2018, 2018, 2018, 2018, 2018, 2018, 2018, 2018, 2018, 2018, 2018, 2018, 2018, 2019, 2019, 2019, 2019, 2019, 2019, 2019, 2019, 2019, 2019, 2019, 2019, 2019, 2019, 2019, 2019, 2019, 2019, 2019, 2019, 2019, 2019, 2019, 2019, 2019, 2019, 2019, 2019, 2019, 2019, 2019, 2019, 2019, 2019, 2019, 2019, 2019, 2019, 2019, 2019, 2019, 2019, 2019, 2019, 2019, 2019, 2019, 2019, 2019, 2019, 2019, 2019, 2019, 2019, 2019, 2019, 2019, 2019, 2019, 2019, 2019, 2019, 2019, 2019, 2019, 2019, 2019, 2019, 2019, 2019, 2019, 2019, 2019, 2019, 2019, 2019, 2019, 2019, 2019, 2019, 2019, 2019, 2019, 2019, 2019, 2019, 2019, 2019, 2019, 2019, 2019, 2019, 2019, 2019, 2019, 2019, 2019, 2019, 2019, 2019, 2019, 2019, 2019, 2019, 2019, 2019, 2019, 2019, 2019, 2019, 2019, 2019, 2020, 2020, 2020, 2020, 2020, 2020, 2020, 2020, 2020, 2020, 2020, 2020, 2020, 2020, 2020, 2020, 2020, 2020, 2020, 2020, 2020, 2020, 2020, 2020, 2020, 2020, 2020, 2020, 2020, 2020, 2020, 2020, 2020, 2020, 2020, 2020, 2020, 2020], \"xaxis\": \"x\", \"yaxis\": \"y\"}, {\"alignmentgroup\": \"True\", \"bingroup\": \"x\", \"hoverlabel\": {\"namelength\": 0}, \"hovertemplate\": \"target=adam-schiff<br>Ano=%{x}<br>count=%{y}\", \"legendgroup\": \"target=adam-schiff\", \"marker\": {\"color\": \"#B6E880\"}, \"name\": \"target=adam-schiff\", \"offsetgroup\": \"target=adam-schiff\", \"orientation\": \"v\", \"showlegend\": true, \"type\": \"histogram\", \"x\": [2017, 2018, 2018, 2018, 2019, 2019, 2019, 2019, 2019, 2019, 2019, 2019, 2019, 2019, 2019, 2019, 2019, 2019, 2019, 2019, 2019, 2019, 2019, 2019, 2019, 2019, 2019, 2019, 2019, 2019, 2019, 2019, 2019, 2019, 2019, 2019, 2019, 2019, 2019, 2019, 2019, 2019, 2019, 2019, 2019, 2019, 2019, 2019, 2019, 2019, 2019, 2019, 2019, 2019, 2019, 2019, 2019, 2019, 2019, 2019, 2019, 2019, 2019, 2019, 2019, 2019, 2019, 2019, 2019, 2019, 2019, 2019, 2019, 2019, 2019, 2019, 2019, 2019, 2019, 2019, 2019, 2019, 2019, 2019, 2019, 2019, 2019, 2020, 2020, 2020, 2020, 2020, 2020, 2020, 2020, 2020, 2020, 2020, 2020, 2020, 2020, 2020, 2020, 2020, 2020, 2020, 2020, 2020, 2020, 2020, 2020], \"xaxis\": \"x\", \"yaxis\": \"y\"}, {\"alignmentgroup\": \"True\", \"bingroup\": \"x\", \"hoverlabel\": {\"namelength\": 0}, \"hovertemplate\": \"target=impeachment-inquiry<br>Ano=%{x}<br>count=%{y}\", \"legendgroup\": \"target=impeachment-inquiry\", \"marker\": {\"color\": \"#FF97FF\"}, \"name\": \"target=impeachment-inquiry\", \"offsetgroup\": \"target=impeachment-inquiry\", \"orientation\": \"v\", \"showlegend\": true, \"type\": \"histogram\", \"x\": [2019, 2019, 2019, 2019, 2019, 2019, 2019, 2019, 2019, 2019, 2019, 2019, 2019, 2019, 2019, 2019, 2019, 2019, 2019, 2019, 2019, 2019, 2019, 2019, 2019, 2019, 2019, 2019, 2019, 2019, 2019, 2019, 2019, 2019, 2019, 2019, 2019, 2019, 2019, 2019, 2019, 2019, 2019, 2019, 2019, 2019, 2019, 2019, 2019, 2019, 2019, 2019, 2019, 2019, 2019, 2019, 2019, 2019, 2019, 2019, 2019, 2019, 2019, 2019, 2019, 2019, 2019, 2019, 2019, 2019, 2019, 2019, 2019, 2019, 2019, 2019, 2019, 2019, 2019, 2019, 2019, 2019, 2019, 2019, 2019, 2019, 2019, 2019, 2019, 2019, 2019, 2019, 2019, 2019, 2019, 2019, 2019, 2019, 2019, 2019, 2019, 2019, 2019, 2019, 2019, 2019, 2019, 2019, 2019, 2019, 2019, 2019, 2019, 2019, 2019, 2019, 2019, 2019, 2019, 2019, 2019, 2019, 2019, 2019, 2019, 2019, 2019, 2019, 2019, 2019, 2019, 2019, 2019, 2019, 2019, 2019, 2019, 2019, 2019, 2019, 2019, 2019, 2019, 2020, 2020, 2020, 2020, 2020, 2020, 2020, 2020, 2020, 2020, 2020, 2020, 2020, 2020, 2020, 2020, 2020, 2020, 2020, 2020, 2020, 2020, 2020, 2020, 2020, 2020, 2020, 2020, 2020, 2020, 2020, 2020, 2020, 2020, 2020, 2020, 2020, 2020, 2020, 2020, 2020, 2020, 2020, 2020, 2020, 2020, 2020, 2020, 2020, 2020, 2020, 2020, 2020, 2020, 2020, 2020, 2020, 2020, 2020, 2020, 2020, 2020, 2020, 2020, 2020], \"xaxis\": \"x\", \"yaxis\": \"y\"}, {\"alignmentgroup\": \"True\", \"bingroup\": \"x\", \"hoverlabel\": {\"namelength\": 0}, \"hovertemplate\": \"target=2020-election<br>Ano=%{x}<br>count=%{y}\", \"legendgroup\": \"target=2020-election\", \"marker\": {\"color\": \"#FECB52\"}, \"name\": \"target=2020-election\", \"offsetgroup\": \"target=2020-election\", \"orientation\": \"v\", \"showlegend\": true, \"type\": \"histogram\", \"x\": [2020, 2020, 2020, 2020, 2020, 2020, 2020, 2020, 2020, 2020, 2020, 2020, 2020, 2020, 2020, 2020, 2020, 2020, 2020, 2020, 2020, 2020, 2020, 2020, 2020, 2020, 2020, 2020, 2020, 2020, 2020, 2020, 2020, 2020, 2020, 2020, 2020, 2020, 2020, 2020, 2020, 2020, 2020, 2020, 2020, 2020, 2020, 2020, 2020, 2020, 2020, 2020, 2020, 2020, 2020, 2020, 2020, 2020, 2020, 2020, 2020, 2020, 2020, 2020, 2020, 2020, 2020, 2020, 2020, 2020, 2020, 2020, 2020, 2020, 2020, 2020, 2020, 2020, 2020, 2020, 2020, 2020, 2020, 2020, 2020, 2020, 2020, 2020, 2020, 2020, 2020, 2020, 2020, 2020, 2020, 2020, 2020, 2020, 2020, 2020, 2020, 2020, 2020, 2020, 2020, 2020, 2020, 2020, 2020, 2020, 2020, 2020, 2020, 2020, 2020, 2020, 2020, 2020, 2020, 2020, 2020, 2020, 2020, 2021, 2021, 2021, 2021, 2021, 2021, 2021, 2021, 2021, 2021, 2021, 2021], \"xaxis\": \"x\", \"yaxis\": \"y\"}],\n",
              "                        {\"bargap\": 0.2, \"barmode\": \"relative\", \"legend\": {\"tracegroupgap\": 0}, \"template\": {\"data\": {\"bar\": [{\"error_x\": {\"color\": \"#2a3f5f\"}, \"error_y\": {\"color\": \"#2a3f5f\"}, \"marker\": {\"line\": {\"color\": \"#E5ECF6\", \"width\": 0.5}}, \"type\": \"bar\"}], \"barpolar\": [{\"marker\": {\"line\": {\"color\": \"#E5ECF6\", \"width\": 0.5}}, \"type\": \"barpolar\"}], \"carpet\": [{\"aaxis\": {\"endlinecolor\": \"#2a3f5f\", \"gridcolor\": \"white\", \"linecolor\": \"white\", \"minorgridcolor\": \"white\", \"startlinecolor\": \"#2a3f5f\"}, \"baxis\": {\"endlinecolor\": \"#2a3f5f\", \"gridcolor\": \"white\", \"linecolor\": \"white\", \"minorgridcolor\": \"white\", \"startlinecolor\": \"#2a3f5f\"}, \"type\": \"carpet\"}], \"choropleth\": [{\"colorbar\": {\"outlinewidth\": 0, \"ticks\": \"\"}, \"type\": \"choropleth\"}], \"contour\": [{\"colorbar\": {\"outlinewidth\": 0, \"ticks\": \"\"}, \"colorscale\": [[0.0, \"#0d0887\"], [0.1111111111111111, \"#46039f\"], [0.2222222222222222, \"#7201a8\"], [0.3333333333333333, \"#9c179e\"], [0.4444444444444444, \"#bd3786\"], [0.5555555555555556, \"#d8576b\"], [0.6666666666666666, \"#ed7953\"], [0.7777777777777778, \"#fb9f3a\"], [0.8888888888888888, \"#fdca26\"], [1.0, \"#f0f921\"]], \"type\": \"contour\"}], \"contourcarpet\": [{\"colorbar\": {\"outlinewidth\": 0, \"ticks\": \"\"}, \"type\": \"contourcarpet\"}], \"heatmap\": [{\"colorbar\": {\"outlinewidth\": 0, \"ticks\": \"\"}, \"colorscale\": [[0.0, \"#0d0887\"], [0.1111111111111111, \"#46039f\"], [0.2222222222222222, \"#7201a8\"], [0.3333333333333333, \"#9c179e\"], [0.4444444444444444, \"#bd3786\"], [0.5555555555555556, \"#d8576b\"], [0.6666666666666666, \"#ed7953\"], [0.7777777777777778, \"#fb9f3a\"], [0.8888888888888888, \"#fdca26\"], [1.0, \"#f0f921\"]], \"type\": \"heatmap\"}], \"heatmapgl\": [{\"colorbar\": {\"outlinewidth\": 0, \"ticks\": \"\"}, \"colorscale\": [[0.0, \"#0d0887\"], [0.1111111111111111, \"#46039f\"], [0.2222222222222222, \"#7201a8\"], [0.3333333333333333, \"#9c179e\"], [0.4444444444444444, \"#bd3786\"], [0.5555555555555556, \"#d8576b\"], [0.6666666666666666, \"#ed7953\"], [0.7777777777777778, \"#fb9f3a\"], [0.8888888888888888, \"#fdca26\"], [1.0, \"#f0f921\"]], \"type\": \"heatmapgl\"}], \"histogram\": [{\"marker\": {\"colorbar\": {\"outlinewidth\": 0, \"ticks\": \"\"}}, \"type\": \"histogram\"}], \"histogram2d\": [{\"colorbar\": {\"outlinewidth\": 0, \"ticks\": \"\"}, \"colorscale\": [[0.0, \"#0d0887\"], [0.1111111111111111, \"#46039f\"], [0.2222222222222222, \"#7201a8\"], [0.3333333333333333, \"#9c179e\"], [0.4444444444444444, \"#bd3786\"], [0.5555555555555556, \"#d8576b\"], [0.6666666666666666, \"#ed7953\"], [0.7777777777777778, \"#fb9f3a\"], [0.8888888888888888, \"#fdca26\"], [1.0, \"#f0f921\"]], \"type\": \"histogram2d\"}], \"histogram2dcontour\": [{\"colorbar\": {\"outlinewidth\": 0, \"ticks\": \"\"}, \"colorscale\": [[0.0, \"#0d0887\"], [0.1111111111111111, \"#46039f\"], [0.2222222222222222, \"#7201a8\"], [0.3333333333333333, \"#9c179e\"], [0.4444444444444444, \"#bd3786\"], [0.5555555555555556, \"#d8576b\"], [0.6666666666666666, \"#ed7953\"], [0.7777777777777778, \"#fb9f3a\"], [0.8888888888888888, \"#fdca26\"], [1.0, \"#f0f921\"]], \"type\": \"histogram2dcontour\"}], \"mesh3d\": [{\"colorbar\": {\"outlinewidth\": 0, \"ticks\": \"\"}, \"type\": \"mesh3d\"}], \"parcoords\": [{\"line\": {\"colorbar\": {\"outlinewidth\": 0, \"ticks\": \"\"}}, \"type\": \"parcoords\"}], \"pie\": [{\"automargin\": true, \"type\": \"pie\"}], \"scatter\": [{\"marker\": {\"colorbar\": {\"outlinewidth\": 0, \"ticks\": \"\"}}, \"type\": \"scatter\"}], \"scatter3d\": [{\"line\": {\"colorbar\": {\"outlinewidth\": 0, \"ticks\": \"\"}}, \"marker\": {\"colorbar\": {\"outlinewidth\": 0, \"ticks\": \"\"}}, \"type\": \"scatter3d\"}], \"scattercarpet\": [{\"marker\": {\"colorbar\": {\"outlinewidth\": 0, \"ticks\": \"\"}}, \"type\": \"scattercarpet\"}], \"scattergeo\": [{\"marker\": {\"colorbar\": {\"outlinewidth\": 0, \"ticks\": \"\"}}, \"type\": \"scattergeo\"}], \"scattergl\": [{\"marker\": {\"colorbar\": {\"outlinewidth\": 0, \"ticks\": \"\"}}, \"type\": \"scattergl\"}], \"scattermapbox\": [{\"marker\": {\"colorbar\": {\"outlinewidth\": 0, \"ticks\": \"\"}}, \"type\": \"scattermapbox\"}], \"scatterpolar\": [{\"marker\": {\"colorbar\": {\"outlinewidth\": 0, \"ticks\": \"\"}}, \"type\": \"scatterpolar\"}], \"scatterpolargl\": [{\"marker\": {\"colorbar\": {\"outlinewidth\": 0, \"ticks\": \"\"}}, \"type\": \"scatterpolargl\"}], \"scatterternary\": [{\"marker\": {\"colorbar\": {\"outlinewidth\": 0, \"ticks\": \"\"}}, \"type\": \"scatterternary\"}], \"surface\": [{\"colorbar\": {\"outlinewidth\": 0, \"ticks\": \"\"}, \"colorscale\": [[0.0, \"#0d0887\"], [0.1111111111111111, \"#46039f\"], [0.2222222222222222, \"#7201a8\"], [0.3333333333333333, \"#9c179e\"], [0.4444444444444444, \"#bd3786\"], [0.5555555555555556, \"#d8576b\"], [0.6666666666666666, \"#ed7953\"], [0.7777777777777778, \"#fb9f3a\"], [0.8888888888888888, \"#fdca26\"], [1.0, \"#f0f921\"]], \"type\": \"surface\"}], \"table\": [{\"cells\": {\"fill\": {\"color\": \"#EBF0F8\"}, \"line\": {\"color\": \"white\"}}, \"header\": {\"fill\": {\"color\": \"#C8D4E3\"}, \"line\": {\"color\": \"white\"}}, \"type\": \"table\"}]}, \"layout\": {\"annotationdefaults\": {\"arrowcolor\": \"#2a3f5f\", \"arrowhead\": 0, \"arrowwidth\": 1}, \"coloraxis\": {\"colorbar\": {\"outlinewidth\": 0, \"ticks\": \"\"}}, \"colorscale\": {\"diverging\": [[0, \"#8e0152\"], [0.1, \"#c51b7d\"], [0.2, \"#de77ae\"], [0.3, \"#f1b6da\"], [0.4, \"#fde0ef\"], [0.5, \"#f7f7f7\"], [0.6, \"#e6f5d0\"], [0.7, \"#b8e186\"], [0.8, \"#7fbc41\"], [0.9, \"#4d9221\"], [1, \"#276419\"]], \"sequential\": [[0.0, \"#0d0887\"], [0.1111111111111111, \"#46039f\"], [0.2222222222222222, \"#7201a8\"], [0.3333333333333333, \"#9c179e\"], [0.4444444444444444, \"#bd3786\"], [0.5555555555555556, \"#d8576b\"], [0.6666666666666666, \"#ed7953\"], [0.7777777777777778, \"#fb9f3a\"], [0.8888888888888888, \"#fdca26\"], [1.0, \"#f0f921\"]], \"sequentialminus\": [[0.0, \"#0d0887\"], [0.1111111111111111, \"#46039f\"], [0.2222222222222222, \"#7201a8\"], [0.3333333333333333, \"#9c179e\"], [0.4444444444444444, \"#bd3786\"], [0.5555555555555556, \"#d8576b\"], [0.6666666666666666, \"#ed7953\"], [0.7777777777777778, \"#fb9f3a\"], [0.8888888888888888, \"#fdca26\"], [1.0, \"#f0f921\"]]}, \"colorway\": [\"#636efa\", \"#EF553B\", \"#00cc96\", \"#ab63fa\", \"#FFA15A\", \"#19d3f3\", \"#FF6692\", \"#B6E880\", \"#FF97FF\", \"#FECB52\"], \"font\": {\"color\": \"#2a3f5f\"}, \"geo\": {\"bgcolor\": \"white\", \"lakecolor\": \"white\", \"landcolor\": \"#E5ECF6\", \"showlakes\": true, \"showland\": true, \"subunitcolor\": \"white\"}, \"hoverlabel\": {\"align\": \"left\"}, \"hovermode\": \"closest\", \"mapbox\": {\"style\": \"light\"}, \"paper_bgcolor\": \"white\", \"plot_bgcolor\": \"#E5ECF6\", \"polar\": {\"angularaxis\": {\"gridcolor\": \"white\", \"linecolor\": \"white\", \"ticks\": \"\"}, \"bgcolor\": \"#E5ECF6\", \"radialaxis\": {\"gridcolor\": \"white\", \"linecolor\": \"white\", \"ticks\": \"\"}}, \"scene\": {\"xaxis\": {\"backgroundcolor\": \"#E5ECF6\", \"gridcolor\": \"white\", \"gridwidth\": 2, \"linecolor\": \"white\", \"showbackground\": true, \"ticks\": \"\", \"zerolinecolor\": \"white\"}, \"yaxis\": {\"backgroundcolor\": \"#E5ECF6\", \"gridcolor\": \"white\", \"gridwidth\": 2, \"linecolor\": \"white\", \"showbackground\": true, \"ticks\": \"\", \"zerolinecolor\": \"white\"}, \"zaxis\": {\"backgroundcolor\": \"#E5ECF6\", \"gridcolor\": \"white\", \"gridwidth\": 2, \"linecolor\": \"white\", \"showbackground\": true, \"ticks\": \"\", \"zerolinecolor\": \"white\"}}, \"shapedefaults\": {\"line\": {\"color\": \"#2a3f5f\"}}, \"ternary\": {\"aaxis\": {\"gridcolor\": \"white\", \"linecolor\": \"white\", \"ticks\": \"\"}, \"baxis\": {\"gridcolor\": \"white\", \"linecolor\": \"white\", \"ticks\": \"\"}, \"bgcolor\": \"#E5ECF6\", \"caxis\": {\"gridcolor\": \"white\", \"linecolor\": \"white\", \"ticks\": \"\"}}, \"title\": {\"x\": 0.05}, \"xaxis\": {\"automargin\": true, \"gridcolor\": \"white\", \"linecolor\": \"white\", \"ticks\": \"\", \"title\": {\"standoff\": 15}, \"zerolinecolor\": \"white\", \"zerolinewidth\": 2}, \"yaxis\": {\"automargin\": true, \"gridcolor\": \"white\", \"linecolor\": \"white\", \"ticks\": \"\", \"title\": {\"standoff\": 15}, \"zerolinecolor\": \"white\", \"zerolinewidth\": 2}}}, \"title\": {\"text\": \"Tweets por target\"}, \"xaxis\": {\"anchor\": \"y\", \"domain\": [0.0, 1.0], \"title\": {\"text\": \"Ano\"}}, \"yaxis\": {\"anchor\": \"x\", \"domain\": [0.0, 1.0], \"title\": {\"text\": \"Contagem\"}}},\n",
              "                        {\"responsive\": true}\n",
              "                    ).then(function(){\n",
              "                            \n",
              "var gd = document.getElementById('cc5154f0-461c-432c-b5b8-f84ce8dd7a83');\n",
              "var x = new MutationObserver(function (mutations, observer) {{\n",
              "        var display = window.getComputedStyle(gd).display;\n",
              "        if (!display || display === 'none') {{\n",
              "            console.log([gd, 'removed!']);\n",
              "            Plotly.purge(gd);\n",
              "            observer.disconnect();\n",
              "        }}\n",
              "}});\n",
              "\n",
              "// Listen for the removal of the full notebook cells\n",
              "var notebookContainer = gd.closest('#notebook-container');\n",
              "if (notebookContainer) {{\n",
              "    x.observe(notebookContainer, {childList: true});\n",
              "}}\n",
              "\n",
              "// Listen for the clearing of the current output cell\n",
              "var outputEl = gd.closest('.output');\n",
              "if (outputEl) {{\n",
              "    x.observe(outputEl, {childList: true});\n",
              "}}\n",
              "\n",
              "                        })\n",
              "                };\n",
              "                \n",
              "            </script>\n",
              "        </div>\n",
              "</body>\n",
              "</html>"
            ]
          },
          "metadata": {}
        }
      ]
    },
    {
      "cell_type": "markdown",
      "metadata": {
        "id": "V0tUR421QLxu"
      },
      "source": [
        "Perceba que temos a informação de que no tweet em questão está contida uma ofensa, porém, não temos a noção de polarização de maneira direta, ou seja, não sabemos de maneira numérica o quanto cada tweet foi ofensivo/negativo. Vamos usar a TextBlob para calcular uma coluna nova no dataframe que vai conter a polaridade de cada tweet. Com esse dado novo podemos ver qual foi o 'target' mais ofendido por outra métrica a não ser a quantidade de tweets."
      ]
    },
    {
      "cell_type": "code",
      "metadata": {
        "colab": {
          "base_uri": "https://localhost:8080/",
          "height": 363
        },
        "id": "PmrgmWFWLiIB",
        "outputId": "77d8107d-9a03-4123-f55b-51dac38f6b54"
      },
      "source": [
        "# Vamos calcular a nova coluna usando a chave 'polarity' do atributo 'sentiment' da TextBlob \n",
        "polarity = []\n",
        "for tweet in tweets_10['tweet']:\n",
        "  texto = tweet\n",
        "  obj = TextBlob(texto)\n",
        "  polarity.append(obj.sentiment.polarity)\n",
        "tweets_10['polarity'] = polarity\n",
        "tweets_10.head(10)"
      ],
      "execution_count": 14,
      "outputs": [
        {
          "output_type": "execute_result",
          "data": {
            "text/html": [
              "<div>\n",
              "<style scoped>\n",
              "    .dataframe tbody tr th:only-of-type {\n",
              "        vertical-align: middle;\n",
              "    }\n",
              "\n",
              "    .dataframe tbody tr th {\n",
              "        vertical-align: top;\n",
              "    }\n",
              "\n",
              "    .dataframe thead th {\n",
              "        text-align: right;\n",
              "    }\n",
              "</style>\n",
              "<table border=\"1\" class=\"dataframe\">\n",
              "  <thead>\n",
              "    <tr style=\"text-align: right;\">\n",
              "      <th></th>\n",
              "      <th>target</th>\n",
              "      <th>tweet</th>\n",
              "      <th>date</th>\n",
              "      <th>year</th>\n",
              "      <th>polarity</th>\n",
              "    </tr>\n",
              "  </thead>\n",
              "  <tbody>\n",
              "    <tr>\n",
              "      <th>0</th>\n",
              "      <td>cnn</td>\n",
              "      <td>Ratings starved @CNN and @CNNPolitics does not...</td>\n",
              "      <td>2015-07-18</td>\n",
              "      <td>2015</td>\n",
              "      <td>0.055283</td>\n",
              "    </tr>\n",
              "    <tr>\n",
              "      <th>1</th>\n",
              "      <td>cnn</td>\n",
              "      <td>The $10 billion (net worth) is AFTER all debt ...</td>\n",
              "      <td>2015-07-18</td>\n",
              "      <td>2015</td>\n",
              "      <td>-0.076607</td>\n",
              "    </tr>\n",
              "    <tr>\n",
              "      <th>2</th>\n",
              "      <td>the-media</td>\n",
              "      <td>I truly LOVE all of the millions of people who...</td>\n",
              "      <td>2015-07-29</td>\n",
              "      <td>2015</td>\n",
              "      <td>0.450000</td>\n",
              "    </tr>\n",
              "    <tr>\n",
              "      <th>3</th>\n",
              "      <td>the-new-york-times</td>\n",
              "      <td>Despite the false @nytimes story about Jeb Bus...</td>\n",
              "      <td>2015-08-03</td>\n",
              "      <td>2015</td>\n",
              "      <td>-0.025000</td>\n",
              "    </tr>\n",
              "    <tr>\n",
              "      <th>4</th>\n",
              "      <td>hillary-clinton</td>\n",
              "      <td>Hillary said such nasty things about me, read ...</td>\n",
              "      <td>2015-09-05</td>\n",
              "      <td>2015</td>\n",
              "      <td>-0.291667</td>\n",
              "    </tr>\n",
              "    <tr>\n",
              "      <th>5</th>\n",
              "      <td>hillary-clinton</td>\n",
              "      <td>Remember that I am self-funding my campaign. H...</td>\n",
              "      <td>2015-09-05</td>\n",
              "      <td>2015</td>\n",
              "      <td>0.357143</td>\n",
              "    </tr>\n",
              "    <tr>\n",
              "      <th>6</th>\n",
              "      <td>the-media</td>\n",
              "      <td>I am attracting the biggest crowds, by far, an...</td>\n",
              "      <td>2015-09-21</td>\n",
              "      <td>2015</td>\n",
              "      <td>0.079167</td>\n",
              "    </tr>\n",
              "    <tr>\n",
              "      <th>7</th>\n",
              "      <td>the-media</td>\n",
              "      <td>Despite the establishment and the media’s best...</td>\n",
              "      <td>2015-09-24</td>\n",
              "      <td>2015</td>\n",
              "      <td>0.487500</td>\n",
              "    </tr>\n",
              "    <tr>\n",
              "      <th>8</th>\n",
              "      <td>the-media</td>\n",
              "      <td>I'm leading by big margins in every poll but t...</td>\n",
              "      <td>2015-10-04</td>\n",
              "      <td>2015</td>\n",
              "      <td>0.500000</td>\n",
              "    </tr>\n",
              "    <tr>\n",
              "      <th>9</th>\n",
              "      <td>hillary-clinton</td>\n",
              "      <td>The trade deal is a disaster, she was always f...</td>\n",
              "      <td>2015-10-14</td>\n",
              "      <td>2015</td>\n",
              "      <td>0.000000</td>\n",
              "    </tr>\n",
              "  </tbody>\n",
              "</table>\n",
              "</div>"
            ],
            "text/plain": [
              "               target  ...  polarity\n",
              "0                 cnn  ...  0.055283\n",
              "1                 cnn  ... -0.076607\n",
              "2           the-media  ...  0.450000\n",
              "3  the-new-york-times  ... -0.025000\n",
              "4     hillary-clinton  ... -0.291667\n",
              "5     hillary-clinton  ...  0.357143\n",
              "6           the-media  ...  0.079167\n",
              "7           the-media  ...  0.487500\n",
              "8           the-media  ...  0.500000\n",
              "9     hillary-clinton  ...  0.000000\n",
              "\n",
              "[10 rows x 5 columns]"
            ]
          },
          "metadata": {},
          "execution_count": 14
        }
      ]
    },
    {
      "cell_type": "code",
      "metadata": {
        "colab": {
          "base_uri": "https://localhost:8080/",
          "height": 542
        },
        "id": "w14QXX9SV7nT",
        "outputId": "04bec1ba-b502-4322-c8cb-2915b402cccc"
      },
      "source": [
        "# Visualizando a polaridade média para cada 'target'\n",
        "fig = px.histogram(tweets_10, x='target', y = 'polarity', color='target', histfunc='avg', labels={'target':'Target'})\n",
        "fig.update_layout(bargap=0.2, yaxis_title_text='Média da polaridade')\n",
        "fig.show()"
      ],
      "execution_count": 15,
      "outputs": [
        {
          "output_type": "display_data",
          "data": {
            "text/html": [
              "<html>\n",
              "<head><meta charset=\"utf-8\" /></head>\n",
              "<body>\n",
              "    <div>\n",
              "            <script src=\"https://cdnjs.cloudflare.com/ajax/libs/mathjax/2.7.5/MathJax.js?config=TeX-AMS-MML_SVG\"></script><script type=\"text/javascript\">if (window.MathJax) {MathJax.Hub.Config({SVG: {font: \"STIX-Web\"}});}</script>\n",
              "                <script type=\"text/javascript\">window.PlotlyConfig = {MathJaxConfig: 'local'};</script>\n",
              "        <script src=\"https://cdn.plot.ly/plotly-latest.min.js\"></script>    \n",
              "            <div id=\"b0d8e17e-5725-419e-8bf1-01d746d2da90\" class=\"plotly-graph-div\" style=\"height:525px; width:100%;\"></div>\n",
              "            <script type=\"text/javascript\">\n",
              "                \n",
              "                    window.PLOTLYENV=window.PLOTLYENV || {};\n",
              "                    \n",
              "                if (document.getElementById(\"b0d8e17e-5725-419e-8bf1-01d746d2da90\")) {\n",
              "                    Plotly.newPlot(\n",
              "                        'b0d8e17e-5725-419e-8bf1-01d746d2da90',\n",
              "                        [{\"alignmentgroup\": \"True\", \"bingroup\": \"x\", \"histfunc\": \"avg\", \"hoverlabel\": {\"namelength\": 0}, \"hovertemplate\": \"Target=%{x}<br>avg of polarity=%{y}\", \"legendgroup\": \"Target=cnn\", \"marker\": {\"color\": \"#636efa\"}, \"name\": \"Target=cnn\", \"offsetgroup\": \"Target=cnn\", \"orientation\": \"v\", \"showlegend\": true, \"type\": \"histogram\", \"x\": [\"cnn\", \"cnn\", \"cnn\", \"cnn\", \"cnn\", \"cnn\", \"cnn\", \"cnn\", \"cnn\", \"cnn\", \"cnn\", \"cnn\", \"cnn\", \"cnn\", \"cnn\", \"cnn\", \"cnn\", \"cnn\", \"cnn\", \"cnn\", \"cnn\", \"cnn\", \"cnn\", \"cnn\", \"cnn\", \"cnn\", \"cnn\", \"cnn\", \"cnn\", \"cnn\", \"cnn\", \"cnn\", \"cnn\", \"cnn\", \"cnn\", \"cnn\", \"cnn\", \"cnn\", \"cnn\", \"cnn\", \"cnn\", \"cnn\", \"cnn\", \"cnn\", \"cnn\", \"cnn\", \"cnn\", \"cnn\", \"cnn\", \"cnn\", \"cnn\", \"cnn\", \"cnn\", \"cnn\", \"cnn\", \"cnn\", \"cnn\", \"cnn\", \"cnn\", \"cnn\", \"cnn\", \"cnn\", \"cnn\", \"cnn\", \"cnn\", \"cnn\", \"cnn\", \"cnn\", \"cnn\", \"cnn\", \"cnn\", \"cnn\", \"cnn\", \"cnn\", \"cnn\", \"cnn\", \"cnn\", \"cnn\", \"cnn\", \"cnn\", \"cnn\", \"cnn\", \"cnn\", \"cnn\", \"cnn\", \"cnn\", \"cnn\", \"cnn\", \"cnn\", \"cnn\", \"cnn\", \"cnn\", \"cnn\", \"cnn\", \"cnn\", \"cnn\", \"cnn\", \"cnn\", \"cnn\", \"cnn\", \"cnn\", \"cnn\", \"cnn\", \"cnn\", \"cnn\", \"cnn\", \"cnn\", \"cnn\", \"cnn\", \"cnn\", \"cnn\", \"cnn\", \"cnn\", \"cnn\", \"cnn\", \"cnn\", \"cnn\", \"cnn\", \"cnn\", \"cnn\", \"cnn\", \"cnn\", \"cnn\", \"cnn\", \"cnn\", \"cnn\", \"cnn\", \"cnn\", \"cnn\", \"cnn\", \"cnn\", \"cnn\", \"cnn\", \"cnn\", \"cnn\", \"cnn\", \"cnn\", \"cnn\", \"cnn\", \"cnn\", \"cnn\", \"cnn\", \"cnn\", \"cnn\", \"cnn\", \"cnn\", \"cnn\", \"cnn\", \"cnn\", \"cnn\", \"cnn\", \"cnn\", \"cnn\", \"cnn\", \"cnn\", \"cnn\", \"cnn\", \"cnn\", \"cnn\", \"cnn\", \"cnn\", \"cnn\", \"cnn\", \"cnn\", \"cnn\", \"cnn\", \"cnn\", \"cnn\", \"cnn\", \"cnn\", \"cnn\", \"cnn\", \"cnn\", \"cnn\", \"cnn\", \"cnn\", \"cnn\"], \"xaxis\": \"x\", \"y\": [0.05528273809523809, -0.07660714285714285, 0.0, 0.02999999999999998, -0.23333333333333328, 0.42500000000000004, -0.09375, -0.10833333333333332, -0.28611111111111115, -0.19523809523809518, 0.0, 0.9750000000000001, -0.31666666666666665, 0.125, -0.1984375, -0.25, 0.2, -0.3, -0.5, -0.225, 0.21666666666666667, 0.0, 0.17708333333333334, 0.29, 0.40625, -0.3358333333333334, -0.25833333333333336, -0.3, -0.05, 0.0, -0.35, 0.0, -0.3333333333333333, -0.15106060606060606, 0.0, -0.4125, -0.09375, -0.03333333333333329, -0.25999999999999995, 0.1975, -0.4333333333333333, -0.155, 0.03333333333333333, 0.0, 0.0, -0.29999999999999993, -0.47916666666666663, 0.10416666666666667, -0.3125, 0.6785714285714286, 0.10357142857142856, -0.3333333333333333, -0.15000000000000002, -0.25, -0.10833333333333332, -0.125, -0.3166666666666667, -0.16666666666666666, -0.19, -0.2188888888888889, -0.5750000000000001, 0.25, 0.0, 0.0, -0.23333333333333328, -0.5972222222222222, 0.0, 0.02812500000000001, -0.3333333333333333, 0.012500000000000011, -0.23333333333333336, 0.06111111111111109, -0.5875, -0.625, -0.2416666666666667, -0.25, -0.15277777777777776, 0.08333333333333333, -0.3785714285714286, 0.13273809523809524, 0.21439393939393944, -0.5, -0.30624999999999997, -0.1888888888888889, 0.0625, 0.08733974358974358, 0.04374999999999999, -0.265625, -0.33, -0.6321904761904762, -0.07222222222222223, -0.10984848484848483, -0.04583333333333335, -0.3104166666666667, -0.14583333333333334, 0.008333333333333337, -0.41041666666666665, 0.060416666666666646, 0.07125, 0.03035714285714286, 0.8666666666666667, -0.13125, -0.3, -0.5, -0.16666666666666666, -0.0773809523809524, -0.2423280423280423, -0.21759259259259256, -0.11374999999999998, -0.39375, 0.35833333333333334, -0.04675925925925926, -0.12465277777777778, 0.38, -0.25, -0.5388888888888889, -0.3533333333333333, 0.125, 0.0, -0.09999999999999999, -0.14583333333333326, -0.5, -0.15357142857142853, 0.0, -0.09999999999999995, -0.10999999999999996, -0.3, 0.0, -0.3333333333333333, -0.18000000000000002, 0.0, 0.40166666666666667, -0.3, 0.015000000000000003, 0.08166666666666667, -0.15643939393939396, -0.05000000000000001, -0.06666666666666665, -0.3999999999999999, -0.10867346938775511, -0.15, -0.12499999999999997, -0.375, 0.08750000000000002, -0.25, 0.125, -0.11249999999999999, 0.010714285714285707, 0.09375, -0.625, 0.10000000000000002, 0.22000000000000003, -0.25, -0.6035714285714286, -0.05185185185185185, -0.1793650793650794, 0.016666666666666646, -0.002083333333333326, -0.49999999999999994, -0.22689985795454545, -0.11718750000000001, -0.4166666666666667, 0.03949999999999998, 0.2625, 0.10507812500000005, -0.17857142857142858, 0.12500000000000003, -0.09833333333333334, 0.10208333333333332, -0.03541666666666665, 0.075, -0.2571428571428571, -0.018229166666666668, -0.11607142857142858, -0.44523809523809527, -0.25, -0.3431818181818181], \"yaxis\": \"y\"}, {\"alignmentgroup\": \"True\", \"bingroup\": \"x\", \"histfunc\": \"avg\", \"hoverlabel\": {\"namelength\": 0}, \"hovertemplate\": \"Target=%{x}<br>avg of polarity=%{y}\", \"legendgroup\": \"Target=the-media\", \"marker\": {\"color\": \"#EF553B\"}, \"name\": \"Target=the-media\", \"offsetgroup\": \"Target=the-media\", \"orientation\": \"v\", \"showlegend\": true, \"type\": \"histogram\", \"x\": [\"the-media\", \"the-media\", \"the-media\", \"the-media\", \"the-media\", \"the-media\", \"the-media\", \"the-media\", \"the-media\", \"the-media\", \"the-media\", \"the-media\", \"the-media\", \"the-media\", \"the-media\", \"the-media\", \"the-media\", \"the-media\", \"the-media\", \"the-media\", \"the-media\", \"the-media\", \"the-media\", \"the-media\", \"the-media\", \"the-media\", \"the-media\", \"the-media\", \"the-media\", \"the-media\", \"the-media\", \"the-media\", \"the-media\", \"the-media\", \"the-media\", \"the-media\", \"the-media\", \"the-media\", \"the-media\", \"the-media\", \"the-media\", \"the-media\", \"the-media\", \"the-media\", \"the-media\", \"the-media\", \"the-media\", \"the-media\", \"the-media\", \"the-media\", \"the-media\", \"the-media\", \"the-media\", \"the-media\", \"the-media\", \"the-media\", \"the-media\", \"the-media\", \"the-media\", \"the-media\", \"the-media\", \"the-media\", \"the-media\", \"the-media\", \"the-media\", \"the-media\", \"the-media\", \"the-media\", \"the-media\", \"the-media\", \"the-media\", \"the-media\", \"the-media\", \"the-media\", \"the-media\", \"the-media\", \"the-media\", \"the-media\", \"the-media\", \"the-media\", \"the-media\", \"the-media\", \"the-media\", \"the-media\", \"the-media\", \"the-media\", \"the-media\", \"the-media\", \"the-media\", \"the-media\", \"the-media\", \"the-media\", \"the-media\", \"the-media\", \"the-media\", \"the-media\", \"the-media\", \"the-media\", \"the-media\", \"the-media\", \"the-media\", \"the-media\", \"the-media\", \"the-media\", \"the-media\", \"the-media\", \"the-media\", \"the-media\", \"the-media\", \"the-media\", \"the-media\", \"the-media\", \"the-media\", \"the-media\", \"the-media\", \"the-media\", \"the-media\", \"the-media\", \"the-media\", \"the-media\", \"the-media\", \"the-media\", \"the-media\", \"the-media\", \"the-media\", \"the-media\", \"the-media\", \"the-media\", \"the-media\", \"the-media\", \"the-media\", \"the-media\", \"the-media\", \"the-media\", \"the-media\", \"the-media\", \"the-media\", \"the-media\", \"the-media\", \"the-media\", \"the-media\", \"the-media\", \"the-media\", \"the-media\", \"the-media\", \"the-media\", \"the-media\", \"the-media\", \"the-media\", \"the-media\", \"the-media\", \"the-media\", \"the-media\", \"the-media\", \"the-media\", \"the-media\", \"the-media\", \"the-media\", \"the-media\", \"the-media\", \"the-media\", \"the-media\", \"the-media\", \"the-media\", \"the-media\", \"the-media\", \"the-media\", \"the-media\", \"the-media\", \"the-media\", \"the-media\", \"the-media\", \"the-media\", \"the-media\", \"the-media\", \"the-media\", \"the-media\", \"the-media\", \"the-media\", \"the-media\", \"the-media\", \"the-media\", \"the-media\", \"the-media\", \"the-media\", \"the-media\", \"the-media\", \"the-media\", \"the-media\", \"the-media\", \"the-media\", \"the-media\", \"the-media\", \"the-media\", \"the-media\", \"the-media\", \"the-media\", \"the-media\", \"the-media\", \"the-media\", \"the-media\", \"the-media\", \"the-media\", \"the-media\", \"the-media\", \"the-media\", \"the-media\", \"the-media\", \"the-media\", \"the-media\", \"the-media\", \"the-media\", \"the-media\", \"the-media\", \"the-media\", \"the-media\", \"the-media\", \"the-media\", \"the-media\", \"the-media\", \"the-media\", \"the-media\", \"the-media\", \"the-media\", \"the-media\", \"the-media\", \"the-media\", \"the-media\", \"the-media\", \"the-media\", \"the-media\", \"the-media\", \"the-media\", \"the-media\", \"the-media\", \"the-media\", \"the-media\", \"the-media\", \"the-media\", \"the-media\", \"the-media\", \"the-media\", \"the-media\", \"the-media\", \"the-media\", \"the-media\", \"the-media\", \"the-media\", \"the-media\", \"the-media\", \"the-media\", \"the-media\", \"the-media\", \"the-media\", \"the-media\", \"the-media\", \"the-media\", \"the-media\", \"the-media\", \"the-media\", \"the-media\", \"the-media\", \"the-media\", \"the-media\", \"the-media\", \"the-media\", \"the-media\", \"the-media\", \"the-media\", \"the-media\", \"the-media\", \"the-media\", \"the-media\", \"the-media\", \"the-media\", \"the-media\", \"the-media\", \"the-media\", \"the-media\", \"the-media\", \"the-media\", \"the-media\", \"the-media\", \"the-media\", \"the-media\", \"the-media\", \"the-media\", \"the-media\", \"the-media\", \"the-media\", \"the-media\", \"the-media\", \"the-media\", \"the-media\", \"the-media\", \"the-media\", \"the-media\", \"the-media\", \"the-media\", \"the-media\", \"the-media\", \"the-media\", \"the-media\", \"the-media\", \"the-media\", \"the-media\", \"the-media\", \"the-media\", \"the-media\", \"the-media\", \"the-media\", \"the-media\", \"the-media\", \"the-media\", \"the-media\", \"the-media\", \"the-media\", \"the-media\", \"the-media\", \"the-media\", \"the-media\", \"the-media\", \"the-media\", \"the-media\", \"the-media\", \"the-media\", \"the-media\", \"the-media\", \"the-media\", \"the-media\", \"the-media\", \"the-media\", \"the-media\", \"the-media\", \"the-media\", \"the-media\", \"the-media\", \"the-media\", \"the-media\", \"the-media\", \"the-media\", \"the-media\", \"the-media\", \"the-media\", \"the-media\", \"the-media\", \"the-media\", \"the-media\", \"the-media\", \"the-media\", \"the-media\", \"the-media\", \"the-media\", \"the-media\", \"the-media\", \"the-media\", \"the-media\", \"the-media\", \"the-media\", \"the-media\", \"the-media\", \"the-media\", \"the-media\", \"the-media\", \"the-media\", \"the-media\", \"the-media\", \"the-media\", \"the-media\", \"the-media\", \"the-media\", \"the-media\", \"the-media\", \"the-media\", \"the-media\", \"the-media\", \"the-media\", \"the-media\", \"the-media\", \"the-media\", \"the-media\", \"the-media\", \"the-media\", \"the-media\", \"the-media\", \"the-media\", \"the-media\", \"the-media\", \"the-media\", \"the-media\", \"the-media\", \"the-media\", \"the-media\", \"the-media\", \"the-media\", \"the-media\", \"the-media\", \"the-media\", \"the-media\", \"the-media\", \"the-media\", \"the-media\", \"the-media\", \"the-media\", \"the-media\", \"the-media\", \"the-media\", \"the-media\", \"the-media\", \"the-media\", \"the-media\", \"the-media\", \"the-media\", \"the-media\", \"the-media\", \"the-media\", \"the-media\", \"the-media\", \"the-media\", \"the-media\", \"the-media\", \"the-media\", \"the-media\", \"the-media\", \"the-media\", \"the-media\", \"the-media\", \"the-media\", \"the-media\", \"the-media\", \"the-media\", \"the-media\", \"the-media\", \"the-media\", \"the-media\", \"the-media\", \"the-media\", \"the-media\", \"the-media\", \"the-media\", \"the-media\", \"the-media\", \"the-media\", \"the-media\", \"the-media\", \"the-media\", \"the-media\", \"the-media\", \"the-media\", \"the-media\", \"the-media\", \"the-media\", \"the-media\", \"the-media\", \"the-media\", \"the-media\", \"the-media\", \"the-media\", \"the-media\", \"the-media\", \"the-media\", \"the-media\", \"the-media\", \"the-media\", \"the-media\", \"the-media\", \"the-media\", \"the-media\", \"the-media\", \"the-media\", \"the-media\", \"the-media\", \"the-media\", \"the-media\", \"the-media\", \"the-media\", \"the-media\", \"the-media\", \"the-media\", \"the-media\", \"the-media\", \"the-media\", \"the-media\", \"the-media\", \"the-media\", \"the-media\", \"the-media\", \"the-media\", \"the-media\", \"the-media\", \"the-media\", \"the-media\", \"the-media\", \"the-media\", \"the-media\", \"the-media\", \"the-media\", \"the-media\", \"the-media\", \"the-media\", \"the-media\", \"the-media\", \"the-media\", \"the-media\", \"the-media\", \"the-media\", \"the-media\", \"the-media\", \"the-media\", \"the-media\", \"the-media\", \"the-media\", \"the-media\", \"the-media\", \"the-media\", \"the-media\", \"the-media\", \"the-media\", \"the-media\", \"the-media\", \"the-media\", \"the-media\", \"the-media\", \"the-media\", \"the-media\", \"the-media\", \"the-media\", \"the-media\", \"the-media\", \"the-media\", \"the-media\", \"the-media\", \"the-media\", \"the-media\", \"the-media\", \"the-media\", \"the-media\", \"the-media\", \"the-media\", \"the-media\", \"the-media\", \"the-media\", \"the-media\", \"the-media\", \"the-media\", \"the-media\", \"the-media\", \"the-media\", \"the-media\", \"the-media\", \"the-media\", \"the-media\", \"the-media\", \"the-media\", \"the-media\", \"the-media\", \"the-media\", \"the-media\", \"the-media\", \"the-media\", \"the-media\", \"the-media\", \"the-media\", \"the-media\", \"the-media\", \"the-media\", \"the-media\", \"the-media\", \"the-media\", \"the-media\", \"the-media\", \"the-media\", \"the-media\", \"the-media\", \"the-media\", \"the-media\", \"the-media\", \"the-media\", \"the-media\", \"the-media\", \"the-media\", \"the-media\", \"the-media\", \"the-media\", \"the-media\", \"the-media\", \"the-media\", \"the-media\", \"the-media\", \"the-media\", \"the-media\", \"the-media\", \"the-media\", \"the-media\", \"the-media\", \"the-media\", \"the-media\", \"the-media\", \"the-media\", \"the-media\", \"the-media\", \"the-media\", \"the-media\", \"the-media\", \"the-media\", \"the-media\", \"the-media\", \"the-media\", \"the-media\", \"the-media\", \"the-media\", \"the-media\", \"the-media\", \"the-media\", \"the-media\", \"the-media\", \"the-media\", \"the-media\", \"the-media\", \"the-media\", \"the-media\", \"the-media\", \"the-media\", \"the-media\", \"the-media\", \"the-media\", \"the-media\", \"the-media\", \"the-media\", \"the-media\", \"the-media\", \"the-media\", \"the-media\", \"the-media\", \"the-media\", \"the-media\", \"the-media\", \"the-media\", \"the-media\", \"the-media\", \"the-media\", \"the-media\", \"the-media\", \"the-media\", \"the-media\", \"the-media\", \"the-media\", \"the-media\", \"the-media\", \"the-media\", \"the-media\", \"the-media\", \"the-media\", \"the-media\", \"the-media\", \"the-media\", \"the-media\", \"the-media\", \"the-media\", \"the-media\", \"the-media\", \"the-media\", \"the-media\", \"the-media\", \"the-media\", \"the-media\", \"the-media\", \"the-media\", \"the-media\", \"the-media\", \"the-media\", \"the-media\", \"the-media\", \"the-media\", \"the-media\", \"the-media\", \"the-media\", \"the-media\", \"the-media\", \"the-media\", \"the-media\", \"the-media\", \"the-media\", \"the-media\", \"the-media\", \"the-media\", \"the-media\", \"the-media\", \"the-media\", \"the-media\", \"the-media\", \"the-media\", \"the-media\", \"the-media\", \"the-media\", \"the-media\", \"the-media\", \"the-media\", \"the-media\", \"the-media\", \"the-media\", \"the-media\", \"the-media\", \"the-media\", \"the-media\", \"the-media\", \"the-media\", \"the-media\", \"the-media\", \"the-media\", \"the-media\", \"the-media\", \"the-media\", \"the-media\", \"the-media\", \"the-media\", \"the-media\", \"the-media\", \"the-media\", \"the-media\", \"the-media\", \"the-media\", \"the-media\", \"the-media\", \"the-media\", \"the-media\", \"the-media\", \"the-media\", \"the-media\", \"the-media\", \"the-media\", \"the-media\", \"the-media\", \"the-media\", \"the-media\", \"the-media\", \"the-media\", \"the-media\", \"the-media\", \"the-media\", \"the-media\", \"the-media\", \"the-media\", \"the-media\", \"the-media\", \"the-media\", \"the-media\", \"the-media\", \"the-media\", \"the-media\", \"the-media\", \"the-media\", \"the-media\", \"the-media\", \"the-media\", \"the-media\", \"the-media\", \"the-media\", \"the-media\", \"the-media\", \"the-media\", \"the-media\", \"the-media\", \"the-media\", \"the-media\", \"the-media\", \"the-media\", \"the-media\", \"the-media\", \"the-media\", \"the-media\", \"the-media\", \"the-media\", \"the-media\", \"the-media\", \"the-media\", \"the-media\", \"the-media\", \"the-media\", \"the-media\", \"the-media\", \"the-media\", \"the-media\", \"the-media\", \"the-media\", \"the-media\", \"the-media\", \"the-media\", \"the-media\", \"the-media\", \"the-media\", \"the-media\", \"the-media\", \"the-media\", \"the-media\", \"the-media\", \"the-media\", \"the-media\", \"the-media\", \"the-media\", \"the-media\", \"the-media\", \"the-media\", \"the-media\", \"the-media\", \"the-media\", \"the-media\", \"the-media\", \"the-media\", \"the-media\", \"the-media\", \"the-media\", \"the-media\", \"the-media\", \"the-media\", \"the-media\", \"the-media\", \"the-media\", \"the-media\", \"the-media\", \"the-media\", \"the-media\", \"the-media\", \"the-media\", \"the-media\", \"the-media\", \"the-media\", \"the-media\"], \"xaxis\": \"x\", \"y\": [0.45, 0.07916666666666668, 0.48750000000000004, 0.5, -0.02121212121212121, 0.2768181818181818, 0.08472222222222221, 0.20833333333333331, -0.075, 0.06818181818181818, 0.23703703703703707, -0.35000000000000003, -0.3375, -0.15625, 0.375, 0.1590909090909091, 0.008333333333333304, -0.15000000000000005, -0.3499999999999999, 0.2333333333333333, -0.3, 0.2503156565656566, 0.0, -0.4374999999999999, -0.1984375, 0.3433333333333333, 0.13007936507936507, 0.15803571428571428, -0.31999999999999995, 0.2, 0.375, 0.15, 0.55, -0.3358333333333334, -0.31666666666666665, 0.06666666666666667, -0.25833333333333336, 0.1525, -0.017500000000000005, -0.75, -0.020833333333333343, -0.325, 0.1, -0.24166666666666667, -0.23125, -0.3333333333333333, 0.0, 0.0, -0.39, -0.3499999999999999, -0.4472222222222222, -0.028124999999999983, 0.13333333333333333, -0.537878787878788, 0.26785714285714285, -0.019999999999999997, 0.18409090909090908, 0.22443181818181818, 0.0, 0.78125, -0.2625, 0.009374999999999994, 0.04999999999999996, 0.0, -0.13257575757575757, 0.8, -0.06333333333333334, -0.26666666666666666, 0.3, 0.08, -0.65, -0.04652777777777778, -0.11749999999999998, -0.48750000000000004, 0.225, 0.0630952380952381, -0.09687500000000002, -0.15000000000000002, 0.19, 0.15000000000000002, -0.25, 0.19, -0.06166666666666667, -0.19642857142857142, -0.10833333333333332, -0.375, 0.09453125000000001, 0.22430555555555556, 0.10000000000000002, -0.5, 0.016964285714285723, -0.16666666666666666, -0.19166666666666665, -0.125, -0.46874999999999994, 0.16458333333333333, 0.08927272727272727, -0.25, 0.22083333333333333, -0.625, -0.19166666666666657, -0.1125, -0.5, -0.5, -0.22499999999999998, -0.5, -0.325, 0.0, -0.625, 0.16666666666666666, -0.5, -0.3125, -0.225, -0.12708333333333335, -0.2625, -0.1916666666666667, 0.5, -0.6050000000000001, -0.16999999999999998, 0.6, -0.022777777777777775, 0.1892857142857143, -0.2916666666666667, -0.2527777777777778, 0.5166666666666667, 0.16666666666666666, 0.06250000000000006, -0.25, -0.625, -0.5, -0.5, -0.23249999999999998, -0.5976190476190476, 0.06428571428571428, 0.3416666666666667, 0.06666666666666667, -0.5125, -0.625, 0.16875, -0.11666666666666667, 0.225, -0.012500000000000004, -0.30000000000000004, -0.625, -0.125, -0.6874999999999999, -0.21666666666666667, -0.03264790764790766, -0.28611111111111115, -0.5075000000000001, -0.47500000000000003, 0.125, -0.1, 0.07083333333333336, -0.6375000000000001, 0.045833333333333316, -0.09999999999999999, -0.07499999999999996, 0.0, 0.2708333333333333, 0.3666666666666667, 0.0, 0.9, 0.17500000000000002, -0.07333333333333332, 0.4, -0.13125, -0.125, 0.3333333333333333, -0.22499999999999998, 0.22000000000000003, 0.2333333333333333, -0.0875, -0.3125, -0.3333333333333333, -0.3333333333333333, -0.625, -0.12000000000000002, 0.0625, -0.04749999999999999, -0.19999999999999998, -0.234375, -0.2416666666666666, -0.275, -0.484375, -0.024999999999999994, -0.25, 0.28, -0.10833333333333332, -0.16071428571428567, -0.15000000000000002, -0.05267857142857142, -0.10625, -0.0625, 0.08308333333333333, -0.29125, -0.024074074074074074, 0.07738095238095238, -0.3714285714285714, 0.17916666666666667, -0.03571428571428573, 0.024999999999999994, -0.12962962962962962, 0.18361111111111109, -0.2125, -0.01110119047619048, 0.25772727272727275, -0.2708333333333333, -0.07897727272727274, -0.05032467532467533, -0.0375, -0.15, 0.00416666666666667, -0.3023809523809524, -0.0375, -0.04999999999999999, -0.5, 0.2928571428571428, 0.17500000000000002, 0.625, -0.048295454545454544, -0.078125, -0.20486111111111113, -0.14166666666666666, -0.75, -0.039999999999999994, 0.025, 0.2708333333333333, -0.06500000000000003, 0.375, 0.08333333333333333, -0.06458333333333333, 0.048750000000000016, 0.15555555555555556, 0.037083333333333336, 0.21439393939393944, -0.20833333333333334, 0.11250000000000002, -0.325, 0.4314285714285715, 0.17142857142857146, -0.159375, 0.13272727272727275, -0.20833333333333334, -0.16666666666666666, -0.23999999999999994, 0.01499999999999999, -0.125, -0.32083333333333336, -0.015, -0.3125, 0.03125, -0.2125, -0.359375, -0.37321428571428567, -0.22500000000000003, -0.12222222222222223, -0.36989795918367346, -0.08333333333333333, -0.15446428571428572, -0.005000000000000042, -0.14821428571428566, -0.4166666666666667, 0.11666666666666665, -0.012500000000000011, -0.08125, -0.5, -0.125, 0.0625, 0.06785714285714287, 0.20238095238095236, -0.002499999999999991, -0.03125, 0.3, 0.05000000000000001, 0.15833333333333335, 0.09583333333333333, -0.10949074074074076, 0.21666666666666667, -0.225, -0.14642857142857144, 0.1625, -0.36160714285714285, -0.20750000000000002, -0.5, 0.002136363636363625, -0.03125, 0.18181818181818182, 0.28409090909090906, 0.09833333333333334, -0.11607142857142858, -0.0028571428571428775, 0.2125, -0.3702380952380952, 0.16999999999999998, -0.08499999999999999, 0.054166666666666675, 0.0037500000000000866, 0.14563492063492062, -0.6321904761904762, -0.28977272727272724, -0.11116161616161618, -0.625, -0.19687499999999997, 0.1409863945578231, -0.10984848484848483, 0.0, -0.055357142857142855, -0.025, -0.02291666666666668, 0.17142857142857146, -0.3125, -0.1625, -0.0625, 0.035416666666666666, -0.041666666666666664, -0.625, -0.125, -0.24047619047619045, -0.08928571428571429, 0.10625000000000001, -0.27499999999999997, -0.41041666666666665, -0.16071428571428573, 0.025833333333333337, 0.08571428571428573, 0.16632653061224495, 0.05833333333333335, 0.064453125, -0.10718749999999999, 0.029166666666666664, 0.125, -0.05000000000000001, 0.08541666666666667, 0.36250000000000004, -0.34583333333333327, -0.06309523809523811, -0.5395833333333333, 0.20400000000000001, -0.625, -0.1, 0.18928571428571428, 0.2625, 0.13214285714285715, -0.18611111111111106, -0.03166666666666666, -0.05312500000000001, 0.12767857142857142, -0.038333333333333344, -0.07083333333333333, -0.125, 0.15092592592592594, -0.07678571428571428, 0.14500000000000002, 0.24360795454545453, -0.4375, 0.28197601010101014, -0.48125, -0.05500000000000001, -0.17023809523809522, -0.08333333333333333, -0.13125, -0.09166666666666663, 0.3171161616161616, -0.07542162698412697, -0.625, 0.45625, 0.5861111111111111, -0.40312499999999996, -0.09375, 0.12993197278911564, -0.1142857142857143, -0.0036616161616161436, 0.22000000000000003, -0.3125, 0.53, 0.11833333333333335, -0.03125, 0.06666666666666667, 0.0375, -0.6874999999999999, 0.14821428571428572, -0.08229166666666671, -0.08166666666666662, -0.10104166666666667, 0.05249999999999999, -0.625, -0.0062500000000000056, 0.0, -0.375, 0.04999999999999999, -0.43189393939393944, -0.3125, -0.11867857142857144, 0.16666666666666666, 0.0, -0.1875, -0.0773809523809524, -0.1961580086580087, -0.13975694444444442, 0.421875, -0.29583333333333334, -0.205, -0.3458333333333334, -0.04821428571428573, -0.15833333333333333, -0.21875, 0.25, -0.194375, 0.0, -0.0035714285714285726, -0.135, -0.03375, 0.07305194805194805, -0.08071428571428571, -0.25, 0.08, 0.0857142857142857, 0.04821428571428571, 0.0625, -0.07172727272727272, -0.16499999999999998, -0.20625, -0.5, -0.625, -0.8125, 0.16805555555555554, -0.2654761904761905, -0.045138888888888874, 0.041666666666666664, 0.1851851851851852, 0.11666666666666667, -0.24416666666666664, -0.19375000000000003, 0.25, -0.3892857142857143, 0.1, -0.12878787878787878, -0.12878787878787878, -0.06666666666666667, 0.16666666666666666, -0.175, 0.008333333333333337, -0.13541666666666666, -0.03125, 0.023428571428571427, 0.22214285714285714, -0.3071428571428571, 0.39166666666666666, -0.011249999999999996, 0.14375000000000004, 0.19166666666666665, -0.2125, 0.20892857142857144, -0.11666666666666667, -0.3125, 0.0734567901234568, 0.07001488095238095, 0.004761904761904767, 0.23266666666666666, 0.0734567901234568, -0.625, -0.4285714285714286, 0.08750000000000002, -0.38749999999999996, 0.17833333333333337, -0.24910714285714286, -0.625, 0.015126262626262618, 0.275, 0.25, -0.43333333333333335, -0.2833333333333333, -0.07777777777777778, -0.125, -0.13999999999999999, 0.03500000000000001, -0.01309523809523808, 0.12727272727272726, -0.03125, -0.3125, -0.625, -0.053333333333333274, 0.44999999999999996, -0.18125, -0.2479707792207792, -0.09083333333333332, 0.40454545454545454, 0.022727272727272724, -0.6249999999999999, -0.4583333333333333, 0.0072916666666666685, 0.2111111111111111, -0.625, -0.012500000000000011, -0.10625, -0.07847222222222221, -0.6444444444444445, -0.23125, -0.171875, -0.048809523809523817, 0.014583333333333365, 0.125, 0.15000000000000002, 0.06785714285714287, 0.08333333333333333, -0.15625, -0.2916666666666667, 0.0031250000000000167, 0.06741071428571432, -0.05000000000000001, 0.25625, -0.23125, -0.125, -0.5, -0.20833333333333334, 0.05833333333333335, -0.11638888888888888, -0.10000000000000002, -0.08499999999999999, 0.4392857142857143, 0.24387755102040817, -0.159375, 0.020833333333333332, 0.22000000000000003, -0.1642857142857143, 0.012500000000000011, -0.1875, -0.12215909090909091, -0.08125, -0.08084821428571427, -0.03035714285714286, -0.08528138528138529, -0.31666666666666665, 0.3482142857142857, -0.045606060606060574, -0.5, -0.012500000000000011, -0.2125, -0.3, 0.06204545454545457, -0.23499999999999996, -0.21550925925925923, -0.625, 0.1875, -0.23253968253968255, -0.23253968253968255, -0.625, -0.2847222222222222, 0.0, -0.14017857142857143, -0.4305555555555556, 0.10000000000000002, -0.07916666666666668, -0.3125, -0.1, 0.06071428571428572, -0.20833333333333334, -0.16666666666666666, -0.625, -0.42541666666666667, -0.4083333333333334, -0.02999999999999999, 0.5000000000000001, 0.0, 0.16969696969696968, -0.2479166666666667, -0.625, -0.5374999999999999, -0.06979166666666663, 0.36, -0.020833333333333332, -0.08928571428571429, 0.28437500000000004, -0.027777777777777773, -0.20833333333333334, -0.24107142857142858, -0.625, 0.0, 0.09316378066378067, 0.2565476190476191, -0.203125, -0.21011904761904762, 0.08, -0.21011904761904762, -0.09999999999999994, -0.21875, 0.28500000000000003, -0.10714285714285714, 0.26166666666666666, -0.10984848484848486, 0.18274410774410774, -0.065, -0.275, -0.34142857142857147, 0.019791666666666652, 0.04375000000000001, 0.31, -0.19886363636363635, -0.185, 0.1842687074829932, -0.06875, 0.25, 0.2, 0.07359523809523813, 0.01785714285714286, -0.625, -0.625, -0.78125, -0.012499999999999956, -0.06071428571428572, 0.03037878787878784, 0.12142857142857141, -0.325, -0.03739177489177491, 0.05833333333333333, -0.2125, -0.0625, -0.09666666666666668, -0.34, -0.17977678571428574, -0.2125, -0.14583333333333334, 0.06166666666666668, -0.16071428571428573, -0.09999999999999999, -0.17272727272727276, -0.28125, -0.08333333333333333, -0.1361111111111111, -0.125, -0.3208333333333333, -0.037755102040816335, -0.35000000000000003, -0.05000000000000001, -0.25, -0.12, -0.25, -0.06666666666666667, 0.019999999999999997, 0.0925, 0.11499999999999999, -0.4750000000000001, 0.054523809523809516, 0.1104591836734694, 0.1203125, -0.47857142857142854, -0.05749999999999998, -0.04166666666666667, 0.21428571428571427, 0.10833333333333334, -0.025000000000000022, -0.625, -0.04761904761904764, -0.625, 0.1638888888888889, -0.25, 0.10416666666666667, -0.30833333333333335, 0.033333333333333326, 0.13009259259259262, -0.008333333333333323, -0.15, -0.125, 0.01666666666666668, 0.08750000000000002, -0.5625, 1.0, -0.625, -0.25, -0.5049999999999999, 0.3678571428571429, -0.1708333333333333, -0.45833333333333337, -0.3625, -0.07291666666666667, -0.4107142857142857, 0.5407142857142857, -0.07083333333333333, -0.06480519480519481, -0.037500000000000006, -0.2845238095238095, -0.3907407407407408, -0.33111111111111113, -0.5625, -0.10416666666666667, -0.35555555555555557, 0.0, -0.625, 0.06405555555555556, -0.1432142857142857, -0.12000000000000002, 0.2677083333333334, 0.32246753246753246, 0.09433333333333331, -0.5375, 0.006481481481481495, -0.3263888888888889, 0.1025, -0.625, -0.253, -0.22000000000000003, 0.875, -0.24999999999999994, 0.09416666666666666, 0.013151927437641708, 0.1875, -0.073015873015873, -0.3472222222222222, 0.16666666666666666, 0.4222222222222222, 0.16875, 0.01666666666666668, 0.07410714285714286, -0.041666666666666664, 0.15833333333333333, 0.18214285714285713, -0.05833333333333335, 0.18683862433862436, -0.11818181818181817, 0.0797265625, 0.0014285714285714299, -0.15833333333333335, 0.5625, -0.625, 0.004071969696969703, -0.625, -0.2625, -0.4375, 0.5142857142857143, -0.07172222222222221, -0.625, -0.625, -0.0625, -0.06696428571428571, -0.03541666666666665, -0.5, 0.05000000000000001, -0.06666666666666664, 0.02500000000000004, 0.3333333333333333, -0.06499999999999999, -0.225, -0.25, 0.17142857142857143, -0.45833333333333326, 0.06666666666666665, -0.1938888888888889, -0.05969387755102041, 0.1, -0.125, 0.1875, -0.625, -0.02777777777777779, 0.14325396825396824, -0.41666666666666663, -0.625, 0.03333333333333333, 0.020833333333333332, -0.2208333333333333, -0.0642361111111111, 0.0, -0.375, -0.21708333333333335, -0.5625, 0.034114583333333316, -0.39583333333333337, -0.2395833333333333, -0.45625, -0.125, -0.15625, 0.16, -0.1069444444444444, -0.4208333333333334, -0.375, -0.4203125, -0.3333333333333333, -0.39593229166666666, -0.4, 0.11500000000000002, 0.0, 0.19999999999999998, 0.14055555555555557, -0.1875, -0.625, 0.15166666666666667, -0.5, 0.002857142857142856, -0.375, 0.030208333333333337, -0.07500000000000001, -0.006249999999999999, 0.20000000000000004, -0.21632653061224488, 0.15625, 0.0, -0.08333333333333333, -0.20833333333333334, 0.0, 0.3666666666666667, -0.05555555555555558, -0.625, -0.12499999999999996, -0.22916666666666666, -0.04999999999999993, 0.0, -0.3125, -0.375, -0.044444444444444446, 0.25, -0.625, -0.14999999999999997, 0.12142857142857144, 0.11499999999999999, -0.125, -0.625, -0.625, 0.036038961038961044, -0.625, -0.40625, 0.23828125, -0.1625, 0.024999999999999994, -0.1791666666666666, -0.21874999999999994, 0.1875, -0.25, 0.2571428571428571], \"yaxis\": \"y\"}, {\"alignmentgroup\": \"True\", \"bingroup\": \"x\", \"histfunc\": \"avg\", \"hoverlabel\": {\"namelength\": 0}, \"hovertemplate\": \"Target=%{x}<br>avg of polarity=%{y}\", \"legendgroup\": \"Target=the-new-york-times\", \"marker\": {\"color\": \"#00cc96\"}, \"name\": \"Target=the-new-york-times\", \"offsetgroup\": \"Target=the-new-york-times\", \"orientation\": \"v\", \"showlegend\": true, \"type\": \"histogram\", \"x\": [\"the-new-york-times\", \"the-new-york-times\", \"the-new-york-times\", \"the-new-york-times\", \"the-new-york-times\", \"the-new-york-times\", \"the-new-york-times\", \"the-new-york-times\", \"the-new-york-times\", \"the-new-york-times\", \"the-new-york-times\", \"the-new-york-times\", \"the-new-york-times\", \"the-new-york-times\", \"the-new-york-times\", \"the-new-york-times\", \"the-new-york-times\", \"the-new-york-times\", \"the-new-york-times\", \"the-new-york-times\", \"the-new-york-times\", \"the-new-york-times\", \"the-new-york-times\", \"the-new-york-times\", \"the-new-york-times\", \"the-new-york-times\", \"the-new-york-times\", \"the-new-york-times\", \"the-new-york-times\", \"the-new-york-times\", \"the-new-york-times\", \"the-new-york-times\", \"the-new-york-times\", \"the-new-york-times\", \"the-new-york-times\", \"the-new-york-times\", \"the-new-york-times\", \"the-new-york-times\", \"the-new-york-times\", \"the-new-york-times\", \"the-new-york-times\", \"the-new-york-times\", \"the-new-york-times\", \"the-new-york-times\", \"the-new-york-times\", \"the-new-york-times\", \"the-new-york-times\", \"the-new-york-times\", \"the-new-york-times\", \"the-new-york-times\", \"the-new-york-times\", \"the-new-york-times\", \"the-new-york-times\", \"the-new-york-times\", \"the-new-york-times\", \"the-new-york-times\", \"the-new-york-times\", \"the-new-york-times\", \"the-new-york-times\", \"the-new-york-times\", \"the-new-york-times\", \"the-new-york-times\", \"the-new-york-times\", \"the-new-york-times\", \"the-new-york-times\", \"the-new-york-times\", \"the-new-york-times\", \"the-new-york-times\", \"the-new-york-times\", \"the-new-york-times\", \"the-new-york-times\", \"the-new-york-times\", \"the-new-york-times\", \"the-new-york-times\", \"the-new-york-times\", \"the-new-york-times\", \"the-new-york-times\", \"the-new-york-times\", \"the-new-york-times\", \"the-new-york-times\", \"the-new-york-times\", \"the-new-york-times\", \"the-new-york-times\", \"the-new-york-times\", \"the-new-york-times\", \"the-new-york-times\", \"the-new-york-times\", \"the-new-york-times\", \"the-new-york-times\", \"the-new-york-times\", \"the-new-york-times\", \"the-new-york-times\", \"the-new-york-times\", \"the-new-york-times\", \"the-new-york-times\", \"the-new-york-times\", \"the-new-york-times\", \"the-new-york-times\", \"the-new-york-times\", \"the-new-york-times\", \"the-new-york-times\", \"the-new-york-times\", \"the-new-york-times\", \"the-new-york-times\", \"the-new-york-times\", \"the-new-york-times\", \"the-new-york-times\", \"the-new-york-times\", \"the-new-york-times\", \"the-new-york-times\", \"the-new-york-times\", \"the-new-york-times\", \"the-new-york-times\", \"the-new-york-times\", \"the-new-york-times\", \"the-new-york-times\", \"the-new-york-times\", \"the-new-york-times\", \"the-new-york-times\", \"the-new-york-times\", \"the-new-york-times\", \"the-new-york-times\", \"the-new-york-times\", \"the-new-york-times\", \"the-new-york-times\", \"the-new-york-times\", \"the-new-york-times\", \"the-new-york-times\", \"the-new-york-times\", \"the-new-york-times\", \"the-new-york-times\", \"the-new-york-times\", \"the-new-york-times\", \"the-new-york-times\", \"the-new-york-times\", \"the-new-york-times\", \"the-new-york-times\", \"the-new-york-times\", \"the-new-york-times\", \"the-new-york-times\", \"the-new-york-times\", \"the-new-york-times\", \"the-new-york-times\", \"the-new-york-times\", \"the-new-york-times\", \"the-new-york-times\", \"the-new-york-times\", \"the-new-york-times\", \"the-new-york-times\", \"the-new-york-times\", \"the-new-york-times\", \"the-new-york-times\", \"the-new-york-times\", \"the-new-york-times\", \"the-new-york-times\", \"the-new-york-times\", \"the-new-york-times\", \"the-new-york-times\", \"the-new-york-times\", \"the-new-york-times\", \"the-new-york-times\", \"the-new-york-times\", \"the-new-york-times\", \"the-new-york-times\", \"the-new-york-times\", \"the-new-york-times\", \"the-new-york-times\", \"the-new-york-times\", \"the-new-york-times\", \"the-new-york-times\", \"the-new-york-times\", \"the-new-york-times\", \"the-new-york-times\", \"the-new-york-times\", \"the-new-york-times\", \"the-new-york-times\", \"the-new-york-times\", \"the-new-york-times\", \"the-new-york-times\", \"the-new-york-times\", \"the-new-york-times\", \"the-new-york-times\", \"the-new-york-times\", \"the-new-york-times\", \"the-new-york-times\", \"the-new-york-times\", \"the-new-york-times\", \"the-new-york-times\", \"the-new-york-times\", \"the-new-york-times\", \"the-new-york-times\", \"the-new-york-times\", \"the-new-york-times\", \"the-new-york-times\", \"the-new-york-times\", \"the-new-york-times\", \"the-new-york-times\", \"the-new-york-times\", \"the-new-york-times\", \"the-new-york-times\", \"the-new-york-times\", \"the-new-york-times\", \"the-new-york-times\", \"the-new-york-times\", \"the-new-york-times\", \"the-new-york-times\"], \"xaxis\": \"x\", \"y\": [-0.025000000000000022, 0.2333333333333333, -0.25833333333333336, 0.18333333333333335, -0.3791666666666666, 0.3, -0.10000000000000002, -0.25000000000000006, -0.16287878787878787, 0.0, -0.2909090909090909, -0.9374999999999999, 0.04553571428571428, 0.25, -0.09398148148148144, -0.015909090909090873, 0.875, 0.0, -0.0875, 0.03200000000000001, 0.21250000000000002, 0.11250000000000004, -0.375, 0.0, 0.5, 0.25, -0.4000000000000001, 0.0, -1.0, -0.328125, 0.25, 0.5, -0.24375000000000002, -0.2375, -0.05, -0.33928571428571425, 0.3125, -0.25833333333333336, -0.48750000000000004, 0.0, -0.4000000000000001, -0.13333333333333333, 0.125, 0.008333333333333337, 0.012500000000000011, -0.12916666666666662, -0.8499999999999999, 0.06666666666666667, 0.0, 0.0, -0.08666666666666667, -0.6999999999999998, 0.0625, 0.06875, 0.1875, 0.34545454545454546, -0.15, -0.4318181818181818, 0.16, -0.21875, -0.30000000000000004, -0.1714285714285714, -0.28125, -0.3125, -0.1, -0.28125, -0.5, -0.25, -0.25, -0.10833333333333332, 0.14166666666666672, 0.625, -0.2380952380952381, -0.25, 0.05, -0.12121212121212122, -0.16666666666666666, -0.5750000000000001, -0.4750000000000001, -0.037337662337662336, -0.20075757575757572, 0.3, 0.07500000000000001, -0.5972222222222222, 0.06666666666666667, -0.4, 0.0, 0.5, 0.2, 0.45, -0.2807291666666667, -0.3125, 0.21944444444444444, -0.5875, 0.10227272727272725, 0.125, 0.0909090909090909, -0.15833333333333333, -0.0821969696969697, 0.0037878787878787845, 0.4861111111111111, -0.3596590909090909, -0.16354166666666667, -0.12662337662337664, -0.27291666666666664, -0.12187500000000001, -0.1159090909090909, 0.14444444444444443, 0.28409090909090906, 0.17045454545454544, -0.047619047619047616, -0.28977272727272724, -0.2877272727272727, 0.10724431818181818, 0.17045454545454544, 0.13636363636363635, -0.4617272727272727, -0.021212121212121206, -0.2564393939393939, 0.0156060606060606, -0.028896103896103864, -0.03787878787878788, 0.22186147186147184, -0.48125, 0.10162337662337663, -0.21051948051948052, 0.057954545454545425, -0.2639772727272727, 0.1375, -0.4577272727272727, -0.1302188552188552, -0.2659090909090909, -0.6812499999999999, 0.08712121212121211, -0.3004545454545454, 0.09031986531986531, -0.3106060606060606, 0.011616161616161608, -0.07172727272727272, 0.34624999999999995, 0.004166666666666652, -0.12465277777777778, -0.3892857142857143, -0.054843073593073575, -0.09090909090909086, 0.1340909090909091, 0.3111111111111111, -0.1647727272727273, 0.0766233766233766, -0.11666666666666667, -0.5388888888888889, 0.15773809523809523, -0.19004329004329004, -0.24041666666666667, -0.06345454545454546, -0.040909090909090916, 0.5, -0.17727272727272725, 0.1010551948051948, -0.041727272727272724, 0.13827272727272727, -0.045454545454545456, -0.06153198653198655, 0.011363636363636359, 0.10606060606060602, -0.29215367965367967, -0.045606060606060574, 0.2556818181818182, 0.19772727272727272, 0.023636363636363643, -0.18181818181818182, -0.19090909090909092, 0.2372727272727273, -0.28125, -0.22215909090909092, 0.0, -0.2876262626262627, -0.07744633838383841, -0.3198097041847041, -0.17272727272727276, 0.25, -0.08451704545454546, -0.06785714285714285, -0.06785714285714285, 0.03333333333333334, 0.03333333333333334, -0.4625, -0.041666666666666664, -0.6874999999999999, -0.19272727272727272, -0.16796875, -0.22000000000000003, -0.45, -0.1793650793650794, -0.625, 0.40758590367965364, 0.0, -0.3333333333333333, -0.24431818181818182, -0.625, -0.08374999999999999, 0.12500000000000003, 0.16, -0.25, 0.43125, -0.6083333333333333], \"yaxis\": \"y\"}, {\"alignmentgroup\": \"True\", \"bingroup\": \"x\", \"histfunc\": \"avg\", \"hoverlabel\": {\"namelength\": 0}, \"hovertemplate\": \"Target=%{x}<br>avg of polarity=%{y}\", \"legendgroup\": \"Target=hillary-clinton\", \"marker\": {\"color\": \"#ab63fa\"}, \"name\": \"Target=hillary-clinton\", \"offsetgroup\": \"Target=hillary-clinton\", \"orientation\": \"v\", \"showlegend\": true, \"type\": \"histogram\", \"x\": [\"hillary-clinton\", \"hillary-clinton\", \"hillary-clinton\", \"hillary-clinton\", \"hillary-clinton\", \"hillary-clinton\", \"hillary-clinton\", \"hillary-clinton\", \"hillary-clinton\", \"hillary-clinton\", \"hillary-clinton\", \"hillary-clinton\", \"hillary-clinton\", \"hillary-clinton\", \"hillary-clinton\", \"hillary-clinton\", \"hillary-clinton\", \"hillary-clinton\", \"hillary-clinton\", \"hillary-clinton\", \"hillary-clinton\", \"hillary-clinton\", \"hillary-clinton\", \"hillary-clinton\", \"hillary-clinton\", \"hillary-clinton\", \"hillary-clinton\", \"hillary-clinton\", \"hillary-clinton\", \"hillary-clinton\", \"hillary-clinton\", \"hillary-clinton\", \"hillary-clinton\", \"hillary-clinton\", \"hillary-clinton\", \"hillary-clinton\", \"hillary-clinton\", \"hillary-clinton\", \"hillary-clinton\", \"hillary-clinton\", \"hillary-clinton\", \"hillary-clinton\", \"hillary-clinton\", \"hillary-clinton\", \"hillary-clinton\", \"hillary-clinton\", \"hillary-clinton\", \"hillary-clinton\", \"hillary-clinton\", \"hillary-clinton\", \"hillary-clinton\", \"hillary-clinton\", \"hillary-clinton\", \"hillary-clinton\", \"hillary-clinton\", \"hillary-clinton\", \"hillary-clinton\", \"hillary-clinton\", \"hillary-clinton\", \"hillary-clinton\", \"hillary-clinton\", \"hillary-clinton\", \"hillary-clinton\", \"hillary-clinton\", \"hillary-clinton\", \"hillary-clinton\", \"hillary-clinton\", \"hillary-clinton\", \"hillary-clinton\", \"hillary-clinton\", \"hillary-clinton\", \"hillary-clinton\", \"hillary-clinton\", \"hillary-clinton\", \"hillary-clinton\", \"hillary-clinton\", \"hillary-clinton\", \"hillary-clinton\", \"hillary-clinton\", \"hillary-clinton\", \"hillary-clinton\", \"hillary-clinton\", \"hillary-clinton\", \"hillary-clinton\", \"hillary-clinton\", \"hillary-clinton\", \"hillary-clinton\", \"hillary-clinton\", \"hillary-clinton\", \"hillary-clinton\", \"hillary-clinton\", \"hillary-clinton\", \"hillary-clinton\", \"hillary-clinton\", \"hillary-clinton\", \"hillary-clinton\", \"hillary-clinton\", \"hillary-clinton\", \"hillary-clinton\", \"hillary-clinton\", \"hillary-clinton\", \"hillary-clinton\", \"hillary-clinton\", \"hillary-clinton\", \"hillary-clinton\", \"hillary-clinton\", \"hillary-clinton\", \"hillary-clinton\", \"hillary-clinton\", \"hillary-clinton\", \"hillary-clinton\", \"hillary-clinton\", \"hillary-clinton\", \"hillary-clinton\", \"hillary-clinton\", \"hillary-clinton\", \"hillary-clinton\", \"hillary-clinton\", \"hillary-clinton\", \"hillary-clinton\", \"hillary-clinton\", \"hillary-clinton\", \"hillary-clinton\", \"hillary-clinton\", \"hillary-clinton\", \"hillary-clinton\", \"hillary-clinton\", \"hillary-clinton\", \"hillary-clinton\", \"hillary-clinton\", \"hillary-clinton\", \"hillary-clinton\", \"hillary-clinton\", \"hillary-clinton\", \"hillary-clinton\", \"hillary-clinton\", \"hillary-clinton\", \"hillary-clinton\", \"hillary-clinton\", \"hillary-clinton\", \"hillary-clinton\", \"hillary-clinton\", \"hillary-clinton\", \"hillary-clinton\", \"hillary-clinton\", \"hillary-clinton\", \"hillary-clinton\", \"hillary-clinton\", \"hillary-clinton\", \"hillary-clinton\", \"hillary-clinton\", \"hillary-clinton\", \"hillary-clinton\", \"hillary-clinton\", \"hillary-clinton\", \"hillary-clinton\", \"hillary-clinton\", \"hillary-clinton\", \"hillary-clinton\", \"hillary-clinton\", \"hillary-clinton\", \"hillary-clinton\", \"hillary-clinton\", \"hillary-clinton\", \"hillary-clinton\", \"hillary-clinton\", \"hillary-clinton\", \"hillary-clinton\", \"hillary-clinton\", \"hillary-clinton\", \"hillary-clinton\", \"hillary-clinton\", \"hillary-clinton\", \"hillary-clinton\", \"hillary-clinton\", \"hillary-clinton\", \"hillary-clinton\", \"hillary-clinton\", \"hillary-clinton\", \"hillary-clinton\", \"hillary-clinton\", \"hillary-clinton\", \"hillary-clinton\", \"hillary-clinton\", \"hillary-clinton\", \"hillary-clinton\", \"hillary-clinton\", \"hillary-clinton\", \"hillary-clinton\", \"hillary-clinton\", \"hillary-clinton\", \"hillary-clinton\", \"hillary-clinton\", \"hillary-clinton\", \"hillary-clinton\", \"hillary-clinton\", \"hillary-clinton\", \"hillary-clinton\", \"hillary-clinton\", \"hillary-clinton\", \"hillary-clinton\", \"hillary-clinton\", \"hillary-clinton\", \"hillary-clinton\", \"hillary-clinton\", \"hillary-clinton\", \"hillary-clinton\", \"hillary-clinton\", \"hillary-clinton\", \"hillary-clinton\", \"hillary-clinton\", \"hillary-clinton\", \"hillary-clinton\", \"hillary-clinton\", \"hillary-clinton\", \"hillary-clinton\", \"hillary-clinton\", \"hillary-clinton\", \"hillary-clinton\", \"hillary-clinton\", \"hillary-clinton\", \"hillary-clinton\", \"hillary-clinton\", \"hillary-clinton\", \"hillary-clinton\", \"hillary-clinton\", \"hillary-clinton\", \"hillary-clinton\", \"hillary-clinton\", \"hillary-clinton\", \"hillary-clinton\", \"hillary-clinton\", \"hillary-clinton\", \"hillary-clinton\", \"hillary-clinton\", \"hillary-clinton\", \"hillary-clinton\", \"hillary-clinton\", \"hillary-clinton\", \"hillary-clinton\", \"hillary-clinton\", \"hillary-clinton\", \"hillary-clinton\", \"hillary-clinton\", \"hillary-clinton\", \"hillary-clinton\", \"hillary-clinton\", \"hillary-clinton\", \"hillary-clinton\", \"hillary-clinton\", \"hillary-clinton\", \"hillary-clinton\", \"hillary-clinton\", \"hillary-clinton\", \"hillary-clinton\", \"hillary-clinton\", \"hillary-clinton\", \"hillary-clinton\", \"hillary-clinton\", \"hillary-clinton\", \"hillary-clinton\", \"hillary-clinton\", \"hillary-clinton\", \"hillary-clinton\", \"hillary-clinton\", \"hillary-clinton\", \"hillary-clinton\", \"hillary-clinton\", \"hillary-clinton\", \"hillary-clinton\", \"hillary-clinton\", \"hillary-clinton\", \"hillary-clinton\", \"hillary-clinton\", \"hillary-clinton\", \"hillary-clinton\", \"hillary-clinton\", \"hillary-clinton\", \"hillary-clinton\", \"hillary-clinton\", \"hillary-clinton\", \"hillary-clinton\", \"hillary-clinton\", \"hillary-clinton\", \"hillary-clinton\", \"hillary-clinton\", \"hillary-clinton\", \"hillary-clinton\", \"hillary-clinton\", \"hillary-clinton\", \"hillary-clinton\", \"hillary-clinton\", \"hillary-clinton\", \"hillary-clinton\", \"hillary-clinton\", \"hillary-clinton\", \"hillary-clinton\", \"hillary-clinton\", \"hillary-clinton\", \"hillary-clinton\", \"hillary-clinton\", \"hillary-clinton\", \"hillary-clinton\", \"hillary-clinton\", \"hillary-clinton\", \"hillary-clinton\", \"hillary-clinton\", \"hillary-clinton\", \"hillary-clinton\", \"hillary-clinton\", \"hillary-clinton\", \"hillary-clinton\", \"hillary-clinton\", \"hillary-clinton\", \"hillary-clinton\", \"hillary-clinton\", \"hillary-clinton\", \"hillary-clinton\", \"hillary-clinton\", \"hillary-clinton\", \"hillary-clinton\", \"hillary-clinton\", \"hillary-clinton\", \"hillary-clinton\", \"hillary-clinton\", \"hillary-clinton\", \"hillary-clinton\", \"hillary-clinton\", \"hillary-clinton\", \"hillary-clinton\", \"hillary-clinton\", \"hillary-clinton\", \"hillary-clinton\", \"hillary-clinton\", \"hillary-clinton\", \"hillary-clinton\", \"hillary-clinton\", \"hillary-clinton\", \"hillary-clinton\", \"hillary-clinton\", \"hillary-clinton\", \"hillary-clinton\", \"hillary-clinton\", \"hillary-clinton\", \"hillary-clinton\", \"hillary-clinton\", \"hillary-clinton\", \"hillary-clinton\", \"hillary-clinton\", \"hillary-clinton\", \"hillary-clinton\", \"hillary-clinton\", \"hillary-clinton\", \"hillary-clinton\", \"hillary-clinton\", \"hillary-clinton\", \"hillary-clinton\", \"hillary-clinton\", \"hillary-clinton\", \"hillary-clinton\", \"hillary-clinton\", \"hillary-clinton\", \"hillary-clinton\", \"hillary-clinton\", \"hillary-clinton\", \"hillary-clinton\", \"hillary-clinton\", \"hillary-clinton\", \"hillary-clinton\", \"hillary-clinton\", \"hillary-clinton\", \"hillary-clinton\", \"hillary-clinton\", \"hillary-clinton\", \"hillary-clinton\", \"hillary-clinton\", \"hillary-clinton\", \"hillary-clinton\", \"hillary-clinton\", \"hillary-clinton\", \"hillary-clinton\", \"hillary-clinton\", \"hillary-clinton\", \"hillary-clinton\", \"hillary-clinton\", \"hillary-clinton\", \"hillary-clinton\", \"hillary-clinton\", \"hillary-clinton\", \"hillary-clinton\", \"hillary-clinton\", \"hillary-clinton\", \"hillary-clinton\", \"hillary-clinton\", \"hillary-clinton\", \"hillary-clinton\", \"hillary-clinton\", \"hillary-clinton\", \"hillary-clinton\", \"hillary-clinton\", \"hillary-clinton\", \"hillary-clinton\", \"hillary-clinton\", \"hillary-clinton\", \"hillary-clinton\", \"hillary-clinton\", \"hillary-clinton\", \"hillary-clinton\", \"hillary-clinton\", \"hillary-clinton\", \"hillary-clinton\", \"hillary-clinton\", \"hillary-clinton\", \"hillary-clinton\", \"hillary-clinton\", \"hillary-clinton\", \"hillary-clinton\", \"hillary-clinton\", \"hillary-clinton\", \"hillary-clinton\", \"hillary-clinton\", \"hillary-clinton\", \"hillary-clinton\", \"hillary-clinton\", \"hillary-clinton\", \"hillary-clinton\", \"hillary-clinton\", \"hillary-clinton\", \"hillary-clinton\", \"hillary-clinton\", \"hillary-clinton\", \"hillary-clinton\", \"hillary-clinton\", \"hillary-clinton\", \"hillary-clinton\", \"hillary-clinton\", \"hillary-clinton\", \"hillary-clinton\", \"hillary-clinton\", \"hillary-clinton\", \"hillary-clinton\", \"hillary-clinton\", \"hillary-clinton\", \"hillary-clinton\", \"hillary-clinton\", \"hillary-clinton\", \"hillary-clinton\", \"hillary-clinton\", \"hillary-clinton\", \"hillary-clinton\", \"hillary-clinton\", \"hillary-clinton\", \"hillary-clinton\", \"hillary-clinton\", \"hillary-clinton\", \"hillary-clinton\", \"hillary-clinton\", \"hillary-clinton\", \"hillary-clinton\", \"hillary-clinton\", \"hillary-clinton\", \"hillary-clinton\", \"hillary-clinton\", \"hillary-clinton\", \"hillary-clinton\", \"hillary-clinton\", \"hillary-clinton\", \"hillary-clinton\", \"hillary-clinton\", \"hillary-clinton\", \"hillary-clinton\", \"hillary-clinton\", \"hillary-clinton\"], \"xaxis\": \"x\", \"y\": [-0.2916666666666667, 0.35714285714285715, 0.0, -0.3499999999999999, -0.08333333333333333, -0.4375, 0.15555555555555556, 0.5681818181818181, -0.75, 0.4, 0.14619047619047618, -0.375, -0.625, -0.4000000000000001, 0.8, -0.3125, -0.55, 0.2, 0.1, -0.10416666666666667, 0.0, -0.14090909090909087, 0.078125, 0.0, 0.3125, -0.40468750000000003, 0.0, 0.125, 0.3, 0.26666666666666666, -0.1, 0.1, -0.33124999999999993, 0.0, 0.06666666666666667, 0.0, -0.2916666666666666, 0.04375000000000001, 0.3333333333333333, 0.008333333333333304, -0.3333333333333333, -0.8749999999999998, -0.19333333333333327, -0.09791666666666665, -0.3, 0.05, 0.0, -0.09999999999999998, -0.4374999999999999, 0.0, -0.15000000000000002, 0.3333333333333333, 0.08333333333333333, 0.0, 0.0, 0.23958333333333334, 0.043750000000000004, 0.16666666666666666, 0.3125, 0.0, 0.05, -0.1385416666666667, -0.0375, -0.2916666666666667, -0.3125, -0.37499999999999994, -0.3333333333333333, 0.15595238095238095, -0.18750000000000003, -0.09846938775510201, 0.3590909090909091, 0.0, 0.3747619047619047, -0.16249999999999995, 0.16666666666666666, 0.4, -0.20833333333333334, -0.25833333333333325, -0.2973214285714285, 0.010416666666666666, 0.11499999999999999, -0.19791666666666669, -0.4416666666666666, -0.1875, -0.69, -0.23722222222222217, -0.27499999999999997, 0.3333333333333333, 0.2333333333333333, -0.0625, 0.0, 0.43333333333333335, -0.18229166666666669, -0.30833333333333335, 0.08625, -0.1564772727272727, -0.29999999999999993, 0.042857142857142844, -0.18624999999999997, 0.0, 0.0, -0.25, 0.0625, -0.25, -0.3499999999999999, 0.0390625, 0.25, -0.13333333333333333, -0.06666666666666664, 0.15833333333333333, 0.06666666666666667, 0.0, -0.3499999999999999, -0.125, 0.1875, -0.8749999999999998, 0.0, -0.20833333333333334, -0.125, 0.3125, -0.265, 0.0, 0.0, -0.28273809523809523, 0.0625, -0.2041666666666666, -0.092, -0.3899999999999999, -0.3125, 0.016666666666666666, 0.06818181818181818, 0.0, -0.5, -0.1875, -0.03125, 0.0, 0.0, 0.0, -0.125, 0.0, 0.0, -0.15, -0.403125, -0.15, -0.041666666666666664, -0.078125, -0.25833333333333336, 0.05423280423280422, -0.26249999999999996, -0.5249999999999999, 0.3125, 0.21666666666666667, -0.3499999999999999, 0.0, -0.016666666666666663, -0.078125, -0.22499999999999995, 0.033333333333333354, 0.0, -0.11333333333333333, 0.0, -0.23333333333333328, 0.35, 0.0, 0.0, 0.13333333333333333, 0.0, -0.5, -0.06666666666666667, -0.44916666666666655, 0.0, 0.25, 0.0031250000000000028, 0.0, 0.5, 0.0, -0.4, 0.08541666666666665, -0.10999999999999999, -0.03333333333333333, -0.31666666666666665, 0.275, 0.041666666666666664, 0.1, -0.6999999999999998, 0.0, -0.3333333333333333, 0.06000000000000001, 0.0, 0.0, -0.1625, -0.26666666666666666, -0.08541666666666667, 0.0, 0.06666666666666667, 0.0, 0.0, 0.3125, 0.0, 0.4083333333333333, -0.4375, -0.6999999999999998, -0.21875000000000003, -0.125, -0.1, 0.1525, -0.4, 0.25, -0.24166666666666667, -0.23125, 0.0, -0.25000000000000006, 0.11111111111111109, 0.0, -0.5, -0.0625, -0.3333333333333333, 0.0, 0.175, 0.25, 0.2222222222222222, 0.13333333333333333, -0.2729166666666667, -0.30999999999999994, 0.0, 1.0, 1.0, -0.15106060606060606, 0.125, -0.041666666666666664, 0.0, 0.0, -0.3666666666666667, -0.21666666666666667, -0.146875, -0.0638888888888889, -0.16614583333333333, -0.1875, -0.1, -0.12916666666666662, -0.4, 0.0, -0.07222222222222223, -0.5, 0.25, 0.0, -0.43, -0.49166666666666653, -0.4166666666666667, -0.375, -0.25999999999999995, 0.2, 0.0, 0.35714285714285715, -0.025000000000000022, 0.0, 0.01428571428571429, 0.22000000000000003, 0.0, 0.014880952380952384, 0.03333333333333333, 0.0, 0.0, 0.13333333333333333, -0.1, -0.3374999999999999, -0.17500000000000002, -0.019999999999999997, -0.16666666666666666, -0.16666666666666666, -0.09166666666666667, 0.15, 0.0, 0.0, 0.2638888888888889, 0.0, 0.0, 0.0, -0.6875, -0.5416666666666666, -0.0625, 0.5, 0.2, 0.0, 0.625, 0.0, 0.0, -0.5, -0.26666666666666666, -0.0875, 0.375, 0.0, 0.20357142857142857, 0.0, 0.0, 0.06666666666666667, -0.16666666666666666, -0.1, 0.0, -0.4, -0.26249999999999996, 0.19999999999999998, 0.0, -0.5, 0.5, -0.3125, 0.0, 0.0, 0.0, -0.11499999999999999, 0.0, -0.5, 0.0, -0.6125, -0.175, -0.625, -0.5, 0.0, 0.0, 0.39999999999999997, 0.0, 0.05833333333333333, 0.0, -0.09999999999999999, -0.07499999999999996, 0.0, 0.13, 0.17500000000000002, 0.0, -0.25, -0.033333333333333326, 0.0, 0.4, -0.0027272727272727336, 0.5, 0.19642857142857142, 0.2619047619047619, -0.25, -0.041666666666666664, 0.0, -0.09, 0.02500000000000001, 0.17500000000000002, 0.25, 0.06666666666666667, 0.05, -0.05833333333333335, 0.16111111111111112, 0.03571428571428571, 0.2568204365079365, -0.1284722222222222, 0.025, -0.175, 0.15, -0.016666666666666666, 0.2708333333333333, -0.25, 0.21875, -0.23111111111111118, -0.03499999999999996, -0.015909090909090914, -0.16354166666666667, -0.375, 0.22000000000000003, -0.11875, 0.0625, 0.3333333333333333, -0.01499999999999999, -0.017857142857142863, -0.028298611111111108, -0.04196428571428573, 0.1388888888888889, 0.05833333333333333, 0.03333333333333333, -0.033333333333333326, -0.002499999999999991, 0.16, -0.06820987654320988, 0.3333333333333333, -0.18571428571428575, 0.0, -0.28125, -0.18, 0.0, 0.16999999999999998, -0.028571428571428574, 0.0, -0.3333333333333333, -0.06666666666666667, 0.03333333333333334, 0.004166666666666689, 0.0, -0.08333333333333333, 0.0, -0.11666666666666665, 0.1, 0.5416666666666666, -0.16875, -0.040000000000000015, 0.19999999999999998, 0.05833333333333333, -0.03166666666666666, -0.13999999999999996, -0.0625, 0.06666666666666667, 0.056818181818181816, -0.16499999999999998, 0.0, 0.0, -0.11499999999999999, -0.09765625, -0.037500000000000006, 0.0, 0.053571428571428575, -0.10000000000000003, -0.16666666666666666, -0.0625, -0.05035714285714286, -0.045833333333333316, -0.09583333333333333, -0.1625, 0.25, 0.26666666666666666, 0.05606060606060606, -0.4375, -0.03125, -0.19999999999999996, 0.04750000000000001, -0.161, -0.2333333333333333, 0.044166666666666674, -0.23125, 0.2333333333333333, -0.3533333333333333, 0.0875, 0.38666666666666666, 0.25, -0.0027417027417027634, 0.18416666666666665, -0.31666666666666665, -0.008333333333333331, 0.3125, 0.04, 0.0, -0.14999999999999994, -0.03125, 0.13333333333333333, 0.0, -0.012500000000000011, -0.22000000000000003, -0.28750000000000003, 0.0, -0.071875, 0.11761363636363636, 0.13888888888888887, 0.38958333333333334, -0.22999999999999998, 0.25, 0.0, 0.0, -0.2714285714285714, -0.05, -0.16666666666666666, 0.06666666666666667, 0.4, 0.06953124999999999, -0.07261904761904761, -0.16, -0.3055555555555556, 0.06510416666666667, 0.033333333333333326, -0.2089285714285714, -0.2708333333333333], \"yaxis\": \"y\"}, {\"alignmentgroup\": \"True\", \"bingroup\": \"x\", \"histfunc\": \"avg\", \"hoverlabel\": {\"namelength\": 0}, \"hovertemplate\": \"Target=%{x}<br>avg of polarity=%{y}\", \"legendgroup\": \"Target=democrats\", \"marker\": {\"color\": \"#FFA15A\"}, \"name\": \"Target=democrats\", \"offsetgroup\": \"Target=democrats\", \"orientation\": \"v\", \"showlegend\": true, \"type\": \"histogram\", \"x\": [\"democrats\", \"democrats\", \"democrats\", \"democrats\", \"democrats\", \"democrats\", \"democrats\", \"democrats\", \"democrats\", \"democrats\", \"democrats\", \"democrats\", \"democrats\", \"democrats\", \"democrats\", \"democrats\", \"democrats\", \"democrats\", \"democrats\", \"democrats\", \"democrats\", \"democrats\", \"democrats\", \"democrats\", \"democrats\", \"democrats\", \"democrats\", \"democrats\", \"democrats\", \"democrats\", \"democrats\", \"democrats\", \"democrats\", \"democrats\", \"democrats\", \"democrats\", \"democrats\", \"democrats\", \"democrats\", \"democrats\", \"democrats\", \"democrats\", \"democrats\", \"democrats\", \"democrats\", \"democrats\", \"democrats\", \"democrats\", \"democrats\", \"democrats\", \"democrats\", \"democrats\", \"democrats\", \"democrats\", \"democrats\", \"democrats\", \"democrats\", \"democrats\", \"democrats\", \"democrats\", \"democrats\", \"democrats\", \"democrats\", \"democrats\", \"democrats\", \"democrats\", \"democrats\", \"democrats\", \"democrats\", \"democrats\", \"democrats\", \"democrats\", \"democrats\", \"democrats\", \"democrats\", \"democrats\", \"democrats\", \"democrats\", \"democrats\", \"democrats\", \"democrats\", \"democrats\", \"democrats\", \"democrats\", \"democrats\", \"democrats\", \"democrats\", \"democrats\", \"democrats\", \"democrats\", \"democrats\", \"democrats\", \"democrats\", \"democrats\", \"democrats\", \"democrats\", \"democrats\", \"democrats\", \"democrats\", \"democrats\", \"democrats\", \"democrats\", \"democrats\", \"democrats\", \"democrats\", \"democrats\", \"democrats\", \"democrats\", \"democrats\", \"democrats\", \"democrats\", \"democrats\", \"democrats\", \"democrats\", \"democrats\", \"democrats\", \"democrats\", \"democrats\", \"democrats\", \"democrats\", \"democrats\", \"democrats\", \"democrats\", \"democrats\", \"democrats\", \"democrats\", \"democrats\", \"democrats\", \"democrats\", \"democrats\", \"democrats\", \"democrats\", \"democrats\", \"democrats\", \"democrats\", \"democrats\", \"democrats\", \"democrats\", \"democrats\", \"democrats\", \"democrats\", \"democrats\", \"democrats\", \"democrats\", \"democrats\", \"democrats\", \"democrats\", \"democrats\", \"democrats\", \"democrats\", \"democrats\", \"democrats\", \"democrats\", \"democrats\", \"democrats\", \"democrats\", \"democrats\", \"democrats\", \"democrats\", \"democrats\", \"democrats\", \"democrats\", \"democrats\", \"democrats\", \"democrats\", \"democrats\", \"democrats\", \"democrats\", \"democrats\", \"democrats\", \"democrats\", \"democrats\", \"democrats\", \"democrats\", \"democrats\", \"democrats\", \"democrats\", \"democrats\", \"democrats\", \"democrats\", \"democrats\", \"democrats\", \"democrats\", \"democrats\", \"democrats\", \"democrats\", \"democrats\", \"democrats\", \"democrats\", \"democrats\", \"democrats\", \"democrats\", \"democrats\", \"democrats\", \"democrats\", \"democrats\", \"democrats\", \"democrats\", \"democrats\", \"democrats\", \"democrats\", \"democrats\", \"democrats\", \"democrats\", \"democrats\", \"democrats\", \"democrats\", \"democrats\", \"democrats\", \"democrats\", \"democrats\", \"democrats\", \"democrats\", \"democrats\", \"democrats\", \"democrats\", \"democrats\", \"democrats\", \"democrats\", \"democrats\", \"democrats\", \"democrats\", \"democrats\", \"democrats\", \"democrats\", \"democrats\", \"democrats\", \"democrats\", \"democrats\", \"democrats\", \"democrats\", \"democrats\", \"democrats\", \"democrats\", \"democrats\", \"democrats\", \"democrats\", \"democrats\", \"democrats\", \"democrats\", \"democrats\", \"democrats\", \"democrats\", \"democrats\", \"democrats\", \"democrats\", \"democrats\", \"democrats\", \"democrats\", \"democrats\", \"democrats\", \"democrats\", \"democrats\", \"democrats\", \"democrats\", \"democrats\", \"democrats\", \"democrats\", \"democrats\", \"democrats\", \"democrats\", \"democrats\", \"democrats\", \"democrats\", \"democrats\", \"democrats\", \"democrats\", \"democrats\", \"democrats\", \"democrats\", \"democrats\", \"democrats\", \"democrats\", \"democrats\", \"democrats\", \"democrats\", \"democrats\", \"democrats\", \"democrats\", \"democrats\", \"democrats\", \"democrats\", \"democrats\", \"democrats\", \"democrats\", \"democrats\", \"democrats\", \"democrats\", \"democrats\", \"democrats\", \"democrats\", \"democrats\", \"democrats\", \"democrats\", \"democrats\", \"democrats\", \"democrats\", \"democrats\", \"democrats\", \"democrats\", \"democrats\", \"democrats\", \"democrats\", \"democrats\", \"democrats\", \"democrats\", \"democrats\", \"democrats\", \"democrats\", \"democrats\", \"democrats\", \"democrats\", \"democrats\", \"democrats\", \"democrats\", \"democrats\", \"democrats\", \"democrats\", \"democrats\", \"democrats\", \"democrats\", \"democrats\", \"democrats\", \"democrats\", \"democrats\", \"democrats\", \"democrats\", \"democrats\", \"democrats\", \"democrats\", \"democrats\", \"democrats\", \"democrats\", \"democrats\", \"democrats\", \"democrats\", \"democrats\", \"democrats\", \"democrats\", \"democrats\", \"democrats\", \"democrats\", \"democrats\", \"democrats\", \"democrats\", \"democrats\", \"democrats\", \"democrats\", \"democrats\", \"democrats\", \"democrats\", \"democrats\", \"democrats\", \"democrats\", \"democrats\", \"democrats\", \"democrats\", \"democrats\", \"democrats\", \"democrats\", \"democrats\", \"democrats\", \"democrats\", \"democrats\", \"democrats\", \"democrats\", \"democrats\", \"democrats\", \"democrats\", \"democrats\", \"democrats\", \"democrats\", \"democrats\", \"democrats\", \"democrats\", \"democrats\", \"democrats\", \"democrats\", \"democrats\", \"democrats\", \"democrats\", \"democrats\", \"democrats\", \"democrats\", \"democrats\", \"democrats\", \"democrats\", \"democrats\", \"democrats\", \"democrats\", \"democrats\", \"democrats\", \"democrats\", \"democrats\", \"democrats\", \"democrats\", \"democrats\", \"democrats\", \"democrats\", \"democrats\", \"democrats\", \"democrats\", \"democrats\", \"democrats\", \"democrats\", \"democrats\", \"democrats\", \"democrats\", \"democrats\", \"democrats\", \"democrats\", \"democrats\", \"democrats\", \"democrats\", \"democrats\", \"democrats\", \"democrats\", \"democrats\", \"democrats\", \"democrats\", \"democrats\", \"democrats\", \"democrats\", \"democrats\", \"democrats\", \"democrats\", \"democrats\", \"democrats\", \"democrats\", \"democrats\", \"democrats\", \"democrats\", \"democrats\", \"democrats\", \"democrats\", \"democrats\", \"democrats\", \"democrats\", \"democrats\", \"democrats\", \"democrats\", \"democrats\", \"democrats\", \"democrats\", \"democrats\", \"democrats\", \"democrats\", \"democrats\", \"democrats\", \"democrats\", \"democrats\", \"democrats\", \"democrats\", \"democrats\", \"democrats\", \"democrats\", \"democrats\", \"democrats\", \"democrats\", \"democrats\", \"democrats\", \"democrats\", \"democrats\", \"democrats\", \"democrats\", \"democrats\", \"democrats\", \"democrats\", \"democrats\", \"democrats\", \"democrats\", \"democrats\", \"democrats\", \"democrats\", \"democrats\", \"democrats\", \"democrats\", \"democrats\", \"democrats\", \"democrats\", \"democrats\", \"democrats\", \"democrats\", \"democrats\", \"democrats\", \"democrats\", \"democrats\", \"democrats\", \"democrats\", \"democrats\", \"democrats\", \"democrats\", \"democrats\", \"democrats\", \"democrats\", \"democrats\", \"democrats\", \"democrats\", \"democrats\", \"democrats\", \"democrats\", \"democrats\"], \"xaxis\": \"x\", \"y\": [0.5, 0.375, -0.675, 0.19427083333333334, -0.16666666666666666, 0.53125, -0.5222222222222221, -0.1, 0.0, -0.625, 0.19, -0.6624999999999999, -0.375, 0.5, -0.325, -0.2625, 0.16666666666666666, -0.6625, -0.39583333333333337, 0.0, 0.0, -0.2, -0.8125, 0.0, 0.0, 0.0, 0.0, 0.625, 0.24999999999999997, -0.05, 0.625, 0.75, -0.3588541666666667, 0.06818181818181818, 0.14111111111111113, 0.0, 0.034999999999999996, 0.6625, -0.1, -0.016666666666666666, 0.825, -0.26666666666666666, -0.8125, 0.05972222222222227, 0.5333333333333333, 0.4, 0.0625, -0.046666666666666676, 0.4375, 0.0, -0.1, 0.5, 0.375, 0.35833333333333334, 0.0636111111111111, -0.1875, 0.3958333333333333, 0.39, -0.20555555555555557, 0.16111111111111112, 0.34965986394557824, 0.19444444444444442, -0.0375, 0.0875, 0.5, -0.159375, -0.041666666666666595, 0.018750000000000072, -0.175, -0.65234375, -0.1, 0.24571428571428572, 0.04606481481481482, -0.3625, -0.2965277777777778, -0.2961111111111111, 0.0, -0.16, 0.021875, 0.0, 0.4666666666666666, -0.00499999999999996, -0.07333333333333333, -0.07777777777777777, 0.15, 0.0, 0.19999999999999998, 0.2310227272727273, 0.013888888888888895, 0.0, 0.16666666666666669, 0.08281250000000001, 0.1, 0.04444444444444444, 0.32999999999999996, 0.08277083333333332, 0.4833333333333334, -0.29166666666666663, 0.225, 0.875, 0.7, 0.3444444444444444, -0.27999999999999997, -0.5, 0.25312500000000004, 0.0, 0.0625, -0.5, 0.3916666666666666, -0.8749999999999998, -0.15, 0.17020833333333335, -0.22499999999999995, -0.15446428571428572, -0.140625, 0.09568181818181815, -0.5, -0.2799999999999999, -0.5999999999999999, -0.10000000000000002, 0.0, -0.15625, 0.40625, 0.21714285714285717, 0.44000000000000006, 0.47333333333333333, 0.1388888888888889, 0.30000000000000004, 0.425, -0.0625, 0.0, -0.20750000000000002, 0.2, -0.019374999999999996, -0.1875, 0.011666666666666678, -0.46428571428571436, -0.06785714285714285, 0.625, -0.27314814814814814, 0.17904761904761907, 0.12708333333333333, -0.2538888888888889, 0.22666666666666666, 0.020833333333333332, 0.16, 0.21875, -0.4583333333333333, 0.03035714285714286, -0.21843434343434343, -0.18154761904761907, -0.19444444444444448, -0.2, 0.0, 0.5416666666666666, 0.10204081632653061, 0.4583333333333333, 0.165, -0.01938775510204081, -0.19958333333333333, -0.0225, -0.5583333333333333, 0.23333333333333336, 0.07916666666666672, 0.01666666666666668, 0.2532407407407407, 0.4428571428571429, -0.10833333333333331, 0.21607142857142855, 0.11904761904761903, 0.32169312169312164, 0.125, 0.07750000000000001, -0.039999999999999945, -0.03125, 0.16, -0.125, -0.2652777777777778, -0.125, 0.22916666666666666, 0.1625, -0.07500000000000001, 0.05249999999999999, -0.0062500000000000056, 0.10959821428571428, -0.25, 0.04999999999999999, -0.1875, 0.3275, 0.0625, -0.008614718614718606, 0.04374999999999998, 0.06666666666666667, 1.0, 0.09138257575757575, 0.0, 0.175, 0.06666666666666667, 0.25, -0.05035714285714286, -0.125, 0.3125, 0.21666666666666667, -0.21875, -0.194375, 0.11500000000000002, -0.020833333333333322, -0.39, -0.05, -0.052083333333333336, 0.07305194805194805, -0.02, 0.010937500000000008, -0.20833333333333334, -0.625, -0.16583333333333336, -0.35208333333333336, 0.0, -0.012499999999999997, -0.34249999999999997, 0.09500000000000001, 0.63125, 0.0, 0.11875, 0.26666666666666666, 0.611111111111111, 0.01190476190476191, -0.4611111111111111, 0.10416666666666667, -0.225, 0.35, 0.30327272727272725, 0.03409090909090909, 0.0, 0.14444444444444443, 0.2708333333333333, 0.23333333333333336, 0.25, -0.625, -0.11406250000000001, 0.01091269841269841, 0.19772727272727275, 0.15416666666666667, 0.2138888888888889, 0.25892857142857145, 0.25, -0.161, 0.0, 0.3, -0.25, 0.18571428571428575, 0.02685185185185185, 0.0, -0.12499999999999996, 0.55, 0.021428571428571446, -0.5791666666666667, -0.6000000000000001, -0.09999999999999999, 0.32, -0.4285714285714286, -0.24910714285714286, -0.28916666666666657, 0.14285714285714285, -0.6732142857142858, 0.18055555555555558, 0.25, -0.25, -0.43333333333333335, -0.015277777777777748, -0.1277777777777778, 0.041666666666666664, 0.0, -0.22912457912457915, -0.18125, -0.0859090909090909, 0.09261363636363636, -0.19013888888888886, 0.2111111111111111, 0.1291233766233766, 0.13, 0.13, 0.22000000000000003, -0.18, 0.09166666666666667, -0.33166666666666667, -0.08084821428571427, -0.6874999999999999, -0.8749999999999998, -0.3215277777777778, 0.625, 0.0, 0.3333333333333333, 0.625, -0.23499999999999996, 0.17833333333333337, 0.0, 0.08611111111111111, 0.21666666666666667, 0.0, 0.5625, 0.0, 0.0, 0.0, -0.4305555555555556, -0.21666666666666662, 0.0, -0.08238636363636365, 0.33888888888888885, 0.4, 0.2333333333333333, -0.1, -0.025714285714285714, -0.033333333333333326, 0.0, 0.0, -0.05625, 0.23333333333333336, -0.125, 0.5375, 0.0, 0.10000000000000002, -0.18489583333333334, 0.19444444444444442, -0.08125, -0.065, 0.07999999999999996, -0.8, 0.0, -0.153125, 0.10486111111111107, 0.0, 0.01428571428571429, -0.2659090909090909, 0.16969696969696968, -0.25, -0.55, 0.0, 0.0, 0.22000000000000003, 0.04166666666666667, -1.0, 0.36, 1.0, 0.0, -0.3333333333333333, 0.15, 0.07500000000000001, -0.15, 0.3125, 0.0, -0.25, 0.875, -0.16666666666666669, 0.3125, 0.0, 0.3333333333333333, -0.09999999999999998, 0.2916666666666667, -0.12604166666666666, 0.048958333333333354, 0.0, 0.17916666666666667, -0.08854166666666666, 0.0, -0.40833333333333327, 0.3458333333333334, 0.02045454545454554, -0.17291666666666666, -0.001111111111111109, 0.05625000000000002, -0.5416666666666666, -0.2333333333333333, 0.3333333333333333, 1.0, -0.44499999999999995, 0.03125, -0.3416666666666666, 0.075, 0.14583333333333334, -0.11145833333333333, 0.45, -0.021875000000000006, -0.321875, 0.012500000000000039, -0.025714285714285714, -0.18333333333333335, -0.004971590909090912, -0.125, -0.02499999999999995, 0.011093749999999986, 0.08, -0.0625, -0.025714285714285714, 0.16944444444444443, 1.0, 0.0, -0.05555555555555556, 0.1940909090909091, 0.06666666666666667, -0.0861111111111111, -0.3, 0.065, -0.025714285714285714, 0.45, -0.275, -0.041666666666666664, 0.625, 0.15625, -0.03125, 0.225, 0.7, -0.09166666666666667, 0.2125, -0.10612244897959186, -0.8749999999999998, -0.21022727272727276, -0.3125, 0.027777777777777773, -0.02, -0.625, 0.6, -0.8299999999999998, 0.4872727272727273, -0.33499999999999996, -0.06666666666666665, -0.2425, -0.09000000000000002, -0.2425, -0.2094017094017094, -0.4138888888888889, 0.24888888888888888, 0.08166666666666665, 0.01785714285714286, 0.021875000000000006, 0.12500000000000003, -0.12, -0.08333333333333333, -0.037755102040816335, -0.1890625, -0.06666666666666667, 0.10982142857142856, 0.016666666666666673, -0.4750000000000001, -0.2125, -0.3125, 0.175, 0.30625, 0.0, -0.25, -0.02777777777777779, 0.13009259259259262, -0.008333333333333323, 0.00833333333333334, 0.0, 0.3678571428571429, -0.1708333333333333, -0.07222222222222222, -0.075, 0.0875, -0.06480519480519481, -0.5, -0.375, 0.75, -0.027013888888888893, 0.625, -0.10000000000000003, 0.103125, 0.05249999999999999, 0.12574999999999997, -0.575, -0.10166666666666667, 0.293560606060606, 0.34285714285714286, -0.05214646464646463, -0.0011111111111110751, -0.75, 0.07499999999999998, 0.26, -0.017857142857142856, 0.152587890625, -0.06666666666666664, -0.39999999999999997, 0.20155844155844155, 0.1075757575757576, -0.11388888888888887, -0.225, -0.32142857142857145, 0.0, -0.11666666666666665, -0.18597098214285715, -0.2916666666666666, 0.0, -0.375, -0.19444444444444448, 0.1, 0.26666666666666666, 0.26666666666666666, -0.3125, 0.0, -0.21666666666666667, 0.375], \"yaxis\": \"y\"}, {\"alignmentgroup\": \"True\", \"bingroup\": \"x\", \"histfunc\": \"avg\", \"hoverlabel\": {\"namelength\": 0}, \"hovertemplate\": \"Target=%{x}<br>avg of polarity=%{y}\", \"legendgroup\": \"Target=joe-biden\", \"marker\": {\"color\": \"#19d3f3\"}, \"name\": \"Target=joe-biden\", \"offsetgroup\": \"Target=joe-biden\", \"orientation\": \"v\", \"showlegend\": true, \"type\": \"histogram\", \"x\": [\"joe-biden\", \"joe-biden\", \"joe-biden\", \"joe-biden\", \"joe-biden\", \"joe-biden\", \"joe-biden\", \"joe-biden\", \"joe-biden\", \"joe-biden\", \"joe-biden\", \"joe-biden\", \"joe-biden\", \"joe-biden\", \"joe-biden\", \"joe-biden\", \"joe-biden\", \"joe-biden\", \"joe-biden\", \"joe-biden\", \"joe-biden\", \"joe-biden\", \"joe-biden\", \"joe-biden\", \"joe-biden\", \"joe-biden\", \"joe-biden\", \"joe-biden\", \"joe-biden\", \"joe-biden\", \"joe-biden\", \"joe-biden\", \"joe-biden\", \"joe-biden\", \"joe-biden\", \"joe-biden\", \"joe-biden\", \"joe-biden\", \"joe-biden\", \"joe-biden\", \"joe-biden\", \"joe-biden\", \"joe-biden\", \"joe-biden\", \"joe-biden\", \"joe-biden\", \"joe-biden\", \"joe-biden\", \"joe-biden\", \"joe-biden\", \"joe-biden\", \"joe-biden\", \"joe-biden\", \"joe-biden\", \"joe-biden\", \"joe-biden\", \"joe-biden\", \"joe-biden\", \"joe-biden\", \"joe-biden\", \"joe-biden\", \"joe-biden\", \"joe-biden\", \"joe-biden\", \"joe-biden\", \"joe-biden\", \"joe-biden\", \"joe-biden\", \"joe-biden\", \"joe-biden\", \"joe-biden\", \"joe-biden\", \"joe-biden\", \"joe-biden\", \"joe-biden\", \"joe-biden\", \"joe-biden\", \"joe-biden\", \"joe-biden\", \"joe-biden\", \"joe-biden\", \"joe-biden\", \"joe-biden\", \"joe-biden\", \"joe-biden\", \"joe-biden\", \"joe-biden\", \"joe-biden\", \"joe-biden\", \"joe-biden\", \"joe-biden\", \"joe-biden\", \"joe-biden\", \"joe-biden\", \"joe-biden\", \"joe-biden\", \"joe-biden\", \"joe-biden\", \"joe-biden\", \"joe-biden\", \"joe-biden\", \"joe-biden\", \"joe-biden\", \"joe-biden\", \"joe-biden\", \"joe-biden\", \"joe-biden\", \"joe-biden\", \"joe-biden\", \"joe-biden\", \"joe-biden\", \"joe-biden\", \"joe-biden\", \"joe-biden\", \"joe-biden\", \"joe-biden\", \"joe-biden\", \"joe-biden\", \"joe-biden\", \"joe-biden\", \"joe-biden\", \"joe-biden\", \"joe-biden\", \"joe-biden\", \"joe-biden\", \"joe-biden\", \"joe-biden\", \"joe-biden\", \"joe-biden\", \"joe-biden\", \"joe-biden\", \"joe-biden\", \"joe-biden\", \"joe-biden\", \"joe-biden\", \"joe-biden\", \"joe-biden\", \"joe-biden\", \"joe-biden\", \"joe-biden\", \"joe-biden\", \"joe-biden\", \"joe-biden\", \"joe-biden\", \"joe-biden\", \"joe-biden\", \"joe-biden\", \"joe-biden\", \"joe-biden\", \"joe-biden\", \"joe-biden\", \"joe-biden\", \"joe-biden\", \"joe-biden\", \"joe-biden\", \"joe-biden\", \"joe-biden\", \"joe-biden\", \"joe-biden\", \"joe-biden\", \"joe-biden\", \"joe-biden\", \"joe-biden\", \"joe-biden\", \"joe-biden\", \"joe-biden\", \"joe-biden\", \"joe-biden\", \"joe-biden\", \"joe-biden\", \"joe-biden\", \"joe-biden\", \"joe-biden\", \"joe-biden\", \"joe-biden\", \"joe-biden\", \"joe-biden\", \"joe-biden\", \"joe-biden\", \"joe-biden\", \"joe-biden\", \"joe-biden\", \"joe-biden\", \"joe-biden\", \"joe-biden\", \"joe-biden\", \"joe-biden\", \"joe-biden\", \"joe-biden\", \"joe-biden\", \"joe-biden\", \"joe-biden\", \"joe-biden\", \"joe-biden\", \"joe-biden\", \"joe-biden\", \"joe-biden\", \"joe-biden\", \"joe-biden\", \"joe-biden\", \"joe-biden\", \"joe-biden\", \"joe-biden\", \"joe-biden\", \"joe-biden\", \"joe-biden\", \"joe-biden\", \"joe-biden\", \"joe-biden\", \"joe-biden\", \"joe-biden\", \"joe-biden\", \"joe-biden\", \"joe-biden\", \"joe-biden\", \"joe-biden\", \"joe-biden\", \"joe-biden\", \"joe-biden\", \"joe-biden\", \"joe-biden\", \"joe-biden\", \"joe-biden\", \"joe-biden\", \"joe-biden\", \"joe-biden\", \"joe-biden\", \"joe-biden\", \"joe-biden\", \"joe-biden\", \"joe-biden\", \"joe-biden\", \"joe-biden\", \"joe-biden\", \"joe-biden\", \"joe-biden\", \"joe-biden\", \"joe-biden\", \"joe-biden\", \"joe-biden\", \"joe-biden\", \"joe-biden\", \"joe-biden\", \"joe-biden\", \"joe-biden\", \"joe-biden\", \"joe-biden\", \"joe-biden\", \"joe-biden\", \"joe-biden\", \"joe-biden\", \"joe-biden\", \"joe-biden\", \"joe-biden\", \"joe-biden\", \"joe-biden\", \"joe-biden\", \"joe-biden\", \"joe-biden\", \"joe-biden\", \"joe-biden\", \"joe-biden\", \"joe-biden\", \"joe-biden\", \"joe-biden\", \"joe-biden\", \"joe-biden\", \"joe-biden\", \"joe-biden\", \"joe-biden\", \"joe-biden\", \"joe-biden\", \"joe-biden\", \"joe-biden\", \"joe-biden\", \"joe-biden\", \"joe-biden\", \"joe-biden\", \"joe-biden\", \"joe-biden\", \"joe-biden\", \"joe-biden\", \"joe-biden\", \"joe-biden\", \"joe-biden\", \"joe-biden\", \"joe-biden\", \"joe-biden\", \"joe-biden\", \"joe-biden\", \"joe-biden\", \"joe-biden\", \"joe-biden\", \"joe-biden\"], \"xaxis\": \"x\", \"y\": [-0.4471153846153846, -0.17828282828282832, -0.1, 0.355, -0.0035714285714285865, -0.05528846153846153, -0.10833333333333335, 0.35624999999999996, 0.41, 0.06666666666666667, -0.175, 0.625, -0.22499999999999995, -0.010000000000000009, -0.010000000000000009, -0.11666666666666665, -0.024999999999999967, -0.03181818181818182, -0.045138888888888874, -0.29500000000000004, 0.22999999999999998, -0.3476190476190476, 0.06944444444444443, 0.06944444444444443, 0.25, -0.0027417027417027634, 0.275, 0.2571428571428572, -0.13999999999999999, -0.006249999999999978, 0.0, -0.31666666666666665, -0.31666666666666665, 0.01499999999999999, 0.006018518518518506, 0.625, 0.021428571428571415, 0.10000000000000002, -0.07142857142857142, 0.25, -0.344375, 0.0, -0.25, 0.03125, -0.325, -0.14999999999999994, 1.0, 0.0, 0.0, 0.10533333333333332, 0.27499999999999997, 0.0, -0.006249999999999996, 0.10476190476190476, 0.3083333333333333, 0.1, -0.05875, 0.0, 0.525, 0.08472222222222221, 0.4375, 0.3416666666666666, 0.1, -0.23125, -0.10416666666666667, 0.12083333333333333, -0.09375, 0.025000000000000012, 0.0, 0.09999999999999999, -0.1315, 0.3125, 0.22000000000000003, -0.6625, 0.10833333333333339, 0.625, 0.06818181818181818, -0.06899999999999995, -0.0625, 0.0, -0.1708333333333333, -0.0875, -0.625, 0.25, 0.09166666666666669, 0.38958333333333334, -0.07499999999999998, 0.0, 0.0, -0.244140625, 0.08333333333333333, -0.4107142857142857, -0.06666666666666667, -0.2, -0.3, 0.3278138528138528, 0.26666666666666666, 0.0008680555555555525, 0.13, -0.46875, 0.14356060606060606, 0.06666666666666668, 0.0, 0.5, -0.041666666666666664, -0.20585714285714282, -0.5, 0.2583333333333333, -0.3125, -0.14341724537037034, -0.19791666666666669, -0.5, -0.10000000000000003, -0.39583333333333337, -0.1875, -0.7083333333333334, -0.3263888888888889, 0.0, -0.013852813852813848, -0.375, -0.19999999999999998, -0.2208333333333333, -0.19999999999999998, 0.1494140625, -0.253, -0.07790404040404038, 0.875, -0.1, 0.0, -0.10166666666666667, -0.0753125, -0.28125, -0.07500000000000002, -0.328125, -0.06, 0.17500000000000002, -0.10078124999999998, 0.15625, -0.15357142857142855, -0.041666666666666664, 0.08528645833333333, 0.2625, 0.05416666666666665, 0.0, 0.05142045454545455, -0.0625, 0.34814814814814815, 0.1435185185185185, 0.0625, 0.0, 0.06666666666666667, -0.08125, 0.13199999999999995, 0.024999999999999998, -0.3325, 0.0, -0.19444444444444448, -0.36944444444444446, 0.043333333333333314, 0.22500000000000003, 0.31714285714285717, -0.325, 0.0, 0.06953124999999999, -0.2958333333333333, -0.625, 0.21300505050505047, 0.1766666666666667, 0.022857142857142857, 0.42000000000000004, 0.08750000000000001, 0.0, 0.07777777777777777, -0.05714285714285713, 0.05, 0.545, 0.24, -0.45833333333333326, -0.5625, 0.22214285714285714, 0.0625, 0.0, 0.3125, -0.046875, 0.10694444444444445, 0.1111111111111111, 0.125, 0.625, -0.625, -0.25833333333333336, 0.0, 0.625, 0.014999999999999986, 0.08750000000000002, -0.3333333333333333, 0.04375000000000001, -0.41666666666666663, 0.10999999999999996, 0.1, 0.0, 0.15, 0.09375, 0.016666666666666663, 0.35, -0.09027777777777775, -0.0006944444444444489, 0.06666666666666667, -0.09074074074074072, 0.013194444444444444, 0.2375, 0.2476190476190476, -0.03571428571428571, 0.1875, 0.0, -0.21708333333333335, -0.39583333333333337, -0.1375, -0.2395833333333333, 0.06510416666666667, -0.15625, 0.6125, -0.10468749999999999, -0.23125, 0.22083333333333333, 0.16, -0.2154296875, 0.6103515625, 0.4185267857142857, 0.14497236394557822, 0.22000000000000003, 0.05, -0.19444444444444448, -0.8749999999999998, 0.0, 0.35, 0.11785714285714285, 0.078125, 0.2835343228200371, -0.422019675925926, -0.3125, -0.08901515151515153, -0.09506172839506172, -0.39593229166666666, 0.2, -0.07592592592592594, -0.2089285714285714, -0.109375, 0.0078125, -0.2708333333333333, -0.5, -0.05833333333333335, -0.0625, -0.5166666666666666, 0.175, -0.20234375, -0.4208333333333332, 0.3194444444444444, 0.0, 0.0, 0.5135416666666667, 0.09537037037037038, -0.15166666666666662, -0.25, 0.05482093663911846, -0.19444444444444448, -0.05277777777777778, -0.11458333333333333, 0.0, 0.28611111111111115, 0.20888888888888885, 0.06875, -0.09642857142857143, 0.17083333333333334, -0.05, -0.16666666666666666, 0.23246031746031742, -0.5066666666666667, -0.0051020408163265285, 0.44642857142857145, -0.1625, 0.31666666666666665, 0.65, -0.4166666666666667, 0.20089285714285715, -0.3958333333333333, 0.07187500000000002, 0.0, 0.16666666666666666, -0.05208333333333333, -0.13240740740740742, 0.625, -0.5, -0.024999999999999994, 0.041666666666666664], \"yaxis\": \"y\"}, {\"alignmentgroup\": \"True\", \"bingroup\": \"x\", \"histfunc\": \"avg\", \"hoverlabel\": {\"namelength\": 0}, \"hovertemplate\": \"Target=%{x}<br>avg of polarity=%{y}\", \"legendgroup\": \"Target=trump-russia\", \"marker\": {\"color\": \"#FF6692\"}, \"name\": \"Target=trump-russia\", \"offsetgroup\": \"Target=trump-russia\", \"orientation\": \"v\", \"showlegend\": true, \"type\": \"histogram\", \"x\": [\"trump-russia\", \"trump-russia\", \"trump-russia\", \"trump-russia\", \"trump-russia\", \"trump-russia\", \"trump-russia\", \"trump-russia\", \"trump-russia\", \"trump-russia\", \"trump-russia\", \"trump-russia\", \"trump-russia\", \"trump-russia\", \"trump-russia\", \"trump-russia\", \"trump-russia\", \"trump-russia\", \"trump-russia\", \"trump-russia\", \"trump-russia\", \"trump-russia\", \"trump-russia\", \"trump-russia\", \"trump-russia\", \"trump-russia\", \"trump-russia\", \"trump-russia\", \"trump-russia\", \"trump-russia\", \"trump-russia\", \"trump-russia\", \"trump-russia\", \"trump-russia\", \"trump-russia\", \"trump-russia\", \"trump-russia\", \"trump-russia\", \"trump-russia\", \"trump-russia\", \"trump-russia\", \"trump-russia\", \"trump-russia\", \"trump-russia\", \"trump-russia\", \"trump-russia\", \"trump-russia\", \"trump-russia\", \"trump-russia\", \"trump-russia\", \"trump-russia\", \"trump-russia\", \"trump-russia\", \"trump-russia\", \"trump-russia\", \"trump-russia\", \"trump-russia\", \"trump-russia\", \"trump-russia\", \"trump-russia\", \"trump-russia\", \"trump-russia\", \"trump-russia\", \"trump-russia\", \"trump-russia\", \"trump-russia\", \"trump-russia\", \"trump-russia\", \"trump-russia\", \"trump-russia\", \"trump-russia\", \"trump-russia\", \"trump-russia\", \"trump-russia\", \"trump-russia\", \"trump-russia\", \"trump-russia\", \"trump-russia\", \"trump-russia\", \"trump-russia\", \"trump-russia\", \"trump-russia\", \"trump-russia\", \"trump-russia\", \"trump-russia\", \"trump-russia\", \"trump-russia\", \"trump-russia\", \"trump-russia\", \"trump-russia\", \"trump-russia\", \"trump-russia\", \"trump-russia\", \"trump-russia\", \"trump-russia\", \"trump-russia\", \"trump-russia\", \"trump-russia\", \"trump-russia\", \"trump-russia\", \"trump-russia\", \"trump-russia\", \"trump-russia\", \"trump-russia\", \"trump-russia\", \"trump-russia\", \"trump-russia\", \"trump-russia\", \"trump-russia\", \"trump-russia\", \"trump-russia\", \"trump-russia\", \"trump-russia\", \"trump-russia\", \"trump-russia\", \"trump-russia\", \"trump-russia\", \"trump-russia\", \"trump-russia\", \"trump-russia\", \"trump-russia\", \"trump-russia\", \"trump-russia\", \"trump-russia\", \"trump-russia\", \"trump-russia\", \"trump-russia\", \"trump-russia\", \"trump-russia\", \"trump-russia\", \"trump-russia\", \"trump-russia\", \"trump-russia\", \"trump-russia\", \"trump-russia\", \"trump-russia\", \"trump-russia\", \"trump-russia\", \"trump-russia\", \"trump-russia\", \"trump-russia\", \"trump-russia\", \"trump-russia\", \"trump-russia\", \"trump-russia\", \"trump-russia\", \"trump-russia\", \"trump-russia\", \"trump-russia\", \"trump-russia\", \"trump-russia\", \"trump-russia\", \"trump-russia\", \"trump-russia\", \"trump-russia\", \"trump-russia\", \"trump-russia\", \"trump-russia\", \"trump-russia\", \"trump-russia\", \"trump-russia\", \"trump-russia\", \"trump-russia\", \"trump-russia\", \"trump-russia\", \"trump-russia\", \"trump-russia\", \"trump-russia\", \"trump-russia\", \"trump-russia\", \"trump-russia\", \"trump-russia\", \"trump-russia\", \"trump-russia\", \"trump-russia\", \"trump-russia\", \"trump-russia\", \"trump-russia\", \"trump-russia\", \"trump-russia\", \"trump-russia\", \"trump-russia\", \"trump-russia\", \"trump-russia\", \"trump-russia\", \"trump-russia\", \"trump-russia\", \"trump-russia\", \"trump-russia\", \"trump-russia\", \"trump-russia\", \"trump-russia\", \"trump-russia\", \"trump-russia\", \"trump-russia\", \"trump-russia\", \"trump-russia\", \"trump-russia\", \"trump-russia\", \"trump-russia\", \"trump-russia\", \"trump-russia\", \"trump-russia\", \"trump-russia\", \"trump-russia\", \"trump-russia\", \"trump-russia\", \"trump-russia\", \"trump-russia\", \"trump-russia\", \"trump-russia\", \"trump-russia\", \"trump-russia\", \"trump-russia\", \"trump-russia\", \"trump-russia\", \"trump-russia\", \"trump-russia\", \"trump-russia\", \"trump-russia\", \"trump-russia\", \"trump-russia\", \"trump-russia\", \"trump-russia\", \"trump-russia\", \"trump-russia\", \"trump-russia\", \"trump-russia\", \"trump-russia\", \"trump-russia\", \"trump-russia\", \"trump-russia\", \"trump-russia\", \"trump-russia\", \"trump-russia\", \"trump-russia\", \"trump-russia\", \"trump-russia\", \"trump-russia\", \"trump-russia\", \"trump-russia\", \"trump-russia\", \"trump-russia\", \"trump-russia\", \"trump-russia\", \"trump-russia\", \"trump-russia\", \"trump-russia\", \"trump-russia\", \"trump-russia\", \"trump-russia\", \"trump-russia\", \"trump-russia\", \"trump-russia\", \"trump-russia\", \"trump-russia\", \"trump-russia\", \"trump-russia\", \"trump-russia\", \"trump-russia\", \"trump-russia\", \"trump-russia\", \"trump-russia\", \"trump-russia\", \"trump-russia\", \"trump-russia\", \"trump-russia\", \"trump-russia\", \"trump-russia\", \"trump-russia\", \"trump-russia\", \"trump-russia\", \"trump-russia\", \"trump-russia\", \"trump-russia\", \"trump-russia\", \"trump-russia\", \"trump-russia\", \"trump-russia\", \"trump-russia\", \"trump-russia\", \"trump-russia\", \"trump-russia\", \"trump-russia\", \"trump-russia\", \"trump-russia\", \"trump-russia\", \"trump-russia\", \"trump-russia\", \"trump-russia\", \"trump-russia\", \"trump-russia\", \"trump-russia\", \"trump-russia\", \"trump-russia\", \"trump-russia\", \"trump-russia\", \"trump-russia\", \"trump-russia\", \"trump-russia\", \"trump-russia\", \"trump-russia\", \"trump-russia\", \"trump-russia\", \"trump-russia\", \"trump-russia\", \"trump-russia\", \"trump-russia\", \"trump-russia\", \"trump-russia\", \"trump-russia\", \"trump-russia\", \"trump-russia\", \"trump-russia\", \"trump-russia\", \"trump-russia\", \"trump-russia\", \"trump-russia\", \"trump-russia\"], \"xaxis\": \"x\", \"y\": [-0.625, 0.0, -0.5, -0.16666666666666666, 0.2, 0.375, 0.0, -0.025, -0.2625, -0.0666666666666667, 0.6, -0.0625, 0.26851851851851855, -0.03125, 0.10833333333333334, -0.625, -0.19999999999999998, -0.09999999999999999, 0.5, -0.8999999999999999, 0.33999999999999997, 0.425, -0.1892857142857143, -0.2125, -0.05032467532467533, -0.0375, 0.06571428571428573, -0.0375, -0.065, 0.0, 0.0, -0.25, 0.0, 0.0, -0.0821969696969697, -0.17559523809523808, -0.29166666666666663, -1.0, -0.625, 0.0625, 0.22321428571428573, -0.3401866883116883, 0.13272727272727275, 0.08333333333333333, -0.5924479166666667, 0.625, 0.25, -0.125, -0.012400793650793662, 0.01499999999999999, 0.25312500000000004, -0.125, -0.015, -0.16354166666666667, -0.375, 0.10370370370370369, 0.125, 1.0, -0.10078125, 0.0, -0.125, -0.13416666666666666, -0.11875, -0.36921296296296297, -0.01499999999999999, -0.19999999999999996, 0.10000000000000002, 0.125, -0.37321428571428567, -0.22500000000000003, 0.27976190476190477, 0.5, -0.24500000000000002, -0.016666666666666666, 0.2, -0.15446428571428572, -0.005000000000000042, 0.11180555555555556, -0.08749999999999998, -0.04196428571428573, 0.29523809523809524, 1.0, 0.225, -0.125, -0.5625, -0.07250000000000001, 0.0, -0.06458333333333331, -0.1875, -0.225, 0.0, 0.31666666666666665, 0.03333333333333333, 0.041666666666666664, 0.07619047619047618, -0.033333333333333326, -0.3666666666666667, 0.024999999999999994, -0.05500000000000001, 0.16, -0.1125, 0.009375000000000001, 0.05204081632653062, -0.06820987654320988, -0.38333333333333325, 0.3333333333333333, -0.18571428571428575, 0.0, 0.5425000000000001, 0.5303636363636364, -0.36160714285714285, -0.28125, -0.27346938775510204, 0.16666666666666666, 0.375, 0.030000000000000006, -0.3702380952380952, -0.09410714285714286, -0.17499999999999996, 0.0, -0.3333333333333333, -0.275, -0.75, -0.2583333333333333, 0.00833333333333334, 0.1761904761904762, -0.32083333333333336, -0.46875, -0.4374999999999999, -0.23416666666666666, 0.10714285714285714, 0.0, -0.234375, 0.10724431818181818, 0.25791666666666674, -0.6312499999999999, -0.0625, -0.024999999999999994, -0.2875, -0.195, -0.07531249999999998, -0.40625, -0.4375, 0.0, 0.1, -0.11666666666666665, 0.08333333333333334, 0.1, -0.14166666666666666, 0.0, 0.025000000000000005, 0.03148148148148147, 0.24, -0.1, -0.13333333333333333, 0.15, 0.2604166666666667, -0.25, 0.0, -0.03166666666666666, 0.058333333333333334, -0.16875, 0.10416666666666667, -0.08374999999999996, 0.055, -0.040000000000000015, 0.21944444444444444, -0.225, 0.17142857142857143, 0.125, -0.03166666666666666, 0.5, 0.0, -0.3375, 0.0, 0.0, -0.03125, 0.06666666666666667, 0.0, 0.278125, -0.3574999999999999, -0.18214285714285716, -0.08166666666666662, 0.11458333333333333, 0.1625, 0.0, 0.0, -0.3874999999999999, 0.0, -0.037500000000000006, 0.0, 0.16098484848484848, -0.1285714285714285, 0.0, -0.16666666666666666, -0.1875, -0.1, -0.1875, 0.14285714285714285, -0.0773809523809524, 0.0, 0.1125, -0.12142857142857144, -0.41666666666666663, -0.325, 0.07500000000000001, -0.4161458333333333, -0.09999999999999999, 0.2857142857142857, -0.1625, -0.08928571428571427, -0.15833333333333333, 0.5, -0.30357142857142855, 0.06666666666666667, 0.125, -0.030499999999999992, 0.03500000000000003, 0.0, 0.125, 0.37199999999999994, 1.0, 0.45416666666666666, -0.1111111111111111, 0.04067460317460316, 0.15142045454545455, -0.02, 0.04821428571428571, 0.05606060606060606, -0.325, -0.328125, -0.625, 0.0, 0.07083333333333337, -0.103125, 0.15555555555555556, -0.5, -0.10000000000000002, -0.2, -0.16, 1.0, -0.4375, 0.325, -0.13333333333333333, 0.45166666666666666, 0.22214285714285714, -0.3071428571428571, 0.39166666666666666, 0.1836444805194805, 0.08333333333333333, 0.16785714285714284, 0.0, -0.08333333333333333, -0.625, -0.09999999999999999, -0.28916666666666657, -0.07999999999999996, 0.40625, 0.0, 0.25, 0.2333333333333334, 0.25, 0.0, -0.25, -0.43333333333333335, -0.45833333333333326, 0.015000000000000003, 0.4666666666666666, -0.075, -0.20833333333333334, 0.21000000000000002, 0.0, 0.5, 0.39375, 0.08750000000000006, 1.0, 0.4390625, -0.00625, -0.3125, 0.04545454545454545, 0.09316378066378067, -0.17500000000000002, -0.2333333333333333, -0.4444444444444444, 0.05833333333333335, -0.085, -0.0666666666666667, 0.0, -0.033333333333333326, -0.033333333333333326, 0.0, 0.07714285714285715, 0.13506944444444444, 0.0, 0.3333333333333333, 0.22000000000000003, 0.014583333333333337, 0.25999999999999995, 0.2, -0.45, 0.26666666666666666, 0.38571428571428573, 0.13333333333333333, 0.0, -0.03842592592592594, -0.5, -0.19999999999999998, -0.22000000000000003, -0.16022727272727272, 0.171875, -0.384375, -0.17857142857142858, -0.328125, -0.125, 0.08333333333333333, -0.05, -0.1375, 0.1, 0.0], \"yaxis\": \"y\"}, {\"alignmentgroup\": \"True\", \"bingroup\": \"x\", \"histfunc\": \"avg\", \"hoverlabel\": {\"namelength\": 0}, \"hovertemplate\": \"Target=%{x}<br>avg of polarity=%{y}\", \"legendgroup\": \"Target=adam-schiff\", \"marker\": {\"color\": \"#B6E880\"}, \"name\": \"Target=adam-schiff\", \"offsetgroup\": \"Target=adam-schiff\", \"orientation\": \"v\", \"showlegend\": true, \"type\": \"histogram\", \"x\": [\"adam-schiff\", \"adam-schiff\", \"adam-schiff\", \"adam-schiff\", \"adam-schiff\", \"adam-schiff\", \"adam-schiff\", \"adam-schiff\", \"adam-schiff\", \"adam-schiff\", \"adam-schiff\", \"adam-schiff\", \"adam-schiff\", \"adam-schiff\", \"adam-schiff\", \"adam-schiff\", \"adam-schiff\", \"adam-schiff\", \"adam-schiff\", \"adam-schiff\", \"adam-schiff\", \"adam-schiff\", \"adam-schiff\", \"adam-schiff\", \"adam-schiff\", \"adam-schiff\", \"adam-schiff\", \"adam-schiff\", \"adam-schiff\", \"adam-schiff\", \"adam-schiff\", \"adam-schiff\", \"adam-schiff\", \"adam-schiff\", \"adam-schiff\", \"adam-schiff\", \"adam-schiff\", \"adam-schiff\", \"adam-schiff\", \"adam-schiff\", \"adam-schiff\", \"adam-schiff\", \"adam-schiff\", \"adam-schiff\", \"adam-schiff\", \"adam-schiff\", \"adam-schiff\", \"adam-schiff\", \"adam-schiff\", \"adam-schiff\", \"adam-schiff\", \"adam-schiff\", \"adam-schiff\", \"adam-schiff\", \"adam-schiff\", \"adam-schiff\", \"adam-schiff\", \"adam-schiff\", \"adam-schiff\", \"adam-schiff\", \"adam-schiff\", \"adam-schiff\", \"adam-schiff\", \"adam-schiff\", \"adam-schiff\", \"adam-schiff\", \"adam-schiff\", \"adam-schiff\", \"adam-schiff\", \"adam-schiff\", \"adam-schiff\", \"adam-schiff\", \"adam-schiff\", \"adam-schiff\", \"adam-schiff\", \"adam-schiff\", \"adam-schiff\", \"adam-schiff\", \"adam-schiff\", \"adam-schiff\", \"adam-schiff\", \"adam-schiff\", \"adam-schiff\", \"adam-schiff\", \"adam-schiff\", \"adam-schiff\", \"adam-schiff\", \"adam-schiff\", \"adam-schiff\", \"adam-schiff\", \"adam-schiff\", \"adam-schiff\", \"adam-schiff\", \"adam-schiff\", \"adam-schiff\", \"adam-schiff\", \"adam-schiff\", \"adam-schiff\", \"adam-schiff\", \"adam-schiff\", \"adam-schiff\", \"adam-schiff\", \"adam-schiff\", \"adam-schiff\", \"adam-schiff\", \"adam-schiff\", \"adam-schiff\", \"adam-schiff\", \"adam-schiff\", \"adam-schiff\", \"adam-schiff\"], \"xaxis\": \"x\", \"y\": [-0.03125, -0.15089285714285713, 0.11904761904761903, 0.0625, -0.11499999999999999, -0.23750000000000004, -0.20833333333333331, -0.08084821428571427, 0.0, 0.16666666666666666, -0.3, 0.175, -0.2833333333333334, -0.2833333333333334, -0.44642857142857145, -0.09225589225589226, -0.30833333333333335, -0.1260822510822511, 0.14583333333333334, -0.14259259259259258, -0.1642857142857143, 0.1875, -0.3216666666666666, 0.05357142857142855, -0.008333333333333349, 0.0, -0.375, 0.09270833333333332, 0.0, -0.4208333333333333, -0.3982142857142857, 0.0, -0.4305555555555556, -0.05, -0.13999999999999999, -0.4466666666666666, 0.0, 0.07935606060606061, 0.125, -0.00625, 0.10000000000000002, 0.10000000000000002, -0.07999999999999999, 0.5125, 0.0, 0.275, -0.033333333333333326, 0.014660493827160467, -0.0625, -0.25, -0.125, 0.0, -0.625, -0.4625, 0.0, -0.3854166666666667, -0.18489583333333334, -0.125, 0.0, -0.08125, -0.065, -0.23111111111111113, 0.01428571428571429, -0.5, -0.625, -0.14722222222222223, -0.5, 0.25, -0.34166666666666673, 0.0, -0.034374999999999996, -0.3125, 0.46875, 0.0, -0.056666666666666664, -0.013124999999999998, 0.13333333333333333, -0.625, 0.053750000000000006, -0.1642361111111111, -0.1272727272727273, 0.0, -0.5, -0.4166666666666667, -0.21354166666666669, -0.17291666666666666, -0.2333333333333333, -0.09375, -0.22000000000000003, -0.625, 0.16071428571428567, -0.47500000000000003, 0.625, -0.025, -0.4, 0.1940909090909091, -0.3, 0.065, -0.75, -0.3333333333333333, -0.445, 0.041666666666666664, 0.1857142857142857, 0.0, -0.34142857142857147, 0.07714285714285715, -0.125, 0.0, 0.0, 0.3333333333333333, 0.5], \"yaxis\": \"y\"}, {\"alignmentgroup\": \"True\", \"bingroup\": \"x\", \"histfunc\": \"avg\", \"hoverlabel\": {\"namelength\": 0}, \"hovertemplate\": \"Target=%{x}<br>avg of polarity=%{y}\", \"legendgroup\": \"Target=impeachment-inquiry\", \"marker\": {\"color\": \"#FF97FF\"}, \"name\": \"Target=impeachment-inquiry\", \"offsetgroup\": \"Target=impeachment-inquiry\", \"orientation\": \"v\", \"showlegend\": true, \"type\": \"histogram\", \"x\": [\"impeachment-inquiry\", \"impeachment-inquiry\", \"impeachment-inquiry\", \"impeachment-inquiry\", \"impeachment-inquiry\", \"impeachment-inquiry\", \"impeachment-inquiry\", \"impeachment-inquiry\", \"impeachment-inquiry\", \"impeachment-inquiry\", \"impeachment-inquiry\", \"impeachment-inquiry\", \"impeachment-inquiry\", \"impeachment-inquiry\", \"impeachment-inquiry\", \"impeachment-inquiry\", \"impeachment-inquiry\", \"impeachment-inquiry\", \"impeachment-inquiry\", \"impeachment-inquiry\", \"impeachment-inquiry\", \"impeachment-inquiry\", \"impeachment-inquiry\", \"impeachment-inquiry\", \"impeachment-inquiry\", \"impeachment-inquiry\", \"impeachment-inquiry\", \"impeachment-inquiry\", \"impeachment-inquiry\", \"impeachment-inquiry\", \"impeachment-inquiry\", \"impeachment-inquiry\", \"impeachment-inquiry\", \"impeachment-inquiry\", \"impeachment-inquiry\", \"impeachment-inquiry\", \"impeachment-inquiry\", \"impeachment-inquiry\", \"impeachment-inquiry\", \"impeachment-inquiry\", \"impeachment-inquiry\", \"impeachment-inquiry\", \"impeachment-inquiry\", \"impeachment-inquiry\", \"impeachment-inquiry\", \"impeachment-inquiry\", \"impeachment-inquiry\", \"impeachment-inquiry\", \"impeachment-inquiry\", \"impeachment-inquiry\", \"impeachment-inquiry\", \"impeachment-inquiry\", \"impeachment-inquiry\", \"impeachment-inquiry\", \"impeachment-inquiry\", \"impeachment-inquiry\", \"impeachment-inquiry\", \"impeachment-inquiry\", \"impeachment-inquiry\", \"impeachment-inquiry\", \"impeachment-inquiry\", \"impeachment-inquiry\", \"impeachment-inquiry\", \"impeachment-inquiry\", \"impeachment-inquiry\", \"impeachment-inquiry\", \"impeachment-inquiry\", \"impeachment-inquiry\", \"impeachment-inquiry\", \"impeachment-inquiry\", \"impeachment-inquiry\", \"impeachment-inquiry\", \"impeachment-inquiry\", \"impeachment-inquiry\", \"impeachment-inquiry\", \"impeachment-inquiry\", \"impeachment-inquiry\", \"impeachment-inquiry\", \"impeachment-inquiry\", \"impeachment-inquiry\", \"impeachment-inquiry\", \"impeachment-inquiry\", \"impeachment-inquiry\", \"impeachment-inquiry\", \"impeachment-inquiry\", \"impeachment-inquiry\", \"impeachment-inquiry\", \"impeachment-inquiry\", \"impeachment-inquiry\", \"impeachment-inquiry\", \"impeachment-inquiry\", \"impeachment-inquiry\", \"impeachment-inquiry\", \"impeachment-inquiry\", \"impeachment-inquiry\", \"impeachment-inquiry\", \"impeachment-inquiry\", \"impeachment-inquiry\", \"impeachment-inquiry\", \"impeachment-inquiry\", \"impeachment-inquiry\", \"impeachment-inquiry\", \"impeachment-inquiry\", \"impeachment-inquiry\", \"impeachment-inquiry\", \"impeachment-inquiry\", \"impeachment-inquiry\", \"impeachment-inquiry\", \"impeachment-inquiry\", \"impeachment-inquiry\", \"impeachment-inquiry\", \"impeachment-inquiry\", \"impeachment-inquiry\", \"impeachment-inquiry\", \"impeachment-inquiry\", \"impeachment-inquiry\", \"impeachment-inquiry\", \"impeachment-inquiry\", \"impeachment-inquiry\", \"impeachment-inquiry\", \"impeachment-inquiry\", \"impeachment-inquiry\", \"impeachment-inquiry\", \"impeachment-inquiry\", \"impeachment-inquiry\", \"impeachment-inquiry\", \"impeachment-inquiry\", \"impeachment-inquiry\", \"impeachment-inquiry\", \"impeachment-inquiry\", \"impeachment-inquiry\", \"impeachment-inquiry\", \"impeachment-inquiry\", \"impeachment-inquiry\", \"impeachment-inquiry\", \"impeachment-inquiry\", \"impeachment-inquiry\", \"impeachment-inquiry\", \"impeachment-inquiry\", \"impeachment-inquiry\", \"impeachment-inquiry\", \"impeachment-inquiry\", \"impeachment-inquiry\", \"impeachment-inquiry\", \"impeachment-inquiry\", \"impeachment-inquiry\", \"impeachment-inquiry\", \"impeachment-inquiry\", \"impeachment-inquiry\", \"impeachment-inquiry\", \"impeachment-inquiry\", \"impeachment-inquiry\", \"impeachment-inquiry\", \"impeachment-inquiry\", \"impeachment-inquiry\", \"impeachment-inquiry\", \"impeachment-inquiry\", \"impeachment-inquiry\", \"impeachment-inquiry\", \"impeachment-inquiry\", \"impeachment-inquiry\", \"impeachment-inquiry\", \"impeachment-inquiry\", \"impeachment-inquiry\", \"impeachment-inquiry\", \"impeachment-inquiry\", \"impeachment-inquiry\", \"impeachment-inquiry\", \"impeachment-inquiry\", \"impeachment-inquiry\", \"impeachment-inquiry\", \"impeachment-inquiry\", \"impeachment-inquiry\", \"impeachment-inquiry\", \"impeachment-inquiry\", \"impeachment-inquiry\", \"impeachment-inquiry\", \"impeachment-inquiry\", \"impeachment-inquiry\", \"impeachment-inquiry\", \"impeachment-inquiry\", \"impeachment-inquiry\", \"impeachment-inquiry\", \"impeachment-inquiry\", \"impeachment-inquiry\", \"impeachment-inquiry\", \"impeachment-inquiry\", \"impeachment-inquiry\", \"impeachment-inquiry\", \"impeachment-inquiry\", \"impeachment-inquiry\", \"impeachment-inquiry\", \"impeachment-inquiry\", \"impeachment-inquiry\", \"impeachment-inquiry\", \"impeachment-inquiry\", \"impeachment-inquiry\", \"impeachment-inquiry\", \"impeachment-inquiry\", \"impeachment-inquiry\", \"impeachment-inquiry\", \"impeachment-inquiry\", \"impeachment-inquiry\", \"impeachment-inquiry\", \"impeachment-inquiry\", \"impeachment-inquiry\", \"impeachment-inquiry\", \"impeachment-inquiry\"], \"xaxis\": \"x\", \"y\": [0.0, 0.35000000000000003, 0.3333333333333333, 0.36727272727272725, -0.390625, 0.1, 0.0, 0.22222222222222224, 0.36111111111111116, -0.203125, -0.195, -0.31666666666666665, 0.0, 0.0, 0.1166666666666667, 0.06204545454545457, 0.1971212121212121, 0.125, 0.625, -0.06000000000000001, 0.0, 0.1875, 0.14999999999999997, 0.5, -0.625, 0.5, 0.3125, 0.23125, 0.015000000000000003, 0.4375, 0.2611111111111111, 0.0, 0.0825, -0.04375, 0.07935606060606061, -0.39999999999999997, 0.03125, 0.10000000000000002, 0.0, 0.07291666666666667, 0.2333333333333333, 0.0, 0.5, 0.0, 0.014660493827160467, 0.42857142857142855, 1.0, 0.31673881673881676, 0.375, 0.0, 0.0, 0.0, 0.1271494708994709, 0.0, 0.10000000000000002, 0.11999999999999997, -0.3854166666666667, -0.3854166666666667, -0.125, 0.0, 0.0, 0.19444444444444442, -0.16666666666666666, 0.07999999999999996, 0.625, -0.0625, 0.024999999999999994, 0.0, 0.5, -0.153125, 0.0, -0.5625, 0.13214285714285717, 0.6065340909090909, -0.02999999999999999, 0.20833333333333334, 0.0, -0.2604166666666667, -0.140625, 0.16969696969696968, -0.25, 0.0, -0.034374999999999996, -0.3125, 0.055624999999999994, 0.016759672619047608, 0.0, -0.42499999999999993, -0.17857142857142858, -0.43125, 0.22000000000000003, 0.21517857142857144, 0.36, 0.03472222222222221, 0.0, 0.17916666666666667, 0.08928571428571436, -0.020833333333333332, -0.1642361111111111, 0.7347222222222222, 0.0, 0.0, 0.39999999999999997, 0.25, 0.0, -0.09166666666666666, 0.875, -0.16666666666666669, 0.3125, 0.0, 1.0, 0.3333333333333333, 0.06250000000000003, 0.048958333333333354, 0.0, 0.0, -0.07272727272727272, 0.17916666666666667, -0.08854166666666666, 0.0, 0.3458333333333334, -0.1375, 0.6833333333333332, 0.0, -0.17291666666666666, 0.6333333333333333, 0.0, 0.25, 0.3, 0.3333333333333333, 0.3333333333333333, -0.44499999999999995, -0.48809523809523797, 0.0, -0.625, 0.7125, -0.19374999999999998, -0.3273809523809524, 0.075, -0.021875000000000006, 0.012500000000000039, -0.10277777777777776, 0.3333333333333333, 1.0, -0.3243650793650793, 0.1392857142857143, -0.18333333333333335, 0.08888888888888886, 0.3333333333333333, -0.09375, -0.75, -0.004971590909090912, -0.125, -0.22000000000000003, 0.08750000000000002, -0.4791666666666667, 0.625, -0.0625, 0.0, 0.16071428571428567, 0.10476190476190476, -0.20833333333333334, 0.625, -0.4, -0.3416666666666666, 0.06666666666666667, -0.0861111111111111, 0.175, 0.065, 0.05, -0.3333333333333333, 0.4083333333333334, 0.08888888888888886, 0.0, -0.04214285714285715, -0.445, -0.041666666666666664, 0.15625, -0.03125, 0.0, -0.09166666666666667, 0.136, 0.4407142857142857, 0.05000000000000002, 0.13333333333333333, -0.10612244897959186, 0.15000000000000002, 0.14249999999999996, 0.2386904761904762, -0.2333333333333333, -0.3125, 0.3583333333333334, 0.136, 0.39999999999999997, -0.033333333333333326, -0.2425, 0.24888888888888888, 0.12142857142857141, -0.36249999999999993, -0.11666666666666665, 0.019047619047619035, 0.3125, 0.25, 0.3125, 0.2916666666666667, -0.625, 0.06510416666666667, 0.6666666666666666], \"yaxis\": \"y\"}, {\"alignmentgroup\": \"True\", \"bingroup\": \"x\", \"histfunc\": \"avg\", \"hoverlabel\": {\"namelength\": 0}, \"hovertemplate\": \"Target=%{x}<br>avg of polarity=%{y}\", \"legendgroup\": \"Target=2020-election\", \"marker\": {\"color\": \"#FECB52\"}, \"name\": \"Target=2020-election\", \"offsetgroup\": \"Target=2020-election\", \"orientation\": \"v\", \"showlegend\": true, \"type\": \"histogram\", \"x\": [\"2020-election\", \"2020-election\", \"2020-election\", \"2020-election\", \"2020-election\", \"2020-election\", \"2020-election\", \"2020-election\", \"2020-election\", \"2020-election\", \"2020-election\", \"2020-election\", \"2020-election\", \"2020-election\", \"2020-election\", \"2020-election\", \"2020-election\", \"2020-election\", \"2020-election\", \"2020-election\", \"2020-election\", \"2020-election\", \"2020-election\", \"2020-election\", \"2020-election\", \"2020-election\", \"2020-election\", \"2020-election\", \"2020-election\", \"2020-election\", \"2020-election\", \"2020-election\", \"2020-election\", \"2020-election\", \"2020-election\", \"2020-election\", \"2020-election\", \"2020-election\", \"2020-election\", \"2020-election\", \"2020-election\", \"2020-election\", \"2020-election\", \"2020-election\", \"2020-election\", \"2020-election\", \"2020-election\", \"2020-election\", \"2020-election\", \"2020-election\", \"2020-election\", \"2020-election\", \"2020-election\", \"2020-election\", \"2020-election\", \"2020-election\", \"2020-election\", \"2020-election\", \"2020-election\", \"2020-election\", \"2020-election\", \"2020-election\", \"2020-election\", \"2020-election\", \"2020-election\", \"2020-election\", \"2020-election\", \"2020-election\", \"2020-election\", \"2020-election\", \"2020-election\", \"2020-election\", \"2020-election\", \"2020-election\", \"2020-election\", \"2020-election\", \"2020-election\", \"2020-election\", \"2020-election\", \"2020-election\", \"2020-election\", \"2020-election\", \"2020-election\", \"2020-election\", \"2020-election\", \"2020-election\", \"2020-election\", \"2020-election\", \"2020-election\", \"2020-election\", \"2020-election\", \"2020-election\", \"2020-election\", \"2020-election\", \"2020-election\", \"2020-election\", \"2020-election\", \"2020-election\", \"2020-election\", \"2020-election\", \"2020-election\", \"2020-election\", \"2020-election\", \"2020-election\", \"2020-election\", \"2020-election\", \"2020-election\", \"2020-election\", \"2020-election\", \"2020-election\", \"2020-election\", \"2020-election\", \"2020-election\", \"2020-election\", \"2020-election\", \"2020-election\", \"2020-election\", \"2020-election\", \"2020-election\", \"2020-election\", \"2020-election\", \"2020-election\", \"2020-election\", \"2020-election\", \"2020-election\", \"2020-election\", \"2020-election\", \"2020-election\", \"2020-election\", \"2020-election\", \"2020-election\", \"2020-election\", \"2020-election\", \"2020-election\", \"2020-election\"], \"xaxis\": \"x\", \"y\": [0.5, 0.625, -0.4374999999999999, -0.125, 0.006349206349206392, 0.19880952380952382, 0.5989583333333334, -0.0625, 0.018750000000000003, -0.11818181818181817, 0.48333333333333334, -0.21875, -0.17499999999999996, 0.2916666666666667, -0.07291666666666667, 0.03125, 0.0, -0.4375, 0.24727272727272726, 0.26666666666666666, 0.125, -0.9765625, 0.0, 0.0, 0.0, -1.0, 0.0, 0.0, 0.2, 0.46749999999999997, 0.03472222222222221, 0.08333333333333333, -0.12499999999999996, -0.22916666666666666, 0.0, -0.005092592592592575, 0.625, 0.625, 0.125, 0.0, 0.0, 1.0, 0.275, -0.625, 0.22222222222222224, -0.03571428571428571, -0.375, -0.13333333333333333, 0.1, -0.20833333333333334, 0.2017857142857143, -0.03819444444444445, 0.08333333333333334, 0.0, -0.625, 1.0, 0.0, 0.49583333333333335, 0.12142857142857144, 0.021428571428571463, -0.13888888888888887, -0.018750000000000006, 0.15, 0.12023809523809526, -0.10666666666666669, 0.39166666666666666, 0.05, 0.25, 0.0, 0.0, -0.625, -0.8333333333333333, -0.5, 0.225, 0.036038961038961044, -0.36458333333333337, 0.0, 0.346976461038961, 0.0, -0.1375, 0.1877777777777778, 0.0, 0.0, 0.03958333333333333, 0.2895833333333333, 1.0, -0.4374999999999999, 0.0, 0.248828125, 0.3416666666666666, -0.19375, -0.0625, -0.08333333333333333, 0.4, 0.0, -0.15, -0.015277777777777788, 0.05, 0.22999999999999998, 0.41666666666666663, -0.3038194444444445, 0.5681818181818181, -0.01499999999999999, 0.0, 0.0, -0.20833333333333334, 0.008333333333333331, 0.3266666666666667, -0.5859375, 0.22363945578231295, 0.4055555555555556, 0.2892857142857143, 0.0, -0.21666666666666667, 0.0, 0.5, -0.22999999999999998, -0.1, 0.21111111111111114, -0.25, 0.14866666666666667, 0.3, 0.19999999999999998, 0.7125, 0.19999999999999998, -0.25, 0.19999999999999998, 1.0, 0.0, 0.08125, 0.21833333333333335, 0.43333333333333335, 0.03593750000000001, -0.175, 0.5416666666666666], \"yaxis\": \"y\"}],\n",
              "                        {\"bargap\": 0.2, \"barmode\": \"relative\", \"legend\": {\"tracegroupgap\": 0}, \"margin\": {\"t\": 60}, \"template\": {\"data\": {\"bar\": [{\"error_x\": {\"color\": \"#2a3f5f\"}, \"error_y\": {\"color\": \"#2a3f5f\"}, \"marker\": {\"line\": {\"color\": \"#E5ECF6\", \"width\": 0.5}}, \"type\": \"bar\"}], \"barpolar\": [{\"marker\": {\"line\": {\"color\": \"#E5ECF6\", \"width\": 0.5}}, \"type\": \"barpolar\"}], \"carpet\": [{\"aaxis\": {\"endlinecolor\": \"#2a3f5f\", \"gridcolor\": \"white\", \"linecolor\": \"white\", \"minorgridcolor\": \"white\", \"startlinecolor\": \"#2a3f5f\"}, \"baxis\": {\"endlinecolor\": \"#2a3f5f\", \"gridcolor\": \"white\", \"linecolor\": \"white\", \"minorgridcolor\": \"white\", \"startlinecolor\": \"#2a3f5f\"}, \"type\": \"carpet\"}], \"choropleth\": [{\"colorbar\": {\"outlinewidth\": 0, \"ticks\": \"\"}, \"type\": \"choropleth\"}], \"contour\": [{\"colorbar\": {\"outlinewidth\": 0, \"ticks\": \"\"}, \"colorscale\": [[0.0, \"#0d0887\"], [0.1111111111111111, \"#46039f\"], [0.2222222222222222, \"#7201a8\"], [0.3333333333333333, \"#9c179e\"], [0.4444444444444444, \"#bd3786\"], [0.5555555555555556, \"#d8576b\"], [0.6666666666666666, \"#ed7953\"], [0.7777777777777778, \"#fb9f3a\"], [0.8888888888888888, \"#fdca26\"], [1.0, \"#f0f921\"]], \"type\": \"contour\"}], \"contourcarpet\": [{\"colorbar\": {\"outlinewidth\": 0, \"ticks\": \"\"}, \"type\": \"contourcarpet\"}], \"heatmap\": [{\"colorbar\": {\"outlinewidth\": 0, \"ticks\": \"\"}, \"colorscale\": [[0.0, \"#0d0887\"], [0.1111111111111111, \"#46039f\"], [0.2222222222222222, \"#7201a8\"], [0.3333333333333333, \"#9c179e\"], [0.4444444444444444, \"#bd3786\"], [0.5555555555555556, \"#d8576b\"], [0.6666666666666666, \"#ed7953\"], [0.7777777777777778, \"#fb9f3a\"], [0.8888888888888888, \"#fdca26\"], [1.0, \"#f0f921\"]], \"type\": \"heatmap\"}], \"heatmapgl\": [{\"colorbar\": {\"outlinewidth\": 0, \"ticks\": \"\"}, \"colorscale\": [[0.0, \"#0d0887\"], [0.1111111111111111, \"#46039f\"], [0.2222222222222222, \"#7201a8\"], [0.3333333333333333, \"#9c179e\"], [0.4444444444444444, \"#bd3786\"], [0.5555555555555556, \"#d8576b\"], [0.6666666666666666, \"#ed7953\"], [0.7777777777777778, \"#fb9f3a\"], [0.8888888888888888, \"#fdca26\"], [1.0, \"#f0f921\"]], \"type\": \"heatmapgl\"}], \"histogram\": [{\"marker\": {\"colorbar\": {\"outlinewidth\": 0, \"ticks\": \"\"}}, \"type\": \"histogram\"}], \"histogram2d\": [{\"colorbar\": {\"outlinewidth\": 0, \"ticks\": \"\"}, \"colorscale\": [[0.0, \"#0d0887\"], [0.1111111111111111, \"#46039f\"], [0.2222222222222222, \"#7201a8\"], [0.3333333333333333, \"#9c179e\"], [0.4444444444444444, \"#bd3786\"], [0.5555555555555556, \"#d8576b\"], [0.6666666666666666, \"#ed7953\"], [0.7777777777777778, \"#fb9f3a\"], [0.8888888888888888, \"#fdca26\"], [1.0, \"#f0f921\"]], \"type\": \"histogram2d\"}], \"histogram2dcontour\": [{\"colorbar\": {\"outlinewidth\": 0, \"ticks\": \"\"}, \"colorscale\": [[0.0, \"#0d0887\"], [0.1111111111111111, \"#46039f\"], [0.2222222222222222, \"#7201a8\"], [0.3333333333333333, \"#9c179e\"], [0.4444444444444444, \"#bd3786\"], [0.5555555555555556, \"#d8576b\"], [0.6666666666666666, \"#ed7953\"], [0.7777777777777778, \"#fb9f3a\"], [0.8888888888888888, \"#fdca26\"], [1.0, \"#f0f921\"]], \"type\": \"histogram2dcontour\"}], \"mesh3d\": [{\"colorbar\": {\"outlinewidth\": 0, \"ticks\": \"\"}, \"type\": \"mesh3d\"}], \"parcoords\": [{\"line\": {\"colorbar\": {\"outlinewidth\": 0, \"ticks\": \"\"}}, \"type\": \"parcoords\"}], \"pie\": [{\"automargin\": true, \"type\": \"pie\"}], \"scatter\": [{\"marker\": {\"colorbar\": {\"outlinewidth\": 0, \"ticks\": \"\"}}, \"type\": \"scatter\"}], \"scatter3d\": [{\"line\": {\"colorbar\": {\"outlinewidth\": 0, \"ticks\": \"\"}}, \"marker\": {\"colorbar\": {\"outlinewidth\": 0, \"ticks\": \"\"}}, \"type\": \"scatter3d\"}], \"scattercarpet\": [{\"marker\": {\"colorbar\": {\"outlinewidth\": 0, \"ticks\": \"\"}}, \"type\": \"scattercarpet\"}], \"scattergeo\": [{\"marker\": {\"colorbar\": {\"outlinewidth\": 0, \"ticks\": \"\"}}, \"type\": \"scattergeo\"}], \"scattergl\": [{\"marker\": {\"colorbar\": {\"outlinewidth\": 0, \"ticks\": \"\"}}, \"type\": \"scattergl\"}], \"scattermapbox\": [{\"marker\": {\"colorbar\": {\"outlinewidth\": 0, \"ticks\": \"\"}}, \"type\": \"scattermapbox\"}], \"scatterpolar\": [{\"marker\": {\"colorbar\": {\"outlinewidth\": 0, \"ticks\": \"\"}}, \"type\": \"scatterpolar\"}], \"scatterpolargl\": [{\"marker\": {\"colorbar\": {\"outlinewidth\": 0, \"ticks\": \"\"}}, \"type\": \"scatterpolargl\"}], \"scatterternary\": [{\"marker\": {\"colorbar\": {\"outlinewidth\": 0, \"ticks\": \"\"}}, \"type\": \"scatterternary\"}], \"surface\": [{\"colorbar\": {\"outlinewidth\": 0, \"ticks\": \"\"}, \"colorscale\": [[0.0, \"#0d0887\"], [0.1111111111111111, \"#46039f\"], [0.2222222222222222, \"#7201a8\"], [0.3333333333333333, \"#9c179e\"], [0.4444444444444444, \"#bd3786\"], [0.5555555555555556, \"#d8576b\"], [0.6666666666666666, \"#ed7953\"], [0.7777777777777778, \"#fb9f3a\"], [0.8888888888888888, \"#fdca26\"], [1.0, \"#f0f921\"]], \"type\": \"surface\"}], \"table\": [{\"cells\": {\"fill\": {\"color\": \"#EBF0F8\"}, \"line\": {\"color\": \"white\"}}, \"header\": {\"fill\": {\"color\": \"#C8D4E3\"}, \"line\": {\"color\": \"white\"}}, \"type\": \"table\"}]}, \"layout\": {\"annotationdefaults\": {\"arrowcolor\": \"#2a3f5f\", \"arrowhead\": 0, \"arrowwidth\": 1}, \"coloraxis\": {\"colorbar\": {\"outlinewidth\": 0, \"ticks\": \"\"}}, \"colorscale\": {\"diverging\": [[0, \"#8e0152\"], [0.1, \"#c51b7d\"], [0.2, \"#de77ae\"], [0.3, \"#f1b6da\"], [0.4, \"#fde0ef\"], [0.5, \"#f7f7f7\"], [0.6, \"#e6f5d0\"], [0.7, \"#b8e186\"], [0.8, \"#7fbc41\"], [0.9, \"#4d9221\"], [1, \"#276419\"]], \"sequential\": [[0.0, \"#0d0887\"], [0.1111111111111111, \"#46039f\"], [0.2222222222222222, \"#7201a8\"], [0.3333333333333333, \"#9c179e\"], [0.4444444444444444, \"#bd3786\"], [0.5555555555555556, \"#d8576b\"], [0.6666666666666666, \"#ed7953\"], [0.7777777777777778, \"#fb9f3a\"], [0.8888888888888888, \"#fdca26\"], [1.0, \"#f0f921\"]], \"sequentialminus\": [[0.0, \"#0d0887\"], [0.1111111111111111, \"#46039f\"], [0.2222222222222222, \"#7201a8\"], [0.3333333333333333, \"#9c179e\"], [0.4444444444444444, \"#bd3786\"], [0.5555555555555556, \"#d8576b\"], [0.6666666666666666, \"#ed7953\"], [0.7777777777777778, \"#fb9f3a\"], [0.8888888888888888, \"#fdca26\"], [1.0, \"#f0f921\"]]}, \"colorway\": [\"#636efa\", \"#EF553B\", \"#00cc96\", \"#ab63fa\", \"#FFA15A\", \"#19d3f3\", \"#FF6692\", \"#B6E880\", \"#FF97FF\", \"#FECB52\"], \"font\": {\"color\": \"#2a3f5f\"}, \"geo\": {\"bgcolor\": \"white\", \"lakecolor\": \"white\", \"landcolor\": \"#E5ECF6\", \"showlakes\": true, \"showland\": true, \"subunitcolor\": \"white\"}, \"hoverlabel\": {\"align\": \"left\"}, \"hovermode\": \"closest\", \"mapbox\": {\"style\": \"light\"}, \"paper_bgcolor\": \"white\", \"plot_bgcolor\": \"#E5ECF6\", \"polar\": {\"angularaxis\": {\"gridcolor\": \"white\", \"linecolor\": \"white\", \"ticks\": \"\"}, \"bgcolor\": \"#E5ECF6\", \"radialaxis\": {\"gridcolor\": \"white\", \"linecolor\": \"white\", \"ticks\": \"\"}}, \"scene\": {\"xaxis\": {\"backgroundcolor\": \"#E5ECF6\", \"gridcolor\": \"white\", \"gridwidth\": 2, \"linecolor\": \"white\", \"showbackground\": true, \"ticks\": \"\", \"zerolinecolor\": \"white\"}, \"yaxis\": {\"backgroundcolor\": \"#E5ECF6\", \"gridcolor\": \"white\", \"gridwidth\": 2, \"linecolor\": \"white\", \"showbackground\": true, \"ticks\": \"\", \"zerolinecolor\": \"white\"}, \"zaxis\": {\"backgroundcolor\": \"#E5ECF6\", \"gridcolor\": \"white\", \"gridwidth\": 2, \"linecolor\": \"white\", \"showbackground\": true, \"ticks\": \"\", \"zerolinecolor\": \"white\"}}, \"shapedefaults\": {\"line\": {\"color\": \"#2a3f5f\"}}, \"ternary\": {\"aaxis\": {\"gridcolor\": \"white\", \"linecolor\": \"white\", \"ticks\": \"\"}, \"baxis\": {\"gridcolor\": \"white\", \"linecolor\": \"white\", \"ticks\": \"\"}, \"bgcolor\": \"#E5ECF6\", \"caxis\": {\"gridcolor\": \"white\", \"linecolor\": \"white\", \"ticks\": \"\"}}, \"title\": {\"x\": 0.05}, \"xaxis\": {\"automargin\": true, \"gridcolor\": \"white\", \"linecolor\": \"white\", \"ticks\": \"\", \"title\": {\"standoff\": 15}, \"zerolinecolor\": \"white\", \"zerolinewidth\": 2}, \"yaxis\": {\"automargin\": true, \"gridcolor\": \"white\", \"linecolor\": \"white\", \"ticks\": \"\", \"title\": {\"standoff\": 15}, \"zerolinecolor\": \"white\", \"zerolinewidth\": 2}}}, \"xaxis\": {\"anchor\": \"y\", \"categoryarray\": [\"cnn\", \"the-media\", \"the-new-york-times\", \"hillary-clinton\", \"democrats\", \"joe-biden\", \"trump-russia\", \"adam-schiff\", \"impeachment-inquiry\", \"2020-election\"], \"categoryorder\": \"array\", \"domain\": [0.0, 1.0], \"title\": {\"text\": \"Target\"}}, \"yaxis\": {\"anchor\": \"x\", \"domain\": [0.0, 1.0], \"title\": {\"text\": \"M\\u00e9dia da polaridade\"}}},\n",
              "                        {\"responsive\": true}\n",
              "                    ).then(function(){\n",
              "                            \n",
              "var gd = document.getElementById('b0d8e17e-5725-419e-8bf1-01d746d2da90');\n",
              "var x = new MutationObserver(function (mutations, observer) {{\n",
              "        var display = window.getComputedStyle(gd).display;\n",
              "        if (!display || display === 'none') {{\n",
              "            console.log([gd, 'removed!']);\n",
              "            Plotly.purge(gd);\n",
              "            observer.disconnect();\n",
              "        }}\n",
              "}});\n",
              "\n",
              "// Listen for the removal of the full notebook cells\n",
              "var notebookContainer = gd.closest('#notebook-container');\n",
              "if (notebookContainer) {{\n",
              "    x.observe(notebookContainer, {childList: true});\n",
              "}}\n",
              "\n",
              "// Listen for the clearing of the current output cell\n",
              "var outputEl = gd.closest('.output');\n",
              "if (outputEl) {{\n",
              "    x.observe(outputEl, {childList: true});\n",
              "}}\n",
              "\n",
              "                        })\n",
              "                };\n",
              "                \n",
              "            </script>\n",
              "        </div>\n",
              "</body>\n",
              "</html>"
            ]
          },
          "metadata": {}
        }
      ]
    },
    {
      "cell_type": "markdown",
      "metadata": {
        "id": "KZHzvLY3Y21S"
      },
      "source": [
        "No gráfico acima vemos um resultado surpreendente. Os índices de polarização para a maioria dos 'target' é próximo a zero, mas, como trata-se de um dataset exclusivamente de insultos, era esperado que os valores de polaridade ficassem mais baixos. Existem dois comportamentos que foram percebidos nos tweets de Trump que podem ser explicativos para os valores duvidosos obtidos pela TextBlob.\n",
        "\n",
        "O primeiro comportamento é que Trump costuma se vangloriar no mesmo tweet que ataca seus adversários, então muitos tweets acabam possuindo palavras com valor positivo, o que atrapalha o cálculo de polaridade. O outro comportamento percebido é que Trump usa muito de ironia em seus tweets, o que é difícil de qualquer modelo perceber e também acaba contando para uma polaridade mais positiva quando o tweet em si é negativo.\n",
        "\n",
        "Com essa breve análise exploratória e de sentimentos dos dados encerramos essa parte do projeto."
      ]
    },
    {
      "cell_type": "markdown",
      "metadata": {
        "id": "PlgTbWTacYlk"
      },
      "source": [
        "# 4. Pré-processamento"
      ]
    },
    {
      "cell_type": "markdown",
      "metadata": {
        "id": "4XeXCO9LcfaL"
      },
      "source": [
        "No nosso pré-processamento realizaremos os seguintes processos:\n",
        "1. Tokenização dos tweets.\n",
        "2. Remoção de pontuação dos tweets.\n",
        "3. Conversão de todas as letras para minúsculo.\n",
        "4. Remoção das stopwords dos tweets.\n",
        "5. Stemmização dos tweets.\n",
        "\n"
      ]
    },
    {
      "cell_type": "code",
      "metadata": {
        "id": "x11-jt51ccoz"
      },
      "source": [
        "# Definindo função de limpeza que realizará todos os processos citados acima\n",
        "# A função devolverá duas listas que serão adicionada ao dataframe como colunas\n",
        "def limpeza_tweets(tweet):\n",
        "  # Tokenização e remoção de pontuação\n",
        "  blob = TextBlob(tweet)\n",
        "  tokens = list(blob.words)\n",
        "  # Conversão para minúsculo\n",
        "  tokens = [token.lower() for token in tokens]\n",
        "  # Remoção de stopwords\n",
        "  sws = stopwords.words('english')\n",
        "  tokens = [token for token in tokens if token not in sws]\n",
        "  # Stemming dos tokens\n",
        "  stm = PorterStemmer()\n",
        "  stems = [stm.stem(word = token) for token in tokens]\n",
        "  # Retornando tokens\n",
        "  return tokens, stems"
      ],
      "execution_count": 16,
      "outputs": []
    },
    {
      "cell_type": "code",
      "metadata": {
        "colab": {
          "base_uri": "https://localhost:8080/",
          "height": 537
        },
        "id": "UzwVCJohjVGx",
        "outputId": "f1c2f0ac-af21-497e-b073-612d1b212ba1"
      },
      "source": [
        "# Criando colunas de tokens e stems no nosso dataframe\n",
        "tokens_stems = [limpeza_tweets(tweet) for tweet in tweets_10['tweet']]\n",
        "tokens = [tokens_stems[i][0] for i in range(len(tokens_stems))]\n",
        "stems = [tokens_stems[i][1] for i in range(len(tokens_stems))]\n",
        "tweets_10['tokens'] = tokens\n",
        "tweets_10['stems'] = stems\n",
        "tweets_10.head(10)"
      ],
      "execution_count": 17,
      "outputs": [
        {
          "output_type": "execute_result",
          "data": {
            "text/html": [
              "<div>\n",
              "<style scoped>\n",
              "    .dataframe tbody tr th:only-of-type {\n",
              "        vertical-align: middle;\n",
              "    }\n",
              "\n",
              "    .dataframe tbody tr th {\n",
              "        vertical-align: top;\n",
              "    }\n",
              "\n",
              "    .dataframe thead th {\n",
              "        text-align: right;\n",
              "    }\n",
              "</style>\n",
              "<table border=\"1\" class=\"dataframe\">\n",
              "  <thead>\n",
              "    <tr style=\"text-align: right;\">\n",
              "      <th></th>\n",
              "      <th>target</th>\n",
              "      <th>tweet</th>\n",
              "      <th>date</th>\n",
              "      <th>year</th>\n",
              "      <th>polarity</th>\n",
              "      <th>tokens</th>\n",
              "      <th>stems</th>\n",
              "    </tr>\n",
              "  </thead>\n",
              "  <tbody>\n",
              "    <tr>\n",
              "      <th>0</th>\n",
              "      <td>cnn</td>\n",
              "      <td>Ratings starved @CNN and @CNNPolitics does not...</td>\n",
              "      <td>2015-07-18</td>\n",
              "      <td>2015</td>\n",
              "      <td>0.055283</td>\n",
              "      <td>[ratings, starved, cnn, cnnpolitics, cover, ac...</td>\n",
              "      <td>[rate, starv, cnn, cnnpolit, cover, accur, ca,...</td>\n",
              "    </tr>\n",
              "    <tr>\n",
              "      <th>1</th>\n",
              "      <td>cnn</td>\n",
              "      <td>The $10 billion (net worth) is AFTER all debt ...</td>\n",
              "      <td>2015-07-18</td>\n",
              "      <td>2015</td>\n",
              "      <td>-0.076607</td>\n",
              "      <td>[10, billion, net, worth, debt, liabilities, s...</td>\n",
              "      <td>[10, billion, net, worth, debt, liabil, simpl,...</td>\n",
              "    </tr>\n",
              "    <tr>\n",
              "      <th>2</th>\n",
              "      <td>the-media</td>\n",
              "      <td>I truly LOVE all of the millions of people who...</td>\n",
              "      <td>2015-07-29</td>\n",
              "      <td>2015</td>\n",
              "      <td>0.450000</td>\n",
              "      <td>[truly, love, millions, people, sticking, desp...</td>\n",
              "      <td>[truli, love, million, peopl, stick, despit, m...</td>\n",
              "    </tr>\n",
              "    <tr>\n",
              "      <th>3</th>\n",
              "      <td>the-new-york-times</td>\n",
              "      <td>Despite the false @nytimes story about Jeb Bus...</td>\n",
              "      <td>2015-08-03</td>\n",
              "      <td>2015</td>\n",
              "      <td>-0.025000</td>\n",
              "      <td>[despite, false, nytimes, story, jeb, bush, ha...</td>\n",
              "      <td>[despit, fals, nytim, stori, jeb, bush, happi,...</td>\n",
              "    </tr>\n",
              "    <tr>\n",
              "      <th>4</th>\n",
              "      <td>hillary-clinton</td>\n",
              "      <td>Hillary said such nasty things about me, read ...</td>\n",
              "      <td>2015-09-05</td>\n",
              "      <td>2015</td>\n",
              "      <td>-0.291667</td>\n",
              "      <td>[hillary, said, nasty, things, read, directly,...</td>\n",
              "      <td>[hillari, said, nasti, thing, read, directli, ...</td>\n",
              "    </tr>\n",
              "    <tr>\n",
              "      <th>5</th>\n",
              "      <td>hillary-clinton</td>\n",
              "      <td>Remember that I am self-funding my campaign. H...</td>\n",
              "      <td>2015-09-05</td>\n",
              "      <td>2015</td>\n",
              "      <td>0.357143</td>\n",
              "      <td>[remember, self-funding, campaign, hillary, je...</td>\n",
              "      <td>[rememb, self-fund, campaign, hillari, jeb, re...</td>\n",
              "    </tr>\n",
              "    <tr>\n",
              "      <th>6</th>\n",
              "      <td>the-media</td>\n",
              "      <td>I am attracting the biggest crowds, by far, an...</td>\n",
              "      <td>2015-09-21</td>\n",
              "      <td>2015</td>\n",
              "      <td>0.079167</td>\n",
              "      <td>[attracting, biggest, crowds, far, best, poll,...</td>\n",
              "      <td>[attract, biggest, crowd, far, best, poll, num...</td>\n",
              "    </tr>\n",
              "    <tr>\n",
              "      <th>7</th>\n",
              "      <td>the-media</td>\n",
              "      <td>Despite the establishment and the media’s best...</td>\n",
              "      <td>2015-09-24</td>\n",
              "      <td>2015</td>\n",
              "      <td>0.487500</td>\n",
              "      <td>[despite, establishment, media, ’, best, effor...</td>\n",
              "      <td>[despit, establish, media, ’, best, effort, pe...</td>\n",
              "    </tr>\n",
              "    <tr>\n",
              "      <th>8</th>\n",
              "      <td>the-media</td>\n",
              "      <td>I'm leading by big margins in every poll but t...</td>\n",
              "      <td>2015-10-04</td>\n",
              "      <td>2015</td>\n",
              "      <td>0.500000</td>\n",
              "      <td>['m, leading, big, margins, every, poll, press...</td>\n",
              "      <td>['m, lead, big, margin, everi, poll, press, ke...</td>\n",
              "    </tr>\n",
              "    <tr>\n",
              "      <th>9</th>\n",
              "      <td>hillary-clinton</td>\n",
              "      <td>The trade deal is a disaster, she was always f...</td>\n",
              "      <td>2015-10-14</td>\n",
              "      <td>2015</td>\n",
              "      <td>0.000000</td>\n",
              "      <td>[trade, deal, disaster, always, demdebate]</td>\n",
              "      <td>[trade, deal, disast, alway, demdeb]</td>\n",
              "    </tr>\n",
              "  </tbody>\n",
              "</table>\n",
              "</div>"
            ],
            "text/plain": [
              "               target  ...                                              stems\n",
              "0                 cnn  ...  [rate, starv, cnn, cnnpolit, cover, accur, ca,...\n",
              "1                 cnn  ...  [10, billion, net, worth, debt, liabil, simpl,...\n",
              "2           the-media  ...  [truli, love, million, peopl, stick, despit, m...\n",
              "3  the-new-york-times  ...  [despit, fals, nytim, stori, jeb, bush, happi,...\n",
              "4     hillary-clinton  ...  [hillari, said, nasti, thing, read, directli, ...\n",
              "5     hillary-clinton  ...  [rememb, self-fund, campaign, hillari, jeb, re...\n",
              "6           the-media  ...  [attract, biggest, crowd, far, best, poll, num...\n",
              "7           the-media  ...  [despit, establish, media, ’, best, effort, pe...\n",
              "8           the-media  ...  ['m, lead, big, margin, everi, poll, press, ke...\n",
              "9     hillary-clinton  ...               [trade, deal, disast, alway, demdeb]\n",
              "\n",
              "[10 rows x 7 columns]"
            ]
          },
          "metadata": {},
          "execution_count": 17
        }
      ]
    },
    {
      "cell_type": "markdown",
      "metadata": {
        "id": "EF7UudykmqpL"
      },
      "source": [
        "Adicionamos as duas colunas porque vamos comparar a diferença de performance quando o modelo treina com stemming e quando o modelo treina com os tokens."
      ]
    },
    {
      "cell_type": "markdown",
      "metadata": {
        "id": "BzNrcfzUmXC1"
      },
      "source": [
        "# 5. Divisão treino-teste dos dados"
      ]
    },
    {
      "cell_type": "code",
      "metadata": {
        "id": "P9bwK60KmorT"
      },
      "source": [
        "# Para a divisão treino-teste vamos usar um split de 75-25\n",
        "tweets_treino, tweets_teste = train_test_split(tweets_10, test_size=0.25, random_state=2)"
      ],
      "execution_count": 18,
      "outputs": []
    },
    {
      "cell_type": "code",
      "metadata": {
        "colab": {
          "base_uri": "https://localhost:8080/"
        },
        "id": "QrvGyM31nI-7",
        "outputId": "613604a5-6b4a-436a-cde7-1274bb3d6ee1"
      },
      "source": [
        "# Visualizando as dimensões de ambas as novas tabelas\n",
        "print(tweets_treino.shape)\n",
        "print(tweets_teste.shape)"
      ],
      "execution_count": 19,
      "outputs": [
        {
          "output_type": "stream",
          "name": "stdout",
          "text": [
            "(2439, 7)\n",
            "(814, 7)\n"
          ]
        }
      ]
    },
    {
      "cell_type": "markdown",
      "metadata": {
        "id": "GBrl_21HnYSI"
      },
      "source": [
        "# 6. Criando representação dos textos através de Matriz Termo Documento"
      ]
    },
    {
      "cell_type": "code",
      "metadata": {
        "id": "tNrGKmX5niKz"
      },
      "source": [
        "# Criando objeto vetorizador para Matriz Termo Documento\n",
        "vetorizador_tokens = CountVectorizer()\n",
        "vetorizador_stems = CountVectorizer()"
      ],
      "execution_count": 90,
      "outputs": []
    },
    {
      "cell_type": "code",
      "metadata": {
        "id": "eAo57hQUnWia"
      },
      "source": [
        "# Criando representação para tokens puros sem stemming\n",
        "tokens_treino = vetorizador_tokens.fit_transform([\" \".join(tokens) for tokens in tweets_treino['tokens']])\n",
        "tokens_teste = vetorizador_tokens.transform([\" \".join(tokens) for tokens in tweets_teste['tokens']])"
      ],
      "execution_count": 91,
      "outputs": []
    },
    {
      "cell_type": "code",
      "metadata": {
        "id": "kzhaoEV-qOq5"
      },
      "source": [
        "# Criando representação para stems\n",
        "stems_treino = vetorizador_stems.fit_transform([\" \".join(stems) for stems in tweets_treino['stems']])\n",
        "stems_teste = vetorizador_stems.transform([\" \".join(stems) for stems in tweets_teste['stems']])"
      ],
      "execution_count": 92,
      "outputs": []
    },
    {
      "cell_type": "markdown",
      "metadata": {
        "id": "Emn93w8Yqd4K"
      },
      "source": [
        "# 7. Criando os modelos NB, RegLog e SVM"
      ]
    },
    {
      "cell_type": "code",
      "metadata": {
        "id": "LNSwFgKtzAVo"
      },
      "source": [
        "# Criando os modelos\n",
        "# Estamos usando o toarray() em alguns modelos para realizar a conversão de matriz esparsa para densa\n",
        "modelo_svm_tokens = LinearSVC().fit(tokens_treino,tweets_treino['target'])\n",
        "modelo_reglog_tokens = LogisticRegression().fit(tokens_treino,tweets_treino['target'])\n",
        "modelo_nb_tokens = GaussianNB().fit(tokens_treino.toarray(),tweets_treino['target'])\n",
        "modelo_svm_stems = LinearSVC().fit(stems_treino.toarray(),tweets_treino['target'])\n",
        "modelo_reglog_stems = LogisticRegression().fit(stems_treino.toarray(),tweets_treino['target'])\n",
        "modelo_nb_stems = GaussianNB().fit(stems_treino.toarray(),tweets_treino['target'])"
      ],
      "execution_count": 98,
      "outputs": []
    },
    {
      "cell_type": "markdown",
      "metadata": {
        "id": "JUa_tz-Er5NV"
      },
      "source": [
        "# 8. Avaliando os modelos por métricas"
      ]
    },
    {
      "cell_type": "markdown",
      "metadata": {
        "id": "W-6XvXaP_nhk"
      },
      "source": [
        "**Dicionário de Labels:**\n",
        "1. 2020-election\n",
        "2. adam-schiff\n",
        "3. cnn\n",
        "4. democrats\n",
        "5. hilary-clinton\n",
        "6. impeachment-inquiry\n",
        "7. joe-biden\n",
        "8. the-media\n",
        "9. the-new-york-times\n",
        "10. trump-russia"
      ]
    },
    {
      "cell_type": "markdown",
      "metadata": {
        "id": "v3wm-aFEI5TE"
      },
      "source": [
        "## 8.1 Modelos SVM"
      ]
    },
    {
      "cell_type": "code",
      "metadata": {
        "colab": {
          "base_uri": "https://localhost:8080/",
          "height": 638
        },
        "id": "sYpJqIOBFbmh",
        "outputId": "b08ac019-8945-45c9-fbf6-296dfeab67f1"
      },
      "source": [
        "# Modelo SVM para tokens\n",
        "previsoes_target = modelo_svm_tokens.predict(tokens_teste)\n",
        "cm = confusion_matrix(tweets_teste['target'], previsoes_target)\n",
        "figure(figsize=(5, 5))\n",
        "sns.heatmap(cm, annot=True,cmap=\"Blues\",fmt=\"d\")\n",
        "print(classification_report(tweets_teste['target'], previsoes_target))"
      ],
      "execution_count": 97,
      "outputs": [
        {
          "output_type": "stream",
          "name": "stdout",
          "text": [
            "                     precision    recall  f1-score   support\n",
            "\n",
            "      2020-election       0.83      0.85      0.84        40\n",
            "        adam-schiff       0.89      0.57      0.69        30\n",
            "                cnn       0.82      0.77      0.80        48\n",
            "          democrats       0.79      0.72      0.75       113\n",
            "    hillary-clinton       0.82      0.85      0.84       108\n",
            "impeachment-inquiry       0.51      0.54      0.52        52\n",
            "          joe-biden       0.85      0.83      0.84        83\n",
            "          the-media       0.72      0.81      0.76       194\n",
            " the-new-york-times       0.77      0.86      0.82        59\n",
            "       trump-russia       0.68      0.57      0.62        87\n",
            "\n",
            "           accuracy                           0.76       814\n",
            "          macro avg       0.77      0.74      0.75       814\n",
            "       weighted avg       0.76      0.76      0.76       814\n",
            "\n"
          ]
        },
        {
          "output_type": "display_data",
          "data": {
            "image/png": "[encoded data removed]",
            "text/plain": [
              "<Figure size 360x360 with 2 Axes>"
            ]
          },
          "metadata": {
            "needs_background": "light"
          }
        }
      ]
    },
    {
      "cell_type": "code",
      "metadata": {
        "colab": {
          "base_uri": "https://localhost:8080/",
          "height": 638
        },
        "id": "dpagk7Ow_uo-",
        "outputId": "5b51081a-c2a3-4b49-9f30-2c2f716d1730"
      },
      "source": [
        "# Modelo SVM para stems\n",
        "previsoes_target = modelo_svm_stems.predict(stems_teste.toarray())\n",
        "cm = confusion_matrix(tweets_teste['target'], previsoes_target)\n",
        "figure(figsize=(5, 5))\n",
        "sns.heatmap(cm, annot=True,cmap=\"Blues\",fmt=\"d\")\n",
        "print(classification_report(tweets_teste['target'], previsoes_target))"
      ],
      "execution_count": 100,
      "outputs": [
        {
          "output_type": "stream",
          "name": "stdout",
          "text": [
            "                     precision    recall  f1-score   support\n",
            "\n",
            "      2020-election       0.85      0.82      0.84        40\n",
            "        adam-schiff       0.84      0.53      0.65        30\n",
            "                cnn       0.83      0.73      0.78        48\n",
            "          democrats       0.70      0.71      0.70       113\n",
            "    hillary-clinton       0.80      0.82      0.81       108\n",
            "impeachment-inquiry       0.50      0.48      0.49        52\n",
            "          joe-biden       0.81      0.82      0.81        83\n",
            "          the-media       0.71      0.79      0.75       194\n",
            " the-new-york-times       0.72      0.81      0.76        59\n",
            "       trump-russia       0.67      0.54      0.60        87\n",
            "\n",
            "           accuracy                           0.73       814\n",
            "          macro avg       0.74      0.71      0.72       814\n",
            "       weighted avg       0.73      0.73      0.73       814\n",
            "\n"
          ]
        },
        {
          "output_type": "display_data",
          "data": {
            "image/png": "[encoded data removed]",
            "text/plain": [
              "<Figure size 360x360 with 2 Axes>"
            ]
          },
          "metadata": {
            "needs_background": "light"
          }
        }
      ]
    },
    {
      "cell_type": "markdown",
      "metadata": {
        "id": "YCjrFDATJBoV"
      },
      "source": [
        "## 8.2 Modelos NB"
      ]
    },
    {
      "cell_type": "code",
      "metadata": {
        "colab": {
          "base_uri": "https://localhost:8080/",
          "height": 638
        },
        "id": "uxkyEF6UIvq5",
        "outputId": "a2d893ab-2d17-4211-9935-529935a5de5b"
      },
      "source": [
        "# Modelo NB para tokens\n",
        "previsoes_target = modelo_nb_tokens.predict(tokens_teste.toarray())\n",
        "cm = confusion_matrix(tweets_teste['target'], previsoes_target)\n",
        "figure(figsize=(5, 5))\n",
        "sns.heatmap(cm, annot=True,cmap=\"OrRd\",fmt=\"d\")\n",
        "print(classification_report(tweets_teste['target'], previsoes_target))"
      ],
      "execution_count": 102,
      "outputs": [
        {
          "output_type": "stream",
          "name": "stdout",
          "text": [
            "                     precision    recall  f1-score   support\n",
            "\n",
            "      2020-election       0.73      0.20      0.31        40\n",
            "        adam-schiff       0.15      0.13      0.14        30\n",
            "                cnn       0.29      0.19      0.23        48\n",
            "          democrats       0.34      0.48      0.40       113\n",
            "    hillary-clinton       0.53      0.43      0.47       108\n",
            "impeachment-inquiry       0.29      0.23      0.26        52\n",
            "          joe-biden       0.42      0.33      0.36        83\n",
            "          the-media       0.33      0.46      0.38       194\n",
            " the-new-york-times       0.44      0.29      0.35        59\n",
            "       trump-russia       0.32      0.31      0.31        87\n",
            "\n",
            "           accuracy                           0.36       814\n",
            "          macro avg       0.38      0.30      0.32       814\n",
            "       weighted avg       0.38      0.36      0.36       814\n",
            "\n"
          ]
        },
        {
          "output_type": "display_data",
          "data": {
            "image/png": "[encoded data removed]",
            "text/plain": [
              "<Figure size 360x360 with 2 Axes>"
            ]
          },
          "metadata": {
            "needs_background": "light"
          }
        }
      ]
    },
    {
      "cell_type": "code",
      "metadata": {
        "colab": {
          "base_uri": "https://localhost:8080/",
          "height": 638
        },
        "id": "vFZnvm3ZEdfY",
        "outputId": "7ad3a763-d855-4a07-8741-70b55228d193"
      },
      "source": [
        "# Modelo NB para stems\n",
        "previsoes_target = modelo_nb_stems.predict(stems_teste.toarray())\n",
        "cm = confusion_matrix(tweets_teste['target'], previsoes_target)\n",
        "figure(figsize=(5, 5))\n",
        "sns.heatmap(cm, annot=True,cmap=\"OrRd\",fmt=\"d\")\n",
        "print(classification_report(tweets_teste['target'], previsoes_target))"
      ],
      "execution_count": 67,
      "outputs": [
        {
          "output_type": "stream",
          "name": "stdout",
          "text": [
            "                     precision    recall  f1-score   support\n",
            "\n",
            "      2020-election       0.71      0.25      0.37        40\n",
            "        adam-schiff       0.13      0.13      0.13        30\n",
            "                cnn       0.26      0.19      0.22        48\n",
            "          democrats       0.33      0.40      0.36       113\n",
            "    hillary-clinton       0.42      0.39      0.41       108\n",
            "impeachment-inquiry       0.26      0.29      0.27        52\n",
            "          joe-biden       0.36      0.33      0.34        83\n",
            "          the-media       0.31      0.39      0.35       194\n",
            " the-new-york-times       0.34      0.20      0.26        59\n",
            "       trump-russia       0.27      0.26      0.27        87\n",
            "\n",
            "           accuracy                           0.32       814\n",
            "          macro avg       0.34      0.28      0.30       814\n",
            "       weighted avg       0.34      0.32      0.32       814\n",
            "\n"
          ]
        },
        {
          "output_type": "display_data",
          "data": {
            "image/png": "[encoded data removed]",
            "text/plain": [
              "<Figure size 360x360 with 2 Axes>"
            ]
          },
          "metadata": {
            "needs_background": "light"
          }
        }
      ]
    },
    {
      "cell_type": "markdown",
      "metadata": {
        "id": "S24JgsU7JQT0"
      },
      "source": [
        "## 8.3 Modelos RegLog"
      ]
    },
    {
      "cell_type": "code",
      "metadata": {
        "colab": {
          "base_uri": "https://localhost:8080/",
          "height": 638
        },
        "id": "0tNYaT8KJVGT",
        "outputId": "9bf8162a-7b09-4ddb-810f-3a40ac6b0a57"
      },
      "source": [
        "# Modelo RegLog para tokens\n",
        "previsoes_target = modelo_reglog_tokens.predict(tokens_teste.toarray())\n",
        "cm = confusion_matrix(tweets_teste['target'], previsoes_target)\n",
        "figure(figsize=(5, 5))\n",
        "sns.heatmap(cm, annot=True,cmap=\"YlGn\",fmt=\"d\")\n",
        "print(classification_report(tweets_teste['target'], previsoes_target))"
      ],
      "execution_count": 104,
      "outputs": [
        {
          "output_type": "stream",
          "name": "stdout",
          "text": [
            "                     precision    recall  f1-score   support\n",
            "\n",
            "      2020-election       0.94      0.85      0.89        40\n",
            "        adam-schiff       0.89      0.57      0.69        30\n",
            "                cnn       0.80      0.77      0.79        48\n",
            "          democrats       0.81      0.77      0.79       113\n",
            "    hillary-clinton       0.81      0.84      0.83       108\n",
            "impeachment-inquiry       0.53      0.54      0.53        52\n",
            "          joe-biden       0.86      0.83      0.85        83\n",
            "          the-media       0.72      0.84      0.77       194\n",
            " the-new-york-times       0.78      0.78      0.78        59\n",
            "       trump-russia       0.70      0.61      0.65        87\n",
            "\n",
            "           accuracy                           0.77       814\n",
            "          macro avg       0.78      0.74      0.76       814\n",
            "       weighted avg       0.77      0.77      0.77       814\n",
            "\n"
          ]
        },
        {
          "output_type": "display_data",
          "data": {
            "image/png": "[encoded data removed]",
            "text/plain": [
              "<Figure size 360x360 with 2 Axes>"
            ]
          },
          "metadata": {
            "needs_background": "light"
          }
        }
      ]
    },
    {
      "cell_type": "code",
      "metadata": {
        "colab": {
          "base_uri": "https://localhost:8080/",
          "height": 638
        },
        "id": "x0TdTtLVEqTK",
        "outputId": "c811b048-d9d9-41db-8246-7e638ad895f1"
      },
      "source": [
        "# Modelo RegLog para stems\n",
        "previsoes_target = modelo_reglog_stems.predict(stems_teste.toarray())\n",
        "cm = confusion_matrix(tweets_teste['target'], previsoes_target)\n",
        "figure(figsize=(5, 5))\n",
        "sns.heatmap(cm, annot=True,cmap=\"YlGn\",fmt=\"d\")\n",
        "print(classification_report(tweets_teste['target'], previsoes_target))"
      ],
      "execution_count": 68,
      "outputs": [
        {
          "output_type": "stream",
          "name": "stdout",
          "text": [
            "                     precision    recall  f1-score   support\n",
            "\n",
            "      2020-election       0.92      0.82      0.87        40\n",
            "        adam-schiff       0.85      0.57      0.68        30\n",
            "                cnn       0.82      0.75      0.78        48\n",
            "          democrats       0.75      0.74      0.75       113\n",
            "    hillary-clinton       0.80      0.83      0.82       108\n",
            "impeachment-inquiry       0.50      0.52      0.51        52\n",
            "          joe-biden       0.86      0.83      0.85        83\n",
            "          the-media       0.71      0.84      0.77       194\n",
            " the-new-york-times       0.80      0.80      0.80        59\n",
            "       trump-russia       0.69      0.55      0.61        87\n",
            "\n",
            "           accuracy                           0.75       814\n",
            "          macro avg       0.77      0.73      0.74       814\n",
            "       weighted avg       0.76      0.75      0.75       814\n",
            "\n"
          ]
        },
        {
          "output_type": "display_data",
          "data": {
            "image/png": "[encoded data removed]",
            "text/plain": [
              "<Figure size 360x360 with 2 Axes>"
            ]
          },
          "metadata": {
            "needs_background": "light"
          }
        }
      ]
    },
    {
      "cell_type": "markdown",
      "metadata": {
        "id": "HHrc2grnsBSf"
      },
      "source": [
        "# Considerações Finais\n",
        "\n",
        "Esse projeto foi desenvolvido com os objetivos de apresentar uma breve análise de sentimento e de construir e comparar distintos modelos de classificação de texto. O uso da ferramenta TextBlob permitiu realizar uma análise de sentimento básica através da quantificação da polarização dos tweets ofensivos de Donald Trump, isso permitiu a observação de um comportamento anormal dos valores e de possíveis hipóteses para explicá-lo. Sobre os modelos de classificação, foi possível construir 6 deles, usando três algoritmos e duas formas de representação diferentes dos tweets para treino. Na parte dos modelos foi possível perceber que os dois modelos de Naive Bayes apresentaram resultados piores que os dos outros algoritmos. Já os modelos de Regressão Logística e SVM apresentaram desempenhos equiparáveis, embora RegLog tenha apresentado desempenho melhor para mais classes.\n"
      ]
    }
  ]
}