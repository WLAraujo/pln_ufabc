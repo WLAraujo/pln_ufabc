{
  "nbformat": 4,
  "nbformat_minor": 0,
  "metadata": {
    "colab": {
      "name": "Expressões Regulares.ipynb",
      "provenance": [],
      "collapsed_sections": [
        "AnE2sfs11MgD",
        "3IdS2FQbvcEX",
        "D-I_8njXvDse",
        "2jGK2ia-yunR",
        "GbEhNWbZ1A7B",
        "PXodxvzk2FTh",
        "fWa-0MDG3J7f",
        "0RdMdluT-6jV",
        "YxrYiygmFRcN",
        "9BqwZqjGF8uc",
        "hP0HKAc3KVmw",
        "Lc9bPR8mNkcD",
        "Z7IlK2poRUvg",
        "2z8sTfu6RusM",
        "P8Ja-JwQU2gR",
        "o5QvG21hazI1",
        "WJ5kWihKfL94"
      ],
      "authorship_tag": "ABX9TyPPY1o4kUI6MBPeRm/9y/Z/"
    },
    "kernelspec": {
      "name": "python3",
      "display_name": "Python 3"
    },
    "language_info": {
      "name": "python"
    }
  },
  "cells": [
    {
      "cell_type": "markdown",
      "metadata": {
        "id": "1IAOjCUsvHF0"
      },
      "source": [
        "## Expressões Regulares"
      ]
    },
    {
      "cell_type": "markdown",
      "metadata": {
        "id": "AnE2sfs11MgD"
      },
      "source": [
        "## Resumo de Expressões Regulares"
      ]
    },
    {
      "cell_type": "markdown",
      "metadata": {
        "id": "zCVmBx6qt_ZA"
      },
      "source": [
        "**Disjunções ([ ]):**\n",
        "\n",
        "* [cC] - c ou C\n",
        "* [a-z] - Letras minúsculas\n",
        "* [A-Z] - Letras maiúsculas\n",
        "* [^A-Z] - Não é um caracactere maiúsculo\n",
        "* [^sS] - Nem s nem S\n",
        "\n",
        "**Operador OU ( | ):**\n",
        "\n",
        "* [cC]apivara|[cC]arpincho - Duas palavras\n",
        "* [eu]|[ele] - eu ou ele\n",
        "\n",
        "**Operador de predecessor opcional (?):**\n",
        "\n",
        "* pa?ra - para ou pra\n",
        "\n",
        "**Caractere predecessor 0 ou mais vezes (*):**\n",
        "\n",
        "* aa*h! - ah!, aah!, aaah!, etc\n",
        "\n",
        "**Caractere predecessor 1 ou mais vezes (+):**\n",
        "\n",
        "* a+h! - ah!, aah!, aaah!, etc\n",
        "\n",
        "**Caractere predecessor de m a n vezes ({m,n}):**\n",
        "\n",
        "* a{1,3}h! - ah!, aah!, aaah!\n",
        "\n",
        "**Qualquer caractere (.):**\n",
        "\n",
        "* ca.a - casa, caça, cara, etc\n",
        "\n",
        "**Caractere âncora de início de linha (^):**\n",
        "\n",
        "* ^[A-Z] - Linha começa com letra maiúscula\n",
        "\n",
        "**Caractere âncora de final de final de linha ($):**\n",
        "\n",
        "* a$ - Termina com letra a\n",
        "\n",
        "**Ordem de precedência:**\n",
        "\n",
        "1. Parênteses\n",
        "2. Quantizadores\n",
        "3. Âncoras\n",
        "4. Disjunção\n",
        "\n",
        "**Uso de \\ para representar grupo ou caractere especial:**\n",
        "\n",
        "* \\w - qualquer caractere alfanumérico\n",
        "* \\W - Qualquer caractere não alfanumérico\n",
        "* \\d - Qualquer caractere que seja dígito\n",
        "* \\D - Qualquer caractere não dígito\n",
        "* \\s - Espaço em branco\n",
        "\n",
        "**Grupo -** Cada sub-expressão entre parênteses em uma expressão regular é um grupo. \n",
        "\n",
        "**Obs.** Caso seja necessário representar um caractere especial na regex, como \"(\" ou \"$\", coloque um \"\\\" antes do caractere. \n"
      ]
    },
    {
      "cell_type": "markdown",
      "metadata": {
        "id": "3IdS2FQbvcEX"
      },
      "source": [
        "## Importando a biblioteca re"
      ]
    },
    {
      "cell_type": "code",
      "metadata": {
        "id": "EjbHdv_-tmsG"
      },
      "source": [
        "# Importando biblioteca de regex\n",
        "import re"
      ],
      "execution_count": 2,
      "outputs": []
    },
    {
      "cell_type": "markdown",
      "metadata": {
        "id": "D-I_8njXvDse"
      },
      "source": [
        "## Encontrando padrões"
      ]
    },
    {
      "cell_type": "code",
      "metadata": {
        "id": "x8gtoOEU8deI",
        "colab": {
          "base_uri": "https://localhost:8080/"
        },
        "outputId": "2815dc67-f3cc-44ad-e89e-913b4b445ff6"
      },
      "source": [
        "# Definindo um objeto regex para reconhecer números através de .compile\n",
        "\n",
        "num_telefone_ex = re.compile(r'\\d{3}-\\d{3}-\\d{4}')\n",
        "\n",
        "# Usando o método search para procurar num texto a regex definida\n",
        "\n",
        "num_telefone = num_telefone_ex.search(\"My number is 415-555-4242.\")\n",
        "\n",
        "# Imprimindo os valores encontrados\n",
        "\n",
        "print(num_telefone.group())"
      ],
      "execution_count": null,
      "outputs": [
        {
          "output_type": "stream",
          "name": "stdout",
          "text": [
            "415-555-4242\n"
          ]
        }
      ]
    },
    {
      "cell_type": "code",
      "metadata": {
        "colab": {
          "base_uri": "https://localhost:8080/"
        },
        "id": "lM_NRmH-xOaM",
        "outputId": "c4e34ffa-ff8a-48e0-eafa-2b6e2f722aea"
      },
      "source": [
        "# Usando grupos através de  parênteses\n",
        "\n",
        "num_telefone_ex = re.compile(r'(\\d{3})-(\\d{3})-(\\d{4})')\n",
        "num_telefone = num_telefone_ex.search(\"My number is 415-555-4242.\")\n",
        "\n",
        "# Mostrando os três grupos que temos\n",
        "\n",
        "print(num_telefone.group(0))\n",
        "print(num_telefone.group(1))\n",
        "print(num_telefone.group(2))\n",
        "print(num_telefone.group(3))"
      ],
      "execution_count": null,
      "outputs": [
        {
          "output_type": "stream",
          "name": "stdout",
          "text": [
            "415-555-4242\n",
            "415\n",
            "555\n",
            "4242\n"
          ]
        }
      ]
    },
    {
      "cell_type": "markdown",
      "metadata": {
        "id": "2jGK2ia-yunR"
      },
      "source": [
        "## Correspondência exata e variações"
      ]
    },
    {
      "cell_type": "code",
      "metadata": {
        "colab": {
          "base_uri": "https://localhost:8080/"
        },
        "id": "04OLA0I_y2H8",
        "outputId": "296fd2eb-fca7-4374-b636-914e03d1465c"
      },
      "source": [
        "heroi_regex = re.compile(r'Batman|Robin|Superman|Mulher-Maravilha')\n",
        "heroi = heroi_regex.search('A dupla dinâmica: Batman e Robin')\n",
        "\n",
        "# Vai devolver o primeiro match encontrado\n",
        "print(heroi.group())\n",
        "\n",
        "# Caso quisermos ver todos os matches\n",
        "heroi = heroi_regex.findall('A dupla dinâmica: Batman e Robin')\n",
        "print(heroi)"
      ],
      "execution_count": null,
      "outputs": [
        {
          "output_type": "stream",
          "name": "stdout",
          "text": [
            "Batman\n",
            "['Batman', 'Robin']\n"
          ]
        }
      ]
    },
    {
      "cell_type": "code",
      "metadata": {
        "colab": {
          "base_uri": "https://localhost:8080/"
        },
        "id": "5rUFBkfgy2Mi",
        "outputId": "ea112224-18f0-480d-da6c-cbf45fbd8a40"
      },
      "source": [
        "# Encontrando variações e os valores de seus respectivos grupos\n",
        "bat_regex = re.compile(r'Bat(man|mobile|belt)')\n",
        "bat_ = bat_regex.search('O Batmobile perdeu uma roda!')\n",
        "\n",
        "print(bat_.group())\n",
        "print(bat_.group(0))\n",
        "print(bat_.group(1))"
      ],
      "execution_count": null,
      "outputs": [
        {
          "output_type": "stream",
          "name": "stdout",
          "text": [
            "Batmobile\n",
            "Batmobile\n",
            "mobile\n"
          ]
        }
      ]
    },
    {
      "cell_type": "markdown",
      "metadata": {
        "id": "GbEhNWbZ1A7B"
      },
      "source": [
        "## Correspondência opcional\n"
      ]
    },
    {
      "cell_type": "code",
      "metadata": {
        "colab": {
          "base_uri": "https://localhost:8080/"
        },
        "id": "DpDWD1ut1EDY",
        "outputId": "791c75aa-b2b4-40d8-c4f7-120b98a778bc"
      },
      "source": [
        "# Uso de correspondência opcional\n",
        "bat_regex = re.compile(r'[bB]at(wo)?man')\n",
        "\n",
        "batman = bat_regex.search('Batman e Robin')\n",
        "batwoman = bat_regex.search('As aventuras de batwoman')\n",
        "\n",
        "print(batman.group())\n",
        "print(batwoman.group())"
      ],
      "execution_count": null,
      "outputs": [
        {
          "output_type": "stream",
          "name": "stdout",
          "text": [
            "Batman\n",
            "batwoman\n"
          ]
        }
      ]
    },
    {
      "cell_type": "markdown",
      "metadata": {
        "id": "PXodxvzk2FTh"
      },
      "source": [
        "## Correspondência de zero ou mais ocorrências e de uma ou mais ocorrências"
      ]
    },
    {
      "cell_type": "code",
      "metadata": {
        "colab": {
          "base_uri": "https://localhost:8080/"
        },
        "id": "V4QHsqfj2BZX",
        "outputId": "185a8513-6ff8-4db6-e342-4fe1a5ceac1c"
      },
      "source": [
        "# Correspondência de zero ou mais ocorrências\n",
        "bat_regex = re.compile(r'[Bb]at(man|woman)*')\n",
        "bat = bat_regex.search('Estamos falando do batmobile')\n",
        "\n",
        "# Correspondência de uma ou mais ocorrências\n",
        "bat_regex = re.compile(r'[Bb]at(man|woman)+')\n",
        "batman = bat_regex.search('Estamos falando do batmobile')\n",
        "\n",
        "# Comparando resultados\n",
        "print(bat.group())\n",
        "print(batman)"
      ],
      "execution_count": null,
      "outputs": [
        {
          "output_type": "stream",
          "name": "stdout",
          "text": [
            "bat\n",
            "None\n"
          ]
        }
      ]
    },
    {
      "cell_type": "markdown",
      "metadata": {
        "id": "fWa-0MDG3J7f"
      },
      "source": [
        "## Número limitado de repetições"
      ]
    },
    {
      "cell_type": "code",
      "metadata": {
        "id": "21DnTych3IyX",
        "colab": {
          "base_uri": "https://localhost:8080/"
        },
        "outputId": "6a45f3c4-360e-413b-fcdc-c3f3264c82d9"
      },
      "source": [
        "# Especificando a quantidade de repetições\n",
        "ha_regex = re.compile(r'(Ha){3}!')\n",
        "print(ha_regex.search('HaHaHa!') != None)\n",
        "print(ha_regex.search('HaHa!') != None)"
      ],
      "execution_count": 4,
      "outputs": [
        {
          "output_type": "stream",
          "name": "stdout",
          "text": [
            "True\n",
            "False\n"
          ]
        }
      ]
    },
    {
      "cell_type": "markdown",
      "metadata": {
        "id": "0RdMdluT-6jV"
      },
      "source": [
        "## Correspondências greedy e nongreedy"
      ]
    },
    {
      "cell_type": "code",
      "metadata": {
        "colab": {
          "base_uri": "https://localhost:8080/",
          "height": 36
        },
        "id": "-T3Jnl75_Jhh",
        "outputId": "4dc58cab-a817-410c-f285-3ea24b299888"
      },
      "source": [
        "# Por default, quando há uma correspondência ambígua o python pega a correspondência de maior tamanho\n",
        "# A correspondência de maior tamanho é conhecida como correspondência greedy (gulosa)\n",
        "guloso_ha_regex = re.compile(r'(Ha){3,5}')\n",
        "ha_guloso = guloso_ha_regex.search('HaHaHaHaHa')\n",
        "ha_guloso.group()"
      ],
      "execution_count": 9,
      "outputs": [
        {
          "output_type": "execute_result",
          "data": {
            "application/vnd.google.colaboratory.intrinsic+json": {
              "type": "string"
            },
            "text/plain": [
              "'HaHaHaHaHa'"
            ]
          },
          "metadata": {},
          "execution_count": 9
        }
      ]
    },
    {
      "cell_type": "code",
      "metadata": {
        "colab": {
          "base_uri": "https://localhost:8080/",
          "height": 36
        },
        "id": "5FUsm3V_BUEE",
        "outputId": "e541dd22-6e64-404a-bb41-81c408b9adc9"
      },
      "source": [
        "# Agora, caso queiramos que se reconheça a correspondência não greedy, isso é, a menor, usamos o caractere ? no final da regex\n",
        "guloso_ha_regex = re.compile(r'(Ha){3,5}?')\n",
        "ha_guloso = guloso_ha_regex.search('HaHaHaHaHa')\n",
        "ha_guloso.group()"
      ],
      "execution_count": 10,
      "outputs": [
        {
          "output_type": "execute_result",
          "data": {
            "application/vnd.google.colaboratory.intrinsic+json": {
              "type": "string"
            },
            "text/plain": [
              "'HaHaHa'"
            ]
          },
          "metadata": {},
          "execution_count": 10
        }
      ]
    },
    {
      "cell_type": "markdown",
      "metadata": {
        "id": "YxrYiygmFRcN"
      },
      "source": [
        "## Método findall()"
      ]
    },
    {
      "cell_type": "code",
      "metadata": {
        "colab": {
          "base_uri": "https://localhost:8080/"
        },
        "id": "ylgREmKQFQ4w",
        "outputId": "3f541f3f-c033-47bd-e294-1a514ca0f5f0"
      },
      "source": [
        "# O método findall é muito útil quando queremos encontrar todas as correspondência de uma determinada regex\n",
        "# Segue um exemplo onde queremos encontrar múltiplos números de telefone mas a regex não possui grupos\n",
        "num_regex = re.compile(r'\\d\\d\\d-\\d\\d\\d-\\d\\d\\d\\d')\n",
        "num_regex.findall('Cell: 415-555-9999 Work: 212-555-0000')"
      ],
      "execution_count": 11,
      "outputs": [
        {
          "output_type": "execute_result",
          "data": {
            "text/plain": [
              "['415-555-9999', '212-555-0000']"
            ]
          },
          "metadata": {},
          "execution_count": 11
        }
      ]
    },
    {
      "cell_type": "code",
      "metadata": {
        "colab": {
          "base_uri": "https://localhost:8080/"
        },
        "id": "k5K6LQ4QFQ-l",
        "outputId": "2f35f1b6-3486-49df-8380-b89575e6161f"
      },
      "source": [
        "# Agora, caso a regex possua grupos, ele ordena os grupos através de tuplas e coloca as correspondências em uma lista\n",
        "num_regex = re.compile(r'(\\d\\d\\d)-(\\d\\d\\d)-(\\d\\d\\d\\d)')\n",
        "num_regex.findall('Cell: 415-555-9999 Work: 212-555-0000')"
      ],
      "execution_count": 12,
      "outputs": [
        {
          "output_type": "execute_result",
          "data": {
            "text/plain": [
              "[('415', '555', '9999'), ('212', '555', '0000')]"
            ]
          },
          "metadata": {},
          "execution_count": 12
        }
      ]
    },
    {
      "cell_type": "markdown",
      "metadata": {
        "id": "9BqwZqjGF8uc"
      },
      "source": [
        "## Classes de caracteres"
      ]
    },
    {
      "cell_type": "code",
      "metadata": {
        "colab": {
          "base_uri": "https://localhost:8080/"
        },
        "id": "J9IABLr-JIIp",
        "outputId": "7d8b1d8f-809b-4385-e462-600a27629a8e"
      },
      "source": [
        "# Classes de caracteres são úteis para reduzir expressões regulares\n",
        "lista_regex = re.compile(r'\\d+\\s\\w+')\n",
        "lista_regex.findall(\"2 café, 3 açucar, 4 macarrão, 1 arroz, 1 feijão, 1 farofa\")"
      ],
      "execution_count": 13,
      "outputs": [
        {
          "output_type": "execute_result",
          "data": {
            "text/plain": [
              "['2 café', '3 açucar', '4 macarrão', '1 arroz', '1 feijão', '1 farofa']"
            ]
          },
          "metadata": {},
          "execution_count": 13
        }
      ]
    },
    {
      "cell_type": "markdown",
      "metadata": {
        "id": "hP0HKAc3KVmw"
      },
      "source": [
        "## Criando classes de palavras"
      ]
    },
    {
      "cell_type": "code",
      "metadata": {
        "colab": {
          "base_uri": "https://localhost:8080/"
        },
        "id": "F20NN-f3K-gj",
        "outputId": "cd09ca7d-3df9-4690-aa8e-95b64cd2ba31"
      },
      "source": [
        "# Para criar classes de palavras próprias podemos usar o operador de disjunção\n",
        "# Quando usamos o ^ dentro do operador de disjunção ele significa negação\n",
        "regex_vogal = re.compile(r'[^aeiouAEIOU\\s]')\n",
        "consoantes = regex_vogal.findall('Vamos ver quantas letras sobram dessa frase quando eliminamos todas as suas vogais')\n",
        "print(len(consoantes))\n",
        "print(consoantes)"
      ],
      "execution_count": 17,
      "outputs": [
        {
          "output_type": "stream",
          "name": "stdout",
          "text": [
            "40\n",
            "['V', 'm', 's', 'v', 'r', 'q', 'n', 't', 's', 'l', 't', 'r', 's', 's', 'b', 'r', 'm', 'd', 's', 's', 'f', 'r', 's', 'q', 'n', 'd', 'l', 'm', 'n', 'm', 's', 't', 'd', 's', 's', 's', 's', 'v', 'g', 's']\n"
          ]
        }
      ]
    },
    {
      "cell_type": "markdown",
      "metadata": {
        "id": "Lc9bPR8mNkcD"
      },
      "source": [
        "## Verificando o começo e o final dos textos"
      ]
    },
    {
      "cell_type": "code",
      "metadata": {
        "colab": {
          "base_uri": "https://localhost:8080/"
        },
        "id": "4FclXK6sNwNa",
        "outputId": "36f3328e-b321-4fe3-d016-4ddac042be23"
      },
      "source": [
        "# Quando usamos ^ fora de um operador de disjunção e no começo de uma expressão ele possui significado de começa com\n",
        "# Quando usamos $ no final de uma expressão ele possui significado de termina com\n",
        "comeca_bom = re.compile(r'^bom')\n",
        "termina_dia = re.compile(r'dia?')\n",
        "print(comeca_bom.search('bom dia') != None)\n",
        "print(termina_dia.search('bom dia') != None)"
      ],
      "execution_count": 19,
      "outputs": [
        {
          "output_type": "stream",
          "name": "stdout",
          "text": [
            "True\n",
            "True\n"
          ]
        }
      ]
    },
    {
      "cell_type": "code",
      "metadata": {
        "colab": {
          "base_uri": "https://localhost:8080/"
        },
        "id": "U5gWgQS5Q8w0",
        "outputId": "2382ea51-569a-4f28-a51c-edccd9bf69c7"
      },
      "source": [
        "termina_numero = re.compile(r'\\d?')\n",
        "comeca_letra = re.compile(r'^\\w')\n",
        "print(termina_numero.search('Esse é o número 123') != None)\n",
        "print(comeca_letra.search('Esse é o número 123') != None)"
      ],
      "execution_count": 20,
      "outputs": [
        {
          "output_type": "stream",
          "name": "stdout",
          "text": [
            "True\n",
            "True\n"
          ]
        }
      ]
    },
    {
      "cell_type": "markdown",
      "metadata": {
        "id": "Z7IlK2poRUvg"
      },
      "source": [
        "## Uso do caracter curinga"
      ]
    },
    {
      "cell_type": "code",
      "metadata": {
        "colab": {
          "base_uri": "https://localhost:8080/"
        },
        "id": "LsX4sU4XRZW1",
        "outputId": "c580b6ee-1052-4e1f-f7b2-4c40bdf7e9cf"
      },
      "source": [
        "# Quando usamos . temos um caracter curinga que pose ser substituído por qualquer letra\n",
        "regex_at = re.compile(r'.at')\n",
        "regex_at.findall(\"The cat in the hat sat on the flat mat.\")"
      ],
      "execution_count": 21,
      "outputs": [
        {
          "output_type": "execute_result",
          "data": {
            "text/plain": [
              "['cat', 'hat', 'sat', 'lat', 'mat']"
            ]
          },
          "metadata": {},
          "execution_count": 21
        }
      ]
    },
    {
      "cell_type": "markdown",
      "metadata": {
        "id": "2z8sTfu6RusM"
      },
      "source": [
        "## Qualquer conjunto de caracteres\n"
      ]
    },
    {
      "cell_type": "code",
      "metadata": {
        "colab": {
          "base_uri": "https://localhost:8080/"
        },
        "id": "wBhyafrUR6tv",
        "outputId": "71d1b2a6-d4ef-4734-d6ca-0f1baa0cb475"
      },
      "source": [
        "# Quando usamos . fazemos referência a apenas um caractere qualquer\n",
        "# Qualquer queremos nos referir a uma sequência de caracteres qualquer usamos .*\n",
        "regex_pontas_digitos = re.compile(r'\\d.*\\d')\n",
        "print(regex_pontas_digitos.search(\"12asojfhndslçfjbdfbdfbhabnfksn32\") != None)\n",
        "print(regex_pontas_digitos.search(\"0 _=+b sn ^sda ? 8\") != None)\n",
        "print(regex_pontas_digitos.search(\"a ? 8\") != None)\n",
        "print(regex_pontas_digitos.search(\"nome\") != None)"
      ],
      "execution_count": 24,
      "outputs": [
        {
          "output_type": "stream",
          "name": "stdout",
          "text": [
            "True\n",
            "True\n",
            "False\n",
            "False\n"
          ]
        }
      ]
    },
    {
      "cell_type": "markdown",
      "metadata": {
        "id": "P8Ja-JwQU2gR"
      },
      "source": [
        "## Incluindo newline na regex"
      ]
    },
    {
      "cell_type": "code",
      "metadata": {
        "colab": {
          "base_uri": "https://localhost:8080/",
          "height": 36
        },
        "id": "Bcsaiq8vVPnF",
        "outputId": "290e9577-61a4-45b8-d859-7c4d7db1a20d"
      },
      "source": [
        "# Podemos ver que o caractere \\n é reconhecido quando tentamos realizar um regex normalmente\n",
        "newline_regex = re.compile('\\n')\n",
        "newline_regex.search('Esse seria\\nO fim de sua vida').group()"
      ],
      "execution_count": 27,
      "outputs": [
        {
          "output_type": "execute_result",
          "data": {
            "application/vnd.google.colaboratory.intrinsic+json": {
              "type": "string"
            },
            "text/plain": [
              "'\\n'"
            ]
          },
          "metadata": {},
          "execution_count": 27
        }
      ]
    },
    {
      "cell_type": "code",
      "metadata": {
        "colab": {
          "base_uri": "https://localhost:8080/",
          "height": 36
        },
        "id": "r2TSjsgmaRFF",
        "outputId": "f236efd5-44dc-4f2d-c974-7e74b4f0c608"
      },
      "source": [
        "# Porém, \\n não é reconhecido quando usamos .*\n",
        "newline_regex = re.compile('.*')\n",
        "newline_regex.search('Esse seria\\nO fim de sua vida').group()"
      ],
      "execution_count": 32,
      "outputs": [
        {
          "output_type": "execute_result",
          "data": {
            "application/vnd.google.colaboratory.intrinsic+json": {
              "type": "string"
            },
            "text/plain": [
              "'Esse seria'"
            ]
          },
          "metadata": {},
          "execution_count": 32
        }
      ]
    },
    {
      "cell_type": "code",
      "metadata": {
        "colab": {
          "base_uri": "https://localhost:8080/",
          "height": 36
        },
        "id": "L41MCRaSZnCR",
        "outputId": "f1c479b5-8a87-48df-e6e9-852b6f26762f"
      },
      "source": [
        "# Vamos fazer com que .* também considere \\n\n",
        "newline_regex = re.compile('.*', re.DOTALL)\n",
        "newline_regex.search('Esse seria\\nO fim de sua vida').group()"
      ],
      "execution_count": 33,
      "outputs": [
        {
          "output_type": "execute_result",
          "data": {
            "application/vnd.google.colaboratory.intrinsic+json": {
              "type": "string"
            },
            "text/plain": [
              "'Esse seria\\nO fim de sua vida'"
            ]
          },
          "metadata": {},
          "execution_count": 33
        }
      ]
    },
    {
      "cell_type": "markdown",
      "metadata": {
        "id": "o5QvG21hazI1"
      },
      "source": [
        "## Ignorar o sensitive case"
      ]
    },
    {
      "cell_type": "code",
      "metadata": {
        "colab": {
          "base_uri": "https://localhost:8080/"
        },
        "id": "LLBHkeiNa4ul",
        "outputId": "8ae0d666-ea39-45cd-d48e-3dc817a0333e"
      },
      "source": [
        "# Para ignorar o sensitive case temos que passar um argumento dentro do método re.compile(), o re.I, IGNORECASE\n",
        "batman_regex = re.compile(r'batman', re.I)\n",
        "print(batman_regex.findall(\"Batman estava fazendo coisas de batman, afinal, ele é o BATMAN\"))"
      ],
      "execution_count": 34,
      "outputs": [
        {
          "output_type": "stream",
          "name": "stdout",
          "text": [
            "['Batman', 'batman', 'BATMAN']\n"
          ]
        }
      ]
    },
    {
      "cell_type": "markdown",
      "metadata": {
        "id": "WJ5kWihKfL94"
      },
      "source": [
        "## Método sub para substituir uma regex por uma outra regex"
      ]
    },
    {
      "cell_type": "code",
      "metadata": {
        "colab": {
          "base_uri": "https://localhost:8080/",
          "height": 36
        },
        "id": "yHGbFWE8fWqS",
        "outputId": "9be535aa-90f2-419a-ed4b-d65cba9fd672"
      },
      "source": [
        "# O método sub() pode ser usado para substituir correspondências por uma outra regex\n",
        "# No caso a seguir, o \\1 é usado para nos referirmos ao primeiro caractere do grupo\n",
        "nome_agentes = re.compile(r'Agent (\\w)\\w*')\n",
        "nome_agentes.sub(r'\\1****', 'Agent Alice told Agent Carol that Agent Eve knew Agent Bob was a double agent.')"
      ],
      "execution_count": 44,
      "outputs": [
        {
          "output_type": "execute_result",
          "data": {
            "application/vnd.google.colaboratory.intrinsic+json": {
              "type": "string"
            },
            "text/plain": [
              "'A**** told C**** that E**** knew B**** was a double agent.'"
            ]
          },
          "metadata": {},
          "execution_count": 44
        }
      ]
    }
  ]
}