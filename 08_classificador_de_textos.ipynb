{
  "nbformat": 4,
  "nbformat_minor": 0,
  "metadata": {
    "colab": {
      "name": "8. Classificador de textos.ipynb",
      "provenance": [],
      "collapsed_sections": [
        "Th6a5Gb28R5e",
        "h4lnsP_JA_SJ",
        "5QwksHvZIKdG",
        "yqYSf3hhOqEI",
        "wrnC3QRmPRO9",
        "xkVoev_IUlMZ",
        "Z5Wd8OHWYDIX",
        "c2W8CCJt0fhd",
        "geqDptA-1-Uk",
        "mN6sf8LE3opm",
        "XFOiA6GP569p"
      ],
      "authorship_tag": "ABX9TyPCAcG73gpfk1PrVyEPbslL"
    },
    "kernelspec": {
      "name": "python3",
      "display_name": "Python 3"
    },
    "language_info": {
      "name": "python"
    }
  },
  "cells": [
    {
      "cell_type": "markdown",
      "metadata": {
        "id": "Thwv9i167mVK"
      },
      "source": [
        "# Classificação de textos\n",
        "\n",
        "Classificação de textos é uma atividade que consiste em categorizar um texto em categorias pré-definidas. Existem várias aplicações, como: classificação de spam, classificação de notícias em categorias, identificação de características de autores, análise de sentimento, etc.\n",
        "\n",
        "Em geral, o processo de classificação envolve um modelo de aprendizado de máquina, sendo constituido em duas etapas:\n",
        "1. Os textos usados para treino do modelo são representados de alguma forma.\n",
        "2. O treino do modelo em si é realizado.\n",
        "\n",
        "Para modelos de classificação de texto, geralmente usamos o paradigma de aprendizado supervisionado, isso é, as categorias de classificação já são conhecidas."
      ]
    },
    {
      "cell_type": "markdown",
      "metadata": {
        "id": "4lN2Y6cK7v4-"
      },
      "source": [
        "# 1. Classificação de comentários da Amazon\n",
        "\n",
        "Usando uma base de dados da Amazon vamos criarum modelo de classificação binária de comentários. O modelo classificará os comentários sobre um produto como positivo ou negativo."
      ]
    },
    {
      "cell_type": "markdown",
      "metadata": {
        "id": "Th6a5Gb28R5e"
      },
      "source": [
        "## 1.1 Importação e análise exploratória"
      ]
    },
    {
      "cell_type": "code",
      "metadata": {
        "colab": {
          "base_uri": "https://localhost:8080/"
        },
        "id": "FdyzNAej8DY-",
        "outputId": "5bae2575-2d5d-4f51-fd6c-d9f214781ed3"
      },
      "source": [
        "# Importando dados\n",
        "!wget https://raw.githubusercontent.com/adalves-ufabc/2021.Q3-PLN/main/Aula%2013/dados/corpus.csv"
      ],
      "execution_count": null,
      "outputs": [
        {
          "output_type": "stream",
          "name": "stdout",
          "text": [
            "--2021-11-18 02:47:50--  https://raw.githubusercontent.com/adalves-ufabc/2021.Q3-PLN/main/Aula%2013/dados/corpus.csv\n",
            "Resolving raw.githubusercontent.com (raw.githubusercontent.com)... 185.199.108.133, 185.199.109.133, 185.199.110.133, ...\n",
            "Connecting to raw.githubusercontent.com (raw.githubusercontent.com)|185.199.108.133|:443... connected.\n",
            "HTTP request sent, awaiting response... 200 OK\n",
            "Length: 4529936 (4.3M) [text/plain]\n",
            "Saving to: ‘corpus.csv’\n",
            "\n",
            "corpus.csv          100%[===================>]   4.32M  --.-KB/s    in 0.06s   \n",
            "\n",
            "2021-11-18 02:47:51 (72.4 MB/s) - ‘corpus.csv’ saved [4529936/4529936]\n",
            "\n"
          ]
        }
      ]
    },
    {
      "cell_type": "code",
      "metadata": {
        "id": "2Qd6Mk2z-QZM"
      },
      "source": [
        "# Importando a pandas\n",
        "import pandas as pd"
      ],
      "execution_count": null,
      "outputs": []
    },
    {
      "cell_type": "code",
      "metadata": {
        "id": "_hl0VK-V-nSs"
      },
      "source": [
        "# Criando dataframe com base no csv\n",
        "comentarios = pd.read_csv(\"corpus.csv\", encoding='latin-1')"
      ],
      "execution_count": null,
      "outputs": []
    },
    {
      "cell_type": "code",
      "metadata": {
        "colab": {
          "base_uri": "https://localhost:8080/",
          "height": 206
        },
        "id": "PUwaA8jC-i_M",
        "outputId": "a5356738-4368-444f-d528-9116b6b8381c"
      },
      "source": [
        "# Visualizando 5 primeiras linhas da tabela\n",
        "comentarios.head()"
      ],
      "execution_count": null,
      "outputs": [
        {
          "output_type": "execute_result",
          "data": {
            "text/html": [
              "<div>\n",
              "<style scoped>\n",
              "    .dataframe tbody tr th:only-of-type {\n",
              "        vertical-align: middle;\n",
              "    }\n",
              "\n",
              "    .dataframe tbody tr th {\n",
              "        vertical-align: top;\n",
              "    }\n",
              "\n",
              "    .dataframe thead th {\n",
              "        text-align: right;\n",
              "    }\n",
              "</style>\n",
              "<table border=\"1\" class=\"dataframe\">\n",
              "  <thead>\n",
              "    <tr style=\"text-align: right;\">\n",
              "      <th></th>\n",
              "      <th>text</th>\n",
              "      <th>label</th>\n",
              "    </tr>\n",
              "  </thead>\n",
              "  <tbody>\n",
              "    <tr>\n",
              "      <th>0</th>\n",
              "      <td>Stuning even for the non-gamer: This sound tr...</td>\n",
              "      <td>positive</td>\n",
              "    </tr>\n",
              "    <tr>\n",
              "      <th>1</th>\n",
              "      <td>The best soundtrack ever to anything.: I'm re...</td>\n",
              "      <td>positive</td>\n",
              "    </tr>\n",
              "    <tr>\n",
              "      <th>2</th>\n",
              "      <td>Amazing!: This soundtrack is my favorite musi...</td>\n",
              "      <td>positive</td>\n",
              "    </tr>\n",
              "    <tr>\n",
              "      <th>3</th>\n",
              "      <td>Excellent Soundtrack: I truly like this sound...</td>\n",
              "      <td>positive</td>\n",
              "    </tr>\n",
              "    <tr>\n",
              "      <th>4</th>\n",
              "      <td>Remember, Pull Your Jaw Off The Floor After H...</td>\n",
              "      <td>positive</td>\n",
              "    </tr>\n",
              "  </tbody>\n",
              "</table>\n",
              "</div>"
            ],
            "text/plain": [
              "                                                text      label\n",
              "0   Stuning even for the non-gamer: This sound tr...  positive \n",
              "1   The best soundtrack ever to anything.: I'm re...  positive \n",
              "2   Amazing!: This soundtrack is my favorite musi...  positive \n",
              "3   Excellent Soundtrack: I truly like this sound...  positive \n",
              "4   Remember, Pull Your Jaw Off The Floor After H...  positive "
            ]
          },
          "metadata": {},
          "execution_count": 5
        }
      ]
    },
    {
      "cell_type": "code",
      "metadata": {
        "colab": {
          "base_uri": "https://localhost:8080/",
          "height": 206
        },
        "id": "pc8xioCg-4zn",
        "outputId": "63313cc0-30ee-45c5-95b2-88eea8964804"
      },
      "source": [
        "# Visualizando 5 últimas linhas da tabela\n",
        "comentarios.tail()"
      ],
      "execution_count": null,
      "outputs": [
        {
          "output_type": "execute_result",
          "data": {
            "text/html": [
              "<div>\n",
              "<style scoped>\n",
              "    .dataframe tbody tr th:only-of-type {\n",
              "        vertical-align: middle;\n",
              "    }\n",
              "\n",
              "    .dataframe tbody tr th {\n",
              "        vertical-align: top;\n",
              "    }\n",
              "\n",
              "    .dataframe thead th {\n",
              "        text-align: right;\n",
              "    }\n",
              "</style>\n",
              "<table border=\"1\" class=\"dataframe\">\n",
              "  <thead>\n",
              "    <tr style=\"text-align: right;\">\n",
              "      <th></th>\n",
              "      <th>text</th>\n",
              "      <th>label</th>\n",
              "    </tr>\n",
              "  </thead>\n",
              "  <tbody>\n",
              "    <tr>\n",
              "      <th>9995</th>\n",
              "      <td>A revelation of life in small town America in...</td>\n",
              "      <td>positive</td>\n",
              "    </tr>\n",
              "    <tr>\n",
              "      <th>9996</th>\n",
              "      <td>Great biography of a very interesting journal...</td>\n",
              "      <td>positive</td>\n",
              "    </tr>\n",
              "    <tr>\n",
              "      <th>9997</th>\n",
              "      <td>Interesting Subject; Poor Presentation: You'd...</td>\n",
              "      <td>negative</td>\n",
              "    </tr>\n",
              "    <tr>\n",
              "      <th>9998</th>\n",
              "      <td>Don't buy: The box looked used and it is obvi...</td>\n",
              "      <td>negative</td>\n",
              "    </tr>\n",
              "    <tr>\n",
              "      <th>9999</th>\n",
              "      <td>Beautiful Pen and Fast Delivery.: The pen was...</td>\n",
              "      <td>positive</td>\n",
              "    </tr>\n",
              "  </tbody>\n",
              "</table>\n",
              "</div>"
            ],
            "text/plain": [
              "                                                   text      label\n",
              "9995   A revelation of life in small town America in...  positive \n",
              "9996   Great biography of a very interesting journal...  positive \n",
              "9997   Interesting Subject; Poor Presentation: You'd...  negative \n",
              "9998   Don't buy: The box looked used and it is obvi...  negative \n",
              "9999   Beautiful Pen and Fast Delivery.: The pen was...  positive "
            ]
          },
          "metadata": {},
          "execution_count": 6
        }
      ]
    },
    {
      "cell_type": "code",
      "metadata": {
        "id": "dVH0tVMb-9d8"
      },
      "source": [
        "# Importando a seaborn\n",
        "import seaborn as sns"
      ],
      "execution_count": null,
      "outputs": []
    },
    {
      "cell_type": "code",
      "metadata": {
        "colab": {
          "base_uri": "https://localhost:8080/",
          "height": 298
        },
        "id": "T4CkGz9oAJ32",
        "outputId": "6232fb79-79c7-45da-f456-1bb7e4e79e20"
      },
      "source": [
        "# Contagem de cada tipo de comentário\n",
        "sns.countplot(x=\"label\",data=comentarios)"
      ],
      "execution_count": null,
      "outputs": [
        {
          "output_type": "execute_result",
          "data": {
            "text/plain": [
              "<matplotlib.axes._subplots.AxesSubplot at 0x7f23f9667910>"
            ]
          },
          "metadata": {},
          "execution_count": 10
        },
        {
          "output_type": "display_data",
          "data": {
            "image/png": "[encoded data removed]",
            "text/plain": [
              "<Figure size 432x288 with 1 Axes>"
            ]
          },
          "metadata": {
            "needs_background": "light"
          }
        }
      ]
    },
    {
      "cell_type": "code",
      "metadata": {
        "colab": {
          "base_uri": "https://localhost:8080/",
          "height": 206
        },
        "id": "4Y5Wmi3SAR4V",
        "outputId": "e4f7e7dc-d95d-4710-cc09-b86327dd861c"
      },
      "source": [
        "# Vamos criar uma coluna que mostra o tamanho de cada documento (comentário)\n",
        "comentarios[\"tam\"] = comentarios[\"text\"].str.len()\n",
        "comentarios.head()"
      ],
      "execution_count": null,
      "outputs": [
        {
          "output_type": "execute_result",
          "data": {
            "text/html": [
              "<div>\n",
              "<style scoped>\n",
              "    .dataframe tbody tr th:only-of-type {\n",
              "        vertical-align: middle;\n",
              "    }\n",
              "\n",
              "    .dataframe tbody tr th {\n",
              "        vertical-align: top;\n",
              "    }\n",
              "\n",
              "    .dataframe thead th {\n",
              "        text-align: right;\n",
              "    }\n",
              "</style>\n",
              "<table border=\"1\" class=\"dataframe\">\n",
              "  <thead>\n",
              "    <tr style=\"text-align: right;\">\n",
              "      <th></th>\n",
              "      <th>text</th>\n",
              "      <th>label</th>\n",
              "      <th>tam</th>\n",
              "    </tr>\n",
              "  </thead>\n",
              "  <tbody>\n",
              "    <tr>\n",
              "      <th>0</th>\n",
              "      <td>Stuning even for the non-gamer: This sound tr...</td>\n",
              "      <td>positive</td>\n",
              "      <td>428</td>\n",
              "    </tr>\n",
              "    <tr>\n",
              "      <th>1</th>\n",
              "      <td>The best soundtrack ever to anything.: I'm re...</td>\n",
              "      <td>positive</td>\n",
              "      <td>510</td>\n",
              "    </tr>\n",
              "    <tr>\n",
              "      <th>2</th>\n",
              "      <td>Amazing!: This soundtrack is my favorite musi...</td>\n",
              "      <td>positive</td>\n",
              "      <td>761</td>\n",
              "    </tr>\n",
              "    <tr>\n",
              "      <th>3</th>\n",
              "      <td>Excellent Soundtrack: I truly like this sound...</td>\n",
              "      <td>positive</td>\n",
              "      <td>744</td>\n",
              "    </tr>\n",
              "    <tr>\n",
              "      <th>4</th>\n",
              "      <td>Remember, Pull Your Jaw Off The Floor After H...</td>\n",
              "      <td>positive</td>\n",
              "      <td>482</td>\n",
              "    </tr>\n",
              "  </tbody>\n",
              "</table>\n",
              "</div>"
            ],
            "text/plain": [
              "                                                text      label  tam\n",
              "0   Stuning even for the non-gamer: This sound tr...  positive   428\n",
              "1   The best soundtrack ever to anything.: I'm re...  positive   510\n",
              "2   Amazing!: This soundtrack is my favorite musi...  positive   761\n",
              "3   Excellent Soundtrack: I truly like this sound...  positive   744\n",
              "4   Remember, Pull Your Jaw Off The Floor After H...  positive   482"
            ]
          },
          "metadata": {},
          "execution_count": 12
        }
      ]
    },
    {
      "cell_type": "code",
      "metadata": {
        "colab": {
          "base_uri": "https://localhost:8080/",
          "height": 388
        },
        "id": "L92W0BJZAYGk",
        "outputId": "ba559a7e-035c-405f-b6e6-4d1c723cf431"
      },
      "source": [
        "# Vamos visualizar a distribuição de tamanhos através de um histograma\n",
        "sns.color_palette(\"Set2\")\n",
        "sns.displot(data=comentarios, x=\"tam\", hue=\"label\", kind=\"hist\", kde=True)"
      ],
      "execution_count": null,
      "outputs": [
        {
          "output_type": "execute_result",
          "data": {
            "text/plain": [
              "<seaborn.axisgrid.FacetGrid at 0x7f23eac7d3d0>"
            ]
          },
          "metadata": {},
          "execution_count": 14
        },
        {
          "output_type": "display_data",
          "data": {
            "image/png": "[encoded data removed]",
            "text/plain": [
              "<Figure size 442.875x360 with 1 Axes>"
            ]
          },
          "metadata": {
            "needs_background": "light"
          }
        }
      ]
    },
    {
      "cell_type": "markdown",
      "metadata": {
        "id": "eQFVtzQzA8ko"
      },
      "source": [
        "Podemos ver que as distribuições são bem parecidas."
      ]
    },
    {
      "cell_type": "markdown",
      "metadata": {
        "id": "h4lnsP_JA_SJ"
      },
      "source": [
        "## 1.2 Pré-processamento"
      ]
    },
    {
      "cell_type": "code",
      "metadata": {
        "colab": {
          "base_uri": "https://localhost:8080/"
        },
        "id": "flVaeCNmBDwq",
        "outputId": "48943cf5-a564-48db-8e98-8b7694a74089"
      },
      "source": [
        "# Importando a nltk e alguns corpus que serão úteis nos processos de limpeza, tokenização e lemmatização\n",
        "import nltk\n",
        "nltk.download('punkt')\n",
        "nltk.download('stopwords')\n",
        "nltk.download('wordnet')\n",
        "from nltk.tokenize import wordpunct_tokenize\n",
        "from nltk.corpus import stopwords\n",
        "from nltk.stem.porter import PorterStemmer\n",
        "from nltk.stem.wordnet import WordNetLemmatizer\n",
        "import string"
      ],
      "execution_count": null,
      "outputs": [
        {
          "output_type": "stream",
          "name": "stdout",
          "text": [
            "[nltk_data] Downloading package punkt to /root/nltk_data...\n",
            "[nltk_data]   Package punkt is already up-to-date!\n",
            "[nltk_data] Downloading package stopwords to /root/nltk_data...\n",
            "[nltk_data]   Package stopwords is already up-to-date!\n",
            "[nltk_data] Downloading package wordnet to /root/nltk_data...\n",
            "[nltk_data]   Package wordnet is already up-to-date!\n"
          ]
        }
      ]
    },
    {
      "cell_type": "code",
      "metadata": {
        "id": "udomt_GNC1Fa"
      },
      "source": [
        "# Criando função de limpeza, remoção de stopwords e redução a stem/lemma\n",
        "def pre_processamento(texto, reducao = None):\n",
        "  # Tokenização\n",
        "  tokens = wordpunct_tokenize(texto) \n",
        "  # Conversão para minúsculo\n",
        "  tokens = [token.lower() for token in tokens]\n",
        "  # Remoção de stopwords\n",
        "  sws = stopwords.words('english')\n",
        "  tokens = [token for token in tokens if token not in sws]\n",
        "  # Remoção de pontuação\n",
        "  tokens = [token for token in tokens if token not in string.punctuation]\n",
        "  if reducao == 'lemmatizer':\n",
        "    wnl = WordNetLemmatizer()\n",
        "    tokens = [wnl.lemmatize(token) for token in tokens] \n",
        "  elif reducao == 'stemmer':\n",
        "    stm = PorterStemmer()\n",
        "    tokens = [stm.stem(word = token) for token in tokens]\n",
        "  return tokens"
      ],
      "execution_count": null,
      "outputs": []
    },
    {
      "cell_type": "code",
      "metadata": {
        "id": "kNh8VvlsGGJ2"
      },
      "source": [
        "# Vamos usar a nossa nova função para criar duas novas colunas, uma com os lemmas e outra com os stems\n",
        "comentarios['stems'] = [pre_processamento(texto,reducao='stemmer') for texto in comentarios['text']]\n",
        "comentarios['lemmas'] = [pre_processamento(texto,reducao='lemmatizer') for texto in comentarios['text']]"
      ],
      "execution_count": null,
      "outputs": []
    },
    {
      "cell_type": "code",
      "metadata": {
        "colab": {
          "base_uri": "https://localhost:8080/",
          "height": 206
        },
        "id": "GkhsDdeFG3yG",
        "outputId": "09429866-5e52-4f4e-8173-afc833a6ed6b"
      },
      "source": [
        "# Visualizando novas colunas\n",
        "comentarios.head()"
      ],
      "execution_count": null,
      "outputs": [
        {
          "output_type": "execute_result",
          "data": {
            "text/html": [
              "<div>\n",
              "<style scoped>\n",
              "    .dataframe tbody tr th:only-of-type {\n",
              "        vertical-align: middle;\n",
              "    }\n",
              "\n",
              "    .dataframe tbody tr th {\n",
              "        vertical-align: top;\n",
              "    }\n",
              "\n",
              "    .dataframe thead th {\n",
              "        text-align: right;\n",
              "    }\n",
              "</style>\n",
              "<table border=\"1\" class=\"dataframe\">\n",
              "  <thead>\n",
              "    <tr style=\"text-align: right;\">\n",
              "      <th></th>\n",
              "      <th>text</th>\n",
              "      <th>label</th>\n",
              "      <th>tam</th>\n",
              "      <th>stems</th>\n",
              "      <th>lemmas</th>\n",
              "    </tr>\n",
              "  </thead>\n",
              "  <tbody>\n",
              "    <tr>\n",
              "      <th>0</th>\n",
              "      <td>Stuning even for the non-gamer: This sound tr...</td>\n",
              "      <td>positive</td>\n",
              "      <td>428</td>\n",
              "      <td>[stune, even, non, gamer, sound, track, beauti...</td>\n",
              "      <td>[stuning, even, non, gamer, sound, track, beau...</td>\n",
              "    </tr>\n",
              "    <tr>\n",
              "      <th>1</th>\n",
              "      <td>The best soundtrack ever to anything.: I'm re...</td>\n",
              "      <td>positive</td>\n",
              "      <td>510</td>\n",
              "      <td>[best, soundtrack, ever, anyth, .:, read, lot,...</td>\n",
              "      <td>[best, soundtrack, ever, anything, .:, reading...</td>\n",
              "    </tr>\n",
              "    <tr>\n",
              "      <th>2</th>\n",
              "      <td>Amazing!: This soundtrack is my favorite musi...</td>\n",
              "      <td>positive</td>\n",
              "      <td>761</td>\n",
              "      <td>[amaz, !:, soundtrack, favorit, music, time, h...</td>\n",
              "      <td>[amazing, !:, soundtrack, favorite, music, tim...</td>\n",
              "    </tr>\n",
              "    <tr>\n",
              "      <th>3</th>\n",
              "      <td>Excellent Soundtrack: I truly like this sound...</td>\n",
              "      <td>positive</td>\n",
              "      <td>744</td>\n",
              "      <td>[excel, soundtrack, truli, like, soundtrack, e...</td>\n",
              "      <td>[excellent, soundtrack, truly, like, soundtrac...</td>\n",
              "    </tr>\n",
              "    <tr>\n",
              "      <th>4</th>\n",
              "      <td>Remember, Pull Your Jaw Off The Floor After H...</td>\n",
              "      <td>positive</td>\n",
              "      <td>482</td>\n",
              "      <td>[rememb, pull, jaw, floor, hear, play, game, k...</td>\n",
              "      <td>[remember, pull, jaw, floor, hearing, played, ...</td>\n",
              "    </tr>\n",
              "  </tbody>\n",
              "</table>\n",
              "</div>"
            ],
            "text/plain": [
              "                                                text  ...                                             lemmas\n",
              "0   Stuning even for the non-gamer: This sound tr...  ...  [stuning, even, non, gamer, sound, track, beau...\n",
              "1   The best soundtrack ever to anything.: I'm re...  ...  [best, soundtrack, ever, anything, .:, reading...\n",
              "2   Amazing!: This soundtrack is my favorite musi...  ...  [amazing, !:, soundtrack, favorite, music, tim...\n",
              "3   Excellent Soundtrack: I truly like this sound...  ...  [excellent, soundtrack, truly, like, soundtrac...\n",
              "4   Remember, Pull Your Jaw Off The Floor After H...  ...  [remember, pull, jaw, floor, hearing, played, ...\n",
              "\n",
              "[5 rows x 5 columns]"
            ]
          },
          "metadata": {},
          "execution_count": 35
        }
      ]
    },
    {
      "cell_type": "markdown",
      "metadata": {
        "id": "5QwksHvZIKdG"
      },
      "source": [
        "## 1.3 Análise qualitativa com nuvens de palavras\n"
      ]
    },
    {
      "cell_type": "code",
      "metadata": {
        "id": "XhyCbrZuLBfi"
      },
      "source": [
        "# Importação de pacotes de visualização de nuvens\n",
        "import matplotlib.pyplot as plt\n",
        "from wordcloud import WordCloud\n",
        "from collections import Counter"
      ],
      "execution_count": null,
      "outputs": []
    },
    {
      "cell_type": "code",
      "metadata": {
        "id": "Q2rm2WY8LRAp"
      },
      "source": [
        "# Definindo função para gerar nuvem de palavras\n",
        "def nuvem_palavras(texto, titulo, tam = 50):\n",
        "  # Calculando frequência de cada termo\n",
        "  freqs = Counter(token for documento in texto for token in set(documento))\n",
        "  # Gerando nuvem de palavras\n",
        "  wc = WordCloud()\n",
        "  wc.generate_from_frequencies(dict(freqs.most_common(tam)))\n",
        "  # Plotando nuvem de palavras\n",
        "  plt.figure()\n",
        "  plt.imshow(wc, interpolation=\"bilinear\")\n",
        "  plt.title(titulo)\n",
        "  plt.axis(\"off\")\n",
        "  plt.show()"
      ],
      "execution_count": null,
      "outputs": []
    },
    {
      "cell_type": "code",
      "metadata": {
        "colab": {
          "base_uri": "https://localhost:8080/",
          "height": 214
        },
        "id": "K3bKHKTTM0LY",
        "outputId": "03f41e6b-c90a-4641-c0fa-d9f1852bd516"
      },
      "source": [
        "# Geração para coluna stems\n",
        "nuvem_palavras(comentarios['stems'],\"Stems\", 15)"
      ],
      "execution_count": null,
      "outputs": [
        {
          "output_type": "display_data",
          "data": {
            "image/png": "[encoded data removed]",
            "text/plain": [
              "<Figure size 432x288 with 1 Axes>"
            ]
          },
          "metadata": {
            "needs_background": "light"
          }
        }
      ]
    },
    {
      "cell_type": "code",
      "metadata": {
        "colab": {
          "base_uri": "https://localhost:8080/",
          "height": 214
        },
        "id": "t5A-VMchNG7b",
        "outputId": "bfefffb5-aa55-4404-e0be-36d60b884f24"
      },
      "source": [
        "# Geração para coluna lemma\n",
        "nuvem_palavras(comentarios['lemmas'],\"Lemmas\", 15)"
      ],
      "execution_count": null,
      "outputs": [
        {
          "output_type": "display_data",
          "data": {
            "image/png": "[encoded data removed]",
            "text/plain": [
              "<Figure size 432x288 with 1 Axes>"
            ]
          },
          "metadata": {
            "needs_background": "light"
          }
        }
      ]
    },
    {
      "cell_type": "code",
      "metadata": {
        "colab": {
          "base_uri": "https://localhost:8080/",
          "height": 411
        },
        "id": "R__x9MrWNtuI",
        "outputId": "f4a97697-0923-4065-ea0f-2a7644e6a40a"
      },
      "source": [
        "# Vendo quais os stems mais frequentes em comentários positivos e negativos\n",
        "nuvem_palavras(comentarios['stems'][comentarios['label'].str.match('positive')],\"Stems - Positivos\", 15)\n",
        "nuvem_palavras(comentarios['stems'][comentarios['label'].str.match('negative')],\"Stems - Negativos\", 15)"
      ],
      "execution_count": null,
      "outputs": [
        {
          "output_type": "display_data",
          "data": {
            "image/png": "[encoded data removed]",
            "text/plain": [
              "<Figure size 432x288 with 1 Axes>"
            ]
          },
          "metadata": {
            "needs_background": "light"
          }
        },
        {
          "output_type": "display_data",
          "data": {
            "image/png": "[encoded data removed]",
            "text/plain": [
              "<Figure size 432x288 with 1 Axes>"
            ]
          },
          "metadata": {
            "needs_background": "light"
          }
        }
      ]
    },
    {
      "cell_type": "code",
      "metadata": {
        "colab": {
          "base_uri": "https://localhost:8080/",
          "height": 411
        },
        "id": "JTRyQZskObMI",
        "outputId": "717cd4e8-e449-41e9-a16b-4db93c19fc68"
      },
      "source": [
        "# Vendo quais os lemmas mais frequentes em comentários positivos e negativos\n",
        "nuvem_palavras(comentarios['lemmas'][comentarios['label'].str.match('positive')],\"Lemmas - Positivos\", 15)\n",
        "nuvem_palavras(comentarios['lemmas'][comentarios['label'].str.match('negative')],\"Lemmas - Negativos\", 15)"
      ],
      "execution_count": null,
      "outputs": [
        {
          "output_type": "display_data",
          "data": {
            "image/png": "[encoded data removed]",
            "text/plain": [
              "<Figure size 432x288 with 1 Axes>"
            ]
          },
          "metadata": {
            "needs_background": "light"
          }
        },
        {
          "output_type": "display_data",
          "data": {
            "image/png": "[encoded data removed]",
            "text/plain": [
              "<Figure size 432x288 with 1 Axes>"
            ]
          },
          "metadata": {
            "needs_background": "light"
          }
        }
      ]
    },
    {
      "cell_type": "markdown",
      "metadata": {
        "id": "yqYSf3hhOqEI"
      },
      "source": [
        "## 1.4 Realização de divisão treino-teste da base"
      ]
    },
    {
      "cell_type": "code",
      "metadata": {
        "id": "j1wkLH1wO3z5"
      },
      "source": [
        "# Vamos realizar o splitting 70-30, ou seja, 70% da nossa base será usada para treino do modelo e 30% para teste do modelo\n",
        "# Vamos começar importando o módulo necessário do scikit-learn e depois realizando o splitting\n",
        "from sklearn.model_selection import train_test_split\n",
        "train_comentarios, test_comentarios =  train_test_split(comentarios, test_size=0.3, random_state=0)"
      ],
      "execution_count": null,
      "outputs": []
    },
    {
      "cell_type": "code",
      "metadata": {
        "colab": {
          "base_uri": "https://localhost:8080/",
          "height": 206
        },
        "id": "ANQuOt-aQk6Y",
        "outputId": "ae93c02c-5f7d-459e-b095-5154e7ed23fc"
      },
      "source": [
        "# Visualizando base de treino\n",
        "train_comentarios.head()"
      ],
      "execution_count": null,
      "outputs": [
        {
          "output_type": "execute_result",
          "data": {
            "text/html": [
              "<div>\n",
              "<style scoped>\n",
              "    .dataframe tbody tr th:only-of-type {\n",
              "        vertical-align: middle;\n",
              "    }\n",
              "\n",
              "    .dataframe tbody tr th {\n",
              "        vertical-align: top;\n",
              "    }\n",
              "\n",
              "    .dataframe thead th {\n",
              "        text-align: right;\n",
              "    }\n",
              "</style>\n",
              "<table border=\"1\" class=\"dataframe\">\n",
              "  <thead>\n",
              "    <tr style=\"text-align: right;\">\n",
              "      <th></th>\n",
              "      <th>text</th>\n",
              "      <th>label</th>\n",
              "      <th>tam</th>\n",
              "      <th>stems</th>\n",
              "      <th>lemmas</th>\n",
              "    </tr>\n",
              "  </thead>\n",
              "  <tbody>\n",
              "    <tr>\n",
              "      <th>7681</th>\n",
              "      <td>Laminator Plus: I was really disappointed to ...</td>\n",
              "      <td>negative</td>\n",
              "      <td>359</td>\n",
              "      <td>[lamin, plu, realli, disappoint, find, pad, tw...</td>\n",
              "      <td>[laminator, plus, really, disappointed, find, ...</td>\n",
              "    </tr>\n",
              "    <tr>\n",
              "      <th>9031</th>\n",
              "      <td>Crocodile Doom: The product is flaky, fragile...</td>\n",
              "      <td>negative</td>\n",
              "      <td>268</td>\n",
              "      <td>[crocodil, doom, product, flaki, fragil, small...</td>\n",
              "      <td>[crocodile, doom, product, flaky, fragile, sma...</td>\n",
              "    </tr>\n",
              "    <tr>\n",
              "      <th>3691</th>\n",
              "      <td>Show=Amazing , DVD=RUSHED: One of my favorite...</td>\n",
              "      <td>negative</td>\n",
              "      <td>443</td>\n",
              "      <td>[show, amaz, dvd, rush, one, favorit, show, ev...</td>\n",
              "      <td>[show, amazing, dvd, rushed, one, favorite, sh...</td>\n",
              "    </tr>\n",
              "    <tr>\n",
              "      <th>202</th>\n",
              "      <td>False Advertisement: The pillow I received is...</td>\n",
              "      <td>negative</td>\n",
              "      <td>495</td>\n",
              "      <td>[fals, advertis, pillow, receiv, noth, like, o...</td>\n",
              "      <td>[false, advertisement, pillow, received, nothi...</td>\n",
              "    </tr>\n",
              "    <tr>\n",
              "      <th>5625</th>\n",
              "      <td>Poor Information for Celiacs: I found areas o...</td>\n",
              "      <td>negative</td>\n",
              "      <td>394</td>\n",
              "      <td>[poor, inform, celiac, found, area, book, cont...</td>\n",
              "      <td>[poor, information, celiacs, found, area, book...</td>\n",
              "    </tr>\n",
              "  </tbody>\n",
              "</table>\n",
              "</div>"
            ],
            "text/plain": [
              "                                                   text  ...                                             lemmas\n",
              "7681   Laminator Plus: I was really disappointed to ...  ...  [laminator, plus, really, disappointed, find, ...\n",
              "9031   Crocodile Doom: The product is flaky, fragile...  ...  [crocodile, doom, product, flaky, fragile, sma...\n",
              "3691   Show=Amazing , DVD=RUSHED: One of my favorite...  ...  [show, amazing, dvd, rushed, one, favorite, sh...\n",
              "202    False Advertisement: The pillow I received is...  ...  [false, advertisement, pillow, received, nothi...\n",
              "5625   Poor Information for Celiacs: I found areas o...  ...  [poor, information, celiacs, found, area, book...\n",
              "\n",
              "[5 rows x 5 columns]"
            ]
          },
          "metadata": {},
          "execution_count": 50
        }
      ]
    },
    {
      "cell_type": "code",
      "metadata": {
        "colab": {
          "base_uri": "https://localhost:8080/",
          "height": 206
        },
        "id": "-MS3KfFoQqT4",
        "outputId": "77d30398-5aaf-4154-f2b7-a85f22f44721"
      },
      "source": [
        "# Visualizando base de teste\n",
        "test_comentarios.head()"
      ],
      "execution_count": null,
      "outputs": [
        {
          "output_type": "execute_result",
          "data": {
            "text/html": [
              "<div>\n",
              "<style scoped>\n",
              "    .dataframe tbody tr th:only-of-type {\n",
              "        vertical-align: middle;\n",
              "    }\n",
              "\n",
              "    .dataframe tbody tr th {\n",
              "        vertical-align: top;\n",
              "    }\n",
              "\n",
              "    .dataframe thead th {\n",
              "        text-align: right;\n",
              "    }\n",
              "</style>\n",
              "<table border=\"1\" class=\"dataframe\">\n",
              "  <thead>\n",
              "    <tr style=\"text-align: right;\">\n",
              "      <th></th>\n",
              "      <th>text</th>\n",
              "      <th>label</th>\n",
              "      <th>tam</th>\n",
              "      <th>stems</th>\n",
              "      <th>lemmas</th>\n",
              "    </tr>\n",
              "  </thead>\n",
              "  <tbody>\n",
              "    <tr>\n",
              "      <th>9394</th>\n",
              "      <td>This is not the screenplay: This is the scrip...</td>\n",
              "      <td>negative</td>\n",
              "      <td>175</td>\n",
              "      <td>[screenplay, script, stage, play, updat, moder...</td>\n",
              "      <td>[screenplay, script, stage, play, updated, mod...</td>\n",
              "    </tr>\n",
              "    <tr>\n",
              "      <th>898</th>\n",
              "      <td>One of the Greatest Books Ever Written: The S...</td>\n",
              "      <td>positive</td>\n",
              "      <td>798</td>\n",
              "      <td>[one, greatest, book, ever, written, scarlet, ...</td>\n",
              "      <td>[one, greatest, book, ever, written, scarlet, ...</td>\n",
              "    </tr>\n",
              "    <tr>\n",
              "      <th>2398</th>\n",
              "      <td>Ok but nothing great: Its not a bad book but ...</td>\n",
              "      <td>negative</td>\n",
              "      <td>452</td>\n",
              "      <td>[ok, noth, great, bad, book, expect, didnt, fi...</td>\n",
              "      <td>[ok, nothing, great, bad, book, expected, didn...</td>\n",
              "    </tr>\n",
              "    <tr>\n",
              "      <th>5906</th>\n",
              "      <td>Doesn't work: I was looking forward to using ...</td>\n",
              "      <td>negative</td>\n",
              "      <td>364</td>\n",
              "      <td>[work, look, forward, use, canon, powershot, m...</td>\n",
              "      <td>[work, looking, forward, using, canon, powersh...</td>\n",
              "    </tr>\n",
              "    <tr>\n",
              "      <th>2343</th>\n",
              "      <td>Not so hidden fantasies explored and discover...</td>\n",
              "      <td>positive</td>\n",
              "      <td>1003</td>\n",
              "      <td>[hidden, fantasi, explor, discov, ...:, writte...</td>\n",
              "      <td>[hidden, fantasy, explored, discovered, ...:, ...</td>\n",
              "    </tr>\n",
              "  </tbody>\n",
              "</table>\n",
              "</div>"
            ],
            "text/plain": [
              "                                                   text  ...                                             lemmas\n",
              "9394   This is not the screenplay: This is the scrip...  ...  [screenplay, script, stage, play, updated, mod...\n",
              "898    One of the Greatest Books Ever Written: The S...  ...  [one, greatest, book, ever, written, scarlet, ...\n",
              "2398   Ok but nothing great: Its not a bad book but ...  ...  [ok, nothing, great, bad, book, expected, didn...\n",
              "5906   Doesn't work: I was looking forward to using ...  ...  [work, looking, forward, using, canon, powersh...\n",
              "2343   Not so hidden fantasies explored and discover...  ...  [hidden, fantasy, explored, discovered, ...:, ...\n",
              "\n",
              "[5 rows x 5 columns]"
            ]
          },
          "metadata": {},
          "execution_count": 52
        }
      ]
    },
    {
      "cell_type": "markdown",
      "metadata": {
        "id": "wrnC3QRmPRO9"
      },
      "source": [
        "## 1.5 Representação dos stems através de TF-IDF"
      ]
    },
    {
      "cell_type": "code",
      "metadata": {
        "id": "GgCFAvD6Q0aO"
      },
      "source": [
        "# Importando pacote de vetorização através do TF-IDF\n",
        "from sklearn.feature_extraction.text import TfidfVectorizer"
      ],
      "execution_count": null,
      "outputs": []
    },
    {
      "cell_type": "code",
      "metadata": {
        "id": "j88Mfl-bRQoN"
      },
      "source": [
        "# Criando objeto vetorizador\n",
        "vetorizador = TfidfVectorizer()"
      ],
      "execution_count": null,
      "outputs": []
    },
    {
      "cell_type": "code",
      "metadata": {
        "id": "jZu8Ilu-RT1y"
      },
      "source": [
        "# Criando representação das colunas de stems e lemmas para treino e teste dos modelos\n",
        "# Veja que usamos as funções fit_transform e transform\n",
        "# Não usamos a fit_transform para o df de teste porque precisamos usar o mesmo vocabulário do df de treino\n",
        "\n",
        "train_stems = vetorizador.fit_transform([\" \".join(texto) for texto in train_comentarios['stems']])\n",
        "test_stems = vetorizador.transform([\" \".join(texto) for texto in test_comentarios['stems']])\n",
        "\n",
        "train_lemmas = vetorizador.fit_transform([\" \".join(texto) for texto in train_comentarios['lemmas']])\n",
        "test_lemmas = vetorizador.transform([\" \".join(texto) for texto in test_comentarios['lemmas']])"
      ],
      "execution_count": null,
      "outputs": []
    },
    {
      "cell_type": "markdown",
      "metadata": {
        "id": "xkVoev_IUlMZ"
      },
      "source": [
        "## 1.6 Comparando modelos usando SVM, RegLog e Naive-Bayes"
      ]
    },
    {
      "cell_type": "code",
      "metadata": {
        "id": "tghD1zcBUw6s"
      },
      "source": [
        "# Importando os 3 algoritmos que serão usados na comparação\n",
        "from sklearn.svm import LinearSVC\n",
        "from sklearn.linear_model import LogisticRegression\n",
        "from sklearn.naive_bayes import GaussianNB"
      ],
      "execution_count": null,
      "outputs": []
    },
    {
      "cell_type": "code",
      "metadata": {
        "id": "EV_A4ZNEU4h4"
      },
      "source": [
        "# Importando a métrica de acurácia, que será referência na comparação\n",
        "from sklearn.metrics import accuracy_score"
      ],
      "execution_count": null,
      "outputs": []
    },
    {
      "cell_type": "code",
      "metadata": {
        "id": "iPevJLE6U96Y"
      },
      "source": [
        "# Criando dicionário com nomes para chamarmos os diferentes algoritmos mais facilmente\n",
        "algoritmos = {'SVM' : LinearSVC(),'Regressão Logística' : LogisticRegression(), 'Naive Bayes': GaussianNB()}"
      ],
      "execution_count": null,
      "outputs": []
    },
    {
      "cell_type": "code",
      "metadata": {
        "colab": {
          "base_uri": "https://localhost:8080/"
        },
        "id": "e8vvUofVVozD",
        "outputId": "088aece9-8028-4ec3-9d5e-c9cfacfdf179"
      },
      "source": [
        "# Criação de modelos e realização de testes para os três algoritmos com stems\n",
        "for nome, alg in algoritmos.items():\n",
        "    alg.fit(train_stems.toarray(),train_comentarios['label'])\n",
        "    predicoes = alg.predict(test_stems.toarray())\n",
        "    print(f\"Acurácia média com stemming e o algoritmo {nome} {accuracy_score(test_comentarios['label'],predicoes)*100:.2f}%\")"
      ],
      "execution_count": null,
      "outputs": [
        {
          "output_type": "stream",
          "name": "stdout",
          "text": [
            "Acurácia média com stemming e o algoritmo SVM 85.27%\n",
            "Acurácia média com stemming e o algoritmo Regressão Logística 86.33%\n",
            "Acurácia média com stemming e o algoritmo Naive Bayes 62.33%\n"
          ]
        }
      ]
    },
    {
      "cell_type": "code",
      "metadata": {
        "colab": {
          "base_uri": "https://localhost:8080/"
        },
        "id": "xgcijDTqWtFK",
        "outputId": "9f4987a9-5b34-4073-e310-116d60af20a2"
      },
      "source": [
        "# Criação de modelos e realização de testes para os três algoritmos com lemmas\n",
        "for nome, alg in algoritmos.items():\n",
        "    alg.fit(train_lemmas.toarray(),train_comentarios['label'])\n",
        "    predicoes = alg.predict(test_lemmas.toarray())\n",
        "    print(f\"Acurácia média com stemming e o algoritmo {nome} {accuracy_score(test_comentarios['label'],predicoes)*100:.2f}%\")"
      ],
      "execution_count": null,
      "outputs": [
        {
          "output_type": "stream",
          "name": "stdout",
          "text": [
            "Acurácia média com stemming e o algoritmo SVM 86.27%\n",
            "Acurácia média com stemming e o algoritmo Regressão Logística 86.77%\n",
            "Acurácia média com stemming e o algoritmo Naive Bayes 65.77%\n"
          ]
        }
      ]
    },
    {
      "cell_type": "markdown",
      "metadata": {
        "id": "Yc6iNJLXXx9A"
      },
      "source": [
        "# 2. Detecção de spams\n",
        "\n",
        "Usando uma base de dados de emails, vamos criar um modelo classificador de textos para classificar se um texto é spam ou não."
      ]
    },
    {
      "cell_type": "markdown",
      "metadata": {
        "id": "Z5Wd8OHWYDIX"
      },
      "source": [
        "## 2.1 Importando a base de dados e bibliotecas"
      ]
    },
    {
      "cell_type": "code",
      "metadata": {
        "id": "ZaeBopanYCix"
      },
      "source": [
        "# Importando bibliotecas\n",
        "import pandas as pd\n",
        "import numpy as np\n",
        "import seaborn as sns"
      ],
      "execution_count": null,
      "outputs": []
    },
    {
      "cell_type": "code",
      "metadata": {
        "colab": {
          "base_uri": "https://localhost:8080/"
        },
        "id": "psbmmKsV0NJu",
        "outputId": "87ddc8ff-e9ee-46af-d4fa-f1f55ee1d6bb"
      },
      "source": [
        "# Importando base de dados\n",
        "!wget https://raw.githubusercontent.com/adalves-ufabc/2021.Q3-PLN/main/Aula%2013/dados/spam.csv\n",
        "df = pd.read_csv('spam.csv',encoding='latin-1')"
      ],
      "execution_count": null,
      "outputs": [
        {
          "output_type": "stream",
          "name": "stdout",
          "text": [
            "--2021-11-19 10:50:58--  https://raw.githubusercontent.com/adalves-ufabc/2021.Q3-PLN/main/Aula%2013/dados/spam.csv\n",
            "Resolving raw.githubusercontent.com (raw.githubusercontent.com)... 185.199.108.133, 185.199.109.133, 185.199.111.133, ...\n",
            "Connecting to raw.githubusercontent.com (raw.githubusercontent.com)|185.199.108.133|:443... connected.\n",
            "HTTP request sent, awaiting response... 200 OK\n",
            "Length: 503663 (492K) [text/plain]\n",
            "Saving to: ‘spam.csv’\n",
            "\n",
            "spam.csv            100%[===================>] 491.86K  --.-KB/s    in 0.01s   \n",
            "\n",
            "2021-11-19 10:50:58 (34.1 MB/s) - ‘spam.csv’ saved [503663/503663]\n",
            "\n"
          ]
        }
      ]
    },
    {
      "cell_type": "markdown",
      "metadata": {
        "id": "c2W8CCJt0fhd"
      },
      "source": [
        "## 2.2 Análise exploratória"
      ]
    },
    {
      "cell_type": "code",
      "metadata": {
        "colab": {
          "base_uri": "https://localhost:8080/"
        },
        "id": "G41JhTqI0mGV",
        "outputId": "29b1c2ec-8b2f-4f1c-e711-0ec6b1e7822f"
      },
      "source": [
        "# Dimensões do dataframe\n",
        "df.shape"
      ],
      "execution_count": null,
      "outputs": [
        {
          "output_type": "execute_result",
          "data": {
            "text/plain": [
              "(5572, 5)"
            ]
          },
          "metadata": {},
          "execution_count": 5
        }
      ]
    },
    {
      "cell_type": "code",
      "metadata": {
        "colab": {
          "base_uri": "https://localhost:8080/",
          "height": 206
        },
        "id": "Q2wtIzlX00P9",
        "outputId": "4030146d-3dbd-409b-b44c-18acfec9da0f"
      },
      "source": [
        "# Visualizando dados\n",
        "df.head()"
      ],
      "execution_count": null,
      "outputs": [
        {
          "output_type": "execute_result",
          "data": {
            "text/html": [
              "<div>\n",
              "<style scoped>\n",
              "    .dataframe tbody tr th:only-of-type {\n",
              "        vertical-align: middle;\n",
              "    }\n",
              "\n",
              "    .dataframe tbody tr th {\n",
              "        vertical-align: top;\n",
              "    }\n",
              "\n",
              "    .dataframe thead th {\n",
              "        text-align: right;\n",
              "    }\n",
              "</style>\n",
              "<table border=\"1\" class=\"dataframe\">\n",
              "  <thead>\n",
              "    <tr style=\"text-align: right;\">\n",
              "      <th></th>\n",
              "      <th>v1</th>\n",
              "      <th>v2</th>\n",
              "      <th>Unnamed: 2</th>\n",
              "      <th>Unnamed: 3</th>\n",
              "      <th>Unnamed: 4</th>\n",
              "    </tr>\n",
              "  </thead>\n",
              "  <tbody>\n",
              "    <tr>\n",
              "      <th>0</th>\n",
              "      <td>ham</td>\n",
              "      <td>Go until jurong point, crazy.. Available only ...</td>\n",
              "      <td>NaN</td>\n",
              "      <td>NaN</td>\n",
              "      <td>NaN</td>\n",
              "    </tr>\n",
              "    <tr>\n",
              "      <th>1</th>\n",
              "      <td>ham</td>\n",
              "      <td>Ok lar... Joking wif u oni...</td>\n",
              "      <td>NaN</td>\n",
              "      <td>NaN</td>\n",
              "      <td>NaN</td>\n",
              "    </tr>\n",
              "    <tr>\n",
              "      <th>2</th>\n",
              "      <td>spam</td>\n",
              "      <td>Free entry in 2 a wkly comp to win FA Cup fina...</td>\n",
              "      <td>NaN</td>\n",
              "      <td>NaN</td>\n",
              "      <td>NaN</td>\n",
              "    </tr>\n",
              "    <tr>\n",
              "      <th>3</th>\n",
              "      <td>ham</td>\n",
              "      <td>U dun say so early hor... U c already then say...</td>\n",
              "      <td>NaN</td>\n",
              "      <td>NaN</td>\n",
              "      <td>NaN</td>\n",
              "    </tr>\n",
              "    <tr>\n",
              "      <th>4</th>\n",
              "      <td>ham</td>\n",
              "      <td>Nah I don't think he goes to usf, he lives aro...</td>\n",
              "      <td>NaN</td>\n",
              "      <td>NaN</td>\n",
              "      <td>NaN</td>\n",
              "    </tr>\n",
              "  </tbody>\n",
              "</table>\n",
              "</div>"
            ],
            "text/plain": [
              "     v1  ... Unnamed: 4\n",
              "0   ham  ...        NaN\n",
              "1   ham  ...        NaN\n",
              "2  spam  ...        NaN\n",
              "3   ham  ...        NaN\n",
              "4   ham  ...        NaN\n",
              "\n",
              "[5 rows x 5 columns]"
            ]
          },
          "metadata": {},
          "execution_count": 6
        }
      ]
    },
    {
      "cell_type": "code",
      "metadata": {
        "colab": {
          "base_uri": "https://localhost:8080/",
          "height": 206
        },
        "id": "Iu31iNUK0sWN",
        "outputId": "4033ba2e-b259-4904-a312-ba1683a45652"
      },
      "source": [
        "# Visualizando dados\n",
        "df.tail()"
      ],
      "execution_count": null,
      "outputs": [
        {
          "output_type": "execute_result",
          "data": {
            "text/html": [
              "<div>\n",
              "<style scoped>\n",
              "    .dataframe tbody tr th:only-of-type {\n",
              "        vertical-align: middle;\n",
              "    }\n",
              "\n",
              "    .dataframe tbody tr th {\n",
              "        vertical-align: top;\n",
              "    }\n",
              "\n",
              "    .dataframe thead th {\n",
              "        text-align: right;\n",
              "    }\n",
              "</style>\n",
              "<table border=\"1\" class=\"dataframe\">\n",
              "  <thead>\n",
              "    <tr style=\"text-align: right;\">\n",
              "      <th></th>\n",
              "      <th>v1</th>\n",
              "      <th>v2</th>\n",
              "      <th>Unnamed: 2</th>\n",
              "      <th>Unnamed: 3</th>\n",
              "      <th>Unnamed: 4</th>\n",
              "    </tr>\n",
              "  </thead>\n",
              "  <tbody>\n",
              "    <tr>\n",
              "      <th>5567</th>\n",
              "      <td>spam</td>\n",
              "      <td>This is the 2nd time we have tried 2 contact u...</td>\n",
              "      <td>NaN</td>\n",
              "      <td>NaN</td>\n",
              "      <td>NaN</td>\n",
              "    </tr>\n",
              "    <tr>\n",
              "      <th>5568</th>\n",
              "      <td>ham</td>\n",
              "      <td>Will Ì_ b going to esplanade fr home?</td>\n",
              "      <td>NaN</td>\n",
              "      <td>NaN</td>\n",
              "      <td>NaN</td>\n",
              "    </tr>\n",
              "    <tr>\n",
              "      <th>5569</th>\n",
              "      <td>ham</td>\n",
              "      <td>Pity, * was in mood for that. So...any other s...</td>\n",
              "      <td>NaN</td>\n",
              "      <td>NaN</td>\n",
              "      <td>NaN</td>\n",
              "    </tr>\n",
              "    <tr>\n",
              "      <th>5570</th>\n",
              "      <td>ham</td>\n",
              "      <td>The guy did some bitching but I acted like i'd...</td>\n",
              "      <td>NaN</td>\n",
              "      <td>NaN</td>\n",
              "      <td>NaN</td>\n",
              "    </tr>\n",
              "    <tr>\n",
              "      <th>5571</th>\n",
              "      <td>ham</td>\n",
              "      <td>Rofl. Its true to its name</td>\n",
              "      <td>NaN</td>\n",
              "      <td>NaN</td>\n",
              "      <td>NaN</td>\n",
              "    </tr>\n",
              "  </tbody>\n",
              "</table>\n",
              "</div>"
            ],
            "text/plain": [
              "        v1  ... Unnamed: 4\n",
              "5567  spam  ...        NaN\n",
              "5568   ham  ...        NaN\n",
              "5569   ham  ...        NaN\n",
              "5570   ham  ...        NaN\n",
              "5571   ham  ...        NaN\n",
              "\n",
              "[5 rows x 5 columns]"
            ]
          },
          "metadata": {},
          "execution_count": 7
        }
      ]
    },
    {
      "cell_type": "code",
      "metadata": {
        "colab": {
          "base_uri": "https://localhost:8080/"
        },
        "id": "fRiUVuq41FbW",
        "outputId": "f40cae22-9119-42a2-f99c-32af56f4f868"
      },
      "source": [
        "# Visualizando valores únicos da terceira coluna\n",
        "df[\"Unnamed: 2\"].unique()"
      ],
      "execution_count": null,
      "outputs": [
        {
          "output_type": "execute_result",
          "data": {
            "text/plain": [
              "array([nan, ' PO Box 5249',\n",
              "       ' the person is definitely special for u..... But if the person is so special',\n",
              "       ' HOWU DOIN? FOUNDURSELF A JOBYET SAUSAGE?LOVE JEN XXX\\\\\"\"',\n",
              "       ' wanted to say hi. HI!!!\\\\\" Stop? Send STOP to 62468\"',\n",
              "       'this wont even start........ Datz confidence..\"', 'GN',\n",
              "       '.;-):-D\"',\n",
              "       'just been in bedbut mite go 2 thepub l8tr if uwana mt up?loads a luv Jenxxx.\\\\\"\"',\n",
              "       ' bt not his girlfrnd... G o o d n i g h t . . .@\"',\n",
              "       ' I\\'ll come up\"',\n",
              "       ' don\\'t miss ur best life for anything... Gud nyt...\"',\n",
              "       ' just as a shop has to give a guarantee on what they sell. B. G.\"',\n",
              "       ' But at d end my love compromised me for everything:-(\\\\\".. Gud mornin:-)\"',\n",
              "       ' the toughest is acting Happy with all unspoken pain inside..\\\\\"\"',\n",
              "       ' smoke hella weed\\\\\"\"', '\\\\\" not \\\\\"what i need to do.\\\\\"\"',\n",
              "       'JUST GOT PAYED2DAY & I HAVBEEN GIVEN Aå£50 PAY RISE 4MY WORK & HAVEBEEN MADE PRESCHOOLCO-ORDINATOR 2I AM FEELINGOOD LUV\\\\\"\"',\n",
              "       ' justthought iåÕd sayhey! how u doin?nearly the endof me wk offdam nevamind!We will have 2Hook up sn if uwant m8? loveJen x.\\\\\"\"',\n",
              "       'JUST REALLYNEED 2DOCD.PLEASE DONTPLEASE DONTIGNORE MYCALLS',\n",
              "       'u hav2hear it!c u sn xxxx\\\\\"\"', \" I don't mind\",\n",
              "       ' Dont Come Near My Body..!! Bcoz My Hands May Not Come 2 Wipe Ur Tears Off That Time..!Gud ni8\"',\n",
              "       \"Well there's still a bit left if you guys want to tonight\",\n",
              "       ' but dont try to prove\\\\\" ..... Gud mrng...\"',\n",
              "       ' SHE SHUDVETOLD U. DID URGRAN KNOW?NEWAY',\n",
              "       ' but watever u shared should be true\\\\\"....\"',\n",
              "       ' like you are the KING\\\\\"...! OR \\\\\"Walk like you Dont care',\n",
              "       ' HAD A COOL NYTHO', ' PO Box 1146 MK45 2WT (2/3)\"',\n",
              "       ' \\\\\"It is d wonderful fruit that a tree gives when it is being hurt by a stone.. Good night......\"',\n",
              "       ' we made you hold all the weed\\\\\"\"',\n",
              "       ' but dont try to prove it..\\\\\" .Gud noon....\"',\n",
              "       ' its a miracle to Love a person who can\\'t Love anyone except U...\\\\\" Gud nyt...\"',\n",
              "       ' Gud night....\"',\n",
              "       ' that\\'s the tiny street where the parking lot is\"',\n",
              "       'PROBPOP IN & CU SATTHEN HUNNY 4BREKKIE! LOVE JEN XXX. PSXTRA LRG PORTIONS 4 ME PLEASE \\\\\"\"',\n",
              "       ' hopeSo hunny. i amnow feelin ill & ithink i may have tonsolitusaswell! damn iam layin in bedreal bored. lotsof luv me xxxx\\\\\"\"',\n",
              "       ' GOD said',\n",
              "       ' always give response 2 who cares 4 U\\\\\"... Gud night..swt dreams..take care\"',\n",
              "       ' HOPE UR OK... WILL GIVE U A BUZ WEDLUNCH. GO OUTSOMEWHERE 4 ADRINK IN TOWN..CUD GO 2WATERSHD 4 A BIT? PPL FROMWRK WILL BTHERE. LOVE PETEXXX.\\\\\"\"',\n",
              "       ' b\\'coz nobody will fight for u. Only u &amp; u have to fight for ur self &amp; win the battle. -VIVEKANAND- G 9t.. SD..\"',\n",
              "       'DEVIOUSBITCH.ANYWAY',\n",
              "       ' ENJOYIN INDIANS AT THE MO..yeP. SaLL gOoD HehE ;> hows bout u shexy? Pete Xx\\\\\"\"'],\n",
              "      dtype=object)"
            ]
          },
          "metadata": {},
          "execution_count": 9
        }
      ]
    },
    {
      "cell_type": "code",
      "metadata": {
        "colab": {
          "base_uri": "https://localhost:8080/"
        },
        "id": "cVk-2aFP1wco",
        "outputId": "ae50fe18-1391-41c0-be52-64c59f67b08a"
      },
      "source": [
        "# Visualizando valores únicos da quarta coluna\n",
        "df[\"Unnamed: 3\"].unique()"
      ],
      "execution_count": null,
      "outputs": [
        {
          "output_type": "execute_result",
          "data": {
            "text/plain": [
              "array([nan, ' MK17 92H. 450Ppw 16\"', ' why to miss them', 'GE',\n",
              "       'U NO THECD ISV.IMPORTANT TOME 4 2MORO\\\\\"\"',\n",
              "       'i wil tolerat.bcs ur my someone..... But',\n",
              "       ' ILLSPEAK 2 U2MORO WEN IM NOT ASLEEP...\\\\\"\"',\n",
              "       'whoever is the KING\\\\\"!... Gud nyt\"', ' TX 4 FONIN HON',\n",
              "       ' \\\\\"OH No! COMPETITION\\\\\". Who knew', 'IåÕL CALL U\\\\\"\"'],\n",
              "      dtype=object)"
            ]
          },
          "metadata": {},
          "execution_count": 10
        }
      ]
    },
    {
      "cell_type": "code",
      "metadata": {
        "colab": {
          "base_uri": "https://localhost:8080/"
        },
        "id": "ENt2diNY169K",
        "outputId": "896bd86e-37bb-470f-c993-461af052e6e8"
      },
      "source": [
        "# Visualizando valores únicos da quinta coluna\n",
        "df[\"Unnamed: 4\"].unique()"
      ],
      "execution_count": null,
      "outputs": [
        {
          "output_type": "execute_result",
          "data": {
            "text/plain": [
              "array([nan, ' just Keep-in-touch\\\\\" gdeve..\"', 'GNT:-)\"',\n",
              "       ' Never comfort me with a lie\\\\\" gud ni8 and sweet dreams\"',\n",
              "       ' CALL 2MWEN IM BK FRMCLOUD 9! J X\\\\\"\"',\n",
              "       ' one day these two will become FREINDS FOREVER!\"'], dtype=object)"
            ]
          },
          "metadata": {},
          "execution_count": 11
        }
      ]
    },
    {
      "cell_type": "code",
      "metadata": {
        "colab": {
          "base_uri": "https://localhost:8080/"
        },
        "id": "-aigmegO2FO8",
        "outputId": "40f383bd-2077-4069-adef-90c9b3c09387"
      },
      "source": [
        "# Examinando a distribuição de labels\n",
        "df.v1.value_counts()"
      ],
      "execution_count": null,
      "outputs": [
        {
          "output_type": "execute_result",
          "data": {
            "text/plain": [
              "ham     4825\n",
              "spam     747\n",
              "Name: v1, dtype: int64"
            ]
          },
          "metadata": {},
          "execution_count": 13
        }
      ]
    },
    {
      "cell_type": "markdown",
      "metadata": {
        "id": "geqDptA-1-Uk"
      },
      "source": [
        "## 2.3 Remodelando dataframe"
      ]
    },
    {
      "cell_type": "code",
      "metadata": {
        "id": "PtCRpG9o2Bwc"
      },
      "source": [
        "# Renomeando os nomes das colunas\n",
        "df = df.rename(columns = {'v1':'label', 'v2':'message'})"
      ],
      "execution_count": null,
      "outputs": []
    },
    {
      "cell_type": "code",
      "metadata": {
        "id": "OlsN78k62ku0"
      },
      "source": [
        "# Adicionando coluna binária de codificação hot-encoding\n",
        "df['label_bin']=df['label'].map({'ham':0,'spam':1})"
      ],
      "execution_count": null,
      "outputs": []
    },
    {
      "cell_type": "code",
      "metadata": {
        "colab": {
          "base_uri": "https://localhost:8080/",
          "height": 206
        },
        "id": "1dROY4Ph27W2",
        "outputId": "5406aadf-9861-48fc-981e-9b768871ad31"
      },
      "source": [
        "# Visualizando dataframe criado\n",
        "df.head()"
      ],
      "execution_count": null,
      "outputs": [
        {
          "output_type": "execute_result",
          "data": {
            "text/html": [
              "<div>\n",
              "<style scoped>\n",
              "    .dataframe tbody tr th:only-of-type {\n",
              "        vertical-align: middle;\n",
              "    }\n",
              "\n",
              "    .dataframe tbody tr th {\n",
              "        vertical-align: top;\n",
              "    }\n",
              "\n",
              "    .dataframe thead th {\n",
              "        text-align: right;\n",
              "    }\n",
              "</style>\n",
              "<table border=\"1\" class=\"dataframe\">\n",
              "  <thead>\n",
              "    <tr style=\"text-align: right;\">\n",
              "      <th></th>\n",
              "      <th>label</th>\n",
              "      <th>message</th>\n",
              "      <th>Unnamed: 2</th>\n",
              "      <th>Unnamed: 3</th>\n",
              "      <th>Unnamed: 4</th>\n",
              "      <th>label_bin</th>\n",
              "    </tr>\n",
              "  </thead>\n",
              "  <tbody>\n",
              "    <tr>\n",
              "      <th>0</th>\n",
              "      <td>ham</td>\n",
              "      <td>Go until jurong point, crazy.. Available only ...</td>\n",
              "      <td>NaN</td>\n",
              "      <td>NaN</td>\n",
              "      <td>NaN</td>\n",
              "      <td>0</td>\n",
              "    </tr>\n",
              "    <tr>\n",
              "      <th>1</th>\n",
              "      <td>ham</td>\n",
              "      <td>Ok lar... Joking wif u oni...</td>\n",
              "      <td>NaN</td>\n",
              "      <td>NaN</td>\n",
              "      <td>NaN</td>\n",
              "      <td>0</td>\n",
              "    </tr>\n",
              "    <tr>\n",
              "      <th>2</th>\n",
              "      <td>spam</td>\n",
              "      <td>Free entry in 2 a wkly comp to win FA Cup fina...</td>\n",
              "      <td>NaN</td>\n",
              "      <td>NaN</td>\n",
              "      <td>NaN</td>\n",
              "      <td>1</td>\n",
              "    </tr>\n",
              "    <tr>\n",
              "      <th>3</th>\n",
              "      <td>ham</td>\n",
              "      <td>U dun say so early hor... U c already then say...</td>\n",
              "      <td>NaN</td>\n",
              "      <td>NaN</td>\n",
              "      <td>NaN</td>\n",
              "      <td>0</td>\n",
              "    </tr>\n",
              "    <tr>\n",
              "      <th>4</th>\n",
              "      <td>ham</td>\n",
              "      <td>Nah I don't think he goes to usf, he lives aro...</td>\n",
              "      <td>NaN</td>\n",
              "      <td>NaN</td>\n",
              "      <td>NaN</td>\n",
              "      <td>0</td>\n",
              "    </tr>\n",
              "  </tbody>\n",
              "</table>\n",
              "</div>"
            ],
            "text/plain": [
              "  label  ... label_bin\n",
              "0   ham  ...         0\n",
              "1   ham  ...         0\n",
              "2  spam  ...         1\n",
              "3   ham  ...         0\n",
              "4   ham  ...         0\n",
              "\n",
              "[5 rows x 6 columns]"
            ]
          },
          "metadata": {},
          "execution_count": 17
        }
      ]
    },
    {
      "cell_type": "markdown",
      "metadata": {
        "id": "mN6sf8LE3opm"
      },
      "source": [
        "## 2.4 Dados de treino e teste"
      ]
    },
    {
      "cell_type": "code",
      "metadata": {
        "id": "niPEqwI73uI6"
      },
      "source": [
        "# Separando feature e label\n",
        "label = df['label_bin']\n",
        "feature = df['message']"
      ],
      "execution_count": null,
      "outputs": []
    },
    {
      "cell_type": "code",
      "metadata": {
        "id": "V43OFaD94M5T"
      },
      "source": [
        "# Importando módulo do scikit-learn\n",
        "from sklearn.model_selection import train_test_split"
      ],
      "execution_count": null,
      "outputs": []
    },
    {
      "cell_type": "code",
      "metadata": {
        "id": "Q16Uc5M14eTi"
      },
      "source": [
        "# Separando em teste e treino\n",
        "x_train, x_test, y_train, y_test = train_test_split(feature, label, test_size=0.25, random_state=1)"
      ],
      "execution_count": null,
      "outputs": []
    },
    {
      "cell_type": "code",
      "metadata": {
        "colab": {
          "base_uri": "https://localhost:8080/"
        },
        "id": "Dgv7Dtja5qm7",
        "outputId": "cfe3c52c-030a-46f8-ad6f-dd4b6fbf6f78"
      },
      "source": [
        "# Verificando dimensões\n",
        "print(label.shape)\n",
        "print(y_train.shape)\n",
        "print(y_test.shape)"
      ],
      "execution_count": null,
      "outputs": [
        {
          "output_type": "stream",
          "name": "stdout",
          "text": [
            "(5572,)\n",
            "(4179,)\n",
            "(1393,)\n"
          ]
        }
      ]
    },
    {
      "cell_type": "markdown",
      "metadata": {
        "id": "XFOiA6GP569p"
      },
      "source": [
        "## 2.5 Vetorizando os dados"
      ]
    },
    {
      "cell_type": "code",
      "metadata": {
        "id": "0z0bjwTJ56VQ"
      },
      "source": [
        "# Importando o vetorizador\n",
        "from sklearn.feature_extraction.text import CountVectorizer"
      ],
      "execution_count": null,
      "outputs": []
    },
    {
      "cell_type": "code",
      "metadata": {
        "id": "ZeNS8EDS6FCx"
      },
      "source": [
        "# Criando objeto vetorizador\n",
        "vet = CountVectorizer()"
      ],
      "execution_count": null,
      "outputs": []
    },
    {
      "cell_type": "code",
      "metadata": {
        "colab": {
          "base_uri": "https://localhost:8080/"
        },
        "id": "aaPPYLBv6IkU",
        "outputId": "223d8541-b9d7-4829-c75b-970b49546ed6"
      },
      "source": [
        "# Transformando o conjunto de features de treino numa matriz de termos (representação numérica dos textos)\n",
        "# Como é o conjunto de treino também realizamos o fit\n",
        "x_train_rep = vet.fit_transform(x_train)\n",
        "x_train_rep"
      ],
      "execution_count": null,
      "outputs": [
        {
          "output_type": "execute_result",
          "data": {
            "text/plain": [
              "<4179x7496 sparse matrix of type '<class 'numpy.int64'>'\n",
              "\twith 55614 stored elements in Compressed Sparse Row format>"
            ]
          },
          "metadata": {},
          "execution_count": 37
        }
      ]
    },
    {
      "cell_type": "code",
      "metadata": {
        "colab": {
          "base_uri": "https://localhost:8080/"
        },
        "id": "ibykT79f8CPO",
        "outputId": "54bb9d53-55af-4ce3-b7bf-3a8637f3b7c6"
      },
      "source": [
        "# Transformando o conjunto de features de teste numa matriz de termos (representação numérica dos textos)\n",
        "# Como é o conjunto de teste não realizamos o fit\n",
        "x_test_rep = vet.transform(x_test)\n",
        "x_test_rep"
      ],
      "execution_count": null,
      "outputs": [
        {
          "output_type": "execute_result",
          "data": {
            "text/plain": [
              "<1393x7496 sparse matrix of type '<class 'numpy.int64'>'\n",
              "\twith 17010 stored elements in Compressed Sparse Row format>"
            ]
          },
          "metadata": {},
          "execution_count": 38
        }
      ]
    },
    {
      "cell_type": "markdown",
      "metadata": {
        "id": "Vt_4YgdX8gP_"
      },
      "source": [
        "## 2.6 Classificador Naive-Bayes e suas métricas"
      ]
    },
    {
      "cell_type": "code",
      "metadata": {
        "id": "KRu-0J9s8j8v"
      },
      "source": [
        "# Importando Naive Bayes e métrica que usaremos\n",
        "from sklearn.naive_bayes import MultinomialNB\n",
        "from sklearn import metrics"
      ],
      "execution_count": null,
      "outputs": []
    },
    {
      "cell_type": "code",
      "metadata": {
        "id": "k0vxHFvb8paX"
      },
      "source": [
        "# Criando objeto algoritmo de treino\n",
        "nb = MultinomialNB()"
      ],
      "execution_count": null,
      "outputs": []
    },
    {
      "cell_type": "code",
      "metadata": {
        "colab": {
          "base_uri": "https://localhost:8080/"
        },
        "id": "w85kdprW9rYw",
        "outputId": "33a6c5e9-b16f-4c89-c2e4-d18c9198c7e9"
      },
      "source": [
        "# Treinando modelo\n",
        "nb.fit(x_train_rep, y_train)"
      ],
      "execution_count": null,
      "outputs": [
        {
          "output_type": "execute_result",
          "data": {
            "text/plain": [
              "MultinomialNB()"
            ]
          },
          "metadata": {},
          "execution_count": 41
        }
      ]
    },
    {
      "cell_type": "code",
      "metadata": {
        "id": "ed5eA3fz9y1M"
      },
      "source": [
        "# Realizando predição para conjunto de teste\n",
        "y_pred = nb.predict(x_test_rep)"
      ],
      "execution_count": null,
      "outputs": []
    },
    {
      "cell_type": "code",
      "metadata": {
        "colab": {
          "base_uri": "https://localhost:8080/"
        },
        "id": "sY1q0XY499GF",
        "outputId": "d97c201b-76dd-40b4-cf5a-e17c4da1d0ef"
      },
      "source": [
        "# Calculando acurácia\n",
        "metrics.accuracy_score(y_test,y_pred)"
      ],
      "execution_count": null,
      "outputs": [
        {
          "output_type": "execute_result",
          "data": {
            "text/plain": [
              "0.9856424982053122"
            ]
          },
          "metadata": {},
          "execution_count": 44
        }
      ]
    },
    {
      "cell_type": "code",
      "metadata": {
        "colab": {
          "base_uri": "https://localhost:8080/"
        },
        "id": "rcgX2-Qb-LNd",
        "outputId": "f666a615-45fc-4be8-bdf8-6e35f31b8dbf"
      },
      "source": [
        "# Calculando f-value\n",
        "metrics.f1_score(y_test,y_pred)"
      ],
      "execution_count": null,
      "outputs": [
        {
          "output_type": "execute_result",
          "data": {
            "text/plain": [
              "0.9438202247191012"
            ]
          },
          "metadata": {},
          "execution_count": 45
        }
      ]
    },
    {
      "cell_type": "code",
      "metadata": {
        "colab": {
          "base_uri": "https://localhost:8080/"
        },
        "id": "iyhO1fZb-RaG",
        "outputId": "96340f85-3fd1-447d-b61a-ed5853038479"
      },
      "source": [
        "# Matriz de confusão\n",
        "metrics.confusion_matrix(y_test,y_pred)"
      ],
      "execution_count": null,
      "outputs": [
        {
          "output_type": "execute_result",
          "data": {
            "text/plain": [
              "array([[1205,    8],\n",
              "       [  12,  168]])"
            ]
          },
          "metadata": {},
          "execution_count": 46
        }
      ]
    },
    {
      "cell_type": "markdown",
      "metadata": {
        "id": "hPH92SQE-h6p"
      },
      "source": [
        "## 2.7 Classificações erradas"
      ]
    },
    {
      "cell_type": "code",
      "metadata": {
        "colab": {
          "base_uri": "https://localhost:8080/"
        },
        "id": "TPyEs7en-mb1",
        "outputId": "98606c64-b0ee-4157-87bb-1f7b822df778"
      },
      "source": [
        "# Visualizando falsos positivos\n",
        "x_test[y_test<y_pred]"
      ],
      "execution_count": null,
      "outputs": [
        {
          "output_type": "execute_result",
          "data": {
            "text/plain": [
              "325                      No calls..messages..missed calls\n",
              "4598              Have you laid your airtel line to rest?\n",
              "1289    Hey...Great deal...Farm tour 9am to 5pm $95/pa...\n",
              "45                       No calls..messages..missed calls\n",
              "573                                Waiting for your call.\n",
              "3373                              Also andros ice etc etc\n",
              "1081                    Can u get pic msgs to your phone?\n",
              "494                      Are you free now?can i call now?\n",
              "Name: message, dtype: object"
            ]
          },
          "metadata": {},
          "execution_count": 47
        }
      ]
    },
    {
      "cell_type": "code",
      "metadata": {
        "colab": {
          "base_uri": "https://localhost:8080/"
        },
        "id": "YXDiIpEA-rBe",
        "outputId": "e9550a73-2253-49e9-84b1-75af51f193fa"
      },
      "source": [
        "# Visualizando falsos negativos\n",
        "x_test[y_test > y_pred]"
      ],
      "execution_count": null,
      "outputs": [
        {
          "output_type": "execute_result",
          "data": {
            "text/plain": [
              "4674    Hi babe its Chloe, how r u? I was smashed on s...\n",
              "3528    Xmas & New Years Eve tickets are now on sale f...\n",
              "1499    SMS. ac JSco: Energy is high, but u may not kn...\n",
              "3417    LIFE has never been this much fun and great un...\n",
              "2773    How come it takes so little time for a child w...\n",
              "5       FreeMsg Hey there darling it's been 3 week's n...\n",
              "1457    CLAIRE here am havin borin time & am now alone...\n",
              "2429    Guess who am I?This is the first time I create...\n",
              "4067    TBS/PERSOLVO. been chasing us since Sept forå£...\n",
              "3358    Sorry I missed your call let's talk when you h...\n",
              "2821    ROMCAPspam Everyone around should be respondin...\n",
              "2247    Back 2 work 2morro half term over! Can U C me ...\n",
              "Name: message, dtype: object"
            ]
          },
          "metadata": {},
          "execution_count": 49
        }
      ]
    }
  ]
}