{
  "nbformat": 4,
  "nbformat_minor": 0,
  "metadata": {
    "colab": {
      "name": "2. Extração de dados.ipynb",
      "provenance": [],
      "collapsed_sections": [
        "tS3FpcZYuNgH",
        "_93KdeF7Qmml",
        "1YwpYRF6TdAL",
        "0CJWCeM4drlw",
        "6ehX1EIPwmhC",
        "0jwBjKrPzfs5",
        "UvNCUzQG2WBg",
        "b5PvJjKx-jga",
        "D8dEQYzPB9Cr",
        "d8ibmYsXCBKP",
        "_hYCD4lRQRmg"
      ],
      "authorship_tag": "ABX9TyO8KrXxAkW5GwtvAQzAQj3g"
    },
    "kernelspec": {
      "name": "python3",
      "display_name": "Python 3"
    },
    "language_info": {
      "name": "python"
    }
  },
  "cells": [
    {
      "cell_type": "markdown",
      "metadata": {
        "id": "9HIUt2oZlbnt"
      },
      "source": [
        "# Extração de dados\n",
        "\n",
        "Nesse notebook faremos o processo de extração e tratamento de dados de diversas fontes de dados (textos) gratuitas."
      ]
    },
    {
      "cell_type": "markdown",
      "metadata": {
        "id": "tS3FpcZYuNgH"
      },
      "source": [
        "## 1. API do twitter\n",
        "\n"
      ]
    },
    {
      "cell_type": "markdown",
      "metadata": {
        "id": "qje7kRZB-v51"
      },
      "source": [
        "**Passos para usar a API do twitter:**\n",
        "\n",
        "1. Criar conta de desenvolvedor\n",
        "2. Criar arquivo com consumer key, consumer secret, access token e access token secret, um em cada linha\n",
        "3. Chamar a API usando as keys e tokens de usuário\n",
        "\n",
        "**Para que serve cada key e token?**\n",
        "\n",
        "* **consumer key -** chave associada ao aplicativo (Twitter, Facebook etc.)\n",
        "* **consumer secret -** senha usada para autenticação com o servidor de autenticação (Twitter, Facebook etc.)\n",
        "* **access token -** chave dada ao cliente após o sucesso de autenticação das chaves acima\n",
        "* "
      ]
    },
    {
      "cell_type": "code",
      "metadata": {
        "colab": {
          "base_uri": "https://localhost:8080/"
        },
        "id": "13XyElH8GXfE",
        "outputId": "145527d5-cce5-44ae-8453-7339fc224da7"
      },
      "source": [
        "# Intalando dependências que serão usadas, no caso da API do twitter\n",
        "!pip install tweepy"
      ],
      "execution_count": null,
      "outputs": [
        {
          "output_type": "stream",
          "name": "stdout",
          "text": [
            "Requirement already satisfied: tweepy in /usr/local/lib/python3.7/dist-packages (3.10.0)\n",
            "Requirement already satisfied: requests[socks]>=2.11.1 in /usr/local/lib/python3.7/dist-packages (from tweepy) (2.23.0)\n",
            "Requirement already satisfied: requests-oauthlib>=0.7.0 in /usr/local/lib/python3.7/dist-packages (from tweepy) (1.3.0)\n",
            "Requirement already satisfied: six>=1.10.0 in /usr/local/lib/python3.7/dist-packages (from tweepy) (1.15.0)\n",
            "Requirement already satisfied: oauthlib>=3.0.0 in /usr/local/lib/python3.7/dist-packages (from requests-oauthlib>=0.7.0->tweepy) (3.1.1)\n",
            "Requirement already satisfied: chardet<4,>=3.0.2 in /usr/local/lib/python3.7/dist-packages (from requests[socks]>=2.11.1->tweepy) (3.0.4)\n",
            "Requirement already satisfied: idna<3,>=2.5 in /usr/local/lib/python3.7/dist-packages (from requests[socks]>=2.11.1->tweepy) (2.10)\n",
            "Requirement already satisfied: certifi>=2017.4.17 in /usr/local/lib/python3.7/dist-packages (from requests[socks]>=2.11.1->tweepy) (2021.5.30)\n",
            "Requirement already satisfied: urllib3!=1.25.0,!=1.25.1,<1.26,>=1.21.1 in /usr/local/lib/python3.7/dist-packages (from requests[socks]>=2.11.1->tweepy) (1.24.3)\n",
            "Requirement already satisfied: PySocks!=1.5.7,>=1.5.6 in /usr/local/lib/python3.7/dist-packages (from requests[socks]>=2.11.1->tweepy) (1.7.1)\n"
          ]
        }
      ]
    },
    {
      "cell_type": "code",
      "metadata": {
        "id": "wualk17q_Iau"
      },
      "source": [
        "# Importando bibliotecas que serão usadas\n",
        "import tweepy as tw\n",
        "from tweepy import OAuthHandler"
      ],
      "execution_count": null,
      "outputs": []
    },
    {
      "cell_type": "code",
      "metadata": {
        "id": "R5ewzr6uzrhK"
      },
      "source": [
        "# Credenciais através de arquivo texto\n",
        "with open('/content/api_twitter.txt', 'r') as tfile:\n",
        "    consumer_key = tfile.readline().strip('\\n')\n",
        "    consumer_secret = tfile.readline().strip('\\n')\n",
        "    access_token = tfile.readline().strip('\\n')\n",
        "    access_token_secret = tfile.readline().strip('\\n')"
      ],
      "execution_count": null,
      "outputs": []
    },
    {
      "cell_type": "code",
      "metadata": {
        "id": "A45uvuP_GJSE"
      },
      "source": [
        "# Autenticando-se e chamando a API \n",
        "auth = tw.OAuthHandler(consumer_key, consumer_secret)\n",
        "auth.set_access_token(access_token, access_token_secret)\n",
        "api = tw.API(auth)"
      ],
      "execution_count": null,
      "outputs": []
    },
    {
      "cell_type": "code",
      "metadata": {
        "id": "EXd7x6vIMXG_"
      },
      "source": [
        "# Vamos realizar uma query através de chamada com um termo de nossa escolha\n",
        "query = \"UFABC\"\n",
        "tweets = api.search(query)"
      ],
      "execution_count": null,
      "outputs": []
    },
    {
      "cell_type": "code",
      "metadata": {
        "colab": {
          "base_uri": "https://localhost:8080/"
        },
        "id": "N4LQ96Z3NNcD",
        "outputId": "3d0e3961-c819-4fe9-bada-bb60a7a3972d"
      },
      "source": [
        "# Vendo os tweets de maneira bruta\n",
        "# Lembrando que cada tweet é retornado como um JSON\n",
        "tweets"
      ],
      "execution_count": null,
      "outputs": [
        {
          "output_type": "execute_result",
          "data": {
            "text/plain": [
              "[Status(_api=<tweepy.api.API object at 0x7fa72192ecd0>, _json={'created_at': 'Wed Oct 06 00:45:27 +0000 2021', 'id': 1445550738784931842, 'id_str': '1445550738784931842', 'text': 'ainda bem q pra quem estuda na ufabc isso é normal https://t.co/KUX4IfkYsP', 'truncated': False, 'entities': {'hashtags': [], 'symbols': [], 'user_mentions': [], 'urls': [{'url': 'https://t.co/KUX4IfkYsP', 'expanded_url': 'https://twitter.com/brenoaives/status/1445050060828463111', 'display_url': 'twitter.com/brenoaives/sta…', 'indices': [51, 74]}]}, 'metadata': {'iso_language_code': 'pt', 'result_type': 'recent'}, 'source': '<a href=\"http://twitter.com/download/iphone\" rel=\"nofollow\">Twitter for iPhone</a>', 'in_reply_to_status_id': None, 'in_reply_to_status_id_str': None, 'in_reply_to_user_id': None, 'in_reply_to_user_id_str': None, 'in_reply_to_screen_name': None, 'user': {'id': 254222155, 'id_str': '254222155', 'name': 'laure', 'screen_name': 'glaurexx', 'location': '', 'description': '', 'url': None, 'entities': {'description': {'urls': []}}, 'protected': False, 'followers_count': 1240, 'friends_count': 903, 'listed_count': 0, 'created_at': 'Fri Feb 18 21:30:46 +0000 2011', 'favourites_count': 84236, 'utc_offset': None, 'time_zone': None, 'geo_enabled': True, 'verified': False, 'statuses_count': 91302, 'lang': None, 'contributors_enabled': False, 'is_translator': False, 'is_translation_enabled': False, 'profile_background_color': '0099B9', 'profile_background_image_url': 'http://abs.twimg.com/images/themes/theme10/bg.gif', 'profile_background_image_url_https': 'https://abs.twimg.com/images/themes/theme10/bg.gif', 'profile_background_tile': True, 'profile_image_url': 'http://pbs.twimg.com/profile_images/1444008226140393505/k7_BT-K7_normal.jpg', 'profile_image_url_https': 'https://pbs.twimg.com/profile_images/1444008226140393505/k7_BT-K7_normal.jpg', 'profile_banner_url': 'https://pbs.twimg.com/profile_banners/254222155/1629075064', 'profile_link_color': 'F58EA8', 'profile_sidebar_border_color': 'FFFFFF', 'profile_sidebar_fill_color': '7AC3EE', 'profile_text_color': '3D1957', 'profile_use_background_image': True, 'has_extended_profile': True, 'default_profile': False, 'default_profile_image': False, 'following': False, 'follow_request_sent': False, 'notifications': False, 'translator_type': 'none', 'withheld_in_countries': []}, 'geo': None, 'coordinates': None, 'place': None, 'contributors': None, 'is_quote_status': True, 'quoted_status_id': 1445050060828463111, 'quoted_status_id_str': '1445050060828463111', 'quoted_status': {'created_at': 'Mon Oct 04 15:35:56 +0000 2021', 'id': 1445050060828463111, 'id_str': '1445050060828463111', 'text': 'o universitário tá fazendo 3 SEMESTRES  em 11 meses e tu nao quer que esteja geral maluco?', 'truncated': False, 'entities': {'hashtags': [], 'symbols': [], 'user_mentions': [], 'urls': []}, 'metadata': {'iso_language_code': 'pt', 'result_type': 'recent'}, 'source': '<a href=\"http://twitter.com/download/android\" rel=\"nofollow\">Twitter for Android</a>', 'in_reply_to_status_id': None, 'in_reply_to_status_id_str': None, 'in_reply_to_user_id': None, 'in_reply_to_user_id_str': None, 'in_reply_to_screen_name': None, 'user': {'id': 67448037, 'id_str': '67448037', 'name': 'Inosuke', 'screen_name': 'BrenoAIves', 'location': 'NY - New Yguaçu City', 'description': 'Flamengo / Química - UFRRJ / paiN Gaming', 'url': None, 'entities': {'description': {'urls': []}}, 'protected': False, 'followers_count': 567, 'friends_count': 836, 'listed_count': 3, 'created_at': 'Thu Aug 20 22:42:51 +0000 2009', 'favourites_count': 101279, 'utc_offset': None, 'time_zone': None, 'geo_enabled': False, 'verified': False, 'statuses_count': 89139, 'lang': None, 'contributors_enabled': False, 'is_translator': False, 'is_translation_enabled': False, 'profile_background_color': '000000', 'profile_background_image_url': 'http://abs.twimg.com/images/themes/theme14/bg.gif', 'profile_background_image_url_https': 'https://abs.twimg.com/images/themes/theme14/bg.gif', 'profile_background_tile': False, 'profile_image_url': 'http://pbs.twimg.com/profile_images/1296635026432557056/Tcudfw7G_normal.jpg', 'profile_image_url_https': 'https://pbs.twimg.com/profile_images/1296635026432557056/Tcudfw7G_normal.jpg', 'profile_banner_url': 'https://pbs.twimg.com/profile_banners/67448037/1630194835', 'profile_link_color': 'ABB8C2', 'profile_sidebar_border_color': '000000', 'profile_sidebar_fill_color': '000000', 'profile_text_color': '000000', 'profile_use_background_image': False, 'has_extended_profile': True, 'default_profile': False, 'default_profile_image': False, 'following': False, 'follow_request_sent': False, 'notifications': False, 'translator_type': 'none', 'withheld_in_countries': []}, 'geo': None, 'coordinates': None, 'place': None, 'contributors': None, 'is_quote_status': False, 'retweet_count': 3580, 'favorite_count': 13311, 'favorited': False, 'retweeted': False, 'lang': 'pt'}, 'retweet_count': 0, 'favorite_count': 5, 'favorited': False, 'retweeted': False, 'possibly_sensitive': False, 'lang': 'pt'}, created_at=datetime.datetime(2021, 10, 6, 0, 45, 27), id=1445550738784931842, id_str='1445550738784931842', text='ainda bem q pra quem estuda na ufabc isso é normal https://t.co/KUX4IfkYsP', truncated=False, entities={'hashtags': [], 'symbols': [], 'user_mentions': [], 'urls': [{'url': 'https://t.co/KUX4IfkYsP', 'expanded_url': 'https://twitter.com/brenoaives/status/1445050060828463111', 'display_url': 'twitter.com/brenoaives/sta…', 'indices': [51, 74]}]}, metadata={'iso_language_code': 'pt', 'result_type': 'recent'}, source='Twitter for iPhone', source_url='http://twitter.com/download/iphone', in_reply_to_status_id=None, in_reply_to_status_id_str=None, in_reply_to_user_id=None, in_reply_to_user_id_str=None, in_reply_to_screen_name=None, author=User(_api=<tweepy.api.API object at 0x7fa72192ecd0>, _json={'id': 254222155, 'id_str': '254222155', 'name': 'laure', 'screen_name': 'glaurexx', 'location': '', 'description': '', 'url': None, 'entities': {'description': {'urls': []}}, 'protected': False, 'followers_count': 1240, 'friends_count': 903, 'listed_count': 0, 'created_at': 'Fri Feb 18 21:30:46 +0000 2011', 'favourites_count': 84236, 'utc_offset': None, 'time_zone': None, 'geo_enabled': True, 'verified': False, 'statuses_count': 91302, 'lang': None, 'contributors_enabled': False, 'is_translator': False, 'is_translation_enabled': False, 'profile_background_color': '0099B9', 'profile_background_image_url': 'http://abs.twimg.com/images/themes/theme10/bg.gif', 'profile_background_image_url_https': 'https://abs.twimg.com/images/themes/theme10/bg.gif', 'profile_background_tile': True, 'profile_image_url': 'http://pbs.twimg.com/profile_images/1444008226140393505/k7_BT-K7_normal.jpg', 'profile_image_url_https': 'https://pbs.twimg.com/profile_images/1444008226140393505/k7_BT-K7_normal.jpg', 'profile_banner_url': 'https://pbs.twimg.com/profile_banners/254222155/1629075064', 'profile_link_color': 'F58EA8', 'profile_sidebar_border_color': 'FFFFFF', 'profile_sidebar_fill_color': '7AC3EE', 'profile_text_color': '3D1957', 'profile_use_background_image': True, 'has_extended_profile': True, 'default_profile': False, 'default_profile_image': False, 'following': False, 'follow_request_sent': False, 'notifications': False, 'translator_type': 'none', 'withheld_in_countries': []}, id=254222155, id_str='254222155', name='laure', screen_name='glaurexx', location='', description='', url=None, entities={'description': {'urls': []}}, protected=False, followers_count=1240, friends_count=903, listed_count=0, created_at=datetime.datetime(2011, 2, 18, 21, 30, 46), favourites_count=84236, utc_offset=None, time_zone=None, geo_enabled=True, verified=False, statuses_count=91302, lang=None, contributors_enabled=False, is_translator=False, is_translation_enabled=False, profile_background_color='0099B9', profile_background_image_url='http://abs.twimg.com/images/themes/theme10/bg.gif', profile_background_image_url_https='https://abs.twimg.com/images/themes/theme10/bg.gif', profile_background_tile=True, profile_image_url='http://pbs.twimg.com/profile_images/1444008226140393505/k7_BT-K7_normal.jpg', profile_image_url_https='https://pbs.twimg.com/profile_images/1444008226140393505/k7_BT-K7_normal.jpg', profile_banner_url='https://pbs.twimg.com/profile_banners/254222155/1629075064', profile_link_color='F58EA8', profile_sidebar_border_color='FFFFFF', profile_sidebar_fill_color='7AC3EE', profile_text_color='3D1957', profile_use_background_image=True, has_extended_profile=True, default_profile=False, default_profile_image=False, following=False, follow_request_sent=False, notifications=False, translator_type='none', withheld_in_countries=[]), user=User(_api=<tweepy.api.API object at 0x7fa72192ecd0>, _json={'id': 254222155, 'id_str': '254222155', 'name': 'laure', 'screen_name': 'glaurexx', 'location': '', 'description': '', 'url': None, 'entities': {'description': {'urls': []}}, 'protected': False, 'followers_count': 1240, 'friends_count': 903, 'listed_count': 0, 'created_at': 'Fri Feb 18 21:30:46 +0000 2011', 'favourites_count': 84236, 'utc_offset': None, 'time_zone': None, 'geo_enabled': True, 'verified': False, 'statuses_count': 91302, 'lang': None, 'contributors_enabled': False, 'is_translator': False, 'is_translation_enabled': False, 'profile_background_color': '0099B9', 'profile_background_image_url': 'http://abs.twimg.com/images/themes/theme10/bg.gif', 'profile_background_image_url_https': 'https://abs.twimg.com/images/themes/theme10/bg.gif', 'profile_background_tile': True, 'profile_image_url': 'http://pbs.twimg.com/profile_images/1444008226140393505/k7_BT-K7_normal.jpg', 'profile_image_url_https': 'https://pbs.twimg.com/profile_images/1444008226140393505/k7_BT-K7_normal.jpg', 'profile_banner_url': 'https://pbs.twimg.com/profile_banners/254222155/1629075064', 'profile_link_color': 'F58EA8', 'profile_sidebar_border_color': 'FFFFFF', 'profile_sidebar_fill_color': '7AC3EE', 'profile_text_color': '3D1957', 'profile_use_background_image': True, 'has_extended_profile': True, 'default_profile': False, 'default_profile_image': False, 'following': False, 'follow_request_sent': False, 'notifications': False, 'translator_type': 'none', 'withheld_in_countries': []}, id=254222155, id_str='254222155', name='laure', screen_name='glaurexx', location='', description='', url=None, entities={'description': {'urls': []}}, protected=False, followers_count=1240, friends_count=903, listed_count=0, created_at=datetime.datetime(2011, 2, 18, 21, 30, 46), favourites_count=84236, utc_offset=None, time_zone=None, geo_enabled=True, verified=False, statuses_count=91302, lang=None, contributors_enabled=False, is_translator=False, is_translation_enabled=False, profile_background_color='0099B9', profile_background_image_url='http://abs.twimg.com/images/themes/theme10/bg.gif', profile_background_image_url_https='https://abs.twimg.com/images/themes/theme10/bg.gif', profile_background_tile=True, profile_image_url='http://pbs.twimg.com/profile_images/1444008226140393505/k7_BT-K7_normal.jpg', profile_image_url_https='https://pbs.twimg.com/profile_images/1444008226140393505/k7_BT-K7_normal.jpg', profile_banner_url='https://pbs.twimg.com/profile_banners/254222155/1629075064', profile_link_color='F58EA8', profile_sidebar_border_color='FFFFFF', profile_sidebar_fill_color='7AC3EE', profile_text_color='3D1957', profile_use_background_image=True, has_extended_profile=True, default_profile=False, default_profile_image=False, following=False, follow_request_sent=False, notifications=False, translator_type='none', withheld_in_countries=[]), geo=None, coordinates=None, place=None, contributors=None, is_quote_status=True, quoted_status_id=1445050060828463111, quoted_status_id_str='1445050060828463111', quoted_status=Status(_api=<tweepy.api.API object at 0x7fa72192ecd0>, _json={'created_at': 'Mon Oct 04 15:35:56 +0000 2021', 'id': 1445050060828463111, 'id_str': '1445050060828463111', 'text': 'o universitário tá fazendo 3 SEMESTRES  em 11 meses e tu nao quer que esteja geral maluco?', 'truncated': False, 'entities': {'hashtags': [], 'symbols': [], 'user_mentions': [], 'urls': []}, 'metadata': {'iso_language_code': 'pt', 'result_type': 'recent'}, 'source': '<a href=\"http://twitter.com/download/android\" rel=\"nofollow\">Twitter for Android</a>', 'in_reply_to_status_id': None, 'in_reply_to_status_id_str': None, 'in_reply_to_user_id': None, 'in_reply_to_user_id_str': None, 'in_reply_to_screen_name': None, 'user': {'id': 67448037, 'id_str': '67448037', 'name': 'Inosuke', 'screen_name': 'BrenoAIves', 'location': 'NY - New Yguaçu City', 'description': 'Flamengo / Química - UFRRJ / paiN Gaming', 'url': None, 'entities': {'description': {'urls': []}}, 'protected': False, 'followers_count': 567, 'friends_count': 836, 'listed_count': 3, 'created_at': 'Thu Aug 20 22:42:51 +0000 2009', 'favourites_count': 101279, 'utc_offset': None, 'time_zone': None, 'geo_enabled': False, 'verified': False, 'statuses_count': 89139, 'lang': None, 'contributors_enabled': False, 'is_translator': False, 'is_translation_enabled': False, 'profile_background_color': '000000', 'profile_background_image_url': 'http://abs.twimg.com/images/themes/theme14/bg.gif', 'profile_background_image_url_https': 'https://abs.twimg.com/images/themes/theme14/bg.gif', 'profile_background_tile': False, 'profile_image_url': 'http://pbs.twimg.com/profile_images/1296635026432557056/Tcudfw7G_normal.jpg', 'profile_image_url_https': 'https://pbs.twimg.com/profile_images/1296635026432557056/Tcudfw7G_normal.jpg', 'profile_banner_url': 'https://pbs.twimg.com/profile_banners/67448037/1630194835', 'profile_link_color': 'ABB8C2', 'profile_sidebar_border_color': '000000', 'profile_sidebar_fill_color': '000000', 'profile_text_color': '000000', 'profile_use_background_image': False, 'has_extended_profile': True, 'default_profile': False, 'default_profile_image': False, 'following': False, 'follow_request_sent': False, 'notifications': False, 'translator_type': 'none', 'withheld_in_countries': []}, 'geo': None, 'coordinates': None, 'place': None, 'contributors': None, 'is_quote_status': False, 'retweet_count': 3580, 'favorite_count': 13311, 'favorited': False, 'retweeted': False, 'lang': 'pt'}, created_at=datetime.datetime(2021, 10, 4, 15, 35, 56), id=1445050060828463111, id_str='1445050060828463111', text='o universitário tá fazendo 3 SEMESTRES  em 11 meses e tu nao quer que esteja geral maluco?', truncated=False, entities={'hashtags': [], 'symbols': [], 'user_mentions': [], 'urls': []}, metadata={'iso_language_code': 'pt', 'result_type': 'recent'}, source='Twitter for Android', source_url='http://twitter.com/download/android', in_reply_to_status_id=None, in_reply_to_status_id_str=None, in_reply_to_user_id=None, in_reply_to_user_id_str=None, in_reply_to_screen_name=None, author=User(_api=<tweepy.api.API object at 0x7fa72192ecd0>, _json={'id': 67448037, 'id_str': '67448037', 'name': 'Inosuke', 'screen_name': 'BrenoAIves', 'location': 'NY - New Yguaçu City', 'description': 'Flamengo / Química - UFRRJ / paiN Gaming', 'url': None, 'entities': {'description': {'urls': []}}, 'protected': False, 'followers_count': 567, 'friends_count': 836, 'listed_count': 3, 'created_at': 'Thu Aug 20 22:42:51 +0000 2009', 'favourites_count': 101279, 'utc_offset': None, 'time_zone': None, 'geo_enabled': False, 'verified': False, 'statuses_count': 89139, 'lang': None, 'contributors_enabled': False, 'is_translator': False, 'is_translation_enabled': False, 'profile_background_color': '000000', 'profile_background_image_url': 'http://abs.twimg.com/images/themes/theme14/bg.gif', 'profile_background_image_url_https': 'https://abs.twimg.com/images/themes/theme14/bg.gif', 'profile_background_tile': False, 'profile_image_url': 'http://pbs.twimg.com/profile_images/1296635026432557056/Tcudfw7G_normal.jpg', 'profile_image_url_https': 'https://pbs.twimg.com/profile_images/1296635026432557056/Tcudfw7G_normal.jpg', 'profile_banner_url': 'https://pbs.twimg.com/profile_banners/67448037/1630194835', 'profile_link_color': 'ABB8C2', 'profile_sidebar_border_color': '000000', 'profile_sidebar_fill_color': '000000', 'profile_text_color': '000000', 'profile_use_background_image': False, 'has_extended_profile': True, 'default_profile': False, 'default_profile_image': False, 'following': False, 'follow_request_sent': False, 'notifications': False, 'translator_type': 'none', 'withheld_in_countries': []}, id=67448037, id_str='67448037', name='Inosuke', screen_name='BrenoAIves', location='NY - New Yguaçu City', description='Flamengo / Química - UFRRJ / paiN Gaming', url=None, entities={'description': {'urls': []}}, protected=False, followers_count=567, friends_count=836, listed_count=3, created_at=datetime.datetime(2009, 8, 20, 22, 42, 51), favourites_count=101279, utc_offset=None, time_zone=None, geo_enabled=False, verified=False, statuses_count=89139, lang=None, contributors_enabled=False, is_translator=False, is_translation_enabled=False, profile_background_color='000000', profile_background_image_url='http://abs.twimg.com/images/themes/theme14/bg.gif', profile_background_image_url_https='https://abs.twimg.com/images/themes/theme14/bg.gif', profile_background_tile=False, profile_image_url='http://pbs.twimg.com/profile_images/1296635026432557056/Tcudfw7G_normal.jpg', profile_image_url_https='https://pbs.twimg.com/profile_images/1296635026432557056/Tcudfw7G_normal.jpg', profile_banner_url='https://pbs.twimg.com/profile_banners/67448037/1630194835', profile_link_color='ABB8C2', profile_sidebar_border_color='000000', profile_sidebar_fill_color='000000', profile_text_color='000000', profile_use_background_image=False, has_extended_profile=True, default_profile=False, default_profile_image=False, following=False, follow_request_sent=False, notifications=False, translator_type='none', withheld_in_countries=[]), user=User(_api=<tweepy.api.API object at 0x7fa72192ecd0>, _json={'id': 67448037, 'id_str': '67448037', 'name': 'Inosuke', 'screen_name': 'BrenoAIves', 'location': 'NY - New Yguaçu City', 'description': 'Flamengo / Química - UFRRJ / paiN Gaming', 'url': None, 'entities': {'description': {'urls': []}}, 'protected': False, 'followers_count': 567, 'friends_count': 836, 'listed_count': 3, 'created_at': 'Thu Aug 20 22:42:51 +0000 2009', 'favourites_count': 101279, 'utc_offset': None, 'time_zone': None, 'geo_enabled': False, 'verified': False, 'statuses_count': 89139, 'lang': None, 'contributors_enabled': False, 'is_translator': False, 'is_translation_enabled': False, 'profile_background_color': '000000', 'profile_background_image_url': 'http://abs.twimg.com/images/themes/theme14/bg.gif', 'profile_background_image_url_https': 'https://abs.twimg.com/images/themes/theme14/bg.gif', 'profile_background_tile': False, 'profile_image_url': 'http://pbs.twimg.com/profile_images/1296635026432557056/Tcudfw7G_normal.jpg', 'profile_image_url_https': 'https://pbs.twimg.com/profile_images/1296635026432557056/Tcudfw7G_normal.jpg', 'profile_banner_url': 'https://pbs.twimg.com/profile_banners/67448037/1630194835', 'profile_link_color': 'ABB8C2', 'profile_sidebar_border_color': '000000', 'profile_sidebar_fill_color': '000000', 'profile_text_color': '000000', 'profile_use_background_image': False, 'has_extended_profile': True, 'default_profile': False, 'default_profile_image': False, 'following': False, 'follow_request_sent': False, 'notifications': False, 'translator_type': 'none', 'withheld_in_countries': []}, id=67448037, id_str='67448037', name='Inosuke', screen_name='BrenoAIves', location='NY - New Yguaçu City', description='Flamengo / Química - UFRRJ / paiN Gaming', url=None, entities={'description': {'urls': []}}, protected=False, followers_count=567, friends_count=836, listed_count=3, created_at=datetime.datetime(2009, 8, 20, 22, 42, 51), favourites_count=101279, utc_offset=None, time_zone=None, geo_enabled=False, verified=False, statuses_count=89139, lang=None, contributors_enabled=False, is_translator=False, is_translation_enabled=False, profile_background_color='000000', profile_background_image_url='http://abs.twimg.com/images/themes/theme14/bg.gif', profile_background_image_url_https='https://abs.twimg.com/images/themes/theme14/bg.gif', profile_background_tile=False, profile_image_url='http://pbs.twimg.com/profile_images/1296635026432557056/Tcudfw7G_normal.jpg', profile_image_url_https='https://pbs.twimg.com/profile_images/1296635026432557056/Tcudfw7G_normal.jpg', profile_banner_url='https://pbs.twimg.com/profile_banners/67448037/1630194835', profile_link_color='ABB8C2', profile_sidebar_border_color='000000', profile_sidebar_fill_color='000000', profile_text_color='000000', profile_use_background_image=False, has_extended_profile=True, default_profile=False, default_profile_image=False, following=False, follow_request_sent=False, notifications=False, translator_type='none', withheld_in_countries=[]), geo=None, coordinates=None, place=None, contributors=None, is_quote_status=False, retweet_count=3580, favorite_count=13311, favorited=False, retweeted=False, lang='pt'), retweet_count=0, favorite_count=5, favorited=False, retweeted=False, possibly_sensitive=False, lang='pt'),\n",
              " Status(_api=<tweepy.api.API object at 0x7fa72192ecd0>, _json={'created_at': 'Wed Oct 06 00:12:54 +0000 2021', 'id': 1445542544759164930, 'id_str': '1445542544759164930', 'text': '@giovelani Fui ver essa lista aí e tô EM SHOCK em como a UFABC manda mto bem em Física, no Top 10 da UFABC tá praticamente só os carras', 'truncated': False, 'entities': {'hashtags': [], 'symbols': [], 'user_mentions': [{'screen_name': 'giovelani', 'name': 'Gio', 'id': 959058878058164224, 'id_str': '959058878058164224', 'indices': [0, 10]}], 'urls': []}, 'metadata': {'iso_language_code': 'pt', 'result_type': 'recent'}, 'source': '<a href=\"https://mobile.twitter.com\" rel=\"nofollow\">Twitter Web App</a>', 'in_reply_to_status_id': 1445539538273660930, 'in_reply_to_status_id_str': '1445539538273660930', 'in_reply_to_user_id': 959058878058164224, 'in_reply_to_user_id_str': '959058878058164224', 'in_reply_to_screen_name': 'giovelani', 'user': {'id': 1290450177220923400, 'id_str': '1290450177220923400', 'name': 'FanClub oficial da @Sabriquices', 'screen_name': 'danielfontour2', 'location': '', 'description': 'Falo muita merda com bastante confiança. | BPT - UFABC', 'url': None, 'entities': {'description': {'urls': []}}, 'protected': False, 'followers_count': 149, 'friends_count': 152, 'listed_count': 0, 'created_at': 'Tue Aug 04 00:51:21 +0000 2020', 'favourites_count': 13264, 'utc_offset': None, 'time_zone': None, 'geo_enabled': False, 'verified': False, 'statuses_count': 4835, 'lang': None, 'contributors_enabled': False, 'is_translator': False, 'is_translation_enabled': False, 'profile_background_color': 'F5F8FA', 'profile_background_image_url': None, 'profile_background_image_url_https': None, 'profile_background_tile': False, 'profile_image_url': 'http://pbs.twimg.com/profile_images/1430973455093092354/8z2qB61Q_normal.jpg', 'profile_image_url_https': 'https://pbs.twimg.com/profile_images/1430973455093092354/8z2qB61Q_normal.jpg', 'profile_banner_url': 'https://pbs.twimg.com/profile_banners/1290450177220923400/1615696378', 'profile_link_color': '1DA1F2', 'profile_sidebar_border_color': 'C0DEED', 'profile_sidebar_fill_color': 'DDEEF6', 'profile_text_color': '333333', 'profile_use_background_image': True, 'has_extended_profile': True, 'default_profile': True, 'default_profile_image': False, 'following': False, 'follow_request_sent': False, 'notifications': False, 'translator_type': 'none', 'withheld_in_countries': []}, 'geo': None, 'coordinates': None, 'place': None, 'contributors': None, 'is_quote_status': False, 'retweet_count': 0, 'favorite_count': 1, 'favorited': False, 'retweeted': False, 'lang': 'pt'}, created_at=datetime.datetime(2021, 10, 6, 0, 12, 54), id=1445542544759164930, id_str='1445542544759164930', text='@giovelani Fui ver essa lista aí e tô EM SHOCK em como a UFABC manda mto bem em Física, no Top 10 da UFABC tá praticamente só os carras', truncated=False, entities={'hashtags': [], 'symbols': [], 'user_mentions': [{'screen_name': 'giovelani', 'name': 'Gio', 'id': 959058878058164224, 'id_str': '959058878058164224', 'indices': [0, 10]}], 'urls': []}, metadata={'iso_language_code': 'pt', 'result_type': 'recent'}, source='Twitter Web App', source_url='https://mobile.twitter.com', in_reply_to_status_id=1445539538273660930, in_reply_to_status_id_str='1445539538273660930', in_reply_to_user_id=959058878058164224, in_reply_to_user_id_str='959058878058164224', in_reply_to_screen_name='giovelani', author=User(_api=<tweepy.api.API object at 0x7fa72192ecd0>, _json={'id': 1290450177220923400, 'id_str': '1290450177220923400', 'name': 'FanClub oficial da @Sabriquices', 'screen_name': 'danielfontour2', 'location': '', 'description': 'Falo muita merda com bastante confiança. | BPT - UFABC', 'url': None, 'entities': {'description': {'urls': []}}, 'protected': False, 'followers_count': 149, 'friends_count': 152, 'listed_count': 0, 'created_at': 'Tue Aug 04 00:51:21 +0000 2020', 'favourites_count': 13264, 'utc_offset': None, 'time_zone': None, 'geo_enabled': False, 'verified': False, 'statuses_count': 4835, 'lang': None, 'contributors_enabled': False, 'is_translator': False, 'is_translation_enabled': False, 'profile_background_color': 'F5F8FA', 'profile_background_image_url': None, 'profile_background_image_url_https': None, 'profile_background_tile': False, 'profile_image_url': 'http://pbs.twimg.com/profile_images/1430973455093092354/8z2qB61Q_normal.jpg', 'profile_image_url_https': 'https://pbs.twimg.com/profile_images/1430973455093092354/8z2qB61Q_normal.jpg', 'profile_banner_url': 'https://pbs.twimg.com/profile_banners/1290450177220923400/1615696378', 'profile_link_color': '1DA1F2', 'profile_sidebar_border_color': 'C0DEED', 'profile_sidebar_fill_color': 'DDEEF6', 'profile_text_color': '333333', 'profile_use_background_image': True, 'has_extended_profile': True, 'default_profile': True, 'default_profile_image': False, 'following': False, 'follow_request_sent': False, 'notifications': False, 'translator_type': 'none', 'withheld_in_countries': []}, id=1290450177220923400, id_str='1290450177220923400', name='FanClub oficial da @Sabriquices', screen_name='danielfontour2', location='', description='Falo muita merda com bastante confiança. | BPT - UFABC', url=None, entities={'description': {'urls': []}}, protected=False, followers_count=149, friends_count=152, listed_count=0, created_at=datetime.datetime(2020, 8, 4, 0, 51, 21), favourites_count=13264, utc_offset=None, time_zone=None, geo_enabled=False, verified=False, statuses_count=4835, lang=None, contributors_enabled=False, is_translator=False, is_translation_enabled=False, profile_background_color='F5F8FA', profile_background_image_url=None, profile_background_image_url_https=None, profile_background_tile=False, profile_image_url='http://pbs.twimg.com/profile_images/1430973455093092354/8z2qB61Q_normal.jpg', profile_image_url_https='https://pbs.twimg.com/profile_images/1430973455093092354/8z2qB61Q_normal.jpg', profile_banner_url='https://pbs.twimg.com/profile_banners/1290450177220923400/1615696378', profile_link_color='1DA1F2', profile_sidebar_border_color='C0DEED', profile_sidebar_fill_color='DDEEF6', profile_text_color='333333', profile_use_background_image=True, has_extended_profile=True, default_profile=True, default_profile_image=False, following=False, follow_request_sent=False, notifications=False, translator_type='none', withheld_in_countries=[]), user=User(_api=<tweepy.api.API object at 0x7fa72192ecd0>, _json={'id': 1290450177220923400, 'id_str': '1290450177220923400', 'name': 'FanClub oficial da @Sabriquices', 'screen_name': 'danielfontour2', 'location': '', 'description': 'Falo muita merda com bastante confiança. | BPT - UFABC', 'url': None, 'entities': {'description': {'urls': []}}, 'protected': False, 'followers_count': 149, 'friends_count': 152, 'listed_count': 0, 'created_at': 'Tue Aug 04 00:51:21 +0000 2020', 'favourites_count': 13264, 'utc_offset': None, 'time_zone': None, 'geo_enabled': False, 'verified': False, 'statuses_count': 4835, 'lang': None, 'contributors_enabled': False, 'is_translator': False, 'is_translation_enabled': False, 'profile_background_color': 'F5F8FA', 'profile_background_image_url': None, 'profile_background_image_url_https': None, 'profile_background_tile': False, 'profile_image_url': 'http://pbs.twimg.com/profile_images/1430973455093092354/8z2qB61Q_normal.jpg', 'profile_image_url_https': 'https://pbs.twimg.com/profile_images/1430973455093092354/8z2qB61Q_normal.jpg', 'profile_banner_url': 'https://pbs.twimg.com/profile_banners/1290450177220923400/1615696378', 'profile_link_color': '1DA1F2', 'profile_sidebar_border_color': 'C0DEED', 'profile_sidebar_fill_color': 'DDEEF6', 'profile_text_color': '333333', 'profile_use_background_image': True, 'has_extended_profile': True, 'default_profile': True, 'default_profile_image': False, 'following': False, 'follow_request_sent': False, 'notifications': False, 'translator_type': 'none', 'withheld_in_countries': []}, id=1290450177220923400, id_str='1290450177220923400', name='FanClub oficial da @Sabriquices', screen_name='danielfontour2', location='', description='Falo muita merda com bastante confiança. | BPT - UFABC', url=None, entities={'description': {'urls': []}}, protected=False, followers_count=149, friends_count=152, listed_count=0, created_at=datetime.datetime(2020, 8, 4, 0, 51, 21), favourites_count=13264, utc_offset=None, time_zone=None, geo_enabled=False, verified=False, statuses_count=4835, lang=None, contributors_enabled=False, is_translator=False, is_translation_enabled=False, profile_background_color='F5F8FA', profile_background_image_url=None, profile_background_image_url_https=None, profile_background_tile=False, profile_image_url='http://pbs.twimg.com/profile_images/1430973455093092354/8z2qB61Q_normal.jpg', profile_image_url_https='https://pbs.twimg.com/profile_images/1430973455093092354/8z2qB61Q_normal.jpg', profile_banner_url='https://pbs.twimg.com/profile_banners/1290450177220923400/1615696378', profile_link_color='1DA1F2', profile_sidebar_border_color='C0DEED', profile_sidebar_fill_color='DDEEF6', profile_text_color='333333', profile_use_background_image=True, has_extended_profile=True, default_profile=True, default_profile_image=False, following=False, follow_request_sent=False, notifications=False, translator_type='none', withheld_in_countries=[]), geo=None, coordinates=None, place=None, contributors=None, is_quote_status=False, retweet_count=0, favorite_count=1, favorited=False, retweeted=False, lang='pt'),\n",
              " Status(_api=<tweepy.api.API object at 0x7fa72192ecd0>, _json={'created_at': 'Wed Oct 06 00:01:35 +0000 2021', 'id': 1445539697439039503, 'id_str': '1445539697439039503', 'text': '@_Bruque KAKSKSAH cê ia pra ufabc?', 'truncated': False, 'entities': {'hashtags': [], 'symbols': [], 'user_mentions': [{'screen_name': '_Bruque', 'name': 'É o bruninhooo', 'id': 1145498101140131840, 'id_str': '1145498101140131840', 'indices': [0, 8]}], 'urls': []}, 'metadata': {'iso_language_code': 'pt', 'result_type': 'recent'}, 'source': '<a href=\"https://mobile.twitter.com\" rel=\"nofollow\">Twitter Web App</a>', 'in_reply_to_status_id': 1445537982430126086, 'in_reply_to_status_id_str': '1445537982430126086', 'in_reply_to_user_id': 1145498101140131840, 'in_reply_to_user_id_str': '1145498101140131840', 'in_reply_to_screen_name': '_Bruque', 'user': {'id': 1070143836758908929, 'id_str': '1070143836758908929', 'name': 'gabs|', 'screen_name': 'gmartinhos', 'location': 'fundo do poço ', 'description': 'bissexual, homem cis e geminiano\\n\\nleia a capa.', 'url': None, 'entities': {'description': {'urls': []}}, 'protected': False, 'followers_count': 72, 'friends_count': 82, 'listed_count': 0, 'created_at': 'Wed Dec 05 02:32:27 +0000 2018', 'favourites_count': 2918, 'utc_offset': None, 'time_zone': None, 'geo_enabled': True, 'verified': False, 'statuses_count': 9685, 'lang': None, 'contributors_enabled': False, 'is_translator': False, 'is_translation_enabled': False, 'profile_background_color': '000000', 'profile_background_image_url': 'http://abs.twimg.com/images/themes/theme1/bg.png', 'profile_background_image_url_https': 'https://abs.twimg.com/images/themes/theme1/bg.png', 'profile_background_tile': False, 'profile_image_url': 'http://pbs.twimg.com/profile_images/1427002194604212233/2kF7f_zm_normal.jpg', 'profile_image_url_https': 'https://pbs.twimg.com/profile_images/1427002194604212233/2kF7f_zm_normal.jpg', 'profile_banner_url': 'https://pbs.twimg.com/profile_banners/1070143836758908929/1591793760', 'profile_link_color': '91D2FA', 'profile_sidebar_border_color': '000000', 'profile_sidebar_fill_color': '000000', 'profile_text_color': '000000', 'profile_use_background_image': False, 'has_extended_profile': True, 'default_profile': False, 'default_profile_image': False, 'following': False, 'follow_request_sent': False, 'notifications': False, 'translator_type': 'none', 'withheld_in_countries': []}, 'geo': None, 'coordinates': None, 'place': None, 'contributors': None, 'is_quote_status': False, 'retweet_count': 0, 'favorite_count': 1, 'favorited': False, 'retweeted': False, 'lang': 'pt'}, created_at=datetime.datetime(2021, 10, 6, 0, 1, 35), id=1445539697439039503, id_str='1445539697439039503', text='@_Bruque KAKSKSAH cê ia pra ufabc?', truncated=False, entities={'hashtags': [], 'symbols': [], 'user_mentions': [{'screen_name': '_Bruque', 'name': 'É o bruninhooo', 'id': 1145498101140131840, 'id_str': '1145498101140131840', 'indices': [0, 8]}], 'urls': []}, metadata={'iso_language_code': 'pt', 'result_type': 'recent'}, source='Twitter Web App', source_url='https://mobile.twitter.com', in_reply_to_status_id=1445537982430126086, in_reply_to_status_id_str='1445537982430126086', in_reply_to_user_id=1145498101140131840, in_reply_to_user_id_str='1145498101140131840', in_reply_to_screen_name='_Bruque', author=User(_api=<tweepy.api.API object at 0x7fa72192ecd0>, _json={'id': 1070143836758908929, 'id_str': '1070143836758908929', 'name': 'gabs|', 'screen_name': 'gmartinhos', 'location': 'fundo do poço ', 'description': 'bissexual, homem cis e geminiano\\n\\nleia a capa.', 'url': None, 'entities': {'description': {'urls': []}}, 'protected': False, 'followers_count': 72, 'friends_count': 82, 'listed_count': 0, 'created_at': 'Wed Dec 05 02:32:27 +0000 2018', 'favourites_count': 2918, 'utc_offset': None, 'time_zone': None, 'geo_enabled': True, 'verified': False, 'statuses_count': 9685, 'lang': None, 'contributors_enabled': False, 'is_translator': False, 'is_translation_enabled': False, 'profile_background_color': '000000', 'profile_background_image_url': 'http://abs.twimg.com/images/themes/theme1/bg.png', 'profile_background_image_url_https': 'https://abs.twimg.com/images/themes/theme1/bg.png', 'profile_background_tile': False, 'profile_image_url': 'http://pbs.twimg.com/profile_images/1427002194604212233/2kF7f_zm_normal.jpg', 'profile_image_url_https': 'https://pbs.twimg.com/profile_images/1427002194604212233/2kF7f_zm_normal.jpg', 'profile_banner_url': 'https://pbs.twimg.com/profile_banners/1070143836758908929/1591793760', 'profile_link_color': '91D2FA', 'profile_sidebar_border_color': '000000', 'profile_sidebar_fill_color': '000000', 'profile_text_color': '000000', 'profile_use_background_image': False, 'has_extended_profile': True, 'default_profile': False, 'default_profile_image': False, 'following': False, 'follow_request_sent': False, 'notifications': False, 'translator_type': 'none', 'withheld_in_countries': []}, id=1070143836758908929, id_str='1070143836758908929', name='gabs|', screen_name='gmartinhos', location='fundo do poço ', description='bissexual, homem cis e geminiano\\n\\nleia a capa.', url=None, entities={'description': {'urls': []}}, protected=False, followers_count=72, friends_count=82, listed_count=0, created_at=datetime.datetime(2018, 12, 5, 2, 32, 27), favourites_count=2918, utc_offset=None, time_zone=None, geo_enabled=True, verified=False, statuses_count=9685, lang=None, contributors_enabled=False, is_translator=False, is_translation_enabled=False, profile_background_color='000000', profile_background_image_url='http://abs.twimg.com/images/themes/theme1/bg.png', profile_background_image_url_https='https://abs.twimg.com/images/themes/theme1/bg.png', profile_background_tile=False, profile_image_url='http://pbs.twimg.com/profile_images/1427002194604212233/2kF7f_zm_normal.jpg', profile_image_url_https='https://pbs.twimg.com/profile_images/1427002194604212233/2kF7f_zm_normal.jpg', profile_banner_url='https://pbs.twimg.com/profile_banners/1070143836758908929/1591793760', profile_link_color='91D2FA', profile_sidebar_border_color='000000', profile_sidebar_fill_color='000000', profile_text_color='000000', profile_use_background_image=False, has_extended_profile=True, default_profile=False, default_profile_image=False, following=False, follow_request_sent=False, notifications=False, translator_type='none', withheld_in_countries=[]), user=User(_api=<tweepy.api.API object at 0x7fa72192ecd0>, _json={'id': 1070143836758908929, 'id_str': '1070143836758908929', 'name': 'gabs|', 'screen_name': 'gmartinhos', 'location': 'fundo do poço ', 'description': 'bissexual, homem cis e geminiano\\n\\nleia a capa.', 'url': None, 'entities': {'description': {'urls': []}}, 'protected': False, 'followers_count': 72, 'friends_count': 82, 'listed_count': 0, 'created_at': 'Wed Dec 05 02:32:27 +0000 2018', 'favourites_count': 2918, 'utc_offset': None, 'time_zone': None, 'geo_enabled': True, 'verified': False, 'statuses_count': 9685, 'lang': None, 'contributors_enabled': False, 'is_translator': False, 'is_translation_enabled': False, 'profile_background_color': '000000', 'profile_background_image_url': 'http://abs.twimg.com/images/themes/theme1/bg.png', 'profile_background_image_url_https': 'https://abs.twimg.com/images/themes/theme1/bg.png', 'profile_background_tile': False, 'profile_image_url': 'http://pbs.twimg.com/profile_images/1427002194604212233/2kF7f_zm_normal.jpg', 'profile_image_url_https': 'https://pbs.twimg.com/profile_images/1427002194604212233/2kF7f_zm_normal.jpg', 'profile_banner_url': 'https://pbs.twimg.com/profile_banners/1070143836758908929/1591793760', 'profile_link_color': '91D2FA', 'profile_sidebar_border_color': '000000', 'profile_sidebar_fill_color': '000000', 'profile_text_color': '000000', 'profile_use_background_image': False, 'has_extended_profile': True, 'default_profile': False, 'default_profile_image': False, 'following': False, 'follow_request_sent': False, 'notifications': False, 'translator_type': 'none', 'withheld_in_countries': []}, id=1070143836758908929, id_str='1070143836758908929', name='gabs|', screen_name='gmartinhos', location='fundo do poço ', description='bissexual, homem cis e geminiano\\n\\nleia a capa.', url=None, entities={'description': {'urls': []}}, protected=False, followers_count=72, friends_count=82, listed_count=0, created_at=datetime.datetime(2018, 12, 5, 2, 32, 27), favourites_count=2918, utc_offset=None, time_zone=None, geo_enabled=True, verified=False, statuses_count=9685, lang=None, contributors_enabled=False, is_translator=False, is_translation_enabled=False, profile_background_color='000000', profile_background_image_url='http://abs.twimg.com/images/themes/theme1/bg.png', profile_background_image_url_https='https://abs.twimg.com/images/themes/theme1/bg.png', profile_background_tile=False, profile_image_url='http://pbs.twimg.com/profile_images/1427002194604212233/2kF7f_zm_normal.jpg', profile_image_url_https='https://pbs.twimg.com/profile_images/1427002194604212233/2kF7f_zm_normal.jpg', profile_banner_url='https://pbs.twimg.com/profile_banners/1070143836758908929/1591793760', profile_link_color='91D2FA', profile_sidebar_border_color='000000', profile_sidebar_fill_color='000000', profile_text_color='000000', profile_use_background_image=False, has_extended_profile=True, default_profile=False, default_profile_image=False, following=False, follow_request_sent=False, notifications=False, translator_type='none', withheld_in_countries=[]), geo=None, coordinates=None, place=None, contributors=None, is_quote_status=False, retweet_count=0, favorite_count=1, favorited=False, retweeted=False, lang='pt'),\n",
              " Status(_api=<tweepy.api.API object at 0x7fa72192ecd0>, _json={'created_at': 'Tue Oct 05 23:58:58 +0000 2021', 'id': 1445539039268913152, 'id_str': '1445539039268913152', 'text': 'MINHA NOSSA SENHORA COMO EU AMO A UFABC', 'truncated': False, 'entities': {'hashtags': [], 'symbols': [], 'user_mentions': [], 'urls': []}, 'metadata': {'iso_language_code': 'pt', 'result_type': 'recent'}, 'source': '<a href=\"http://twitter.com/download/android\" rel=\"nofollow\">Twitter for Android</a>', 'in_reply_to_status_id': None, 'in_reply_to_status_id_str': None, 'in_reply_to_user_id': None, 'in_reply_to_user_id_str': None, 'in_reply_to_screen_name': None, 'user': {'id': 1005306165138468864, 'id_str': '1005306165138468864', 'name': '👻Amora👻', 'screen_name': 'mmmothy', 'location': '', 'description': 'Substituível', 'url': None, 'entities': {'description': {'urls': []}}, 'protected': False, 'followers_count': 46, 'friends_count': 144, 'listed_count': 0, 'created_at': 'Sat Jun 09 04:30:42 +0000 2018', 'favourites_count': 14551, 'utc_offset': None, 'time_zone': None, 'geo_enabled': True, 'verified': False, 'statuses_count': 3456, 'lang': None, 'contributors_enabled': False, 'is_translator': False, 'is_translation_enabled': False, 'profile_background_color': 'F5F8FA', 'profile_background_image_url': None, 'profile_background_image_url_https': None, 'profile_background_tile': False, 'profile_image_url': 'http://pbs.twimg.com/profile_images/1436622844985815042/jz5mtw48_normal.jpg', 'profile_image_url_https': 'https://pbs.twimg.com/profile_images/1436622844985815042/jz5mtw48_normal.jpg', 'profile_banner_url': 'https://pbs.twimg.com/profile_banners/1005306165138468864/1624780937', 'profile_link_color': '1DA1F2', 'profile_sidebar_border_color': 'C0DEED', 'profile_sidebar_fill_color': 'DDEEF6', 'profile_text_color': '333333', 'profile_use_background_image': True, 'has_extended_profile': True, 'default_profile': True, 'default_profile_image': False, 'following': False, 'follow_request_sent': False, 'notifications': False, 'translator_type': 'none', 'withheld_in_countries': []}, 'geo': None, 'coordinates': None, 'place': None, 'contributors': None, 'is_quote_status': False, 'retweet_count': 0, 'favorite_count': 0, 'favorited': False, 'retweeted': False, 'lang': 'pt'}, created_at=datetime.datetime(2021, 10, 5, 23, 58, 58), id=1445539039268913152, id_str='1445539039268913152', text='MINHA NOSSA SENHORA COMO EU AMO A UFABC', truncated=False, entities={'hashtags': [], 'symbols': [], 'user_mentions': [], 'urls': []}, metadata={'iso_language_code': 'pt', 'result_type': 'recent'}, source='Twitter for Android', source_url='http://twitter.com/download/android', in_reply_to_status_id=None, in_reply_to_status_id_str=None, in_reply_to_user_id=None, in_reply_to_user_id_str=None, in_reply_to_screen_name=None, author=User(_api=<tweepy.api.API object at 0x7fa72192ecd0>, _json={'id': 1005306165138468864, 'id_str': '1005306165138468864', 'name': '👻Amora👻', 'screen_name': 'mmmothy', 'location': '', 'description': 'Substituível', 'url': None, 'entities': {'description': {'urls': []}}, 'protected': False, 'followers_count': 46, 'friends_count': 144, 'listed_count': 0, 'created_at': 'Sat Jun 09 04:30:42 +0000 2018', 'favourites_count': 14551, 'utc_offset': None, 'time_zone': None, 'geo_enabled': True, 'verified': False, 'statuses_count': 3456, 'lang': None, 'contributors_enabled': False, 'is_translator': False, 'is_translation_enabled': False, 'profile_background_color': 'F5F8FA', 'profile_background_image_url': None, 'profile_background_image_url_https': None, 'profile_background_tile': False, 'profile_image_url': 'http://pbs.twimg.com/profile_images/1436622844985815042/jz5mtw48_normal.jpg', 'profile_image_url_https': 'https://pbs.twimg.com/profile_images/1436622844985815042/jz5mtw48_normal.jpg', 'profile_banner_url': 'https://pbs.twimg.com/profile_banners/1005306165138468864/1624780937', 'profile_link_color': '1DA1F2', 'profile_sidebar_border_color': 'C0DEED', 'profile_sidebar_fill_color': 'DDEEF6', 'profile_text_color': '333333', 'profile_use_background_image': True, 'has_extended_profile': True, 'default_profile': True, 'default_profile_image': False, 'following': False, 'follow_request_sent': False, 'notifications': False, 'translator_type': 'none', 'withheld_in_countries': []}, id=1005306165138468864, id_str='1005306165138468864', name='👻Amora👻', screen_name='mmmothy', location='', description='Substituível', url=None, entities={'description': {'urls': []}}, protected=False, followers_count=46, friends_count=144, listed_count=0, created_at=datetime.datetime(2018, 6, 9, 4, 30, 42), favourites_count=14551, utc_offset=None, time_zone=None, geo_enabled=True, verified=False, statuses_count=3456, lang=None, contributors_enabled=False, is_translator=False, is_translation_enabled=False, profile_background_color='F5F8FA', profile_background_image_url=None, profile_background_image_url_https=None, profile_background_tile=False, profile_image_url='http://pbs.twimg.com/profile_images/1436622844985815042/jz5mtw48_normal.jpg', profile_image_url_https='https://pbs.twimg.com/profile_images/1436622844985815042/jz5mtw48_normal.jpg', profile_banner_url='https://pbs.twimg.com/profile_banners/1005306165138468864/1624780937', profile_link_color='1DA1F2', profile_sidebar_border_color='C0DEED', profile_sidebar_fill_color='DDEEF6', profile_text_color='333333', profile_use_background_image=True, has_extended_profile=True, default_profile=True, default_profile_image=False, following=False, follow_request_sent=False, notifications=False, translator_type='none', withheld_in_countries=[]), user=User(_api=<tweepy.api.API object at 0x7fa72192ecd0>, _json={'id': 1005306165138468864, 'id_str': '1005306165138468864', 'name': '👻Amora👻', 'screen_name': 'mmmothy', 'location': '', 'description': 'Substituível', 'url': None, 'entities': {'description': {'urls': []}}, 'protected': False, 'followers_count': 46, 'friends_count': 144, 'listed_count': 0, 'created_at': 'Sat Jun 09 04:30:42 +0000 2018', 'favourites_count': 14551, 'utc_offset': None, 'time_zone': None, 'geo_enabled': True, 'verified': False, 'statuses_count': 3456, 'lang': None, 'contributors_enabled': False, 'is_translator': False, 'is_translation_enabled': False, 'profile_background_color': 'F5F8FA', 'profile_background_image_url': None, 'profile_background_image_url_https': None, 'profile_background_tile': False, 'profile_image_url': 'http://pbs.twimg.com/profile_images/1436622844985815042/jz5mtw48_normal.jpg', 'profile_image_url_https': 'https://pbs.twimg.com/profile_images/1436622844985815042/jz5mtw48_normal.jpg', 'profile_banner_url': 'https://pbs.twimg.com/profile_banners/1005306165138468864/1624780937', 'profile_link_color': '1DA1F2', 'profile_sidebar_border_color': 'C0DEED', 'profile_sidebar_fill_color': 'DDEEF6', 'profile_text_color': '333333', 'profile_use_background_image': True, 'has_extended_profile': True, 'default_profile': True, 'default_profile_image': False, 'following': False, 'follow_request_sent': False, 'notifications': False, 'translator_type': 'none', 'withheld_in_countries': []}, id=1005306165138468864, id_str='1005306165138468864', name='👻Amora👻', screen_name='mmmothy', location='', description='Substituível', url=None, entities={'description': {'urls': []}}, protected=False, followers_count=46, friends_count=144, listed_count=0, created_at=datetime.datetime(2018, 6, 9, 4, 30, 42), favourites_count=14551, utc_offset=None, time_zone=None, geo_enabled=True, verified=False, statuses_count=3456, lang=None, contributors_enabled=False, is_translator=False, is_translation_enabled=False, profile_background_color='F5F8FA', profile_background_image_url=None, profile_background_image_url_https=None, profile_background_tile=False, profile_image_url='http://pbs.twimg.com/profile_images/1436622844985815042/jz5mtw48_normal.jpg', profile_image_url_https='https://pbs.twimg.com/profile_images/1436622844985815042/jz5mtw48_normal.jpg', profile_banner_url='https://pbs.twimg.com/profile_banners/1005306165138468864/1624780937', profile_link_color='1DA1F2', profile_sidebar_border_color='C0DEED', profile_sidebar_fill_color='DDEEF6', profile_text_color='333333', profile_use_background_image=True, has_extended_profile=True, default_profile=True, default_profile_image=False, following=False, follow_request_sent=False, notifications=False, translator_type='none', withheld_in_countries=[]), geo=None, coordinates=None, place=None, contributors=None, is_quote_status=False, retweet_count=0, favorite_count=0, favorited=False, retweeted=False, lang='pt'),\n",
              " Status(_api=<tweepy.api.API object at 0x7fa72192ecd0>, _json={'created_at': 'Tue Oct 05 23:58:57 +0000 2021', 'id': 1445539035959623688, 'id_str': '1445539035959623688', 'text': '@xheartbrekker Amg os prof da ufabc tão zero aí pra cola, pode ficar tranquila KKKAKSKAKDJ eles querem mais é ter o… https://t.co/c2cxfkHplQ', 'truncated': True, 'entities': {'hashtags': [], 'symbols': [], 'user_mentions': [{'screen_name': 'xheartbrekker', 'name': 'dabi', 'id': 820433971603501057, 'id_str': '820433971603501057', 'indices': [0, 14]}], 'urls': [{'url': 'https://t.co/c2cxfkHplQ', 'expanded_url': 'https://twitter.com/i/web/status/1445539035959623688', 'display_url': 'twitter.com/i/web/status/1…', 'indices': [117, 140]}]}, 'metadata': {'iso_language_code': 'pt', 'result_type': 'recent'}, 'source': '<a href=\"http://twitter.com/download/android\" rel=\"nofollow\">Twitter for Android</a>', 'in_reply_to_status_id': 1445242052690812930, 'in_reply_to_status_id_str': '1445242052690812930', 'in_reply_to_user_id': 820433971603501057, 'in_reply_to_user_id_str': '820433971603501057', 'in_reply_to_screen_name': 'xheartbrekker', 'user': {'id': 1143585231561220097, 'id_str': '1143585231561220097', 'name': 'Camis | 📖: RQ e Torre do Alvorecer', 'screen_name': 'tothwmoon', 'location': '', 'description': '𝔐𝔢𝔲 𝔫𝔬𝔪𝔢 é 𝔖𝔞𝔪 ℭ𝔬𝔯𝔱𝔩𝔞𝔫𝔡... 𝔢 𝔫ã𝔬 𝔳𝔬𝔲 𝔰𝔢𝔫𝔱𝔦𝔯 𝔪𝔢𝔡𝔬 📚', 'url': None, 'entities': {'description': {'urls': []}}, 'protected': False, 'followers_count': 105, 'friends_count': 224, 'listed_count': 0, 'created_at': 'Tue Jun 25 18:22:20 +0000 2019', 'favourites_count': 509, 'utc_offset': None, 'time_zone': None, 'geo_enabled': False, 'verified': False, 'statuses_count': 1529, 'lang': None, 'contributors_enabled': False, 'is_translator': False, 'is_translation_enabled': False, 'profile_background_color': 'F5F8FA', 'profile_background_image_url': None, 'profile_background_image_url_https': None, 'profile_background_tile': False, 'profile_image_url': 'http://pbs.twimg.com/profile_images/1397006463210598400/HYo-akEZ_normal.jpg', 'profile_image_url_https': 'https://pbs.twimg.com/profile_images/1397006463210598400/HYo-akEZ_normal.jpg', 'profile_banner_url': 'https://pbs.twimg.com/profile_banners/1143585231561220097/1596171324', 'profile_link_color': '1DA1F2', 'profile_sidebar_border_color': 'C0DEED', 'profile_sidebar_fill_color': 'DDEEF6', 'profile_text_color': '333333', 'profile_use_background_image': True, 'has_extended_profile': True, 'default_profile': True, 'default_profile_image': False, 'following': False, 'follow_request_sent': False, 'notifications': False, 'translator_type': 'none', 'withheld_in_countries': []}, 'geo': None, 'coordinates': None, 'place': None, 'contributors': None, 'is_quote_status': False, 'retweet_count': 0, 'favorite_count': 0, 'favorited': False, 'retweeted': False, 'lang': 'pt'}, created_at=datetime.datetime(2021, 10, 5, 23, 58, 57), id=1445539035959623688, id_str='1445539035959623688', text='@xheartbrekker Amg os prof da ufabc tão zero aí pra cola, pode ficar tranquila KKKAKSKAKDJ eles querem mais é ter o… https://t.co/c2cxfkHplQ', truncated=True, entities={'hashtags': [], 'symbols': [], 'user_mentions': [{'screen_name': 'xheartbrekker', 'name': 'dabi', 'id': 820433971603501057, 'id_str': '820433971603501057', 'indices': [0, 14]}], 'urls': [{'url': 'https://t.co/c2cxfkHplQ', 'expanded_url': 'https://twitter.com/i/web/status/1445539035959623688', 'display_url': 'twitter.com/i/web/status/1…', 'indices': [117, 140]}]}, metadata={'iso_language_code': 'pt', 'result_type': 'recent'}, source='Twitter for Android', source_url='http://twitter.com/download/android', in_reply_to_status_id=1445242052690812930, in_reply_to_status_id_str='1445242052690812930', in_reply_to_user_id=820433971603501057, in_reply_to_user_id_str='820433971603501057', in_reply_to_screen_name='xheartbrekker', author=User(_api=<tweepy.api.API object at 0x7fa72192ecd0>, _json={'id': 1143585231561220097, 'id_str': '1143585231561220097', 'name': 'Camis | 📖: RQ e Torre do Alvorecer', 'screen_name': 'tothwmoon', 'location': '', 'description': '𝔐𝔢𝔲 𝔫𝔬𝔪𝔢 é 𝔖𝔞𝔪 ℭ𝔬𝔯𝔱𝔩𝔞𝔫𝔡... 𝔢 𝔫ã𝔬 𝔳𝔬𝔲 𝔰𝔢𝔫𝔱𝔦𝔯 𝔪𝔢𝔡𝔬 📚', 'url': None, 'entities': {'description': {'urls': []}}, 'protected': False, 'followers_count': 105, 'friends_count': 224, 'listed_count': 0, 'created_at': 'Tue Jun 25 18:22:20 +0000 2019', 'favourites_count': 509, 'utc_offset': None, 'time_zone': None, 'geo_enabled': False, 'verified': False, 'statuses_count': 1529, 'lang': None, 'contributors_enabled': False, 'is_translator': False, 'is_translation_enabled': False, 'profile_background_color': 'F5F8FA', 'profile_background_image_url': None, 'profile_background_image_url_https': None, 'profile_background_tile': False, 'profile_image_url': 'http://pbs.twimg.com/profile_images/1397006463210598400/HYo-akEZ_normal.jpg', 'profile_image_url_https': 'https://pbs.twimg.com/profile_images/1397006463210598400/HYo-akEZ_normal.jpg', 'profile_banner_url': 'https://pbs.twimg.com/profile_banners/1143585231561220097/1596171324', 'profile_link_color': '1DA1F2', 'profile_sidebar_border_color': 'C0DEED', 'profile_sidebar_fill_color': 'DDEEF6', 'profile_text_color': '333333', 'profile_use_background_image': True, 'has_extended_profile': True, 'default_profile': True, 'default_profile_image': False, 'following': False, 'follow_request_sent': False, 'notifications': False, 'translator_type': 'none', 'withheld_in_countries': []}, id=1143585231561220097, id_str='1143585231561220097', name='Camis | 📖: RQ e Torre do Alvorecer', screen_name='tothwmoon', location='', description='𝔐𝔢𝔲 𝔫𝔬𝔪𝔢 é 𝔖𝔞𝔪 ℭ𝔬𝔯𝔱𝔩𝔞𝔫𝔡... 𝔢 𝔫ã𝔬 𝔳𝔬𝔲 𝔰𝔢𝔫𝔱𝔦𝔯 𝔪𝔢𝔡𝔬 📚', url=None, entities={'description': {'urls': []}}, protected=False, followers_count=105, friends_count=224, listed_count=0, created_at=datetime.datetime(2019, 6, 25, 18, 22, 20), favourites_count=509, utc_offset=None, time_zone=None, geo_enabled=False, verified=False, statuses_count=1529, lang=None, contributors_enabled=False, is_translator=False, is_translation_enabled=False, profile_background_color='F5F8FA', profile_background_image_url=None, profile_background_image_url_https=None, profile_background_tile=False, profile_image_url='http://pbs.twimg.com/profile_images/1397006463210598400/HYo-akEZ_normal.jpg', profile_image_url_https='https://pbs.twimg.com/profile_images/1397006463210598400/HYo-akEZ_normal.jpg', profile_banner_url='https://pbs.twimg.com/profile_banners/1143585231561220097/1596171324', profile_link_color='1DA1F2', profile_sidebar_border_color='C0DEED', profile_sidebar_fill_color='DDEEF6', profile_text_color='333333', profile_use_background_image=True, has_extended_profile=True, default_profile=True, default_profile_image=False, following=False, follow_request_sent=False, notifications=False, translator_type='none', withheld_in_countries=[]), user=User(_api=<tweepy.api.API object at 0x7fa72192ecd0>, _json={'id': 1143585231561220097, 'id_str': '1143585231561220097', 'name': 'Camis | 📖: RQ e Torre do Alvorecer', 'screen_name': 'tothwmoon', 'location': '', 'description': '𝔐𝔢𝔲 𝔫𝔬𝔪𝔢 é 𝔖𝔞𝔪 ℭ𝔬𝔯𝔱𝔩𝔞𝔫𝔡... 𝔢 𝔫ã𝔬 𝔳𝔬𝔲 𝔰𝔢𝔫𝔱𝔦𝔯 𝔪𝔢𝔡𝔬 📚', 'url': None, 'entities': {'description': {'urls': []}}, 'protected': False, 'followers_count': 105, 'friends_count': 224, 'listed_count': 0, 'created_at': 'Tue Jun 25 18:22:20 +0000 2019', 'favourites_count': 509, 'utc_offset': None, 'time_zone': None, 'geo_enabled': False, 'verified': False, 'statuses_count': 1529, 'lang': None, 'contributors_enabled': False, 'is_translator': False, 'is_translation_enabled': False, 'profile_background_color': 'F5F8FA', 'profile_background_image_url': None, 'profile_background_image_url_https': None, 'profile_background_tile': False, 'profile_image_url': 'http://pbs.twimg.com/profile_images/1397006463210598400/HYo-akEZ_normal.jpg', 'profile_image_url_https': 'https://pbs.twimg.com/profile_images/1397006463210598400/HYo-akEZ_normal.jpg', 'profile_banner_url': 'https://pbs.twimg.com/profile_banners/1143585231561220097/1596171324', 'profile_link_color': '1DA1F2', 'profile_sidebar_border_color': 'C0DEED', 'profile_sidebar_fill_color': 'DDEEF6', 'profile_text_color': '333333', 'profile_use_background_image': True, 'has_extended_profile': True, 'default_profile': True, 'default_profile_image': False, 'following': False, 'follow_request_sent': False, 'notifications': False, 'translator_type': 'none', 'withheld_in_countries': []}, id=1143585231561220097, id_str='1143585231561220097', name='Camis | 📖: RQ e Torre do Alvorecer', screen_name='tothwmoon', location='', description='𝔐𝔢𝔲 𝔫𝔬𝔪𝔢 é 𝔖𝔞𝔪 ℭ𝔬𝔯𝔱𝔩𝔞𝔫𝔡... 𝔢 𝔫ã𝔬 𝔳𝔬𝔲 𝔰𝔢𝔫𝔱𝔦𝔯 𝔪𝔢𝔡𝔬 📚', url=None, entities={'description': {'urls': []}}, protected=False, followers_count=105, friends_count=224, listed_count=0, created_at=datetime.datetime(2019, 6, 25, 18, 22, 20), favourites_count=509, utc_offset=None, time_zone=None, geo_enabled=False, verified=False, statuses_count=1529, lang=None, contributors_enabled=False, is_translator=False, is_translation_enabled=False, profile_background_color='F5F8FA', profile_background_image_url=None, profile_background_image_url_https=None, profile_background_tile=False, profile_image_url='http://pbs.twimg.com/profile_images/1397006463210598400/HYo-akEZ_normal.jpg', profile_image_url_https='https://pbs.twimg.com/profile_images/1397006463210598400/HYo-akEZ_normal.jpg', profile_banner_url='https://pbs.twimg.com/profile_banners/1143585231561220097/1596171324', profile_link_color='1DA1F2', profile_sidebar_border_color='C0DEED', profile_sidebar_fill_color='DDEEF6', profile_text_color='333333', profile_use_background_image=True, has_extended_profile=True, default_profile=True, default_profile_image=False, following=False, follow_request_sent=False, notifications=False, translator_type='none', withheld_in_countries=[]), geo=None, coordinates=None, place=None, contributors=None, is_quote_status=False, retweet_count=0, favorite_count=0, favorited=False, retweeted=False, lang='pt'),\n",
              " Status(_api=<tweepy.api.API object at 0x7fa72192ecd0>, _json={'created_at': 'Tue Oct 05 23:53:15 +0000 2021', 'id': 1445537602380107777, 'id_str': '1445537602380107777', 'text': 'Literalmente a ufabc https://t.co/JeBZ0GSyQg', 'truncated': False, 'entities': {'hashtags': [], 'symbols': [], 'user_mentions': [], 'urls': [{'url': 'https://t.co/JeBZ0GSyQg', 'expanded_url': 'https://twitter.com/BrenoAIves/status/1445050060828463111', 'display_url': 'twitter.com/BrenoAIves/sta…', 'indices': [21, 44]}]}, 'metadata': {'iso_language_code': 'pt', 'result_type': 'recent'}, 'source': '<a href=\"http://twitter.com/download/android\" rel=\"nofollow\">Twitter for Android</a>', 'in_reply_to_status_id': None, 'in_reply_to_status_id_str': None, 'in_reply_to_user_id': None, 'in_reply_to_user_id_str': None, 'in_reply_to_screen_name': None, 'user': {'id': 1372771908911951879, 'id_str': '1372771908911951879', 'name': 'Laura', 'screen_name': 'lisztomaniex', 'location': '', 'description': 'private place.', 'url': None, 'entities': {'description': {'urls': []}}, 'protected': False, 'followers_count': 102, 'friends_count': 99, 'listed_count': 0, 'created_at': 'Fri Mar 19 04:48:35 +0000 2021', 'favourites_count': 1310, 'utc_offset': None, 'time_zone': None, 'geo_enabled': False, 'verified': False, 'statuses_count': 711, 'lang': None, 'contributors_enabled': False, 'is_translator': False, 'is_translation_enabled': False, 'profile_background_color': 'F5F8FA', 'profile_background_image_url': None, 'profile_background_image_url_https': None, 'profile_background_tile': False, 'profile_image_url': 'http://pbs.twimg.com/profile_images/1428397082851876865/b3Ev9Lxs_normal.jpg', 'profile_image_url_https': 'https://pbs.twimg.com/profile_images/1428397082851876865/b3Ev9Lxs_normal.jpg', 'profile_banner_url': 'https://pbs.twimg.com/profile_banners/1372771908911951879/1616183235', 'profile_link_color': '1DA1F2', 'profile_sidebar_border_color': 'C0DEED', 'profile_sidebar_fill_color': 'DDEEF6', 'profile_text_color': '333333', 'profile_use_background_image': True, 'has_extended_profile': True, 'default_profile': True, 'default_profile_image': False, 'following': False, 'follow_request_sent': False, 'notifications': False, 'translator_type': 'none', 'withheld_in_countries': []}, 'geo': None, 'coordinates': None, 'place': None, 'contributors': None, 'is_quote_status': True, 'quoted_status_id': 1445050060828463111, 'quoted_status_id_str': '1445050060828463111', 'quoted_status': {'created_at': 'Mon Oct 04 15:35:56 +0000 2021', 'id': 1445050060828463111, 'id_str': '1445050060828463111', 'text': 'o universitário tá fazendo 3 SEMESTRES  em 11 meses e tu nao quer que esteja geral maluco?', 'truncated': False, 'entities': {'hashtags': [], 'symbols': [], 'user_mentions': [], 'urls': []}, 'metadata': {'iso_language_code': 'pt', 'result_type': 'recent'}, 'source': '<a href=\"http://twitter.com/download/android\" rel=\"nofollow\">Twitter for Android</a>', 'in_reply_to_status_id': None, 'in_reply_to_status_id_str': None, 'in_reply_to_user_id': None, 'in_reply_to_user_id_str': None, 'in_reply_to_screen_name': None, 'user': {'id': 67448037, 'id_str': '67448037', 'name': 'Inosuke', 'screen_name': 'BrenoAIves', 'location': 'NY - New Yguaçu City', 'description': 'Flamengo / Química - UFRRJ / paiN Gaming', 'url': None, 'entities': {'description': {'urls': []}}, 'protected': False, 'followers_count': 567, 'friends_count': 836, 'listed_count': 3, 'created_at': 'Thu Aug 20 22:42:51 +0000 2009', 'favourites_count': 101279, 'utc_offset': None, 'time_zone': None, 'geo_enabled': False, 'verified': False, 'statuses_count': 89139, 'lang': None, 'contributors_enabled': False, 'is_translator': False, 'is_translation_enabled': False, 'profile_background_color': '000000', 'profile_background_image_url': 'http://abs.twimg.com/images/themes/theme14/bg.gif', 'profile_background_image_url_https': 'https://abs.twimg.com/images/themes/theme14/bg.gif', 'profile_background_tile': False, 'profile_image_url': 'http://pbs.twimg.com/profile_images/1296635026432557056/Tcudfw7G_normal.jpg', 'profile_image_url_https': 'https://pbs.twimg.com/profile_images/1296635026432557056/Tcudfw7G_normal.jpg', 'profile_banner_url': 'https://pbs.twimg.com/profile_banners/67448037/1630194835', 'profile_link_color': 'ABB8C2', 'profile_sidebar_border_color': '000000', 'profile_sidebar_fill_color': '000000', 'profile_text_color': '000000', 'profile_use_background_image': False, 'has_extended_profile': True, 'default_profile': False, 'default_profile_image': False, 'following': False, 'follow_request_sent': False, 'notifications': False, 'translator_type': 'none', 'withheld_in_countries': []}, 'geo': None, 'coordinates': None, 'place': None, 'contributors': None, 'is_quote_status': False, 'retweet_count': 3580, 'favorite_count': 13311, 'favorited': False, 'retweeted': False, 'lang': 'pt'}, 'retweet_count': 0, 'favorite_count': 0, 'favorited': False, 'retweeted': False, 'possibly_sensitive': False, 'lang': 'pt'}, created_at=datetime.datetime(2021, 10, 5, 23, 53, 15), id=1445537602380107777, id_str='1445537602380107777', text='Literalmente a ufabc https://t.co/JeBZ0GSyQg', truncated=False, entities={'hashtags': [], 'symbols': [], 'user_mentions': [], 'urls': [{'url': 'https://t.co/JeBZ0GSyQg', 'expanded_url': 'https://twitter.com/BrenoAIves/status/1445050060828463111', 'display_url': 'twitter.com/BrenoAIves/sta…', 'indices': [21, 44]}]}, metadata={'iso_language_code': 'pt', 'result_type': 'recent'}, source='Twitter for Android', source_url='http://twitter.com/download/android', in_reply_to_status_id=None, in_reply_to_status_id_str=None, in_reply_to_user_id=None, in_reply_to_user_id_str=None, in_reply_to_screen_name=None, author=User(_api=<tweepy.api.API object at 0x7fa72192ecd0>, _json={'id': 1372771908911951879, 'id_str': '1372771908911951879', 'name': 'Laura', 'screen_name': 'lisztomaniex', 'location': '', 'description': 'private place.', 'url': None, 'entities': {'description': {'urls': []}}, 'protected': False, 'followers_count': 102, 'friends_count': 99, 'listed_count': 0, 'created_at': 'Fri Mar 19 04:48:35 +0000 2021', 'favourites_count': 1310, 'utc_offset': None, 'time_zone': None, 'geo_enabled': False, 'verified': False, 'statuses_count': 711, 'lang': None, 'contributors_enabled': False, 'is_translator': False, 'is_translation_enabled': False, 'profile_background_color': 'F5F8FA', 'profile_background_image_url': None, 'profile_background_image_url_https': None, 'profile_background_tile': False, 'profile_image_url': 'http://pbs.twimg.com/profile_images/1428397082851876865/b3Ev9Lxs_normal.jpg', 'profile_image_url_https': 'https://pbs.twimg.com/profile_images/1428397082851876865/b3Ev9Lxs_normal.jpg', 'profile_banner_url': 'https://pbs.twimg.com/profile_banners/1372771908911951879/1616183235', 'profile_link_color': '1DA1F2', 'profile_sidebar_border_color': 'C0DEED', 'profile_sidebar_fill_color': 'DDEEF6', 'profile_text_color': '333333', 'profile_use_background_image': True, 'has_extended_profile': True, 'default_profile': True, 'default_profile_image': False, 'following': False, 'follow_request_sent': False, 'notifications': False, 'translator_type': 'none', 'withheld_in_countries': []}, id=1372771908911951879, id_str='1372771908911951879', name='Laura', screen_name='lisztomaniex', location='', description='private place.', url=None, entities={'description': {'urls': []}}, protected=False, followers_count=102, friends_count=99, listed_count=0, created_at=datetime.datetime(2021, 3, 19, 4, 48, 35), favourites_count=1310, utc_offset=None, time_zone=None, geo_enabled=False, verified=False, statuses_count=711, lang=None, contributors_enabled=False, is_translator=False, is_translation_enabled=False, profile_background_color='F5F8FA', profile_background_image_url=None, profile_background_image_url_https=None, profile_background_tile=False, profile_image_url='http://pbs.twimg.com/profile_images/1428397082851876865/b3Ev9Lxs_normal.jpg', profile_image_url_https='https://pbs.twimg.com/profile_images/1428397082851876865/b3Ev9Lxs_normal.jpg', profile_banner_url='https://pbs.twimg.com/profile_banners/1372771908911951879/1616183235', profile_link_color='1DA1F2', profile_sidebar_border_color='C0DEED', profile_sidebar_fill_color='DDEEF6', profile_text_color='333333', profile_use_background_image=True, has_extended_profile=True, default_profile=True, default_profile_image=False, following=False, follow_request_sent=False, notifications=False, translator_type='none', withheld_in_countries=[]), user=User(_api=<tweepy.api.API object at 0x7fa72192ecd0>, _json={'id': 1372771908911951879, 'id_str': '1372771908911951879', 'name': 'Laura', 'screen_name': 'lisztomaniex', 'location': '', 'description': 'private place.', 'url': None, 'entities': {'description': {'urls': []}}, 'protected': False, 'followers_count': 102, 'friends_count': 99, 'listed_count': 0, 'created_at': 'Fri Mar 19 04:48:35 +0000 2021', 'favourites_count': 1310, 'utc_offset': None, 'time_zone': None, 'geo_enabled': False, 'verified': False, 'statuses_count': 711, 'lang': None, 'contributors_enabled': False, 'is_translator': False, 'is_translation_enabled': False, 'profile_background_color': 'F5F8FA', 'profile_background_image_url': None, 'profile_background_image_url_https': None, 'profile_background_tile': False, 'profile_image_url': 'http://pbs.twimg.com/profile_images/1428397082851876865/b3Ev9Lxs_normal.jpg', 'profile_image_url_https': 'https://pbs.twimg.com/profile_images/1428397082851876865/b3Ev9Lxs_normal.jpg', 'profile_banner_url': 'https://pbs.twimg.com/profile_banners/1372771908911951879/1616183235', 'profile_link_color': '1DA1F2', 'profile_sidebar_border_color': 'C0DEED', 'profile_sidebar_fill_color': 'DDEEF6', 'profile_text_color': '333333', 'profile_use_background_image': True, 'has_extended_profile': True, 'default_profile': True, 'default_profile_image': False, 'following': False, 'follow_request_sent': False, 'notifications': False, 'translator_type': 'none', 'withheld_in_countries': []}, id=1372771908911951879, id_str='1372771908911951879', name='Laura', screen_name='lisztomaniex', location='', description='private place.', url=None, entities={'description': {'urls': []}}, protected=False, followers_count=102, friends_count=99, listed_count=0, created_at=datetime.datetime(2021, 3, 19, 4, 48, 35), favourites_count=1310, utc_offset=None, time_zone=None, geo_enabled=False, verified=False, statuses_count=711, lang=None, contributors_enabled=False, is_translator=False, is_translation_enabled=False, profile_background_color='F5F8FA', profile_background_image_url=None, profile_background_image_url_https=None, profile_background_tile=False, profile_image_url='http://pbs.twimg.com/profile_images/1428397082851876865/b3Ev9Lxs_normal.jpg', profile_image_url_https='https://pbs.twimg.com/profile_images/1428397082851876865/b3Ev9Lxs_normal.jpg', profile_banner_url='https://pbs.twimg.com/profile_banners/1372771908911951879/1616183235', profile_link_color='1DA1F2', profile_sidebar_border_color='C0DEED', profile_sidebar_fill_color='DDEEF6', profile_text_color='333333', profile_use_background_image=True, has_extended_profile=True, default_profile=True, default_profile_image=False, following=False, follow_request_sent=False, notifications=False, translator_type='none', withheld_in_countries=[]), geo=None, coordinates=None, place=None, contributors=None, is_quote_status=True, quoted_status_id=1445050060828463111, quoted_status_id_str='1445050060828463111', quoted_status=Status(_api=<tweepy.api.API object at 0x7fa72192ecd0>, _json={'created_at': 'Mon Oct 04 15:35:56 +0000 2021', 'id': 1445050060828463111, 'id_str': '1445050060828463111', 'text': 'o universitário tá fazendo 3 SEMESTRES  em 11 meses e tu nao quer que esteja geral maluco?', 'truncated': False, 'entities': {'hashtags': [], 'symbols': [], 'user_mentions': [], 'urls': []}, 'metadata': {'iso_language_code': 'pt', 'result_type': 'recent'}, 'source': '<a href=\"http://twitter.com/download/android\" rel=\"nofollow\">Twitter for Android</a>', 'in_reply_to_status_id': None, 'in_reply_to_status_id_str': None, 'in_reply_to_user_id': None, 'in_reply_to_user_id_str': None, 'in_reply_to_screen_name': None, 'user': {'id': 67448037, 'id_str': '67448037', 'name': 'Inosuke', 'screen_name': 'BrenoAIves', 'location': 'NY - New Yguaçu City', 'description': 'Flamengo / Química - UFRRJ / paiN Gaming', 'url': None, 'entities': {'description': {'urls': []}}, 'protected': False, 'followers_count': 567, 'friends_count': 836, 'listed_count': 3, 'created_at': 'Thu Aug 20 22:42:51 +0000 2009', 'favourites_count': 101279, 'utc_offset': None, 'time_zone': None, 'geo_enabled': False, 'verified': False, 'statuses_count': 89139, 'lang': None, 'contributors_enabled': False, 'is_translator': False, 'is_translation_enabled': False, 'profile_background_color': '000000', 'profile_background_image_url': 'http://abs.twimg.com/images/themes/theme14/bg.gif', 'profile_background_image_url_https': 'https://abs.twimg.com/images/themes/theme14/bg.gif', 'profile_background_tile': False, 'profile_image_url': 'http://pbs.twimg.com/profile_images/1296635026432557056/Tcudfw7G_normal.jpg', 'profile_image_url_https': 'https://pbs.twimg.com/profile_images/1296635026432557056/Tcudfw7G_normal.jpg', 'profile_banner_url': 'https://pbs.twimg.com/profile_banners/67448037/1630194835', 'profile_link_color': 'ABB8C2', 'profile_sidebar_border_color': '000000', 'profile_sidebar_fill_color': '000000', 'profile_text_color': '000000', 'profile_use_background_image': False, 'has_extended_profile': True, 'default_profile': False, 'default_profile_image': False, 'following': False, 'follow_request_sent': False, 'notifications': False, 'translator_type': 'none', 'withheld_in_countries': []}, 'geo': None, 'coordinates': None, 'place': None, 'contributors': None, 'is_quote_status': False, 'retweet_count': 3580, 'favorite_count': 13311, 'favorited': False, 'retweeted': False, 'lang': 'pt'}, created_at=datetime.datetime(2021, 10, 4, 15, 35, 56), id=1445050060828463111, id_str='1445050060828463111', text='o universitário tá fazendo 3 SEMESTRES  em 11 meses e tu nao quer que esteja geral maluco?', truncated=False, entities={'hashtags': [], 'symbols': [], 'user_mentions': [], 'urls': []}, metadata={'iso_language_code': 'pt', 'result_type': 'recent'}, source='Twitter for Android', source_url='http://twitter.com/download/android', in_reply_to_status_id=None, in_reply_to_status_id_str=None, in_reply_to_user_id=None, in_reply_to_user_id_str=None, in_reply_to_screen_name=None, author=User(_api=<tweepy.api.API object at 0x7fa72192ecd0>, _json={'id': 67448037, 'id_str': '67448037', 'name': 'Inosuke', 'screen_name': 'BrenoAIves', 'location': 'NY - New Yguaçu City', 'description': 'Flamengo / Química - UFRRJ / paiN Gaming', 'url': None, 'entities': {'description': {'urls': []}}, 'protected': False, 'followers_count': 567, 'friends_count': 836, 'listed_count': 3, 'created_at': 'Thu Aug 20 22:42:51 +0000 2009', 'favourites_count': 101279, 'utc_offset': None, 'time_zone': None, 'geo_enabled': False, 'verified': False, 'statuses_count': 89139, 'lang': None, 'contributors_enabled': False, 'is_translator': False, 'is_translation_enabled': False, 'profile_background_color': '000000', 'profile_background_image_url': 'http://abs.twimg.com/images/themes/theme14/bg.gif', 'profile_background_image_url_https': 'https://abs.twimg.com/images/themes/theme14/bg.gif', 'profile_background_tile': False, 'profile_image_url': 'http://pbs.twimg.com/profile_images/1296635026432557056/Tcudfw7G_normal.jpg', 'profile_image_url_https': 'https://pbs.twimg.com/profile_images/1296635026432557056/Tcudfw7G_normal.jpg', 'profile_banner_url': 'https://pbs.twimg.com/profile_banners/67448037/1630194835', 'profile_link_color': 'ABB8C2', 'profile_sidebar_border_color': '000000', 'profile_sidebar_fill_color': '000000', 'profile_text_color': '000000', 'profile_use_background_image': False, 'has_extended_profile': True, 'default_profile': False, 'default_profile_image': False, 'following': False, 'follow_request_sent': False, 'notifications': False, 'translator_type': 'none', 'withheld_in_countries': []}, id=67448037, id_str='67448037', name='Inosuke', screen_name='BrenoAIves', location='NY - New Yguaçu City', description='Flamengo / Química - UFRRJ / paiN Gaming', url=None, entities={'description': {'urls': []}}, protected=False, followers_count=567, friends_count=836, listed_count=3, created_at=datetime.datetime(2009, 8, 20, 22, 42, 51), favourites_count=101279, utc_offset=None, time_zone=None, geo_enabled=False, verified=False, statuses_count=89139, lang=None, contributors_enabled=False, is_translator=False, is_translation_enabled=False, profile_background_color='000000', profile_background_image_url='http://abs.twimg.com/images/themes/theme14/bg.gif', profile_background_image_url_https='https://abs.twimg.com/images/themes/theme14/bg.gif', profile_background_tile=False, profile_image_url='http://pbs.twimg.com/profile_images/1296635026432557056/Tcudfw7G_normal.jpg', profile_image_url_https='https://pbs.twimg.com/profile_images/1296635026432557056/Tcudfw7G_normal.jpg', profile_banner_url='https://pbs.twimg.com/profile_banners/67448037/1630194835', profile_link_color='ABB8C2', profile_sidebar_border_color='000000', profile_sidebar_fill_color='000000', profile_text_color='000000', profile_use_background_image=False, has_extended_profile=True, default_profile=False, default_profile_image=False, following=False, follow_request_sent=False, notifications=False, translator_type='none', withheld_in_countries=[]), user=User(_api=<tweepy.api.API object at 0x7fa72192ecd0>, _json={'id': 67448037, 'id_str': '67448037', 'name': 'Inosuke', 'screen_name': 'BrenoAIves', 'location': 'NY - New Yguaçu City', 'description': 'Flamengo / Química - UFRRJ / paiN Gaming', 'url': None, 'entities': {'description': {'urls': []}}, 'protected': False, 'followers_count': 567, 'friends_count': 836, 'listed_count': 3, 'created_at': 'Thu Aug 20 22:42:51 +0000 2009', 'favourites_count': 101279, 'utc_offset': None, 'time_zone': None, 'geo_enabled': False, 'verified': False, 'statuses_count': 89139, 'lang': None, 'contributors_enabled': False, 'is_translator': False, 'is_translation_enabled': False, 'profile_background_color': '000000', 'profile_background_image_url': 'http://abs.twimg.com/images/themes/theme14/bg.gif', 'profile_background_image_url_https': 'https://abs.twimg.com/images/themes/theme14/bg.gif', 'profile_background_tile': False, 'profile_image_url': 'http://pbs.twimg.com/profile_images/1296635026432557056/Tcudfw7G_normal.jpg', 'profile_image_url_https': 'https://pbs.twimg.com/profile_images/1296635026432557056/Tcudfw7G_normal.jpg', 'profile_banner_url': 'https://pbs.twimg.com/profile_banners/67448037/1630194835', 'profile_link_color': 'ABB8C2', 'profile_sidebar_border_color': '000000', 'profile_sidebar_fill_color': '000000', 'profile_text_color': '000000', 'profile_use_background_image': False, 'has_extended_profile': True, 'default_profile': False, 'default_profile_image': False, 'following': False, 'follow_request_sent': False, 'notifications': False, 'translator_type': 'none', 'withheld_in_countries': []}, id=67448037, id_str='67448037', name='Inosuke', screen_name='BrenoAIves', location='NY - New Yguaçu City', description='Flamengo / Química - UFRRJ / paiN Gaming', url=None, entities={'description': {'urls': []}}, protected=False, followers_count=567, friends_count=836, listed_count=3, created_at=datetime.datetime(2009, 8, 20, 22, 42, 51), favourites_count=101279, utc_offset=None, time_zone=None, geo_enabled=False, verified=False, statuses_count=89139, lang=None, contributors_enabled=False, is_translator=False, is_translation_enabled=False, profile_background_color='000000', profile_background_image_url='http://abs.twimg.com/images/themes/theme14/bg.gif', profile_background_image_url_https='https://abs.twimg.com/images/themes/theme14/bg.gif', profile_background_tile=False, profile_image_url='http://pbs.twimg.com/profile_images/1296635026432557056/Tcudfw7G_normal.jpg', profile_image_url_https='https://pbs.twimg.com/profile_images/1296635026432557056/Tcudfw7G_normal.jpg', profile_banner_url='https://pbs.twimg.com/profile_banners/67448037/1630194835', profile_link_color='ABB8C2', profile_sidebar_border_color='000000', profile_sidebar_fill_color='000000', profile_text_color='000000', profile_use_background_image=False, has_extended_profile=True, default_profile=False, default_profile_image=False, following=False, follow_request_sent=False, notifications=False, translator_type='none', withheld_in_countries=[]), geo=None, coordinates=None, place=None, contributors=None, is_quote_status=False, retweet_count=3580, favorite_count=13311, favorited=False, retweeted=False, lang='pt'), retweet_count=0, favorite_count=0, favorited=False, retweeted=False, possibly_sensitive=False, lang='pt'),\n",
              " Status(_api=<tweepy.api.API object at 0x7fa72192ecd0>, _json={'created_at': 'Tue Oct 05 23:50:24 +0000 2021', 'id': 1445536883698634765, 'id_str': '1445536883698634765', 'text': 'não mas sério ufabc\\n\\nfísica quântica vai tomar no cu https://t.co/O0XUdZpIxV', 'truncated': False, 'entities': {'hashtags': [], 'symbols': [], 'user_mentions': [], 'urls': [], 'media': [{'id': 1445536776672595971, 'id_str': '1445536776672595971', 'indices': [53, 76], 'media_url': 'http://pbs.twimg.com/media/FA-UCiNVUAMlvvN.png', 'media_url_https': 'https://pbs.twimg.com/media/FA-UCiNVUAMlvvN.png', 'url': 'https://t.co/O0XUdZpIxV', 'display_url': 'pic.twitter.com/O0XUdZpIxV', 'expanded_url': 'https://twitter.com/gmartinhos/status/1445536883698634765/photo/1', 'type': 'photo', 'sizes': {'large': {'w': 696, 'h': 353, 'resize': 'fit'}, 'small': {'w': 680, 'h': 345, 'resize': 'fit'}, 'thumb': {'w': 150, 'h': 150, 'resize': 'crop'}, 'medium': {'w': 696, 'h': 353, 'resize': 'fit'}}}]}, 'extended_entities': {'media': [{'id': 1445536776672595971, 'id_str': '1445536776672595971', 'indices': [53, 76], 'media_url': 'http://pbs.twimg.com/media/FA-UCiNVUAMlvvN.png', 'media_url_https': 'https://pbs.twimg.com/media/FA-UCiNVUAMlvvN.png', 'url': 'https://t.co/O0XUdZpIxV', 'display_url': 'pic.twitter.com/O0XUdZpIxV', 'expanded_url': 'https://twitter.com/gmartinhos/status/1445536883698634765/photo/1', 'type': 'photo', 'sizes': {'large': {'w': 696, 'h': 353, 'resize': 'fit'}, 'small': {'w': 680, 'h': 345, 'resize': 'fit'}, 'thumb': {'w': 150, 'h': 150, 'resize': 'crop'}, 'medium': {'w': 696, 'h': 353, 'resize': 'fit'}}}]}, 'metadata': {'iso_language_code': 'pt', 'result_type': 'recent'}, 'source': '<a href=\"https://mobile.twitter.com\" rel=\"nofollow\">Twitter Web App</a>', 'in_reply_to_status_id': None, 'in_reply_to_status_id_str': None, 'in_reply_to_user_id': None, 'in_reply_to_user_id_str': None, 'in_reply_to_screen_name': None, 'user': {'id': 1070143836758908929, 'id_str': '1070143836758908929', 'name': 'gabs|', 'screen_name': 'gmartinhos', 'location': 'fundo do poço ', 'description': 'bissexual, homem cis e geminiano\\n\\nleia a capa.', 'url': None, 'entities': {'description': {'urls': []}}, 'protected': False, 'followers_count': 72, 'friends_count': 82, 'listed_count': 0, 'created_at': 'Wed Dec 05 02:32:27 +0000 2018', 'favourites_count': 2918, 'utc_offset': None, 'time_zone': None, 'geo_enabled': True, 'verified': False, 'statuses_count': 9685, 'lang': None, 'contributors_enabled': False, 'is_translator': False, 'is_translation_enabled': False, 'profile_background_color': '000000', 'profile_background_image_url': 'http://abs.twimg.com/images/themes/theme1/bg.png', 'profile_background_image_url_https': 'https://abs.twimg.com/images/themes/theme1/bg.png', 'profile_background_tile': False, 'profile_image_url': 'http://pbs.twimg.com/profile_images/1427002194604212233/2kF7f_zm_normal.jpg', 'profile_image_url_https': 'https://pbs.twimg.com/profile_images/1427002194604212233/2kF7f_zm_normal.jpg', 'profile_banner_url': 'https://pbs.twimg.com/profile_banners/1070143836758908929/1591793760', 'profile_link_color': '91D2FA', 'profile_sidebar_border_color': '000000', 'profile_sidebar_fill_color': '000000', 'profile_text_color': '000000', 'profile_use_background_image': False, 'has_extended_profile': True, 'default_profile': False, 'default_profile_image': False, 'following': False, 'follow_request_sent': False, 'notifications': False, 'translator_type': 'none', 'withheld_in_countries': []}, 'geo': None, 'coordinates': None, 'place': None, 'contributors': None, 'is_quote_status': False, 'retweet_count': 0, 'favorite_count': 0, 'favorited': False, 'retweeted': False, 'possibly_sensitive': False, 'lang': 'pt'}, created_at=datetime.datetime(2021, 10, 5, 23, 50, 24), id=1445536883698634765, id_str='1445536883698634765', text='não mas sério ufabc\\n\\nfísica quântica vai tomar no cu https://t.co/O0XUdZpIxV', truncated=False, entities={'hashtags': [], 'symbols': [], 'user_mentions': [], 'urls': [], 'media': [{'id': 1445536776672595971, 'id_str': '1445536776672595971', 'indices': [53, 76], 'media_url': 'http://pbs.twimg.com/media/FA-UCiNVUAMlvvN.png', 'media_url_https': 'https://pbs.twimg.com/media/FA-UCiNVUAMlvvN.png', 'url': 'https://t.co/O0XUdZpIxV', 'display_url': 'pic.twitter.com/O0XUdZpIxV', 'expanded_url': 'https://twitter.com/gmartinhos/status/1445536883698634765/photo/1', 'type': 'photo', 'sizes': {'large': {'w': 696, 'h': 353, 'resize': 'fit'}, 'small': {'w': 680, 'h': 345, 'resize': 'fit'}, 'thumb': {'w': 150, 'h': 150, 'resize': 'crop'}, 'medium': {'w': 696, 'h': 353, 'resize': 'fit'}}}]}, extended_entities={'media': [{'id': 1445536776672595971, 'id_str': '1445536776672595971', 'indices': [53, 76], 'media_url': 'http://pbs.twimg.com/media/FA-UCiNVUAMlvvN.png', 'media_url_https': 'https://pbs.twimg.com/media/FA-UCiNVUAMlvvN.png', 'url': 'https://t.co/O0XUdZpIxV', 'display_url': 'pic.twitter.com/O0XUdZpIxV', 'expanded_url': 'https://twitter.com/gmartinhos/status/1445536883698634765/photo/1', 'type': 'photo', 'sizes': {'large': {'w': 696, 'h': 353, 'resize': 'fit'}, 'small': {'w': 680, 'h': 345, 'resize': 'fit'}, 'thumb': {'w': 150, 'h': 150, 'resize': 'crop'}, 'medium': {'w': 696, 'h': 353, 'resize': 'fit'}}}]}, metadata={'iso_language_code': 'pt', 'result_type': 'recent'}, source='Twitter Web App', source_url='https://mobile.twitter.com', in_reply_to_status_id=None, in_reply_to_status_id_str=None, in_reply_to_user_id=None, in_reply_to_user_id_str=None, in_reply_to_screen_name=None, author=User(_api=<tweepy.api.API object at 0x7fa72192ecd0>, _json={'id': 1070143836758908929, 'id_str': '1070143836758908929', 'name': 'gabs|', 'screen_name': 'gmartinhos', 'location': 'fundo do poço ', 'description': 'bissexual, homem cis e geminiano\\n\\nleia a capa.', 'url': None, 'entities': {'description': {'urls': []}}, 'protected': False, 'followers_count': 72, 'friends_count': 82, 'listed_count': 0, 'created_at': 'Wed Dec 05 02:32:27 +0000 2018', 'favourites_count': 2918, 'utc_offset': None, 'time_zone': None, 'geo_enabled': True, 'verified': False, 'statuses_count': 9685, 'lang': None, 'contributors_enabled': False, 'is_translator': False, 'is_translation_enabled': False, 'profile_background_color': '000000', 'profile_background_image_url': 'http://abs.twimg.com/images/themes/theme1/bg.png', 'profile_background_image_url_https': 'https://abs.twimg.com/images/themes/theme1/bg.png', 'profile_background_tile': False, 'profile_image_url': 'http://pbs.twimg.com/profile_images/1427002194604212233/2kF7f_zm_normal.jpg', 'profile_image_url_https': 'https://pbs.twimg.com/profile_images/1427002194604212233/2kF7f_zm_normal.jpg', 'profile_banner_url': 'https://pbs.twimg.com/profile_banners/1070143836758908929/1591793760', 'profile_link_color': '91D2FA', 'profile_sidebar_border_color': '000000', 'profile_sidebar_fill_color': '000000', 'profile_text_color': '000000', 'profile_use_background_image': False, 'has_extended_profile': True, 'default_profile': False, 'default_profile_image': False, 'following': False, 'follow_request_sent': False, 'notifications': False, 'translator_type': 'none', 'withheld_in_countries': []}, id=1070143836758908929, id_str='1070143836758908929', name='gabs|', screen_name='gmartinhos', location='fundo do poço ', description='bissexual, homem cis e geminiano\\n\\nleia a capa.', url=None, entities={'description': {'urls': []}}, protected=False, followers_count=72, friends_count=82, listed_count=0, created_at=datetime.datetime(2018, 12, 5, 2, 32, 27), favourites_count=2918, utc_offset=None, time_zone=None, geo_enabled=True, verified=False, statuses_count=9685, lang=None, contributors_enabled=False, is_translator=False, is_translation_enabled=False, profile_background_color='000000', profile_background_image_url='http://abs.twimg.com/images/themes/theme1/bg.png', profile_background_image_url_https='https://abs.twimg.com/images/themes/theme1/bg.png', profile_background_tile=False, profile_image_url='http://pbs.twimg.com/profile_images/1427002194604212233/2kF7f_zm_normal.jpg', profile_image_url_https='https://pbs.twimg.com/profile_images/1427002194604212233/2kF7f_zm_normal.jpg', profile_banner_url='https://pbs.twimg.com/profile_banners/1070143836758908929/1591793760', profile_link_color='91D2FA', profile_sidebar_border_color='000000', profile_sidebar_fill_color='000000', profile_text_color='000000', profile_use_background_image=False, has_extended_profile=True, default_profile=False, default_profile_image=False, following=False, follow_request_sent=False, notifications=False, translator_type='none', withheld_in_countries=[]), user=User(_api=<tweepy.api.API object at 0x7fa72192ecd0>, _json={'id': 1070143836758908929, 'id_str': '1070143836758908929', 'name': 'gabs|', 'screen_name': 'gmartinhos', 'location': 'fundo do poço ', 'description': 'bissexual, homem cis e geminiano\\n\\nleia a capa.', 'url': None, 'entities': {'description': {'urls': []}}, 'protected': False, 'followers_count': 72, 'friends_count': 82, 'listed_count': 0, 'created_at': 'Wed Dec 05 02:32:27 +0000 2018', 'favourites_count': 2918, 'utc_offset': None, 'time_zone': None, 'geo_enabled': True, 'verified': False, 'statuses_count': 9685, 'lang': None, 'contributors_enabled': False, 'is_translator': False, 'is_translation_enabled': False, 'profile_background_color': '000000', 'profile_background_image_url': 'http://abs.twimg.com/images/themes/theme1/bg.png', 'profile_background_image_url_https': 'https://abs.twimg.com/images/themes/theme1/bg.png', 'profile_background_tile': False, 'profile_image_url': 'http://pbs.twimg.com/profile_images/1427002194604212233/2kF7f_zm_normal.jpg', 'profile_image_url_https': 'https://pbs.twimg.com/profile_images/1427002194604212233/2kF7f_zm_normal.jpg', 'profile_banner_url': 'https://pbs.twimg.com/profile_banners/1070143836758908929/1591793760', 'profile_link_color': '91D2FA', 'profile_sidebar_border_color': '000000', 'profile_sidebar_fill_color': '000000', 'profile_text_color': '000000', 'profile_use_background_image': False, 'has_extended_profile': True, 'default_profile': False, 'default_profile_image': False, 'following': False, 'follow_request_sent': False, 'notifications': False, 'translator_type': 'none', 'withheld_in_countries': []}, id=1070143836758908929, id_str='1070143836758908929', name='gabs|', screen_name='gmartinhos', location='fundo do poço ', description='bissexual, homem cis e geminiano\\n\\nleia a capa.', url=None, entities={'description': {'urls': []}}, protected=False, followers_count=72, friends_count=82, listed_count=0, created_at=datetime.datetime(2018, 12, 5, 2, 32, 27), favourites_count=2918, utc_offset=None, time_zone=None, geo_enabled=True, verified=False, statuses_count=9685, lang=None, contributors_enabled=False, is_translator=False, is_translation_enabled=False, profile_background_color='000000', profile_background_image_url='http://abs.twimg.com/images/themes/theme1/bg.png', profile_background_image_url_https='https://abs.twimg.com/images/themes/theme1/bg.png', profile_background_tile=False, profile_image_url='http://pbs.twimg.com/profile_images/1427002194604212233/2kF7f_zm_normal.jpg', profile_image_url_https='https://pbs.twimg.com/profile_images/1427002194604212233/2kF7f_zm_normal.jpg', profile_banner_url='https://pbs.twimg.com/profile_banners/1070143836758908929/1591793760', profile_link_color='91D2FA', profile_sidebar_border_color='000000', profile_sidebar_fill_color='000000', profile_text_color='000000', profile_use_background_image=False, has_extended_profile=True, default_profile=False, default_profile_image=False, following=False, follow_request_sent=False, notifications=False, translator_type='none', withheld_in_countries=[]), geo=None, coordinates=None, place=None, contributors=None, is_quote_status=False, retweet_count=0, favorite_count=0, favorited=False, retweeted=False, possibly_sensitive=False, lang='pt'),\n",
              " Status(_api=<tweepy.api.API object at 0x7fa72192ecd0>, _json={'created_at': 'Tue Oct 05 23:40:00 +0000 2021', 'id': 1445534265396109313, 'id_str': '1445534265396109313', 'text': 'UFABC | Homenagem aos terceirizados na UFABC sem igualdade salarial e direitos?\\n\\nhttps://t.co/WfeGX1khpw', 'truncated': False, 'entities': {'hashtags': [], 'symbols': [], 'user_mentions': [], 'urls': [{'url': 'https://t.co/WfeGX1khpw', 'expanded_url': 'http://esquerdadiario.com.br/Homenagem-aos-terceirizados-na-UFABC-sem-igualdade-salarial-e-direitos', 'display_url': 'esquerdadiario.com.br/Homenagem-aos-…', 'indices': [81, 104]}]}, 'metadata': {'iso_language_code': 'pt', 'result_type': 'recent'}, 'source': '<a href=\"https://mobile.twitter.com\" rel=\"nofollow\">Twitter Web App</a>', 'in_reply_to_status_id': None, 'in_reply_to_status_id_str': None, 'in_reply_to_user_id': None, 'in_reply_to_user_id_str': None, 'in_reply_to_screen_name': None, 'user': {'id': 3029126512, 'id_str': '3029126512', 'name': 'Esquerda Diário', 'screen_name': 'EsquerdaDiario', 'location': 'Rede \"La Izquierda Diario\"', 'description': 'Parte da rede internacional de diários digitais de esquerda, anticapitalistas, socialistas e revolucionários, que no Brasil é impulsionado pelo MRT.', 'url': 'https://t.co/QUPwKQswRq', 'entities': {'url': {'urls': [{'url': 'https://t.co/QUPwKQswRq', 'expanded_url': 'http://www.esquerdadiario.com.br/', 'display_url': 'esquerdadiario.com.br', 'indices': [0, 23]}]}, 'description': {'urls': []}}, 'protected': False, 'followers_count': 13372, 'friends_count': 78, 'listed_count': 165, 'created_at': 'Wed Feb 11 00:10:11 +0000 2015', 'favourites_count': 7418, 'utc_offset': None, 'time_zone': None, 'geo_enabled': True, 'verified': True, 'statuses_count': 34121, 'lang': None, 'contributors_enabled': False, 'is_translator': False, 'is_translation_enabled': False, 'profile_background_color': '000000', 'profile_background_image_url': 'http://abs.twimg.com/images/themes/theme1/bg.png', 'profile_background_image_url_https': 'https://abs.twimg.com/images/themes/theme1/bg.png', 'profile_background_tile': False, 'profile_image_url': 'http://pbs.twimg.com/profile_images/1416048410713538569/rrOiBymm_normal.jpg', 'profile_image_url_https': 'https://pbs.twimg.com/profile_images/1416048410713538569/rrOiBymm_normal.jpg', 'profile_banner_url': 'https://pbs.twimg.com/profile_banners/3029126512/1625750271', 'profile_link_color': 'E81C4F', 'profile_sidebar_border_color': '000000', 'profile_sidebar_fill_color': '000000', 'profile_text_color': '000000', 'profile_use_background_image': False, 'has_extended_profile': False, 'default_profile': False, 'default_profile_image': False, 'following': False, 'follow_request_sent': False, 'notifications': False, 'translator_type': 'none', 'withheld_in_countries': []}, 'geo': None, 'coordinates': None, 'place': None, 'contributors': None, 'is_quote_status': False, 'retweet_count': 0, 'favorite_count': 2, 'favorited': False, 'retweeted': False, 'possibly_sensitive': False, 'lang': 'pt'}, created_at=datetime.datetime(2021, 10, 5, 23, 40), id=1445534265396109313, id_str='1445534265396109313', text='UFABC | Homenagem aos terceirizados na UFABC sem igualdade salarial e direitos?\\n\\nhttps://t.co/WfeGX1khpw', truncated=False, entities={'hashtags': [], 'symbols': [], 'user_mentions': [], 'urls': [{'url': 'https://t.co/WfeGX1khpw', 'expanded_url': 'http://esquerdadiario.com.br/Homenagem-aos-terceirizados-na-UFABC-sem-igualdade-salarial-e-direitos', 'display_url': 'esquerdadiario.com.br/Homenagem-aos-…', 'indices': [81, 104]}]}, metadata={'iso_language_code': 'pt', 'result_type': 'recent'}, source='Twitter Web App', source_url='https://mobile.twitter.com', in_reply_to_status_id=None, in_reply_to_status_id_str=None, in_reply_to_user_id=None, in_reply_to_user_id_str=None, in_reply_to_screen_name=None, author=User(_api=<tweepy.api.API object at 0x7fa72192ecd0>, _json={'id': 3029126512, 'id_str': '3029126512', 'name': 'Esquerda Diário', 'screen_name': 'EsquerdaDiario', 'location': 'Rede \"La Izquierda Diario\"', 'description': 'Parte da rede internacional de diários digitais de esquerda, anticapitalistas, socialistas e revolucionários, que no Brasil é impulsionado pelo MRT.', 'url': 'https://t.co/QUPwKQswRq', 'entities': {'url': {'urls': [{'url': 'https://t.co/QUPwKQswRq', 'expanded_url': 'http://www.esquerdadiario.com.br/', 'display_url': 'esquerdadiario.com.br', 'indices': [0, 23]}]}, 'description': {'urls': []}}, 'protected': False, 'followers_count': 13372, 'friends_count': 78, 'listed_count': 165, 'created_at': 'Wed Feb 11 00:10:11 +0000 2015', 'favourites_count': 7418, 'utc_offset': None, 'time_zone': None, 'geo_enabled': True, 'verified': True, 'statuses_count': 34121, 'lang': None, 'contributors_enabled': False, 'is_translator': False, 'is_translation_enabled': False, 'profile_background_color': '000000', 'profile_background_image_url': 'http://abs.twimg.com/images/themes/theme1/bg.png', 'profile_background_image_url_https': 'https://abs.twimg.com/images/themes/theme1/bg.png', 'profile_background_tile': False, 'profile_image_url': 'http://pbs.twimg.com/profile_images/1416048410713538569/rrOiBymm_normal.jpg', 'profile_image_url_https': 'https://pbs.twimg.com/profile_images/1416048410713538569/rrOiBymm_normal.jpg', 'profile_banner_url': 'https://pbs.twimg.com/profile_banners/3029126512/1625750271', 'profile_link_color': 'E81C4F', 'profile_sidebar_border_color': '000000', 'profile_sidebar_fill_color': '000000', 'profile_text_color': '000000', 'profile_use_background_image': False, 'has_extended_profile': False, 'default_profile': False, 'default_profile_image': False, 'following': False, 'follow_request_sent': False, 'notifications': False, 'translator_type': 'none', 'withheld_in_countries': []}, id=3029126512, id_str='3029126512', name='Esquerda Diário', screen_name='EsquerdaDiario', location='Rede \"La Izquierda Diario\"', description='Parte da rede internacional de diários digitais de esquerda, anticapitalistas, socialistas e revolucionários, que no Brasil é impulsionado pelo MRT.', url='https://t.co/QUPwKQswRq', entities={'url': {'urls': [{'url': 'https://t.co/QUPwKQswRq', 'expanded_url': 'http://www.esquerdadiario.com.br/', 'display_url': 'esquerdadiario.com.br', 'indices': [0, 23]}]}, 'description': {'urls': []}}, protected=False, followers_count=13372, friends_count=78, listed_count=165, created_at=datetime.datetime(2015, 2, 11, 0, 10, 11), favourites_count=7418, utc_offset=None, time_zone=None, geo_enabled=True, verified=True, statuses_count=34121, lang=None, contributors_enabled=False, is_translator=False, is_translation_enabled=False, profile_background_color='000000', profile_background_image_url='http://abs.twimg.com/images/themes/theme1/bg.png', profile_background_image_url_https='https://abs.twimg.com/images/themes/theme1/bg.png', profile_background_tile=False, profile_image_url='http://pbs.twimg.com/profile_images/1416048410713538569/rrOiBymm_normal.jpg', profile_image_url_https='https://pbs.twimg.com/profile_images/1416048410713538569/rrOiBymm_normal.jpg', profile_banner_url='https://pbs.twimg.com/profile_banners/3029126512/1625750271', profile_link_color='E81C4F', profile_sidebar_border_color='000000', profile_sidebar_fill_color='000000', profile_text_color='000000', profile_use_background_image=False, has_extended_profile=False, default_profile=False, default_profile_image=False, following=False, follow_request_sent=False, notifications=False, translator_type='none', withheld_in_countries=[]), user=User(_api=<tweepy.api.API object at 0x7fa72192ecd0>, _json={'id': 3029126512, 'id_str': '3029126512', 'name': 'Esquerda Diário', 'screen_name': 'EsquerdaDiario', 'location': 'Rede \"La Izquierda Diario\"', 'description': 'Parte da rede internacional de diários digitais de esquerda, anticapitalistas, socialistas e revolucionários, que no Brasil é impulsionado pelo MRT.', 'url': 'https://t.co/QUPwKQswRq', 'entities': {'url': {'urls': [{'url': 'https://t.co/QUPwKQswRq', 'expanded_url': 'http://www.esquerdadiario.com.br/', 'display_url': 'esquerdadiario.com.br', 'indices': [0, 23]}]}, 'description': {'urls': []}}, 'protected': False, 'followers_count': 13372, 'friends_count': 78, 'listed_count': 165, 'created_at': 'Wed Feb 11 00:10:11 +0000 2015', 'favourites_count': 7418, 'utc_offset': None, 'time_zone': None, 'geo_enabled': True, 'verified': True, 'statuses_count': 34121, 'lang': None, 'contributors_enabled': False, 'is_translator': False, 'is_translation_enabled': False, 'profile_background_color': '000000', 'profile_background_image_url': 'http://abs.twimg.com/images/themes/theme1/bg.png', 'profile_background_image_url_https': 'https://abs.twimg.com/images/themes/theme1/bg.png', 'profile_background_tile': False, 'profile_image_url': 'http://pbs.twimg.com/profile_images/1416048410713538569/rrOiBymm_normal.jpg', 'profile_image_url_https': 'https://pbs.twimg.com/profile_images/1416048410713538569/rrOiBymm_normal.jpg', 'profile_banner_url': 'https://pbs.twimg.com/profile_banners/3029126512/1625750271', 'profile_link_color': 'E81C4F', 'profile_sidebar_border_color': '000000', 'profile_sidebar_fill_color': '000000', 'profile_text_color': '000000', 'profile_use_background_image': False, 'has_extended_profile': False, 'default_profile': False, 'default_profile_image': False, 'following': False, 'follow_request_sent': False, 'notifications': False, 'translator_type': 'none', 'withheld_in_countries': []}, id=3029126512, id_str='3029126512', name='Esquerda Diário', screen_name='EsquerdaDiario', location='Rede \"La Izquierda Diario\"', description='Parte da rede internacional de diários digitais de esquerda, anticapitalistas, socialistas e revolucionários, que no Brasil é impulsionado pelo MRT.', url='https://t.co/QUPwKQswRq', entities={'url': {'urls': [{'url': 'https://t.co/QUPwKQswRq', 'expanded_url': 'http://www.esquerdadiario.com.br/', 'display_url': 'esquerdadiario.com.br', 'indices': [0, 23]}]}, 'description': {'urls': []}}, protected=False, followers_count=13372, friends_count=78, listed_count=165, created_at=datetime.datetime(2015, 2, 11, 0, 10, 11), favourites_count=7418, utc_offset=None, time_zone=None, geo_enabled=True, verified=True, statuses_count=34121, lang=None, contributors_enabled=False, is_translator=False, is_translation_enabled=False, profile_background_color='000000', profile_background_image_url='http://abs.twimg.com/images/themes/theme1/bg.png', profile_background_image_url_https='https://abs.twimg.com/images/themes/theme1/bg.png', profile_background_tile=False, profile_image_url='http://pbs.twimg.com/profile_images/1416048410713538569/rrOiBymm_normal.jpg', profile_image_url_https='https://pbs.twimg.com/profile_images/1416048410713538569/rrOiBymm_normal.jpg', profile_banner_url='https://pbs.twimg.com/profile_banners/3029126512/1625750271', profile_link_color='E81C4F', profile_sidebar_border_color='000000', profile_sidebar_fill_color='000000', profile_text_color='000000', profile_use_background_image=False, has_extended_profile=False, default_profile=False, default_profile_image=False, following=False, follow_request_sent=False, notifications=False, translator_type='none', withheld_in_countries=[]), geo=None, coordinates=None, place=None, contributors=None, is_quote_status=False, retweet_count=0, favorite_count=2, favorited=False, retweeted=False, possibly_sensitive=False, lang='pt'),\n",
              " Status(_api=<tweepy.api.API object at 0x7fa72192ecd0>, _json={'created_at': 'Tue Oct 05 23:39:48 +0000 2021', 'id': 1445534217404702721, 'id_str': '1445534217404702721', 'text': 'agora que ta bombando no tiktok esses video de que açucar não tira acidez do tomate CHEGOU O MEU MOMENTO. a minha m… https://t.co/0tLucZryKH', 'truncated': True, 'entities': {'hashtags': [], 'symbols': [], 'user_mentions': [], 'urls': [{'url': 'https://t.co/0tLucZryKH', 'expanded_url': 'https://twitter.com/i/web/status/1445534217404702721', 'display_url': 'twitter.com/i/web/status/1…', 'indices': [117, 140]}]}, 'metadata': {'iso_language_code': 'pt', 'result_type': 'recent'}, 'source': '<a href=\"https://mobile.twitter.com\" rel=\"nofollow\">Twitter Web App</a>', 'in_reply_to_status_id': None, 'in_reply_to_status_id_str': None, 'in_reply_to_user_id': None, 'in_reply_to_user_id_str': None, 'in_reply_to_screen_name': None, 'user': {'id': 1149165093340549120, 'id_str': '1149165093340549120', 'name': 'batiam da silva ツ', 'screen_name': 'fred_fujimori', 'location': 'Sao Paulo, Brazil', 'description': 'slc lek achava q onome da veia era batiam kkk #asian', 'url': None, 'entities': {'description': {'urls': []}}, 'protected': False, 'followers_count': 1111, 'friends_count': 750, 'listed_count': 5, 'created_at': 'Thu Jul 11 03:54:43 +0000 2019', 'favourites_count': 12265, 'utc_offset': None, 'time_zone': None, 'geo_enabled': False, 'verified': False, 'statuses_count': 10192, 'lang': None, 'contributors_enabled': False, 'is_translator': False, 'is_translation_enabled': False, 'profile_background_color': 'F5F8FA', 'profile_background_image_url': None, 'profile_background_image_url_https': None, 'profile_background_tile': False, 'profile_image_url': 'http://pbs.twimg.com/profile_images/1434369095546331137/SneQ8QnJ_normal.jpg', 'profile_image_url_https': 'https://pbs.twimg.com/profile_images/1434369095546331137/SneQ8QnJ_normal.jpg', 'profile_banner_url': 'https://pbs.twimg.com/profile_banners/1149165093340549120/1630815217', 'profile_link_color': '1DA1F2', 'profile_sidebar_border_color': 'C0DEED', 'profile_sidebar_fill_color': 'DDEEF6', 'profile_text_color': '333333', 'profile_use_background_image': True, 'has_extended_profile': True, 'default_profile': True, 'default_profile_image': False, 'following': False, 'follow_request_sent': False, 'notifications': False, 'translator_type': 'none', 'withheld_in_countries': []}, 'geo': None, 'coordinates': None, 'place': None, 'contributors': None, 'is_quote_status': False, 'retweet_count': 0, 'favorite_count': 7, 'favorited': False, 'retweeted': False, 'possibly_sensitive': False, 'lang': 'pt'}, created_at=datetime.datetime(2021, 10, 5, 23, 39, 48), id=1445534217404702721, id_str='1445534217404702721', text='agora que ta bombando no tiktok esses video de que açucar não tira acidez do tomate CHEGOU O MEU MOMENTO. a minha m… https://t.co/0tLucZryKH', truncated=True, entities={'hashtags': [], 'symbols': [], 'user_mentions': [], 'urls': [{'url': 'https://t.co/0tLucZryKH', 'expanded_url': 'https://twitter.com/i/web/status/1445534217404702721', 'display_url': 'twitter.com/i/web/status/1…', 'indices': [117, 140]}]}, metadata={'iso_language_code': 'pt', 'result_type': 'recent'}, source='Twitter Web App', source_url='https://mobile.twitter.com', in_reply_to_status_id=None, in_reply_to_status_id_str=None, in_reply_to_user_id=None, in_reply_to_user_id_str=None, in_reply_to_screen_name=None, author=User(_api=<tweepy.api.API object at 0x7fa72192ecd0>, _json={'id': 1149165093340549120, 'id_str': '1149165093340549120', 'name': 'batiam da silva ツ', 'screen_name': 'fred_fujimori', 'location': 'Sao Paulo, Brazil', 'description': 'slc lek achava q onome da veia era batiam kkk #asian', 'url': None, 'entities': {'description': {'urls': []}}, 'protected': False, 'followers_count': 1111, 'friends_count': 750, 'listed_count': 5, 'created_at': 'Thu Jul 11 03:54:43 +0000 2019', 'favourites_count': 12265, 'utc_offset': None, 'time_zone': None, 'geo_enabled': False, 'verified': False, 'statuses_count': 10192, 'lang': None, 'contributors_enabled': False, 'is_translator': False, 'is_translation_enabled': False, 'profile_background_color': 'F5F8FA', 'profile_background_image_url': None, 'profile_background_image_url_https': None, 'profile_background_tile': False, 'profile_image_url': 'http://pbs.twimg.com/profile_images/1434369095546331137/SneQ8QnJ_normal.jpg', 'profile_image_url_https': 'https://pbs.twimg.com/profile_images/1434369095546331137/SneQ8QnJ_normal.jpg', 'profile_banner_url': 'https://pbs.twimg.com/profile_banners/1149165093340549120/1630815217', 'profile_link_color': '1DA1F2', 'profile_sidebar_border_color': 'C0DEED', 'profile_sidebar_fill_color': 'DDEEF6', 'profile_text_color': '333333', 'profile_use_background_image': True, 'has_extended_profile': True, 'default_profile': True, 'default_profile_image': False, 'following': False, 'follow_request_sent': False, 'notifications': False, 'translator_type': 'none', 'withheld_in_countries': []}, id=1149165093340549120, id_str='1149165093340549120', name='batiam da silva ツ', screen_name='fred_fujimori', location='Sao Paulo, Brazil', description='slc lek achava q onome da veia era batiam kkk #asian', url=None, entities={'description': {'urls': []}}, protected=False, followers_count=1111, friends_count=750, listed_count=5, created_at=datetime.datetime(2019, 7, 11, 3, 54, 43), favourites_count=12265, utc_offset=None, time_zone=None, geo_enabled=False, verified=False, statuses_count=10192, lang=None, contributors_enabled=False, is_translator=False, is_translation_enabled=False, profile_background_color='F5F8FA', profile_background_image_url=None, profile_background_image_url_https=None, profile_background_tile=False, profile_image_url='http://pbs.twimg.com/profile_images/1434369095546331137/SneQ8QnJ_normal.jpg', profile_image_url_https='https://pbs.twimg.com/profile_images/1434369095546331137/SneQ8QnJ_normal.jpg', profile_banner_url='https://pbs.twimg.com/profile_banners/1149165093340549120/1630815217', profile_link_color='1DA1F2', profile_sidebar_border_color='C0DEED', profile_sidebar_fill_color='DDEEF6', profile_text_color='333333', profile_use_background_image=True, has_extended_profile=True, default_profile=True, default_profile_image=False, following=False, follow_request_sent=False, notifications=False, translator_type='none', withheld_in_countries=[]), user=User(_api=<tweepy.api.API object at 0x7fa72192ecd0>, _json={'id': 1149165093340549120, 'id_str': '1149165093340549120', 'name': 'batiam da silva ツ', 'screen_name': 'fred_fujimori', 'location': 'Sao Paulo, Brazil', 'description': 'slc lek achava q onome da veia era batiam kkk #asian', 'url': None, 'entities': {'description': {'urls': []}}, 'protected': False, 'followers_count': 1111, 'friends_count': 750, 'listed_count': 5, 'created_at': 'Thu Jul 11 03:54:43 +0000 2019', 'favourites_count': 12265, 'utc_offset': None, 'time_zone': None, 'geo_enabled': False, 'verified': False, 'statuses_count': 10192, 'lang': None, 'contributors_enabled': False, 'is_translator': False, 'is_translation_enabled': False, 'profile_background_color': 'F5F8FA', 'profile_background_image_url': None, 'profile_background_image_url_https': None, 'profile_background_tile': False, 'profile_image_url': 'http://pbs.twimg.com/profile_images/1434369095546331137/SneQ8QnJ_normal.jpg', 'profile_image_url_https': 'https://pbs.twimg.com/profile_images/1434369095546331137/SneQ8QnJ_normal.jpg', 'profile_banner_url': 'https://pbs.twimg.com/profile_banners/1149165093340549120/1630815217', 'profile_link_color': '1DA1F2', 'profile_sidebar_border_color': 'C0DEED', 'profile_sidebar_fill_color': 'DDEEF6', 'profile_text_color': '333333', 'profile_use_background_image': True, 'has_extended_profile': True, 'default_profile': True, 'default_profile_image': False, 'following': False, 'follow_request_sent': False, 'notifications': False, 'translator_type': 'none', 'withheld_in_countries': []}, id=1149165093340549120, id_str='1149165093340549120', name='batiam da silva ツ', screen_name='fred_fujimori', location='Sao Paulo, Brazil', description='slc lek achava q onome da veia era batiam kkk #asian', url=None, entities={'description': {'urls': []}}, protected=False, followers_count=1111, friends_count=750, listed_count=5, created_at=datetime.datetime(2019, 7, 11, 3, 54, 43), favourites_count=12265, utc_offset=None, time_zone=None, geo_enabled=False, verified=False, statuses_count=10192, lang=None, contributors_enabled=False, is_translator=False, is_translation_enabled=False, profile_background_color='F5F8FA', profile_background_image_url=None, profile_background_image_url_https=None, profile_background_tile=False, profile_image_url='http://pbs.twimg.com/profile_images/1434369095546331137/SneQ8QnJ_normal.jpg', profile_image_url_https='https://pbs.twimg.com/profile_images/1434369095546331137/SneQ8QnJ_normal.jpg', profile_banner_url='https://pbs.twimg.com/profile_banners/1149165093340549120/1630815217', profile_link_color='1DA1F2', profile_sidebar_border_color='C0DEED', profile_sidebar_fill_color='DDEEF6', profile_text_color='333333', profile_use_background_image=True, has_extended_profile=True, default_profile=True, default_profile_image=False, following=False, follow_request_sent=False, notifications=False, translator_type='none', withheld_in_countries=[]), geo=None, coordinates=None, place=None, contributors=None, is_quote_status=False, retweet_count=0, favorite_count=7, favorited=False, retweeted=False, possibly_sensitive=False, lang='pt'),\n",
              " Status(_api=<tweepy.api.API object at 0x7fa72192ecd0>, _json={'created_at': 'Tue Oct 05 23:10:19 +0000 2021', 'id': 1445526796678565891, 'id_str': '1445526796678565891', 'text': 'bem vindos a ufabc https://t.co/YZizDvRvuc', 'truncated': False, 'entities': {'hashtags': [], 'symbols': [], 'user_mentions': [], 'urls': [{'url': 'https://t.co/YZizDvRvuc', 'expanded_url': 'https://twitter.com/BrenoAIves/status/1445050060828463111', 'display_url': 'twitter.com/BrenoAIves/sta…', 'indices': [19, 42]}]}, 'metadata': {'iso_language_code': 'pt', 'result_type': 'recent'}, 'source': '<a href=\"http://twitter.com/download/android\" rel=\"nofollow\">Twitter for Android</a>', 'in_reply_to_status_id': None, 'in_reply_to_status_id_str': None, 'in_reply_to_user_id': None, 'in_reply_to_user_id_str': None, 'in_reply_to_screen_name': None, 'user': {'id': 1274012721789485057, 'id_str': '1274012721789485057', 'name': 'Henri', 'screen_name': 'riquecsimone', 'location': '', 'description': 'procurando fazer o possível para não passar vergonha\\n(ele/dele)', 'url': None, 'entities': {'description': {'urls': []}}, 'protected': False, 'followers_count': 129, 'friends_count': 216, 'listed_count': 0, 'created_at': 'Fri Jun 19 16:14:45 +0000 2020', 'favourites_count': 9563, 'utc_offset': None, 'time_zone': None, 'geo_enabled': False, 'verified': False, 'statuses_count': 3915, 'lang': None, 'contributors_enabled': False, 'is_translator': False, 'is_translation_enabled': False, 'profile_background_color': 'F5F8FA', 'profile_background_image_url': None, 'profile_background_image_url_https': None, 'profile_background_tile': False, 'profile_image_url': 'http://pbs.twimg.com/profile_images/1439758709538820096/9pKRkIQp_normal.jpg', 'profile_image_url_https': 'https://pbs.twimg.com/profile_images/1439758709538820096/9pKRkIQp_normal.jpg', 'profile_banner_url': 'https://pbs.twimg.com/profile_banners/1274012721789485057/1633360762', 'profile_link_color': '1DA1F2', 'profile_sidebar_border_color': 'C0DEED', 'profile_sidebar_fill_color': 'DDEEF6', 'profile_text_color': '333333', 'profile_use_background_image': True, 'has_extended_profile': True, 'default_profile': True, 'default_profile_image': False, 'following': False, 'follow_request_sent': False, 'notifications': False, 'translator_type': 'none', 'withheld_in_countries': []}, 'geo': None, 'coordinates': None, 'place': None, 'contributors': None, 'is_quote_status': True, 'quoted_status_id': 1445050060828463111, 'quoted_status_id_str': '1445050060828463111', 'quoted_status': {'created_at': 'Mon Oct 04 15:35:56 +0000 2021', 'id': 1445050060828463111, 'id_str': '1445050060828463111', 'text': 'o universitário tá fazendo 3 SEMESTRES  em 11 meses e tu nao quer que esteja geral maluco?', 'truncated': False, 'entities': {'hashtags': [], 'symbols': [], 'user_mentions': [], 'urls': []}, 'metadata': {'iso_language_code': 'pt', 'result_type': 'recent'}, 'source': '<a href=\"http://twitter.com/download/android\" rel=\"nofollow\">Twitter for Android</a>', 'in_reply_to_status_id': None, 'in_reply_to_status_id_str': None, 'in_reply_to_user_id': None, 'in_reply_to_user_id_str': None, 'in_reply_to_screen_name': None, 'user': {'id': 67448037, 'id_str': '67448037', 'name': 'Inosuke', 'screen_name': 'BrenoAIves', 'location': 'NY - New Yguaçu City', 'description': 'Flamengo / Química - UFRRJ / paiN Gaming', 'url': None, 'entities': {'description': {'urls': []}}, 'protected': False, 'followers_count': 567, 'friends_count': 836, 'listed_count': 3, 'created_at': 'Thu Aug 20 22:42:51 +0000 2009', 'favourites_count': 101279, 'utc_offset': None, 'time_zone': None, 'geo_enabled': False, 'verified': False, 'statuses_count': 89139, 'lang': None, 'contributors_enabled': False, 'is_translator': False, 'is_translation_enabled': False, 'profile_background_color': '000000', 'profile_background_image_url': 'http://abs.twimg.com/images/themes/theme14/bg.gif', 'profile_background_image_url_https': 'https://abs.twimg.com/images/themes/theme14/bg.gif', 'profile_background_tile': False, 'profile_image_url': 'http://pbs.twimg.com/profile_images/1296635026432557056/Tcudfw7G_normal.jpg', 'profile_image_url_https': 'https://pbs.twimg.com/profile_images/1296635026432557056/Tcudfw7G_normal.jpg', 'profile_banner_url': 'https://pbs.twimg.com/profile_banners/67448037/1630194835', 'profile_link_color': 'ABB8C2', 'profile_sidebar_border_color': '000000', 'profile_sidebar_fill_color': '000000', 'profile_text_color': '000000', 'profile_use_background_image': False, 'has_extended_profile': True, 'default_profile': False, 'default_profile_image': False, 'following': False, 'follow_request_sent': False, 'notifications': False, 'translator_type': 'none', 'withheld_in_countries': []}, 'geo': None, 'coordinates': None, 'place': None, 'contributors': None, 'is_quote_status': False, 'retweet_count': 3580, 'favorite_count': 13311, 'favorited': False, 'retweeted': False, 'lang': 'pt'}, 'retweet_count': 0, 'favorite_count': 11, 'favorited': False, 'retweeted': False, 'possibly_sensitive': False, 'lang': 'pt'}, created_at=datetime.datetime(2021, 10, 5, 23, 10, 19), id=1445526796678565891, id_str='1445526796678565891', text='bem vindos a ufabc https://t.co/YZizDvRvuc', truncated=False, entities={'hashtags': [], 'symbols': [], 'user_mentions': [], 'urls': [{'url': 'https://t.co/YZizDvRvuc', 'expanded_url': 'https://twitter.com/BrenoAIves/status/1445050060828463111', 'display_url': 'twitter.com/BrenoAIves/sta…', 'indices': [19, 42]}]}, metadata={'iso_language_code': 'pt', 'result_type': 'recent'}, source='Twitter for Android', source_url='http://twitter.com/download/android', in_reply_to_status_id=None, in_reply_to_status_id_str=None, in_reply_to_user_id=None, in_reply_to_user_id_str=None, in_reply_to_screen_name=None, author=User(_api=<tweepy.api.API object at 0x7fa72192ecd0>, _json={'id': 1274012721789485057, 'id_str': '1274012721789485057', 'name': 'Henri', 'screen_name': 'riquecsimone', 'location': '', 'description': 'procurando fazer o possível para não passar vergonha\\n(ele/dele)', 'url': None, 'entities': {'description': {'urls': []}}, 'protected': False, 'followers_count': 129, 'friends_count': 216, 'listed_count': 0, 'created_at': 'Fri Jun 19 16:14:45 +0000 2020', 'favourites_count': 9563, 'utc_offset': None, 'time_zone': None, 'geo_enabled': False, 'verified': False, 'statuses_count': 3915, 'lang': None, 'contributors_enabled': False, 'is_translator': False, 'is_translation_enabled': False, 'profile_background_color': 'F5F8FA', 'profile_background_image_url': None, 'profile_background_image_url_https': None, 'profile_background_tile': False, 'profile_image_url': 'http://pbs.twimg.com/profile_images/1439758709538820096/9pKRkIQp_normal.jpg', 'profile_image_url_https': 'https://pbs.twimg.com/profile_images/1439758709538820096/9pKRkIQp_normal.jpg', 'profile_banner_url': 'https://pbs.twimg.com/profile_banners/1274012721789485057/1633360762', 'profile_link_color': '1DA1F2', 'profile_sidebar_border_color': 'C0DEED', 'profile_sidebar_fill_color': 'DDEEF6', 'profile_text_color': '333333', 'profile_use_background_image': True, 'has_extended_profile': True, 'default_profile': True, 'default_profile_image': False, 'following': False, 'follow_request_sent': False, 'notifications': False, 'translator_type': 'none', 'withheld_in_countries': []}, id=1274012721789485057, id_str='1274012721789485057', name='Henri', screen_name='riquecsimone', location='', description='procurando fazer o possível para não passar vergonha\\n(ele/dele)', url=None, entities={'description': {'urls': []}}, protected=False, followers_count=129, friends_count=216, listed_count=0, created_at=datetime.datetime(2020, 6, 19, 16, 14, 45), favourites_count=9563, utc_offset=None, time_zone=None, geo_enabled=False, verified=False, statuses_count=3915, lang=None, contributors_enabled=False, is_translator=False, is_translation_enabled=False, profile_background_color='F5F8FA', profile_background_image_url=None, profile_background_image_url_https=None, profile_background_tile=False, profile_image_url='http://pbs.twimg.com/profile_images/1439758709538820096/9pKRkIQp_normal.jpg', profile_image_url_https='https://pbs.twimg.com/profile_images/1439758709538820096/9pKRkIQp_normal.jpg', profile_banner_url='https://pbs.twimg.com/profile_banners/1274012721789485057/1633360762', profile_link_color='1DA1F2', profile_sidebar_border_color='C0DEED', profile_sidebar_fill_color='DDEEF6', profile_text_color='333333', profile_use_background_image=True, has_extended_profile=True, default_profile=True, default_profile_image=False, following=False, follow_request_sent=False, notifications=False, translator_type='none', withheld_in_countries=[]), user=User(_api=<tweepy.api.API object at 0x7fa72192ecd0>, _json={'id': 1274012721789485057, 'id_str': '1274012721789485057', 'name': 'Henri', 'screen_name': 'riquecsimone', 'location': '', 'description': 'procurando fazer o possível para não passar vergonha\\n(ele/dele)', 'url': None, 'entities': {'description': {'urls': []}}, 'protected': False, 'followers_count': 129, 'friends_count': 216, 'listed_count': 0, 'created_at': 'Fri Jun 19 16:14:45 +0000 2020', 'favourites_count': 9563, 'utc_offset': None, 'time_zone': None, 'geo_enabled': False, 'verified': False, 'statuses_count': 3915, 'lang': None, 'contributors_enabled': False, 'is_translator': False, 'is_translation_enabled': False, 'profile_background_color': 'F5F8FA', 'profile_background_image_url': None, 'profile_background_image_url_https': None, 'profile_background_tile': False, 'profile_image_url': 'http://pbs.twimg.com/profile_images/1439758709538820096/9pKRkIQp_normal.jpg', 'profile_image_url_https': 'https://pbs.twimg.com/profile_images/1439758709538820096/9pKRkIQp_normal.jpg', 'profile_banner_url': 'https://pbs.twimg.com/profile_banners/1274012721789485057/1633360762', 'profile_link_color': '1DA1F2', 'profile_sidebar_border_color': 'C0DEED', 'profile_sidebar_fill_color': 'DDEEF6', 'profile_text_color': '333333', 'profile_use_background_image': True, 'has_extended_profile': True, 'default_profile': True, 'default_profile_image': False, 'following': False, 'follow_request_sent': False, 'notifications': False, 'translator_type': 'none', 'withheld_in_countries': []}, id=1274012721789485057, id_str='1274012721789485057', name='Henri', screen_name='riquecsimone', location='', description='procurando fazer o possível para não passar vergonha\\n(ele/dele)', url=None, entities={'description': {'urls': []}}, protected=False, followers_count=129, friends_count=216, listed_count=0, created_at=datetime.datetime(2020, 6, 19, 16, 14, 45), favourites_count=9563, utc_offset=None, time_zone=None, geo_enabled=False, verified=False, statuses_count=3915, lang=None, contributors_enabled=False, is_translator=False, is_translation_enabled=False, profile_background_color='F5F8FA', profile_background_image_url=None, profile_background_image_url_https=None, profile_background_tile=False, profile_image_url='http://pbs.twimg.com/profile_images/1439758709538820096/9pKRkIQp_normal.jpg', profile_image_url_https='https://pbs.twimg.com/profile_images/1439758709538820096/9pKRkIQp_normal.jpg', profile_banner_url='https://pbs.twimg.com/profile_banners/1274012721789485057/1633360762', profile_link_color='1DA1F2', profile_sidebar_border_color='C0DEED', profile_sidebar_fill_color='DDEEF6', profile_text_color='333333', profile_use_background_image=True, has_extended_profile=True, default_profile=True, default_profile_image=False, following=False, follow_request_sent=False, notifications=False, translator_type='none', withheld_in_countries=[]), geo=None, coordinates=None, place=None, contributors=None, is_quote_status=True, quoted_status_id=1445050060828463111, quoted_status_id_str='1445050060828463111', quoted_status=Status(_api=<tweepy.api.API object at 0x7fa72192ecd0>, _json={'created_at': 'Mon Oct 04 15:35:56 +0000 2021', 'id': 1445050060828463111, 'id_str': '1445050060828463111', 'text': 'o universitário tá fazendo 3 SEMESTRES  em 11 meses e tu nao quer que esteja geral maluco?', 'truncated': False, 'entities': {'hashtags': [], 'symbols': [], 'user_mentions': [], 'urls': []}, 'metadata': {'iso_language_code': 'pt', 'result_type': 'recent'}, 'source': '<a href=\"http://twitter.com/download/android\" rel=\"nofollow\">Twitter for Android</a>', 'in_reply_to_status_id': None, 'in_reply_to_status_id_str': None, 'in_reply_to_user_id': None, 'in_reply_to_user_id_str': None, 'in_reply_to_screen_name': None, 'user': {'id': 67448037, 'id_str': '67448037', 'name': 'Inosuke', 'screen_name': 'BrenoAIves', 'location': 'NY - New Yguaçu City', 'description': 'Flamengo / Química - UFRRJ / paiN Gaming', 'url': None, 'entities': {'description': {'urls': []}}, 'protected': False, 'followers_count': 567, 'friends_count': 836, 'listed_count': 3, 'created_at': 'Thu Aug 20 22:42:51 +0000 2009', 'favourites_count': 101279, 'utc_offset': None, 'time_zone': None, 'geo_enabled': False, 'verified': False, 'statuses_count': 89139, 'lang': None, 'contributors_enabled': False, 'is_translator': False, 'is_translation_enabled': False, 'profile_background_color': '000000', 'profile_background_image_url': 'http://abs.twimg.com/images/themes/theme14/bg.gif', 'profile_background_image_url_https': 'https://abs.twimg.com/images/themes/theme14/bg.gif', 'profile_background_tile': False, 'profile_image_url': 'http://pbs.twimg.com/profile_images/1296635026432557056/Tcudfw7G_normal.jpg', 'profile_image_url_https': 'https://pbs.twimg.com/profile_images/1296635026432557056/Tcudfw7G_normal.jpg', 'profile_banner_url': 'https://pbs.twimg.com/profile_banners/67448037/1630194835', 'profile_link_color': 'ABB8C2', 'profile_sidebar_border_color': '000000', 'profile_sidebar_fill_color': '000000', 'profile_text_color': '000000', 'profile_use_background_image': False, 'has_extended_profile': True, 'default_profile': False, 'default_profile_image': False, 'following': False, 'follow_request_sent': False, 'notifications': False, 'translator_type': 'none', 'withheld_in_countries': []}, 'geo': None, 'coordinates': None, 'place': None, 'contributors': None, 'is_quote_status': False, 'retweet_count': 3580, 'favorite_count': 13311, 'favorited': False, 'retweeted': False, 'lang': 'pt'}, created_at=datetime.datetime(2021, 10, 4, 15, 35, 56), id=1445050060828463111, id_str='1445050060828463111', text='o universitário tá fazendo 3 SEMESTRES  em 11 meses e tu nao quer que esteja geral maluco?', truncated=False, entities={'hashtags': [], 'symbols': [], 'user_mentions': [], 'urls': []}, metadata={'iso_language_code': 'pt', 'result_type': 'recent'}, source='Twitter for Android', source_url='http://twitter.com/download/android', in_reply_to_status_id=None, in_reply_to_status_id_str=None, in_reply_to_user_id=None, in_reply_to_user_id_str=None, in_reply_to_screen_name=None, author=User(_api=<tweepy.api.API object at 0x7fa72192ecd0>, _json={'id': 67448037, 'id_str': '67448037', 'name': 'Inosuke', 'screen_name': 'BrenoAIves', 'location': 'NY - New Yguaçu City', 'description': 'Flamengo / Química - UFRRJ / paiN Gaming', 'url': None, 'entities': {'description': {'urls': []}}, 'protected': False, 'followers_count': 567, 'friends_count': 836, 'listed_count': 3, 'created_at': 'Thu Aug 20 22:42:51 +0000 2009', 'favourites_count': 101279, 'utc_offset': None, 'time_zone': None, 'geo_enabled': False, 'verified': False, 'statuses_count': 89139, 'lang': None, 'contributors_enabled': False, 'is_translator': False, 'is_translation_enabled': False, 'profile_background_color': '000000', 'profile_background_image_url': 'http://abs.twimg.com/images/themes/theme14/bg.gif', 'profile_background_image_url_https': 'https://abs.twimg.com/images/themes/theme14/bg.gif', 'profile_background_tile': False, 'profile_image_url': 'http://pbs.twimg.com/profile_images/1296635026432557056/Tcudfw7G_normal.jpg', 'profile_image_url_https': 'https://pbs.twimg.com/profile_images/1296635026432557056/Tcudfw7G_normal.jpg', 'profile_banner_url': 'https://pbs.twimg.com/profile_banners/67448037/1630194835', 'profile_link_color': 'ABB8C2', 'profile_sidebar_border_color': '000000', 'profile_sidebar_fill_color': '000000', 'profile_text_color': '000000', 'profile_use_background_image': False, 'has_extended_profile': True, 'default_profile': False, 'default_profile_image': False, 'following': False, 'follow_request_sent': False, 'notifications': False, 'translator_type': 'none', 'withheld_in_countries': []}, id=67448037, id_str='67448037', name='Inosuke', screen_name='BrenoAIves', location='NY - New Yguaçu City', description='Flamengo / Química - UFRRJ / paiN Gaming', url=None, entities={'description': {'urls': []}}, protected=False, followers_count=567, friends_count=836, listed_count=3, created_at=datetime.datetime(2009, 8, 20, 22, 42, 51), favourites_count=101279, utc_offset=None, time_zone=None, geo_enabled=False, verified=False, statuses_count=89139, lang=None, contributors_enabled=False, is_translator=False, is_translation_enabled=False, profile_background_color='000000', profile_background_image_url='http://abs.twimg.com/images/themes/theme14/bg.gif', profile_background_image_url_https='https://abs.twimg.com/images/themes/theme14/bg.gif', profile_background_tile=False, profile_image_url='http://pbs.twimg.com/profile_images/1296635026432557056/Tcudfw7G_normal.jpg', profile_image_url_https='https://pbs.twimg.com/profile_images/1296635026432557056/Tcudfw7G_normal.jpg', profile_banner_url='https://pbs.twimg.com/profile_banners/67448037/1630194835', profile_link_color='ABB8C2', profile_sidebar_border_color='000000', profile_sidebar_fill_color='000000', profile_text_color='000000', profile_use_background_image=False, has_extended_profile=True, default_profile=False, default_profile_image=False, following=False, follow_request_sent=False, notifications=False, translator_type='none', withheld_in_countries=[]), user=User(_api=<tweepy.api.API object at 0x7fa72192ecd0>, _json={'id': 67448037, 'id_str': '67448037', 'name': 'Inosuke', 'screen_name': 'BrenoAIves', 'location': 'NY - New Yguaçu City', 'description': 'Flamengo / Química - UFRRJ / paiN Gaming', 'url': None, 'entities': {'description': {'urls': []}}, 'protected': False, 'followers_count': 567, 'friends_count': 836, 'listed_count': 3, 'created_at': 'Thu Aug 20 22:42:51 +0000 2009', 'favourites_count': 101279, 'utc_offset': None, 'time_zone': None, 'geo_enabled': False, 'verified': False, 'statuses_count': 89139, 'lang': None, 'contributors_enabled': False, 'is_translator': False, 'is_translation_enabled': False, 'profile_background_color': '000000', 'profile_background_image_url': 'http://abs.twimg.com/images/themes/theme14/bg.gif', 'profile_background_image_url_https': 'https://abs.twimg.com/images/themes/theme14/bg.gif', 'profile_background_tile': False, 'profile_image_url': 'http://pbs.twimg.com/profile_images/1296635026432557056/Tcudfw7G_normal.jpg', 'profile_image_url_https': 'https://pbs.twimg.com/profile_images/1296635026432557056/Tcudfw7G_normal.jpg', 'profile_banner_url': 'https://pbs.twimg.com/profile_banners/67448037/1630194835', 'profile_link_color': 'ABB8C2', 'profile_sidebar_border_color': '000000', 'profile_sidebar_fill_color': '000000', 'profile_text_color': '000000', 'profile_use_background_image': False, 'has_extended_profile': True, 'default_profile': False, 'default_profile_image': False, 'following': False, 'follow_request_sent': False, 'notifications': False, 'translator_type': 'none', 'withheld_in_countries': []}, id=67448037, id_str='67448037', name='Inosuke', screen_name='BrenoAIves', location='NY - New Yguaçu City', description='Flamengo / Química - UFRRJ / paiN Gaming', url=None, entities={'description': {'urls': []}}, protected=False, followers_count=567, friends_count=836, listed_count=3, created_at=datetime.datetime(2009, 8, 20, 22, 42, 51), favourites_count=101279, utc_offset=None, time_zone=None, geo_enabled=False, verified=False, statuses_count=89139, lang=None, contributors_enabled=False, is_translator=False, is_translation_enabled=False, profile_background_color='000000', profile_background_image_url='http://abs.twimg.com/images/themes/theme14/bg.gif', profile_background_image_url_https='https://abs.twimg.com/images/themes/theme14/bg.gif', profile_background_tile=False, profile_image_url='http://pbs.twimg.com/profile_images/1296635026432557056/Tcudfw7G_normal.jpg', profile_image_url_https='https://pbs.twimg.com/profile_images/1296635026432557056/Tcudfw7G_normal.jpg', profile_banner_url='https://pbs.twimg.com/profile_banners/67448037/1630194835', profile_link_color='ABB8C2', profile_sidebar_border_color='000000', profile_sidebar_fill_color='000000', profile_text_color='000000', profile_use_background_image=False, has_extended_profile=True, default_profile=False, default_profile_image=False, following=False, follow_request_sent=False, notifications=False, translator_type='none', withheld_in_countries=[]), geo=None, coordinates=None, place=None, contributors=None, is_quote_status=False, retweet_count=3580, favorite_count=13311, favorited=False, retweeted=False, lang='pt'), retweet_count=0, favorite_count=11, favorited=False, retweeted=False, possibly_sensitive=False, lang='pt'),\n",
              " Status(_api=<tweepy.api.API object at 0x7fa72192ecd0>, _json={'created_at': 'Tue Oct 05 22:58:20 +0000 2021', 'id': 1445523781640855563, 'id_str': '1445523781640855563', 'text': 'RT @heldersalomao: ESTAMOS AO VIVO\\n\\nO deputado federal Helder Salomão e o economista @MarcioPochmann professor da Unicamp e da UFABC, conve…', 'truncated': False, 'entities': {'hashtags': [], 'symbols': [], 'user_mentions': [{'screen_name': 'heldersalomao', 'name': 'Helder Salomão', 'id': 80575628, 'id_str': '80575628', 'indices': [3, 17]}, {'screen_name': 'MarcioPochmann', 'name': 'Marcio Pochmann', 'id': 342836049, 'id_str': '342836049', 'indices': [85, 100]}], 'urls': []}, 'metadata': {'iso_language_code': 'pt', 'result_type': 'recent'}, 'source': '<a href=\"http://twitter.com/download/android\" rel=\"nofollow\">Twitter for Android</a>', 'in_reply_to_status_id': None, 'in_reply_to_status_id_str': None, 'in_reply_to_user_id': None, 'in_reply_to_user_id_str': None, 'in_reply_to_screen_name': None, 'user': {'id': 1103426035465502720, 'id_str': '1103426035465502720', 'name': 'Fofunista 🚩', 'screen_name': 'fofunista', 'location': '', 'description': 'Resistir ao fascismo sem perder a ternura, jamais!♡\\n\\nPauta prioritária: O retorno à Democracia do país ✊🏿 #BrasilFelizDeNovo  ❤', 'url': None, 'entities': {'description': {'urls': []}}, 'protected': False, 'followers_count': 12671, 'friends_count': 10741, 'listed_count': 17, 'created_at': 'Wed Mar 06 22:44:02 +0000 2019', 'favourites_count': 63221, 'utc_offset': None, 'time_zone': None, 'geo_enabled': True, 'verified': False, 'statuses_count': 35544, 'lang': None, 'contributors_enabled': False, 'is_translator': False, 'is_translation_enabled': False, 'profile_background_color': 'F5F8FA', 'profile_background_image_url': None, 'profile_background_image_url_https': None, 'profile_background_tile': False, 'profile_image_url': 'http://pbs.twimg.com/profile_images/1395138054361337858/UYbsns0f_normal.jpg', 'profile_image_url_https': 'https://pbs.twimg.com/profile_images/1395138054361337858/UYbsns0f_normal.jpg', 'profile_banner_url': 'https://pbs.twimg.com/profile_banners/1103426035465502720/1603310535', 'profile_link_color': '1DA1F2', 'profile_sidebar_border_color': 'C0DEED', 'profile_sidebar_fill_color': 'DDEEF6', 'profile_text_color': '333333', 'profile_use_background_image': True, 'has_extended_profile': False, 'default_profile': True, 'default_profile_image': False, 'following': False, 'follow_request_sent': False, 'notifications': False, 'translator_type': 'none', 'withheld_in_countries': []}, 'geo': None, 'coordinates': None, 'place': None, 'contributors': None, 'retweeted_status': {'created_at': 'Tue Oct 05 22:27:11 +0000 2021', 'id': 1445515942688034827, 'id_str': '1445515942688034827', 'text': 'ESTAMOS AO VIVO\\n\\nO deputado federal Helder Salomão e o economista @MarcioPochmann professor da Unicamp e da UFABC,… https://t.co/06UkCiC7JF', 'truncated': True, 'entities': {'hashtags': [], 'symbols': [], 'user_mentions': [{'screen_name': 'MarcioPochmann', 'name': 'Marcio Pochmann', 'id': 342836049, 'id_str': '342836049', 'indices': [66, 81]}], 'urls': [{'url': 'https://t.co/06UkCiC7JF', 'expanded_url': 'https://twitter.com/i/web/status/1445515942688034827', 'display_url': 'twitter.com/i/web/status/1…', 'indices': [116, 139]}]}, 'metadata': {'iso_language_code': 'pt', 'result_type': 'recent'}, 'source': '<a href=\"http://twitter.com/download/android\" rel=\"nofollow\">Twitter for Android</a>', 'in_reply_to_status_id': None, 'in_reply_to_status_id_str': None, 'in_reply_to_user_id': None, 'in_reply_to_user_id_str': None, 'in_reply_to_screen_name': None, 'user': {'id': 80575628, 'id_str': '80575628', 'name': 'Helder Salomão', 'screen_name': 'heldersalomao', 'location': 'Cariacica-ES', 'description': 'Deputado Federal PT-ES, ex-prefeito de Cariacica, poeta e professor de filosofia.', 'url': 'https://t.co/fx3RHTHwiP', 'entities': {'url': {'urls': [{'url': 'https://t.co/fx3RHTHwiP', 'expanded_url': 'https://www.facebook.com/heldersalomaoES', 'display_url': 'facebook.com/heldersalomaoES', 'indices': [0, 23]}]}, 'description': {'urls': []}}, 'protected': False, 'followers_count': 75414, 'friends_count': 9075, 'listed_count': 300, 'created_at': 'Wed Oct 07 13:25:06 +0000 2009', 'favourites_count': 31285, 'utc_offset': None, 'time_zone': None, 'geo_enabled': False, 'verified': True, 'statuses_count': 22387, 'lang': None, 'contributors_enabled': False, 'is_translator': False, 'is_translation_enabled': False, 'profile_background_color': '131516', 'profile_background_image_url': 'http://abs.twimg.com/images/themes/theme14/bg.gif', 'profile_background_image_url_https': 'https://abs.twimg.com/images/themes/theme14/bg.gif', 'profile_background_tile': True, 'profile_image_url': 'http://pbs.twimg.com/profile_images/1190053205562007552/RIr1dK92_normal.jpg', 'profile_image_url_https': 'https://pbs.twimg.com/profile_images/1190053205562007552/RIr1dK92_normal.jpg', 'profile_banner_url': 'https://pbs.twimg.com/profile_banners/80575628/1617031023', 'profile_link_color': '009999', 'profile_sidebar_border_color': 'EEEEEE', 'profile_sidebar_fill_color': 'EFEFEF', 'profile_text_color': '333333', 'profile_use_background_image': True, 'has_extended_profile': True, 'default_profile': False, 'default_profile_image': False, 'following': False, 'follow_request_sent': False, 'notifications': False, 'translator_type': 'none', 'withheld_in_countries': []}, 'geo': None, 'coordinates': None, 'place': None, 'contributors': None, 'is_quote_status': False, 'retweet_count': 2, 'favorite_count': 15, 'favorited': False, 'retweeted': False, 'possibly_sensitive': False, 'lang': 'pt'}, 'is_quote_status': False, 'retweet_count': 2, 'favorite_count': 0, 'favorited': False, 'retweeted': False, 'possibly_sensitive': False, 'lang': 'pt'}, created_at=datetime.datetime(2021, 10, 5, 22, 58, 20), id=1445523781640855563, id_str='1445523781640855563', text='RT @heldersalomao: ESTAMOS AO VIVO\\n\\nO deputado federal Helder Salomão e o economista @MarcioPochmann professor da Unicamp e da UFABC, conve…', truncated=False, entities={'hashtags': [], 'symbols': [], 'user_mentions': [{'screen_name': 'heldersalomao', 'name': 'Helder Salomão', 'id': 80575628, 'id_str': '80575628', 'indices': [3, 17]}, {'screen_name': 'MarcioPochmann', 'name': 'Marcio Pochmann', 'id': 342836049, 'id_str': '342836049', 'indices': [85, 100]}], 'urls': []}, metadata={'iso_language_code': 'pt', 'result_type': 'recent'}, source='Twitter for Android', source_url='http://twitter.com/download/android', in_reply_to_status_id=None, in_reply_to_status_id_str=None, in_reply_to_user_id=None, in_reply_to_user_id_str=None, in_reply_to_screen_name=None, author=User(_api=<tweepy.api.API object at 0x7fa72192ecd0>, _json={'id': 1103426035465502720, 'id_str': '1103426035465502720', 'name': 'Fofunista 🚩', 'screen_name': 'fofunista', 'location': '', 'description': 'Resistir ao fascismo sem perder a ternura, jamais!♡\\n\\nPauta prioritária: O retorno à Democracia do país ✊🏿 #BrasilFelizDeNovo  ❤', 'url': None, 'entities': {'description': {'urls': []}}, 'protected': False, 'followers_count': 12671, 'friends_count': 10741, 'listed_count': 17, 'created_at': 'Wed Mar 06 22:44:02 +0000 2019', 'favourites_count': 63221, 'utc_offset': None, 'time_zone': None, 'geo_enabled': True, 'verified': False, 'statuses_count': 35544, 'lang': None, 'contributors_enabled': False, 'is_translator': False, 'is_translation_enabled': False, 'profile_background_color': 'F5F8FA', 'profile_background_image_url': None, 'profile_background_image_url_https': None, 'profile_background_tile': False, 'profile_image_url': 'http://pbs.twimg.com/profile_images/1395138054361337858/UYbsns0f_normal.jpg', 'profile_image_url_https': 'https://pbs.twimg.com/profile_images/1395138054361337858/UYbsns0f_normal.jpg', 'profile_banner_url': 'https://pbs.twimg.com/profile_banners/1103426035465502720/1603310535', 'profile_link_color': '1DA1F2', 'profile_sidebar_border_color': 'C0DEED', 'profile_sidebar_fill_color': 'DDEEF6', 'profile_text_color': '333333', 'profile_use_background_image': True, 'has_extended_profile': False, 'default_profile': True, 'default_profile_image': False, 'following': False, 'follow_request_sent': False, 'notifications': False, 'translator_type': 'none', 'withheld_in_countries': []}, id=1103426035465502720, id_str='1103426035465502720', name='Fofunista 🚩', screen_name='fofunista', location='', description='Resistir ao fascismo sem perder a ternura, jamais!♡\\n\\nPauta prioritária: O retorno à Democracia do país ✊🏿 #BrasilFelizDeNovo  ❤', url=None, entities={'description': {'urls': []}}, protected=False, followers_count=12671, friends_count=10741, listed_count=17, created_at=datetime.datetime(2019, 3, 6, 22, 44, 2), favourites_count=63221, utc_offset=None, time_zone=None, geo_enabled=True, verified=False, statuses_count=35544, lang=None, contributors_enabled=False, is_translator=False, is_translation_enabled=False, profile_background_color='F5F8FA', profile_background_image_url=None, profile_background_image_url_https=None, profile_background_tile=False, profile_image_url='http://pbs.twimg.com/profile_images/1395138054361337858/UYbsns0f_normal.jpg', profile_image_url_https='https://pbs.twimg.com/profile_images/1395138054361337858/UYbsns0f_normal.jpg', profile_banner_url='https://pbs.twimg.com/profile_banners/1103426035465502720/1603310535', profile_link_color='1DA1F2', profile_sidebar_border_color='C0DEED', profile_sidebar_fill_color='DDEEF6', profile_text_color='333333', profile_use_background_image=True, has_extended_profile=False, default_profile=True, default_profile_image=False, following=False, follow_request_sent=False, notifications=False, translator_type='none', withheld_in_countries=[]), user=User(_api=<tweepy.api.API object at 0x7fa72192ecd0>, _json={'id': 1103426035465502720, 'id_str': '1103426035465502720', 'name': 'Fofunista 🚩', 'screen_name': 'fofunista', 'location': '', 'description': 'Resistir ao fascismo sem perder a ternura, jamais!♡\\n\\nPauta prioritária: O retorno à Democracia do país ✊🏿 #BrasilFelizDeNovo  ❤', 'url': None, 'entities': {'description': {'urls': []}}, 'protected': False, 'followers_count': 12671, 'friends_count': 10741, 'listed_count': 17, 'created_at': 'Wed Mar 06 22:44:02 +0000 2019', 'favourites_count': 63221, 'utc_offset': None, 'time_zone': None, 'geo_enabled': True, 'verified': False, 'statuses_count': 35544, 'lang': None, 'contributors_enabled': False, 'is_translator': False, 'is_translation_enabled': False, 'profile_background_color': 'F5F8FA', 'profile_background_image_url': None, 'profile_background_image_url_https': None, 'profile_background_tile': False, 'profile_image_url': 'http://pbs.twimg.com/profile_images/1395138054361337858/UYbsns0f_normal.jpg', 'profile_image_url_https': 'https://pbs.twimg.com/profile_images/1395138054361337858/UYbsns0f_normal.jpg', 'profile_banner_url': 'https://pbs.twimg.com/profile_banners/1103426035465502720/1603310535', 'profile_link_color': '1DA1F2', 'profile_sidebar_border_color': 'C0DEED', 'profile_sidebar_fill_color': 'DDEEF6', 'profile_text_color': '333333', 'profile_use_background_image': True, 'has_extended_profile': False, 'default_profile': True, 'default_profile_image': False, 'following': False, 'follow_request_sent': False, 'notifications': False, 'translator_type': 'none', 'withheld_in_countries': []}, id=1103426035465502720, id_str='1103426035465502720', name='Fofunista 🚩', screen_name='fofunista', location='', description='Resistir ao fascismo sem perder a ternura, jamais!♡\\n\\nPauta prioritária: O retorno à Democracia do país ✊🏿 #BrasilFelizDeNovo  ❤', url=None, entities={'description': {'urls': []}}, protected=False, followers_count=12671, friends_count=10741, listed_count=17, created_at=datetime.datetime(2019, 3, 6, 22, 44, 2), favourites_count=63221, utc_offset=None, time_zone=None, geo_enabled=True, verified=False, statuses_count=35544, lang=None, contributors_enabled=False, is_translator=False, is_translation_enabled=False, profile_background_color='F5F8FA', profile_background_image_url=None, profile_background_image_url_https=None, profile_background_tile=False, profile_image_url='http://pbs.twimg.com/profile_images/1395138054361337858/UYbsns0f_normal.jpg', profile_image_url_https='https://pbs.twimg.com/profile_images/1395138054361337858/UYbsns0f_normal.jpg', profile_banner_url='https://pbs.twimg.com/profile_banners/1103426035465502720/1603310535', profile_link_color='1DA1F2', profile_sidebar_border_color='C0DEED', profile_sidebar_fill_color='DDEEF6', profile_text_color='333333', profile_use_background_image=True, has_extended_profile=False, default_profile=True, default_profile_image=False, following=False, follow_request_sent=False, notifications=False, translator_type='none', withheld_in_countries=[]), geo=None, coordinates=None, place=None, contributors=None, retweeted_status=Status(_api=<tweepy.api.API object at 0x7fa72192ecd0>, _json={'created_at': 'Tue Oct 05 22:27:11 +0000 2021', 'id': 1445515942688034827, 'id_str': '1445515942688034827', 'text': 'ESTAMOS AO VIVO\\n\\nO deputado federal Helder Salomão e o economista @MarcioPochmann professor da Unicamp e da UFABC,… https://t.co/06UkCiC7JF', 'truncated': True, 'entities': {'hashtags': [], 'symbols': [], 'user_mentions': [{'screen_name': 'MarcioPochmann', 'name': 'Marcio Pochmann', 'id': 342836049, 'id_str': '342836049', 'indices': [66, 81]}], 'urls': [{'url': 'https://t.co/06UkCiC7JF', 'expanded_url': 'https://twitter.com/i/web/status/1445515942688034827', 'display_url': 'twitter.com/i/web/status/1…', 'indices': [116, 139]}]}, 'metadata': {'iso_language_code': 'pt', 'result_type': 'recent'}, 'source': '<a href=\"http://twitter.com/download/android\" rel=\"nofollow\">Twitter for Android</a>', 'in_reply_to_status_id': None, 'in_reply_to_status_id_str': None, 'in_reply_to_user_id': None, 'in_reply_to_user_id_str': None, 'in_reply_to_screen_name': None, 'user': {'id': 80575628, 'id_str': '80575628', 'name': 'Helder Salomão', 'screen_name': 'heldersalomao', 'location': 'Cariacica-ES', 'description': 'Deputado Federal PT-ES, ex-prefeito de Cariacica, poeta e professor de filosofia.', 'url': 'https://t.co/fx3RHTHwiP', 'entities': {'url': {'urls': [{'url': 'https://t.co/fx3RHTHwiP', 'expanded_url': 'https://www.facebook.com/heldersalomaoES', 'display_url': 'facebook.com/heldersalomaoES', 'indices': [0, 23]}]}, 'description': {'urls': []}}, 'protected': False, 'followers_count': 75414, 'friends_count': 9075, 'listed_count': 300, 'created_at': 'Wed Oct 07 13:25:06 +0000 2009', 'favourites_count': 31285, 'utc_offset': None, 'time_zone': None, 'geo_enabled': False, 'verified': True, 'statuses_count': 22387, 'lang': None, 'contributors_enabled': False, 'is_translator': False, 'is_translation_enabled': False, 'profile_background_color': '131516', 'profile_background_image_url': 'http://abs.twimg.com/images/themes/theme14/bg.gif', 'profile_background_image_url_https': 'https://abs.twimg.com/images/themes/theme14/bg.gif', 'profile_background_tile': True, 'profile_image_url': 'http://pbs.twimg.com/profile_images/1190053205562007552/RIr1dK92_normal.jpg', 'profile_image_url_https': 'https://pbs.twimg.com/profile_images/1190053205562007552/RIr1dK92_normal.jpg', 'profile_banner_url': 'https://pbs.twimg.com/profile_banners/80575628/1617031023', 'profile_link_color': '009999', 'profile_sidebar_border_color': 'EEEEEE', 'profile_sidebar_fill_color': 'EFEFEF', 'profile_text_color': '333333', 'profile_use_background_image': True, 'has_extended_profile': True, 'default_profile': False, 'default_profile_image': False, 'following': False, 'follow_request_sent': False, 'notifications': False, 'translator_type': 'none', 'withheld_in_countries': []}, 'geo': None, 'coordinates': None, 'place': None, 'contributors': None, 'is_quote_status': False, 'retweet_count': 2, 'favorite_count': 15, 'favorited': False, 'retweeted': False, 'possibly_sensitive': False, 'lang': 'pt'}, created_at=datetime.datetime(2021, 10, 5, 22, 27, 11), id=1445515942688034827, id_str='1445515942688034827', text='ESTAMOS AO VIVO\\n\\nO deputado federal Helder Salomão e o economista @MarcioPochmann professor da Unicamp e da UFABC,… https://t.co/06UkCiC7JF', truncated=True, entities={'hashtags': [], 'symbols': [], 'user_mentions': [{'screen_name': 'MarcioPochmann', 'name': 'Marcio Pochmann', 'id': 342836049, 'id_str': '342836049', 'indices': [66, 81]}], 'urls': [{'url': 'https://t.co/06UkCiC7JF', 'expanded_url': 'https://twitter.com/i/web/status/1445515942688034827', 'display_url': 'twitter.com/i/web/status/1…', 'indices': [116, 139]}]}, metadata={'iso_language_code': 'pt', 'result_type': 'recent'}, source='Twitter for Android', source_url='http://twitter.com/download/android', in_reply_to_status_id=None, in_reply_to_status_id_str=None, in_reply_to_user_id=None, in_reply_to_user_id_str=None, in_reply_to_screen_name=None, author=User(_api=<tweepy.api.API object at 0x7fa72192ecd0>, _json={'id': 80575628, 'id_str': '80575628', 'name': 'Helder Salomão', 'screen_name': 'heldersalomao', 'location': 'Cariacica-ES', 'description': 'Deputado Federal PT-ES, ex-prefeito de Cariacica, poeta e professor de filosofia.', 'url': 'https://t.co/fx3RHTHwiP', 'entities': {'url': {'urls': [{'url': 'https://t.co/fx3RHTHwiP', 'expanded_url': 'https://www.facebook.com/heldersalomaoES', 'display_url': 'facebook.com/heldersalomaoES', 'indices': [0, 23]}]}, 'description': {'urls': []}}, 'protected': False, 'followers_count': 75414, 'friends_count': 9075, 'listed_count': 300, 'created_at': 'Wed Oct 07 13:25:06 +0000 2009', 'favourites_count': 31285, 'utc_offset': None, 'time_zone': None, 'geo_enabled': False, 'verified': True, 'statuses_count': 22387, 'lang': None, 'contributors_enabled': False, 'is_translator': False, 'is_translation_enabled': False, 'profile_background_color': '131516', 'profile_background_image_url': 'http://abs.twimg.com/images/themes/theme14/bg.gif', 'profile_background_image_url_https': 'https://abs.twimg.com/images/themes/theme14/bg.gif', 'profile_background_tile': True, 'profile_image_url': 'http://pbs.twimg.com/profile_images/1190053205562007552/RIr1dK92_normal.jpg', 'profile_image_url_https': 'https://pbs.twimg.com/profile_images/1190053205562007552/RIr1dK92_normal.jpg', 'profile_banner_url': 'https://pbs.twimg.com/profile_banners/80575628/1617031023', 'profile_link_color': '009999', 'profile_sidebar_border_color': 'EEEEEE', 'profile_sidebar_fill_color': 'EFEFEF', 'profile_text_color': '333333', 'profile_use_background_image': True, 'has_extended_profile': True, 'default_profile': False, 'default_profile_image': False, 'following': False, 'follow_request_sent': False, 'notifications': False, 'translator_type': 'none', 'withheld_in_countries': []}, id=80575628, id_str='80575628', name='Helder Salomão', screen_name='heldersalomao', location='Cariacica-ES', description='Deputado Federal PT-ES, ex-prefeito de Cariacica, poeta e professor de filosofia.', url='https://t.co/fx3RHTHwiP', entities={'url': {'urls': [{'url': 'https://t.co/fx3RHTHwiP', 'expanded_url': 'https://www.facebook.com/heldersalomaoES', 'display_url': 'facebook.com/heldersalomaoES', 'indices': [0, 23]}]}, 'description': {'urls': []}}, protected=False, followers_count=75414, friends_count=9075, listed_count=300, created_at=datetime.datetime(2009, 10, 7, 13, 25, 6), favourites_count=31285, utc_offset=None, time_zone=None, geo_enabled=False, verified=True, statuses_count=22387, lang=None, contributors_enabled=False, is_translator=False, is_translation_enabled=False, profile_background_color='131516', profile_background_image_url='http://abs.twimg.com/images/themes/theme14/bg.gif', profile_background_image_url_https='https://abs.twimg.com/images/themes/theme14/bg.gif', profile_background_tile=True, profile_image_url='http://pbs.twimg.com/profile_images/1190053205562007552/RIr1dK92_normal.jpg', profile_image_url_https='https://pbs.twimg.com/profile_images/1190053205562007552/RIr1dK92_normal.jpg', profile_banner_url='https://pbs.twimg.com/profile_banners/80575628/1617031023', profile_link_color='009999', profile_sidebar_border_color='EEEEEE', profile_sidebar_fill_color='EFEFEF', profile_text_color='333333', profile_use_background_image=True, has_extended_profile=True, default_profile=False, default_profile_image=False, following=False, follow_request_sent=False, notifications=False, translator_type='none', withheld_in_countries=[]), user=User(_api=<tweepy.api.API object at 0x7fa72192ecd0>, _json={'id': 80575628, 'id_str': '80575628', 'name': 'Helder Salomão', 'screen_name': 'heldersalomao', 'location': 'Cariacica-ES', 'description': 'Deputado Federal PT-ES, ex-prefeito de Cariacica, poeta e professor de filosofia.', 'url': 'https://t.co/fx3RHTHwiP', 'entities': {'url': {'urls': [{'url': 'https://t.co/fx3RHTHwiP', 'expanded_url': 'https://www.facebook.com/heldersalomaoES', 'display_url': 'facebook.com/heldersalomaoES', 'indices': [0, 23]}]}, 'description': {'urls': []}}, 'protected': False, 'followers_count': 75414, 'friends_count': 9075, 'listed_count': 300, 'created_at': 'Wed Oct 07 13:25:06 +0000 2009', 'favourites_count': 31285, 'utc_offset': None, 'time_zone': None, 'geo_enabled': False, 'verified': True, 'statuses_count': 22387, 'lang': None, 'contributors_enabled': False, 'is_translator': False, 'is_translation_enabled': False, 'profile_background_color': '131516', 'profile_background_image_url': 'http://abs.twimg.com/images/themes/theme14/bg.gif', 'profile_background_image_url_https': 'https://abs.twimg.com/images/themes/theme14/bg.gif', 'profile_background_tile': True, 'profile_image_url': 'http://pbs.twimg.com/profile_images/1190053205562007552/RIr1dK92_normal.jpg', 'profile_image_url_https': 'https://pbs.twimg.com/profile_images/1190053205562007552/RIr1dK92_normal.jpg', 'profile_banner_url': 'https://pbs.twimg.com/profile_banners/80575628/1617031023', 'profile_link_color': '009999', 'profile_sidebar_border_color': 'EEEEEE', 'profile_sidebar_fill_color': 'EFEFEF', 'profile_text_color': '333333', 'profile_use_background_image': True, 'has_extended_profile': True, 'default_profile': False, 'default_profile_image': False, 'following': False, 'follow_request_sent': False, 'notifications': False, 'translator_type': 'none', 'withheld_in_countries': []}, id=80575628, id_str='80575628', name='Helder Salomão', screen_name='heldersalomao', location='Cariacica-ES', description='Deputado Federal PT-ES, ex-prefeito de Cariacica, poeta e professor de filosofia.', url='https://t.co/fx3RHTHwiP', entities={'url': {'urls': [{'url': 'https://t.co/fx3RHTHwiP', 'expanded_url': 'https://www.facebook.com/heldersalomaoES', 'display_url': 'facebook.com/heldersalomaoES', 'indices': [0, 23]}]}, 'description': {'urls': []}}, protected=False, followers_count=75414, friends_count=9075, listed_count=300, created_at=datetime.datetime(2009, 10, 7, 13, 25, 6), favourites_count=31285, utc_offset=None, time_zone=None, geo_enabled=False, verified=True, statuses_count=22387, lang=None, contributors_enabled=False, is_translator=False, is_translation_enabled=False, profile_background_color='131516', profile_background_image_url='http://abs.twimg.com/images/themes/theme14/bg.gif', profile_background_image_url_https='https://abs.twimg.com/images/themes/theme14/bg.gif', profile_background_tile=True, profile_image_url='http://pbs.twimg.com/profile_images/1190053205562007552/RIr1dK92_normal.jpg', profile_image_url_https='https://pbs.twimg.com/profile_images/1190053205562007552/RIr1dK92_normal.jpg', profile_banner_url='https://pbs.twimg.com/profile_banners/80575628/1617031023', profile_link_color='009999', profile_sidebar_border_color='EEEEEE', profile_sidebar_fill_color='EFEFEF', profile_text_color='333333', profile_use_background_image=True, has_extended_profile=True, default_profile=False, default_profile_image=False, following=False, follow_request_sent=False, notifications=False, translator_type='none', withheld_in_countries=[]), geo=None, coordinates=None, place=None, contributors=None, is_quote_status=False, retweet_count=2, favorite_count=15, favorited=False, retweeted=False, possibly_sensitive=False, lang='pt'), is_quote_status=False, retweet_count=2, favorite_count=0, favorited=False, retweeted=False, possibly_sensitive=False, lang='pt'),\n",
              " Status(_api=<tweepy.api.API object at 0x7fa72192ecd0>, _json={'created_at': 'Tue Oct 05 22:49:46 +0000 2021', 'id': 1445521625701511169, 'id_str': '1445521625701511169', 'text': '@SchwMatheus Ei, mas tem editora da universidade, acho que não cobram pra publicar. O @CoelhoPre publicou recente u… https://t.co/ol8XAhyNwc', 'truncated': True, 'entities': {'hashtags': [], 'symbols': [], 'user_mentions': [{'screen_name': 'SchwMatheus', 'name': 'Mazinho das esfinges', 'id': 2637681462, 'id_str': '2637681462', 'indices': [0, 12]}, {'screen_name': 'CoelhoPre', 'name': 'Joelho Pré-Cambriano', 'id': 1083728745712812032, 'id_str': '1083728745712812032', 'indices': [86, 96]}], 'urls': [{'url': 'https://t.co/ol8XAhyNwc', 'expanded_url': 'https://twitter.com/i/web/status/1445521625701511169', 'display_url': 'twitter.com/i/web/status/1…', 'indices': [117, 140]}]}, 'metadata': {'iso_language_code': 'pt', 'result_type': 'recent'}, 'source': '<a href=\"http://twitter.com/download/android\" rel=\"nofollow\">Twitter for Android</a>', 'in_reply_to_status_id': 1445508145808175116, 'in_reply_to_status_id_str': '1445508145808175116', 'in_reply_to_user_id': 2637681462, 'in_reply_to_user_id_str': '2637681462', 'in_reply_to_screen_name': 'SchwMatheus', 'user': {'id': 809162226116526088, 'id_str': '809162226116526088', 'name': 'Tainá Constância🦖', 'screen_name': 'tainancia', 'location': 'São Paulo, Brasil', 'description': 'Paleontologist | MSc in Evolution and Diversity | Researcher in paleontology working on dinosaurs from Maranhão 🦖🦕🦴⚒️📚 | She/Her 🏳️\\u200d🌈', 'url': 'https://t.co/EwIu6YOC6K', 'entities': {'url': {'urls': [{'url': 'https://t.co/EwIu6YOC6K', 'expanded_url': 'https://instagram.com/in.constancia_', 'display_url': 'instagram.com/in.constancia_', 'indices': [0, 23]}]}, 'description': {'urls': []}}, 'protected': False, 'followers_count': 1710, 'friends_count': 1579, 'listed_count': 12, 'created_at': 'Wed Dec 14 22:24:43 +0000 2016', 'favourites_count': 52624, 'utc_offset': None, 'time_zone': None, 'geo_enabled': False, 'verified': False, 'statuses_count': 23275, 'lang': None, 'contributors_enabled': False, 'is_translator': False, 'is_translation_enabled': False, 'profile_background_color': '000000', 'profile_background_image_url': 'http://abs.twimg.com/images/themes/theme1/bg.png', 'profile_background_image_url_https': 'https://abs.twimg.com/images/themes/theme1/bg.png', 'profile_background_tile': False, 'profile_image_url': 'http://pbs.twimg.com/profile_images/1391866001378185216/0rWYrq51_normal.jpg', 'profile_image_url_https': 'https://pbs.twimg.com/profile_images/1391866001378185216/0rWYrq51_normal.jpg', 'profile_banner_url': 'https://pbs.twimg.com/profile_banners/809162226116526088/1601339427', 'profile_link_color': 'FAB81E', 'profile_sidebar_border_color': '000000', 'profile_sidebar_fill_color': '000000', 'profile_text_color': '000000', 'profile_use_background_image': False, 'has_extended_profile': True, 'default_profile': False, 'default_profile_image': False, 'following': False, 'follow_request_sent': False, 'notifications': False, 'translator_type': 'none', 'withheld_in_countries': []}, 'geo': None, 'coordinates': None, 'place': None, 'contributors': None, 'is_quote_status': False, 'retweet_count': 0, 'favorite_count': 1, 'favorited': False, 'retweeted': False, 'lang': 'pt'}, created_at=datetime.datetime(2021, 10, 5, 22, 49, 46), id=1445521625701511169, id_str='1445521625701511169', text='@SchwMatheus Ei, mas tem editora da universidade, acho que não cobram pra publicar. O @CoelhoPre publicou recente u… https://t.co/ol8XAhyNwc', truncated=True, entities={'hashtags': [], 'symbols': [], 'user_mentions': [{'screen_name': 'SchwMatheus', 'name': 'Mazinho das esfinges', 'id': 2637681462, 'id_str': '2637681462', 'indices': [0, 12]}, {'screen_name': 'CoelhoPre', 'name': 'Joelho Pré-Cambriano', 'id': 1083728745712812032, 'id_str': '1083728745712812032', 'indices': [86, 96]}], 'urls': [{'url': 'https://t.co/ol8XAhyNwc', 'expanded_url': 'https://twitter.com/i/web/status/1445521625701511169', 'display_url': 'twitter.com/i/web/status/1…', 'indices': [117, 140]}]}, metadata={'iso_language_code': 'pt', 'result_type': 'recent'}, source='Twitter for Android', source_url='http://twitter.com/download/android', in_reply_to_status_id=1445508145808175116, in_reply_to_status_id_str='1445508145808175116', in_reply_to_user_id=2637681462, in_reply_to_user_id_str='2637681462', in_reply_to_screen_name='SchwMatheus', author=User(_api=<tweepy.api.API object at 0x7fa72192ecd0>, _json={'id': 809162226116526088, 'id_str': '809162226116526088', 'name': 'Tainá Constância🦖', 'screen_name': 'tainancia', 'location': 'São Paulo, Brasil', 'description': 'Paleontologist | MSc in Evolution and Diversity | Researcher in paleontology working on dinosaurs from Maranhão 🦖🦕🦴⚒️📚 | She/Her 🏳️\\u200d🌈', 'url': 'https://t.co/EwIu6YOC6K', 'entities': {'url': {'urls': [{'url': 'https://t.co/EwIu6YOC6K', 'expanded_url': 'https://instagram.com/in.constancia_', 'display_url': 'instagram.com/in.constancia_', 'indices': [0, 23]}]}, 'description': {'urls': []}}, 'protected': False, 'followers_count': 1710, 'friends_count': 1579, 'listed_count': 12, 'created_at': 'Wed Dec 14 22:24:43 +0000 2016', 'favourites_count': 52624, 'utc_offset': None, 'time_zone': None, 'geo_enabled': False, 'verified': False, 'statuses_count': 23275, 'lang': None, 'contributors_enabled': False, 'is_translator': False, 'is_translation_enabled': False, 'profile_background_color': '000000', 'profile_background_image_url': 'http://abs.twimg.com/images/themes/theme1/bg.png', 'profile_background_image_url_https': 'https://abs.twimg.com/images/themes/theme1/bg.png', 'profile_background_tile': False, 'profile_image_url': 'http://pbs.twimg.com/profile_images/1391866001378185216/0rWYrq51_normal.jpg', 'profile_image_url_https': 'https://pbs.twimg.com/profile_images/1391866001378185216/0rWYrq51_normal.jpg', 'profile_banner_url': 'https://pbs.twimg.com/profile_banners/809162226116526088/1601339427', 'profile_link_color': 'FAB81E', 'profile_sidebar_border_color': '000000', 'profile_sidebar_fill_color': '000000', 'profile_text_color': '000000', 'profile_use_background_image': False, 'has_extended_profile': True, 'default_profile': False, 'default_profile_image': False, 'following': False, 'follow_request_sent': False, 'notifications': False, 'translator_type': 'none', 'withheld_in_countries': []}, id=809162226116526088, id_str='809162226116526088', name='Tainá Constância🦖', screen_name='tainancia', location='São Paulo, Brasil', description='Paleontologist | MSc in Evolution and Diversity | Researcher in paleontology working on dinosaurs from Maranhão 🦖🦕🦴⚒️📚 | She/Her 🏳️\\u200d🌈', url='https://t.co/EwIu6YOC6K', entities={'url': {'urls': [{'url': 'https://t.co/EwIu6YOC6K', 'expanded_url': 'https://instagram.com/in.constancia_', 'display_url': 'instagram.com/in.constancia_', 'indices': [0, 23]}]}, 'description': {'urls': []}}, protected=False, followers_count=1710, friends_count=1579, listed_count=12, created_at=datetime.datetime(2016, 12, 14, 22, 24, 43), favourites_count=52624, utc_offset=None, time_zone=None, geo_enabled=False, verified=False, statuses_count=23275, lang=None, contributors_enabled=False, is_translator=False, is_translation_enabled=False, profile_background_color='000000', profile_background_image_url='http://abs.twimg.com/images/themes/theme1/bg.png', profile_background_image_url_https='https://abs.twimg.com/images/themes/theme1/bg.png', profile_background_tile=False, profile_image_url='http://pbs.twimg.com/profile_images/1391866001378185216/0rWYrq51_normal.jpg', profile_image_url_https='https://pbs.twimg.com/profile_images/1391866001378185216/0rWYrq51_normal.jpg', profile_banner_url='https://pbs.twimg.com/profile_banners/809162226116526088/1601339427', profile_link_color='FAB81E', profile_sidebar_border_color='000000', profile_sidebar_fill_color='000000', profile_text_color='000000', profile_use_background_image=False, has_extended_profile=True, default_profile=False, default_profile_image=False, following=False, follow_request_sent=False, notifications=False, translator_type='none', withheld_in_countries=[]), user=User(_api=<tweepy.api.API object at 0x7fa72192ecd0>, _json={'id': 809162226116526088, 'id_str': '809162226116526088', 'name': 'Tainá Constância🦖', 'screen_name': 'tainancia', 'location': 'São Paulo, Brasil', 'description': 'Paleontologist | MSc in Evolution and Diversity | Researcher in paleontology working on dinosaurs from Maranhão 🦖🦕🦴⚒️📚 | She/Her 🏳️\\u200d🌈', 'url': 'https://t.co/EwIu6YOC6K', 'entities': {'url': {'urls': [{'url': 'https://t.co/EwIu6YOC6K', 'expanded_url': 'https://instagram.com/in.constancia_', 'display_url': 'instagram.com/in.constancia_', 'indices': [0, 23]}]}, 'description': {'urls': []}}, 'protected': False, 'followers_count': 1710, 'friends_count': 1579, 'listed_count': 12, 'created_at': 'Wed Dec 14 22:24:43 +0000 2016', 'favourites_count': 52624, 'utc_offset': None, 'time_zone': None, 'geo_enabled': False, 'verified': False, 'statuses_count': 23275, 'lang': None, 'contributors_enabled': False, 'is_translator': False, 'is_translation_enabled': False, 'profile_background_color': '000000', 'profile_background_image_url': 'http://abs.twimg.com/images/themes/theme1/bg.png', 'profile_background_image_url_https': 'https://abs.twimg.com/images/themes/theme1/bg.png', 'profile_background_tile': False, 'profile_image_url': 'http://pbs.twimg.com/profile_images/1391866001378185216/0rWYrq51_normal.jpg', 'profile_image_url_https': 'https://pbs.twimg.com/profile_images/1391866001378185216/0rWYrq51_normal.jpg', 'profile_banner_url': 'https://pbs.twimg.com/profile_banners/809162226116526088/1601339427', 'profile_link_color': 'FAB81E', 'profile_sidebar_border_color': '000000', 'profile_sidebar_fill_color': '000000', 'profile_text_color': '000000', 'profile_use_background_image': False, 'has_extended_profile': True, 'default_profile': False, 'default_profile_image': False, 'following': False, 'follow_request_sent': False, 'notifications': False, 'translator_type': 'none', 'withheld_in_countries': []}, id=809162226116526088, id_str='809162226116526088', name='Tainá Constância🦖', screen_name='tainancia', location='São Paulo, Brasil', description='Paleontologist | MSc in Evolution and Diversity | Researcher in paleontology working on dinosaurs from Maranhão 🦖🦕🦴⚒️📚 | She/Her 🏳️\\u200d🌈', url='https://t.co/EwIu6YOC6K', entities={'url': {'urls': [{'url': 'https://t.co/EwIu6YOC6K', 'expanded_url': 'https://instagram.com/in.constancia_', 'display_url': 'instagram.com/in.constancia_', 'indices': [0, 23]}]}, 'description': {'urls': []}}, protected=False, followers_count=1710, friends_count=1579, listed_count=12, created_at=datetime.datetime(2016, 12, 14, 22, 24, 43), favourites_count=52624, utc_offset=None, time_zone=None, geo_enabled=False, verified=False, statuses_count=23275, lang=None, contributors_enabled=False, is_translator=False, is_translation_enabled=False, profile_background_color='000000', profile_background_image_url='http://abs.twimg.com/images/themes/theme1/bg.png', profile_background_image_url_https='https://abs.twimg.com/images/themes/theme1/bg.png', profile_background_tile=False, profile_image_url='http://pbs.twimg.com/profile_images/1391866001378185216/0rWYrq51_normal.jpg', profile_image_url_https='https://pbs.twimg.com/profile_images/1391866001378185216/0rWYrq51_normal.jpg', profile_banner_url='https://pbs.twimg.com/profile_banners/809162226116526088/1601339427', profile_link_color='FAB81E', profile_sidebar_border_color='000000', profile_sidebar_fill_color='000000', profile_text_color='000000', profile_use_background_image=False, has_extended_profile=True, default_profile=False, default_profile_image=False, following=False, follow_request_sent=False, notifications=False, translator_type='none', withheld_in_countries=[]), geo=None, coordinates=None, place=None, contributors=None, is_quote_status=False, retweet_count=0, favorite_count=1, favorited=False, retweeted=False, lang='pt'),\n",
              " Status(_api=<tweepy.api.API object at 0x7fa72192ecd0>, _json={'created_at': 'Tue Oct 05 22:49:06 +0000 2021', 'id': 1445521455706374147, 'id_str': '1445521455706374147', 'text': 'RT @heldersalomao: ESTAMOS AO VIVO\\n\\nO deputado federal Helder Salomão e o economista @MarcioPochmann professor da Unicamp e da UFABC, conve…', 'truncated': False, 'entities': {'hashtags': [], 'symbols': [], 'user_mentions': [{'screen_name': 'heldersalomao', 'name': 'Helder Salomão', 'id': 80575628, 'id_str': '80575628', 'indices': [3, 17]}, {'screen_name': 'MarcioPochmann', 'name': 'Marcio Pochmann', 'id': 342836049, 'id_str': '342836049', 'indices': [85, 100]}], 'urls': []}, 'metadata': {'iso_language_code': 'pt', 'result_type': 'recent'}, 'source': '<a href=\"http://twitter.com/download/android\" rel=\"nofollow\">Twitter for Android</a>', 'in_reply_to_status_id': None, 'in_reply_to_status_id_str': None, 'in_reply_to_user_id': None, 'in_reply_to_user_id_str': None, 'in_reply_to_screen_name': None, 'user': {'id': 870422143380664320, 'id_str': '870422143380664320', 'name': 'Carminha Dias', 'screen_name': 'CarminhaDias3', 'location': '', 'description': '', 'url': None, 'entities': {'description': {'urls': []}}, 'protected': False, 'followers_count': 171, 'friends_count': 220, 'listed_count': 0, 'created_at': 'Thu Jun 01 23:29:45 +0000 2017', 'favourites_count': 52962, 'utc_offset': None, 'time_zone': None, 'geo_enabled': True, 'verified': False, 'statuses_count': 38635, 'lang': None, 'contributors_enabled': False, 'is_translator': False, 'is_translation_enabled': False, 'profile_background_color': 'F5F8FA', 'profile_background_image_url': None, 'profile_background_image_url_https': None, 'profile_background_tile': False, 'profile_image_url': 'http://pbs.twimg.com/profile_images/909399064214728704/n7H5QiIS_normal.jpg', 'profile_image_url_https': 'https://pbs.twimg.com/profile_images/909399064214728704/n7H5QiIS_normal.jpg', 'profile_link_color': '1DA1F2', 'profile_sidebar_border_color': 'C0DEED', 'profile_sidebar_fill_color': 'DDEEF6', 'profile_text_color': '333333', 'profile_use_background_image': True, 'has_extended_profile': False, 'default_profile': True, 'default_profile_image': False, 'following': False, 'follow_request_sent': False, 'notifications': False, 'translator_type': 'none', 'withheld_in_countries': []}, 'geo': None, 'coordinates': None, 'place': None, 'contributors': None, 'retweeted_status': {'created_at': 'Tue Oct 05 22:27:11 +0000 2021', 'id': 1445515942688034827, 'id_str': '1445515942688034827', 'text': 'ESTAMOS AO VIVO\\n\\nO deputado federal Helder Salomão e o economista @MarcioPochmann professor da Unicamp e da UFABC,… https://t.co/06UkCiC7JF', 'truncated': True, 'entities': {'hashtags': [], 'symbols': [], 'user_mentions': [{'screen_name': 'MarcioPochmann', 'name': 'Marcio Pochmann', 'id': 342836049, 'id_str': '342836049', 'indices': [66, 81]}], 'urls': [{'url': 'https://t.co/06UkCiC7JF', 'expanded_url': 'https://twitter.com/i/web/status/1445515942688034827', 'display_url': 'twitter.com/i/web/status/1…', 'indices': [116, 139]}]}, 'metadata': {'iso_language_code': 'pt', 'result_type': 'recent'}, 'source': '<a href=\"http://twitter.com/download/android\" rel=\"nofollow\">Twitter for Android</a>', 'in_reply_to_status_id': None, 'in_reply_to_status_id_str': None, 'in_reply_to_user_id': None, 'in_reply_to_user_id_str': None, 'in_reply_to_screen_name': None, 'user': {'id': 80575628, 'id_str': '80575628', 'name': 'Helder Salomão', 'screen_name': 'heldersalomao', 'location': 'Cariacica-ES', 'description': 'Deputado Federal PT-ES, ex-prefeito de Cariacica, poeta e professor de filosofia.', 'url': 'https://t.co/fx3RHTHwiP', 'entities': {'url': {'urls': [{'url': 'https://t.co/fx3RHTHwiP', 'expanded_url': 'https://www.facebook.com/heldersalomaoES', 'display_url': 'facebook.com/heldersalomaoES', 'indices': [0, 23]}]}, 'description': {'urls': []}}, 'protected': False, 'followers_count': 75414, 'friends_count': 9075, 'listed_count': 300, 'created_at': 'Wed Oct 07 13:25:06 +0000 2009', 'favourites_count': 31285, 'utc_offset': None, 'time_zone': None, 'geo_enabled': False, 'verified': True, 'statuses_count': 22387, 'lang': None, 'contributors_enabled': False, 'is_translator': False, 'is_translation_enabled': False, 'profile_background_color': '131516', 'profile_background_image_url': 'http://abs.twimg.com/images/themes/theme14/bg.gif', 'profile_background_image_url_https': 'https://abs.twimg.com/images/themes/theme14/bg.gif', 'profile_background_tile': True, 'profile_image_url': 'http://pbs.twimg.com/profile_images/1190053205562007552/RIr1dK92_normal.jpg', 'profile_image_url_https': 'https://pbs.twimg.com/profile_images/1190053205562007552/RIr1dK92_normal.jpg', 'profile_banner_url': 'https://pbs.twimg.com/profile_banners/80575628/1617031023', 'profile_link_color': '009999', 'profile_sidebar_border_color': 'EEEEEE', 'profile_sidebar_fill_color': 'EFEFEF', 'profile_text_color': '333333', 'profile_use_background_image': True, 'has_extended_profile': True, 'default_profile': False, 'default_profile_image': False, 'following': False, 'follow_request_sent': False, 'notifications': False, 'translator_type': 'none', 'withheld_in_countries': []}, 'geo': None, 'coordinates': None, 'place': None, 'contributors': None, 'is_quote_status': False, 'retweet_count': 2, 'favorite_count': 15, 'favorited': False, 'retweeted': False, 'possibly_sensitive': False, 'lang': 'pt'}, 'is_quote_status': False, 'retweet_count': 2, 'favorite_count': 0, 'favorited': False, 'retweeted': False, 'possibly_sensitive': False, 'lang': 'pt'}, created_at=datetime.datetime(2021, 10, 5, 22, 49, 6), id=1445521455706374147, id_str='1445521455706374147', text='RT @heldersalomao: ESTAMOS AO VIVO\\n\\nO deputado federal Helder Salomão e o economista @MarcioPochmann professor da Unicamp e da UFABC, conve…', truncated=False, entities={'hashtags': [], 'symbols': [], 'user_mentions': [{'screen_name': 'heldersalomao', 'name': 'Helder Salomão', 'id': 80575628, 'id_str': '80575628', 'indices': [3, 17]}, {'screen_name': 'MarcioPochmann', 'name': 'Marcio Pochmann', 'id': 342836049, 'id_str': '342836049', 'indices': [85, 100]}], 'urls': []}, metadata={'iso_language_code': 'pt', 'result_type': 'recent'}, source='Twitter for Android', source_url='http://twitter.com/download/android', in_reply_to_status_id=None, in_reply_to_status_id_str=None, in_reply_to_user_id=None, in_reply_to_user_id_str=None, in_reply_to_screen_name=None, author=User(_api=<tweepy.api.API object at 0x7fa72192ecd0>, _json={'id': 870422143380664320, 'id_str': '870422143380664320', 'name': 'Carminha Dias', 'screen_name': 'CarminhaDias3', 'location': '', 'description': '', 'url': None, 'entities': {'description': {'urls': []}}, 'protected': False, 'followers_count': 171, 'friends_count': 220, 'listed_count': 0, 'created_at': 'Thu Jun 01 23:29:45 +0000 2017', 'favourites_count': 52962, 'utc_offset': None, 'time_zone': None, 'geo_enabled': True, 'verified': False, 'statuses_count': 38635, 'lang': None, 'contributors_enabled': False, 'is_translator': False, 'is_translation_enabled': False, 'profile_background_color': 'F5F8FA', 'profile_background_image_url': None, 'profile_background_image_url_https': None, 'profile_background_tile': False, 'profile_image_url': 'http://pbs.twimg.com/profile_images/909399064214728704/n7H5QiIS_normal.jpg', 'profile_image_url_https': 'https://pbs.twimg.com/profile_images/909399064214728704/n7H5QiIS_normal.jpg', 'profile_link_color': '1DA1F2', 'profile_sidebar_border_color': 'C0DEED', 'profile_sidebar_fill_color': 'DDEEF6', 'profile_text_color': '333333', 'profile_use_background_image': True, 'has_extended_profile': False, 'default_profile': True, 'default_profile_image': False, 'following': False, 'follow_request_sent': False, 'notifications': False, 'translator_type': 'none', 'withheld_in_countries': []}, id=870422143380664320, id_str='870422143380664320', name='Carminha Dias', screen_name='CarminhaDias3', location='', description='', url=None, entities={'description': {'urls': []}}, protected=False, followers_count=171, friends_count=220, listed_count=0, created_at=datetime.datetime(2017, 6, 1, 23, 29, 45), favourites_count=52962, utc_offset=None, time_zone=None, geo_enabled=True, verified=False, statuses_count=38635, lang=None, contributors_enabled=False, is_translator=False, is_translation_enabled=False, profile_background_color='F5F8FA', profile_background_image_url=None, profile_background_image_url_https=None, profile_background_tile=False, profile_image_url='http://pbs.twimg.com/profile_images/909399064214728704/n7H5QiIS_normal.jpg', profile_image_url_https='https://pbs.twimg.com/profile_images/909399064214728704/n7H5QiIS_normal.jpg', profile_link_color='1DA1F2', profile_sidebar_border_color='C0DEED', profile_sidebar_fill_color='DDEEF6', profile_text_color='333333', profile_use_background_image=True, has_extended_profile=False, default_profile=True, default_profile_image=False, following=False, follow_request_sent=False, notifications=False, translator_type='none', withheld_in_countries=[]), user=User(_api=<tweepy.api.API object at 0x7fa72192ecd0>, _json={'id': 870422143380664320, 'id_str': '870422143380664320', 'name': 'Carminha Dias', 'screen_name': 'CarminhaDias3', 'location': '', 'description': '', 'url': None, 'entities': {'description': {'urls': []}}, 'protected': False, 'followers_count': 171, 'friends_count': 220, 'listed_count': 0, 'created_at': 'Thu Jun 01 23:29:45 +0000 2017', 'favourites_count': 52962, 'utc_offset': None, 'time_zone': None, 'geo_enabled': True, 'verified': False, 'statuses_count': 38635, 'lang': None, 'contributors_enabled': False, 'is_translator': False, 'is_translation_enabled': False, 'profile_background_color': 'F5F8FA', 'profile_background_image_url': None, 'profile_background_image_url_https': None, 'profile_background_tile': False, 'profile_image_url': 'http://pbs.twimg.com/profile_images/909399064214728704/n7H5QiIS_normal.jpg', 'profile_image_url_https': 'https://pbs.twimg.com/profile_images/909399064214728704/n7H5QiIS_normal.jpg', 'profile_link_color': '1DA1F2', 'profile_sidebar_border_color': 'C0DEED', 'profile_sidebar_fill_color': 'DDEEF6', 'profile_text_color': '333333', 'profile_use_background_image': True, 'has_extended_profile': False, 'default_profile': True, 'default_profile_image': False, 'following': False, 'follow_request_sent': False, 'notifications': False, 'translator_type': 'none', 'withheld_in_countries': []}, id=870422143380664320, id_str='870422143380664320', name='Carminha Dias', screen_name='CarminhaDias3', location='', description='', url=None, entities={'description': {'urls': []}}, protected=False, followers_count=171, friends_count=220, listed_count=0, created_at=datetime.datetime(2017, 6, 1, 23, 29, 45), favourites_count=52962, utc_offset=None, time_zone=None, geo_enabled=True, verified=False, statuses_count=38635, lang=None, contributors_enabled=False, is_translator=False, is_translation_enabled=False, profile_background_color='F5F8FA', profile_background_image_url=None, profile_background_image_url_https=None, profile_background_tile=False, profile_image_url='http://pbs.twimg.com/profile_images/909399064214728704/n7H5QiIS_normal.jpg', profile_image_url_https='https://pbs.twimg.com/profile_images/909399064214728704/n7H5QiIS_normal.jpg', profile_link_color='1DA1F2', profile_sidebar_border_color='C0DEED', profile_sidebar_fill_color='DDEEF6', profile_text_color='333333', profile_use_background_image=True, has_extended_profile=False, default_profile=True, default_profile_image=False, following=False, follow_request_sent=False, notifications=False, translator_type='none', withheld_in_countries=[]), geo=None, coordinates=None, place=None, contributors=None, retweeted_status=Status(_api=<tweepy.api.API object at 0x7fa72192ecd0>, _json={'created_at': 'Tue Oct 05 22:27:11 +0000 2021', 'id': 1445515942688034827, 'id_str': '1445515942688034827', 'text': 'ESTAMOS AO VIVO\\n\\nO deputado federal Helder Salomão e o economista @MarcioPochmann professor da Unicamp e da UFABC,… https://t.co/06UkCiC7JF', 'truncated': True, 'entities': {'hashtags': [], 'symbols': [], 'user_mentions': [{'screen_name': 'MarcioPochmann', 'name': 'Marcio Pochmann', 'id': 342836049, 'id_str': '342836049', 'indices': [66, 81]}], 'urls': [{'url': 'https://t.co/06UkCiC7JF', 'expanded_url': 'https://twitter.com/i/web/status/1445515942688034827', 'display_url': 'twitter.com/i/web/status/1…', 'indices': [116, 139]}]}, 'metadata': {'iso_language_code': 'pt', 'result_type': 'recent'}, 'source': '<a href=\"http://twitter.com/download/android\" rel=\"nofollow\">Twitter for Android</a>', 'in_reply_to_status_id': None, 'in_reply_to_status_id_str': None, 'in_reply_to_user_id': None, 'in_reply_to_user_id_str': None, 'in_reply_to_screen_name': None, 'user': {'id': 80575628, 'id_str': '80575628', 'name': 'Helder Salomão', 'screen_name': 'heldersalomao', 'location': 'Cariacica-ES', 'description': 'Deputado Federal PT-ES, ex-prefeito de Cariacica, poeta e professor de filosofia.', 'url': 'https://t.co/fx3RHTHwiP', 'entities': {'url': {'urls': [{'url': 'https://t.co/fx3RHTHwiP', 'expanded_url': 'https://www.facebook.com/heldersalomaoES', 'display_url': 'facebook.com/heldersalomaoES', 'indices': [0, 23]}]}, 'description': {'urls': []}}, 'protected': False, 'followers_count': 75414, 'friends_count': 9075, 'listed_count': 300, 'created_at': 'Wed Oct 07 13:25:06 +0000 2009', 'favourites_count': 31285, 'utc_offset': None, 'time_zone': None, 'geo_enabled': False, 'verified': True, 'statuses_count': 22387, 'lang': None, 'contributors_enabled': False, 'is_translator': False, 'is_translation_enabled': False, 'profile_background_color': '131516', 'profile_background_image_url': 'http://abs.twimg.com/images/themes/theme14/bg.gif', 'profile_background_image_url_https': 'https://abs.twimg.com/images/themes/theme14/bg.gif', 'profile_background_tile': True, 'profile_image_url': 'http://pbs.twimg.com/profile_images/1190053205562007552/RIr1dK92_normal.jpg', 'profile_image_url_https': 'https://pbs.twimg.com/profile_images/1190053205562007552/RIr1dK92_normal.jpg', 'profile_banner_url': 'https://pbs.twimg.com/profile_banners/80575628/1617031023', 'profile_link_color': '009999', 'profile_sidebar_border_color': 'EEEEEE', 'profile_sidebar_fill_color': 'EFEFEF', 'profile_text_color': '333333', 'profile_use_background_image': True, 'has_extended_profile': True, 'default_profile': False, 'default_profile_image': False, 'following': False, 'follow_request_sent': False, 'notifications': False, 'translator_type': 'none', 'withheld_in_countries': []}, 'geo': None, 'coordinates': None, 'place': None, 'contributors': None, 'is_quote_status': False, 'retweet_count': 2, 'favorite_count': 15, 'favorited': False, 'retweeted': False, 'possibly_sensitive': False, 'lang': 'pt'}, created_at=datetime.datetime(2021, 10, 5, 22, 27, 11), id=1445515942688034827, id_str='1445515942688034827', text='ESTAMOS AO VIVO\\n\\nO deputado federal Helder Salomão e o economista @MarcioPochmann professor da Unicamp e da UFABC,… https://t.co/06UkCiC7JF', truncated=True, entities={'hashtags': [], 'symbols': [], 'user_mentions': [{'screen_name': 'MarcioPochmann', 'name': 'Marcio Pochmann', 'id': 342836049, 'id_str': '342836049', 'indices': [66, 81]}], 'urls': [{'url': 'https://t.co/06UkCiC7JF', 'expanded_url': 'https://twitter.com/i/web/status/1445515942688034827', 'display_url': 'twitter.com/i/web/status/1…', 'indices': [116, 139]}]}, metadata={'iso_language_code': 'pt', 'result_type': 'recent'}, source='Twitter for Android', source_url='http://twitter.com/download/android', in_reply_to_status_id=None, in_reply_to_status_id_str=None, in_reply_to_user_id=None, in_reply_to_user_id_str=None, in_reply_to_screen_name=None, author=User(_api=<tweepy.api.API object at 0x7fa72192ecd0>, _json={'id': 80575628, 'id_str': '80575628', 'name': 'Helder Salomão', 'screen_name': 'heldersalomao', 'location': 'Cariacica-ES', 'description': 'Deputado Federal PT-ES, ex-prefeito de Cariacica, poeta e professor de filosofia.', 'url': 'https://t.co/fx3RHTHwiP', 'entities': {'url': {'urls': [{'url': 'https://t.co/fx3RHTHwiP', 'expanded_url': 'https://www.facebook.com/heldersalomaoES', 'display_url': 'facebook.com/heldersalomaoES', 'indices': [0, 23]}]}, 'description': {'urls': []}}, 'protected': False, 'followers_count': 75414, 'friends_count': 9075, 'listed_count': 300, 'created_at': 'Wed Oct 07 13:25:06 +0000 2009', 'favourites_count': 31285, 'utc_offset': None, 'time_zone': None, 'geo_enabled': False, 'verified': True, 'statuses_count': 22387, 'lang': None, 'contributors_enabled': False, 'is_translator': False, 'is_translation_enabled': False, 'profile_background_color': '131516', 'profile_background_image_url': 'http://abs.twimg.com/images/themes/theme14/bg.gif', 'profile_background_image_url_https': 'https://abs.twimg.com/images/themes/theme14/bg.gif', 'profile_background_tile': True, 'profile_image_url': 'http://pbs.twimg.com/profile_images/1190053205562007552/RIr1dK92_normal.jpg', 'profile_image_url_https': 'https://pbs.twimg.com/profile_images/1190053205562007552/RIr1dK92_normal.jpg', 'profile_banner_url': 'https://pbs.twimg.com/profile_banners/80575628/1617031023', 'profile_link_color': '009999', 'profile_sidebar_border_color': 'EEEEEE', 'profile_sidebar_fill_color': 'EFEFEF', 'profile_text_color': '333333', 'profile_use_background_image': True, 'has_extended_profile': True, 'default_profile': False, 'default_profile_image': False, 'following': False, 'follow_request_sent': False, 'notifications': False, 'translator_type': 'none', 'withheld_in_countries': []}, id=80575628, id_str='80575628', name='Helder Salomão', screen_name='heldersalomao', location='Cariacica-ES', description='Deputado Federal PT-ES, ex-prefeito de Cariacica, poeta e professor de filosofia.', url='https://t.co/fx3RHTHwiP', entities={'url': {'urls': [{'url': 'https://t.co/fx3RHTHwiP', 'expanded_url': 'https://www.facebook.com/heldersalomaoES', 'display_url': 'facebook.com/heldersalomaoES', 'indices': [0, 23]}]}, 'description': {'urls': []}}, protected=False, followers_count=75414, friends_count=9075, listed_count=300, created_at=datetime.datetime(2009, 10, 7, 13, 25, 6), favourites_count=31285, utc_offset=None, time_zone=None, geo_enabled=False, verified=True, statuses_count=22387, lang=None, contributors_enabled=False, is_translator=False, is_translation_enabled=False, profile_background_color='131516', profile_background_image_url='http://abs.twimg.com/images/themes/theme14/bg.gif', profile_background_image_url_https='https://abs.twimg.com/images/themes/theme14/bg.gif', profile_background_tile=True, profile_image_url='http://pbs.twimg.com/profile_images/1190053205562007552/RIr1dK92_normal.jpg', profile_image_url_https='https://pbs.twimg.com/profile_images/1190053205562007552/RIr1dK92_normal.jpg', profile_banner_url='https://pbs.twimg.com/profile_banners/80575628/1617031023', profile_link_color='009999', profile_sidebar_border_color='EEEEEE', profile_sidebar_fill_color='EFEFEF', profile_text_color='333333', profile_use_background_image=True, has_extended_profile=True, default_profile=False, default_profile_image=False, following=False, follow_request_sent=False, notifications=False, translator_type='none', withheld_in_countries=[]), user=User(_api=<tweepy.api.API object at 0x7fa72192ecd0>, _json={'id': 80575628, 'id_str': '80575628', 'name': 'Helder Salomão', 'screen_name': 'heldersalomao', 'location': 'Cariacica-ES', 'description': 'Deputado Federal PT-ES, ex-prefeito de Cariacica, poeta e professor de filosofia.', 'url': 'https://t.co/fx3RHTHwiP', 'entities': {'url': {'urls': [{'url': 'https://t.co/fx3RHTHwiP', 'expanded_url': 'https://www.facebook.com/heldersalomaoES', 'display_url': 'facebook.com/heldersalomaoES', 'indices': [0, 23]}]}, 'description': {'urls': []}}, 'protected': False, 'followers_count': 75414, 'friends_count': 9075, 'listed_count': 300, 'created_at': 'Wed Oct 07 13:25:06 +0000 2009', 'favourites_count': 31285, 'utc_offset': None, 'time_zone': None, 'geo_enabled': False, 'verified': True, 'statuses_count': 22387, 'lang': None, 'contributors_enabled': False, 'is_translator': False, 'is_translation_enabled': False, 'profile_background_color': '131516', 'profile_background_image_url': 'http://abs.twimg.com/images/themes/theme14/bg.gif', 'profile_background_image_url_https': 'https://abs.twimg.com/images/themes/theme14/bg.gif', 'profile_background_tile': True, 'profile_image_url': 'http://pbs.twimg.com/profile_images/1190053205562007552/RIr1dK92_normal.jpg', 'profile_image_url_https': 'https://pbs.twimg.com/profile_images/1190053205562007552/RIr1dK92_normal.jpg', 'profile_banner_url': 'https://pbs.twimg.com/profile_banners/80575628/1617031023', 'profile_link_color': '009999', 'profile_sidebar_border_color': 'EEEEEE', 'profile_sidebar_fill_color': 'EFEFEF', 'profile_text_color': '333333', 'profile_use_background_image': True, 'has_extended_profile': True, 'default_profile': False, 'default_profile_image': False, 'following': False, 'follow_request_sent': False, 'notifications': False, 'translator_type': 'none', 'withheld_in_countries': []}, id=80575628, id_str='80575628', name='Helder Salomão', screen_name='heldersalomao', location='Cariacica-ES', description='Deputado Federal PT-ES, ex-prefeito de Cariacica, poeta e professor de filosofia.', url='https://t.co/fx3RHTHwiP', entities={'url': {'urls': [{'url': 'https://t.co/fx3RHTHwiP', 'expanded_url': 'https://www.facebook.com/heldersalomaoES', 'display_url': 'facebook.com/heldersalomaoES', 'indices': [0, 23]}]}, 'description': {'urls': []}}, protected=False, followers_count=75414, friends_count=9075, listed_count=300, created_at=datetime.datetime(2009, 10, 7, 13, 25, 6), favourites_count=31285, utc_offset=None, time_zone=None, geo_enabled=False, verified=True, statuses_count=22387, lang=None, contributors_enabled=False, is_translator=False, is_translation_enabled=False, profile_background_color='131516', profile_background_image_url='http://abs.twimg.com/images/themes/theme14/bg.gif', profile_background_image_url_https='https://abs.twimg.com/images/themes/theme14/bg.gif', profile_background_tile=True, profile_image_url='http://pbs.twimg.com/profile_images/1190053205562007552/RIr1dK92_normal.jpg', profile_image_url_https='https://pbs.twimg.com/profile_images/1190053205562007552/RIr1dK92_normal.jpg', profile_banner_url='https://pbs.twimg.com/profile_banners/80575628/1617031023', profile_link_color='009999', profile_sidebar_border_color='EEEEEE', profile_sidebar_fill_color='EFEFEF', profile_text_color='333333', profile_use_background_image=True, has_extended_profile=True, default_profile=False, default_profile_image=False, following=False, follow_request_sent=False, notifications=False, translator_type='none', withheld_in_countries=[]), geo=None, coordinates=None, place=None, contributors=None, is_quote_status=False, retweet_count=2, favorite_count=15, favorited=False, retweeted=False, possibly_sensitive=False, lang='pt'), is_quote_status=False, retweet_count=2, favorite_count=0, favorited=False, retweeted=False, possibly_sensitive=False, lang='pt'),\n",
              " Status(_api=<tweepy.api.API object at 0x7fa72192ecd0>, _json={'created_at': 'Tue Oct 05 22:40:22 +0000 2021', 'id': 1445519258629197834, 'id_str': '1445519258629197834', 'text': 'A ufabc tranquila com sistema quadrimestral sabendo que SEMPRE ENFIOU 3 SEMESTRES EM 11 MESES NO RABO DOS ALUNOS https://t.co/esr5MNLLQZ', 'truncated': False, 'entities': {'hashtags': [], 'symbols': [], 'user_mentions': [], 'urls': [{'url': 'https://t.co/esr5MNLLQZ', 'expanded_url': 'https://twitter.com/BrenoAIves/status/1445050060828463111', 'display_url': 'twitter.com/BrenoAIves/sta…', 'indices': [113, 136]}]}, 'metadata': {'iso_language_code': 'pt', 'result_type': 'recent'}, 'source': '<a href=\"http://twitter.com/download/android\" rel=\"nofollow\">Twitter for Android</a>', 'in_reply_to_status_id': None, 'in_reply_to_status_id_str': None, 'in_reply_to_user_id': None, 'in_reply_to_user_id_str': None, 'in_reply_to_screen_name': None, 'user': {'id': 972633546425864192, 'id_str': '972633546425864192', 'name': 'abi', 'screen_name': 'abiejpg', 'location': 'Guarulhos, Brasil', 'description': 'Reclamo e nas horas vagas faço biologia na ufabc', 'url': None, 'entities': {'description': {'urls': []}}, 'protected': False, 'followers_count': 121, 'friends_count': 358, 'listed_count': 0, 'created_at': 'Sun Mar 11 00:41:22 +0000 2018', 'favourites_count': 3029, 'utc_offset': None, 'time_zone': None, 'geo_enabled': False, 'verified': False, 'statuses_count': 16126, 'lang': None, 'contributors_enabled': False, 'is_translator': False, 'is_translation_enabled': False, 'profile_background_color': 'F5F8FA', 'profile_background_image_url': None, 'profile_background_image_url_https': None, 'profile_background_tile': False, 'profile_image_url': 'http://pbs.twimg.com/profile_images/1419418423768109067/H4ykRXEY_normal.jpg', 'profile_image_url_https': 'https://pbs.twimg.com/profile_images/1419418423768109067/H4ykRXEY_normal.jpg', 'profile_banner_url': 'https://pbs.twimg.com/profile_banners/972633546425864192/1630329834', 'profile_link_color': '1DA1F2', 'profile_sidebar_border_color': 'C0DEED', 'profile_sidebar_fill_color': 'DDEEF6', 'profile_text_color': '333333', 'profile_use_background_image': True, 'has_extended_profile': True, 'default_profile': True, 'default_profile_image': False, 'following': False, 'follow_request_sent': False, 'notifications': False, 'translator_type': 'none', 'withheld_in_countries': []}, 'geo': None, 'coordinates': None, 'place': None, 'contributors': None, 'is_quote_status': True, 'quoted_status_id': 1445050060828463111, 'quoted_status_id_str': '1445050060828463111', 'quoted_status': {'created_at': 'Mon Oct 04 15:35:56 +0000 2021', 'id': 1445050060828463111, 'id_str': '1445050060828463111', 'text': 'o universitário tá fazendo 3 SEMESTRES  em 11 meses e tu nao quer que esteja geral maluco?', 'truncated': False, 'entities': {'hashtags': [], 'symbols': [], 'user_mentions': [], 'urls': []}, 'metadata': {'iso_language_code': 'pt', 'result_type': 'recent'}, 'source': '<a href=\"http://twitter.com/download/android\" rel=\"nofollow\">Twitter for Android</a>', 'in_reply_to_status_id': None, 'in_reply_to_status_id_str': None, 'in_reply_to_user_id': None, 'in_reply_to_user_id_str': None, 'in_reply_to_screen_name': None, 'user': {'id': 67448037, 'id_str': '67448037', 'name': 'Inosuke', 'screen_name': 'BrenoAIves', 'location': 'NY - New Yguaçu City', 'description': 'Flamengo / Química - UFRRJ / paiN Gaming', 'url': None, 'entities': {'description': {'urls': []}}, 'protected': False, 'followers_count': 567, 'friends_count': 836, 'listed_count': 3, 'created_at': 'Thu Aug 20 22:42:51 +0000 2009', 'favourites_count': 101279, 'utc_offset': None, 'time_zone': None, 'geo_enabled': False, 'verified': False, 'statuses_count': 89139, 'lang': None, 'contributors_enabled': False, 'is_translator': False, 'is_translation_enabled': False, 'profile_background_color': '000000', 'profile_background_image_url': 'http://abs.twimg.com/images/themes/theme14/bg.gif', 'profile_background_image_url_https': 'https://abs.twimg.com/images/themes/theme14/bg.gif', 'profile_background_tile': False, 'profile_image_url': 'http://pbs.twimg.com/profile_images/1296635026432557056/Tcudfw7G_normal.jpg', 'profile_image_url_https': 'https://pbs.twimg.com/profile_images/1296635026432557056/Tcudfw7G_normal.jpg', 'profile_banner_url': 'https://pbs.twimg.com/profile_banners/67448037/1630194835', 'profile_link_color': 'ABB8C2', 'profile_sidebar_border_color': '000000', 'profile_sidebar_fill_color': '000000', 'profile_text_color': '000000', 'profile_use_background_image': False, 'has_extended_profile': True, 'default_profile': False, 'default_profile_image': False, 'following': False, 'follow_request_sent': False, 'notifications': False, 'translator_type': 'none', 'withheld_in_countries': []}, 'geo': None, 'coordinates': None, 'place': None, 'contributors': None, 'is_quote_status': False, 'retweet_count': 3580, 'favorite_count': 13311, 'favorited': False, 'retweeted': False, 'lang': 'pt'}, 'retweet_count': 0, 'favorite_count': 1, 'favorited': False, 'retweeted': False, 'possibly_sensitive': False, 'lang': 'pt'}, created_at=datetime.datetime(2021, 10, 5, 22, 40, 22), id=1445519258629197834, id_str='1445519258629197834', text='A ufabc tranquila com sistema quadrimestral sabendo que SEMPRE ENFIOU 3 SEMESTRES EM 11 MESES NO RABO DOS ALUNOS https://t.co/esr5MNLLQZ', truncated=False, entities={'hashtags': [], 'symbols': [], 'user_mentions': [], 'urls': [{'url': 'https://t.co/esr5MNLLQZ', 'expanded_url': 'https://twitter.com/BrenoAIves/status/1445050060828463111', 'display_url': 'twitter.com/BrenoAIves/sta…', 'indices': [113, 136]}]}, metadata={'iso_language_code': 'pt', 'result_type': 'recent'}, source='Twitter for Android', source_url='http://twitter.com/download/android', in_reply_to_status_id=None, in_reply_to_status_id_str=None, in_reply_to_user_id=None, in_reply_to_user_id_str=None, in_reply_to_screen_name=None, author=User(_api=<tweepy.api.API object at 0x7fa72192ecd0>, _json={'id': 972633546425864192, 'id_str': '972633546425864192', 'name': 'abi', 'screen_name': 'abiejpg', 'location': 'Guarulhos, Brasil', 'description': 'Reclamo e nas horas vagas faço biologia na ufabc', 'url': None, 'entities': {'description': {'urls': []}}, 'protected': False, 'followers_count': 121, 'friends_count': 358, 'listed_count': 0, 'created_at': 'Sun Mar 11 00:41:22 +0000 2018', 'favourites_count': 3029, 'utc_offset': None, 'time_zone': None, 'geo_enabled': False, 'verified': False, 'statuses_count': 16126, 'lang': None, 'contributors_enabled': False, 'is_translator': False, 'is_translation_enabled': False, 'profile_background_color': 'F5F8FA', 'profile_background_image_url': None, 'profile_background_image_url_https': None, 'profile_background_tile': False, 'profile_image_url': 'http://pbs.twimg.com/profile_images/1419418423768109067/H4ykRXEY_normal.jpg', 'profile_image_url_https': 'https://pbs.twimg.com/profile_images/1419418423768109067/H4ykRXEY_normal.jpg', 'profile_banner_url': 'https://pbs.twimg.com/profile_banners/972633546425864192/1630329834', 'profile_link_color': '1DA1F2', 'profile_sidebar_border_color': 'C0DEED', 'profile_sidebar_fill_color': 'DDEEF6', 'profile_text_color': '333333', 'profile_use_background_image': True, 'has_extended_profile': True, 'default_profile': True, 'default_profile_image': False, 'following': False, 'follow_request_sent': False, 'notifications': False, 'translator_type': 'none', 'withheld_in_countries': []}, id=972633546425864192, id_str='972633546425864192', name='abi', screen_name='abiejpg', location='Guarulhos, Brasil', description='Reclamo e nas horas vagas faço biologia na ufabc', url=None, entities={'description': {'urls': []}}, protected=False, followers_count=121, friends_count=358, listed_count=0, created_at=datetime.datetime(2018, 3, 11, 0, 41, 22), favourites_count=3029, utc_offset=None, time_zone=None, geo_enabled=False, verified=False, statuses_count=16126, lang=None, contributors_enabled=False, is_translator=False, is_translation_enabled=False, profile_background_color='F5F8FA', profile_background_image_url=None, profile_background_image_url_https=None, profile_background_tile=False, profile_image_url='http://pbs.twimg.com/profile_images/1419418423768109067/H4ykRXEY_normal.jpg', profile_image_url_https='https://pbs.twimg.com/profile_images/1419418423768109067/H4ykRXEY_normal.jpg', profile_banner_url='https://pbs.twimg.com/profile_banners/972633546425864192/1630329834', profile_link_color='1DA1F2', profile_sidebar_border_color='C0DEED', profile_sidebar_fill_color='DDEEF6', profile_text_color='333333', profile_use_background_image=True, has_extended_profile=True, default_profile=True, default_profile_image=False, following=False, follow_request_sent=False, notifications=False, translator_type='none', withheld_in_countries=[]), user=User(_api=<tweepy.api.API object at 0x7fa72192ecd0>, _json={'id': 972633546425864192, 'id_str': '972633546425864192', 'name': 'abi', 'screen_name': 'abiejpg', 'location': 'Guarulhos, Brasil', 'description': 'Reclamo e nas horas vagas faço biologia na ufabc', 'url': None, 'entities': {'description': {'urls': []}}, 'protected': False, 'followers_count': 121, 'friends_count': 358, 'listed_count': 0, 'created_at': 'Sun Mar 11 00:41:22 +0000 2018', 'favourites_count': 3029, 'utc_offset': None, 'time_zone': None, 'geo_enabled': False, 'verified': False, 'statuses_count': 16126, 'lang': None, 'contributors_enabled': False, 'is_translator': False, 'is_translation_enabled': False, 'profile_background_color': 'F5F8FA', 'profile_background_image_url': None, 'profile_background_image_url_https': None, 'profile_background_tile': False, 'profile_image_url': 'http://pbs.twimg.com/profile_images/1419418423768109067/H4ykRXEY_normal.jpg', 'profile_image_url_https': 'https://pbs.twimg.com/profile_images/1419418423768109067/H4ykRXEY_normal.jpg', 'profile_banner_url': 'https://pbs.twimg.com/profile_banners/972633546425864192/1630329834', 'profile_link_color': '1DA1F2', 'profile_sidebar_border_color': 'C0DEED', 'profile_sidebar_fill_color': 'DDEEF6', 'profile_text_color': '333333', 'profile_use_background_image': True, 'has_extended_profile': True, 'default_profile': True, 'default_profile_image': False, 'following': False, 'follow_request_sent': False, 'notifications': False, 'translator_type': 'none', 'withheld_in_countries': []}, id=972633546425864192, id_str='972633546425864192', name='abi', screen_name='abiejpg', location='Guarulhos, Brasil', description='Reclamo e nas horas vagas faço biologia na ufabc', url=None, entities={'description': {'urls': []}}, protected=False, followers_count=121, friends_count=358, listed_count=0, created_at=datetime.datetime(2018, 3, 11, 0, 41, 22), favourites_count=3029, utc_offset=None, time_zone=None, geo_enabled=False, verified=False, statuses_count=16126, lang=None, contributors_enabled=False, is_translator=False, is_translation_enabled=False, profile_background_color='F5F8FA', profile_background_image_url=None, profile_background_image_url_https=None, profile_background_tile=False, profile_image_url='http://pbs.twimg.com/profile_images/1419418423768109067/H4ykRXEY_normal.jpg', profile_image_url_https='https://pbs.twimg.com/profile_images/1419418423768109067/H4ykRXEY_normal.jpg', profile_banner_url='https://pbs.twimg.com/profile_banners/972633546425864192/1630329834', profile_link_color='1DA1F2', profile_sidebar_border_color='C0DEED', profile_sidebar_fill_color='DDEEF6', profile_text_color='333333', profile_use_background_image=True, has_extended_profile=True, default_profile=True, default_profile_image=False, following=False, follow_request_sent=False, notifications=False, translator_type='none', withheld_in_countries=[]), geo=None, coordinates=None, place=None, contributors=None, is_quote_status=True, quoted_status_id=1445050060828463111, quoted_status_id_str='1445050060828463111', quoted_status=Status(_api=<tweepy.api.API object at 0x7fa72192ecd0>, _json={'created_at': 'Mon Oct 04 15:35:56 +0000 2021', 'id': 1445050060828463111, 'id_str': '1445050060828463111', 'text': 'o universitário tá fazendo 3 SEMESTRES  em 11 meses e tu nao quer que esteja geral maluco?', 'truncated': False, 'entities': {'hashtags': [], 'symbols': [], 'user_mentions': [], 'urls': []}, 'metadata': {'iso_language_code': 'pt', 'result_type': 'recent'}, 'source': '<a href=\"http://twitter.com/download/android\" rel=\"nofollow\">Twitter for Android</a>', 'in_reply_to_status_id': None, 'in_reply_to_status_id_str': None, 'in_reply_to_user_id': None, 'in_reply_to_user_id_str': None, 'in_reply_to_screen_name': None, 'user': {'id': 67448037, 'id_str': '67448037', 'name': 'Inosuke', 'screen_name': 'BrenoAIves', 'location': 'NY - New Yguaçu City', 'description': 'Flamengo / Química - UFRRJ / paiN Gaming', 'url': None, 'entities': {'description': {'urls': []}}, 'protected': False, 'followers_count': 567, 'friends_count': 836, 'listed_count': 3, 'created_at': 'Thu Aug 20 22:42:51 +0000 2009', 'favourites_count': 101279, 'utc_offset': None, 'time_zone': None, 'geo_enabled': False, 'verified': False, 'statuses_count': 89139, 'lang': None, 'contributors_enabled': False, 'is_translator': False, 'is_translation_enabled': False, 'profile_background_color': '000000', 'profile_background_image_url': 'http://abs.twimg.com/images/themes/theme14/bg.gif', 'profile_background_image_url_https': 'https://abs.twimg.com/images/themes/theme14/bg.gif', 'profile_background_tile': False, 'profile_image_url': 'http://pbs.twimg.com/profile_images/1296635026432557056/Tcudfw7G_normal.jpg', 'profile_image_url_https': 'https://pbs.twimg.com/profile_images/1296635026432557056/Tcudfw7G_normal.jpg', 'profile_banner_url': 'https://pbs.twimg.com/profile_banners/67448037/1630194835', 'profile_link_color': 'ABB8C2', 'profile_sidebar_border_color': '000000', 'profile_sidebar_fill_color': '000000', 'profile_text_color': '000000', 'profile_use_background_image': False, 'has_extended_profile': True, 'default_profile': False, 'default_profile_image': False, 'following': False, 'follow_request_sent': False, 'notifications': False, 'translator_type': 'none', 'withheld_in_countries': []}, 'geo': None, 'coordinates': None, 'place': None, 'contributors': None, 'is_quote_status': False, 'retweet_count': 3580, 'favorite_count': 13311, 'favorited': False, 'retweeted': False, 'lang': 'pt'}, created_at=datetime.datetime(2021, 10, 4, 15, 35, 56), id=1445050060828463111, id_str='1445050060828463111', text='o universitário tá fazendo 3 SEMESTRES  em 11 meses e tu nao quer que esteja geral maluco?', truncated=False, entities={'hashtags': [], 'symbols': [], 'user_mentions': [], 'urls': []}, metadata={'iso_language_code': 'pt', 'result_type': 'recent'}, source='Twitter for Android', source_url='http://twitter.com/download/android', in_reply_to_status_id=None, in_reply_to_status_id_str=None, in_reply_to_user_id=None, in_reply_to_user_id_str=None, in_reply_to_screen_name=None, author=User(_api=<tweepy.api.API object at 0x7fa72192ecd0>, _json={'id': 67448037, 'id_str': '67448037', 'name': 'Inosuke', 'screen_name': 'BrenoAIves', 'location': 'NY - New Yguaçu City', 'description': 'Flamengo / Química - UFRRJ / paiN Gaming', 'url': None, 'entities': {'description': {'urls': []}}, 'protected': False, 'followers_count': 567, 'friends_count': 836, 'listed_count': 3, 'created_at': 'Thu Aug 20 22:42:51 +0000 2009', 'favourites_count': 101279, 'utc_offset': None, 'time_zone': None, 'geo_enabled': False, 'verified': False, 'statuses_count': 89139, 'lang': None, 'contributors_enabled': False, 'is_translator': False, 'is_translation_enabled': False, 'profile_background_color': '000000', 'profile_background_image_url': 'http://abs.twimg.com/images/themes/theme14/bg.gif', 'profile_background_image_url_https': 'https://abs.twimg.com/images/themes/theme14/bg.gif', 'profile_background_tile': False, 'profile_image_url': 'http://pbs.twimg.com/profile_images/1296635026432557056/Tcudfw7G_normal.jpg', 'profile_image_url_https': 'https://pbs.twimg.com/profile_images/1296635026432557056/Tcudfw7G_normal.jpg', 'profile_banner_url': 'https://pbs.twimg.com/profile_banners/67448037/1630194835', 'profile_link_color': 'ABB8C2', 'profile_sidebar_border_color': '000000', 'profile_sidebar_fill_color': '000000', 'profile_text_color': '000000', 'profile_use_background_image': False, 'has_extended_profile': True, 'default_profile': False, 'default_profile_image': False, 'following': False, 'follow_request_sent': False, 'notifications': False, 'translator_type': 'none', 'withheld_in_countries': []}, id=67448037, id_str='67448037', name='Inosuke', screen_name='BrenoAIves', location='NY - New Yguaçu City', description='Flamengo / Química - UFRRJ / paiN Gaming', url=None, entities={'description': {'urls': []}}, protected=False, followers_count=567, friends_count=836, listed_count=3, created_at=datetime.datetime(2009, 8, 20, 22, 42, 51), favourites_count=101279, utc_offset=None, time_zone=None, geo_enabled=False, verified=False, statuses_count=89139, lang=None, contributors_enabled=False, is_translator=False, is_translation_enabled=False, profile_background_color='000000', profile_background_image_url='http://abs.twimg.com/images/themes/theme14/bg.gif', profile_background_image_url_https='https://abs.twimg.com/images/themes/theme14/bg.gif', profile_background_tile=False, profile_image_url='http://pbs.twimg.com/profile_images/1296635026432557056/Tcudfw7G_normal.jpg', profile_image_url_https='https://pbs.twimg.com/profile_images/1296635026432557056/Tcudfw7G_normal.jpg', profile_banner_url='https://pbs.twimg.com/profile_banners/67448037/1630194835', profile_link_color='ABB8C2', profile_sidebar_border_color='000000', profile_sidebar_fill_color='000000', profile_text_color='000000', profile_use_background_image=False, has_extended_profile=True, default_profile=False, default_profile_image=False, following=False, follow_request_sent=False, notifications=False, translator_type='none', withheld_in_countries=[]), user=User(_api=<tweepy.api.API object at 0x7fa72192ecd0>, _json={'id': 67448037, 'id_str': '67448037', 'name': 'Inosuke', 'screen_name': 'BrenoAIves', 'location': 'NY - New Yguaçu City', 'description': 'Flamengo / Química - UFRRJ / paiN Gaming', 'url': None, 'entities': {'description': {'urls': []}}, 'protected': False, 'followers_count': 567, 'friends_count': 836, 'listed_count': 3, 'created_at': 'Thu Aug 20 22:42:51 +0000 2009', 'favourites_count': 101279, 'utc_offset': None, 'time_zone': None, 'geo_enabled': False, 'verified': False, 'statuses_count': 89139, 'lang': None, 'contributors_enabled': False, 'is_translator': False, 'is_translation_enabled': False, 'profile_background_color': '000000', 'profile_background_image_url': 'http://abs.twimg.com/images/themes/theme14/bg.gif', 'profile_background_image_url_https': 'https://abs.twimg.com/images/themes/theme14/bg.gif', 'profile_background_tile': False, 'profile_image_url': 'http://pbs.twimg.com/profile_images/1296635026432557056/Tcudfw7G_normal.jpg', 'profile_image_url_https': 'https://pbs.twimg.com/profile_images/1296635026432557056/Tcudfw7G_normal.jpg', 'profile_banner_url': 'https://pbs.twimg.com/profile_banners/67448037/1630194835', 'profile_link_color': 'ABB8C2', 'profile_sidebar_border_color': '000000', 'profile_sidebar_fill_color': '000000', 'profile_text_color': '000000', 'profile_use_background_image': False, 'has_extended_profile': True, 'default_profile': False, 'default_profile_image': False, 'following': False, 'follow_request_sent': False, 'notifications': False, 'translator_type': 'none', 'withheld_in_countries': []}, id=67448037, id_str='67448037', name='Inosuke', screen_name='BrenoAIves', location='NY - New Yguaçu City', description='Flamengo / Química - UFRRJ / paiN Gaming', url=None, entities={'description': {'urls': []}}, protected=False, followers_count=567, friends_count=836, listed_count=3, created_at=datetime.datetime(2009, 8, 20, 22, 42, 51), favourites_count=101279, utc_offset=None, time_zone=None, geo_enabled=False, verified=False, statuses_count=89139, lang=None, contributors_enabled=False, is_translator=False, is_translation_enabled=False, profile_background_color='000000', profile_background_image_url='http://abs.twimg.com/images/themes/theme14/bg.gif', profile_background_image_url_https='https://abs.twimg.com/images/themes/theme14/bg.gif', profile_background_tile=False, profile_image_url='http://pbs.twimg.com/profile_images/1296635026432557056/Tcudfw7G_normal.jpg', profile_image_url_https='https://pbs.twimg.com/profile_images/1296635026432557056/Tcudfw7G_normal.jpg', profile_banner_url='https://pbs.twimg.com/profile_banners/67448037/1630194835', profile_link_color='ABB8C2', profile_sidebar_border_color='000000', profile_sidebar_fill_color='000000', profile_text_color='000000', profile_use_background_image=False, has_extended_profile=True, default_profile=False, default_profile_image=False, following=False, follow_request_sent=False, notifications=False, translator_type='none', withheld_in_countries=[]), geo=None, coordinates=None, place=None, contributors=None, is_quote_status=False, retweet_count=3580, favorite_count=13311, favorited=False, retweeted=False, lang='pt'), retweet_count=0, favorite_count=1, favorited=False, retweeted=False, possibly_sensitive=False, lang='pt'),\n",
              " Status(_api=<tweepy.api.API object at 0x7fa72192ecd0>, _json={'created_at': 'Tue Oct 05 22:27:11 +0000 2021', 'id': 1445515942688034827, 'id_str': '1445515942688034827', 'text': 'ESTAMOS AO VIVO\\n\\nO deputado federal Helder Salomão e o economista @MarcioPochmann professor da Unicamp e da UFABC,… https://t.co/06UkCiC7JF', 'truncated': True, 'entities': {'hashtags': [], 'symbols': [], 'user_mentions': [{'screen_name': 'MarcioPochmann', 'name': 'Marcio Pochmann', 'id': 342836049, 'id_str': '342836049', 'indices': [66, 81]}], 'urls': [{'url': 'https://t.co/06UkCiC7JF', 'expanded_url': 'https://twitter.com/i/web/status/1445515942688034827', 'display_url': 'twitter.com/i/web/status/1…', 'indices': [116, 139]}]}, 'metadata': {'iso_language_code': 'pt', 'result_type': 'recent'}, 'source': '<a href=\"http://twitter.com/download/android\" rel=\"nofollow\">Twitter for Android</a>', 'in_reply_to_status_id': None, 'in_reply_to_status_id_str': None, 'in_reply_to_user_id': None, 'in_reply_to_user_id_str': None, 'in_reply_to_screen_name': None, 'user': {'id': 80575628, 'id_str': '80575628', 'name': 'Helder Salomão', 'screen_name': 'heldersalomao', 'location': 'Cariacica-ES', 'description': 'Deputado Federal PT-ES, ex-prefeito de Cariacica, poeta e professor de filosofia.', 'url': 'https://t.co/fx3RHTHwiP', 'entities': {'url': {'urls': [{'url': 'https://t.co/fx3RHTHwiP', 'expanded_url': 'https://www.facebook.com/heldersalomaoES', 'display_url': 'facebook.com/heldersalomaoES', 'indices': [0, 23]}]}, 'description': {'urls': []}}, 'protected': False, 'followers_count': 75414, 'friends_count': 9075, 'listed_count': 300, 'created_at': 'Wed Oct 07 13:25:06 +0000 2009', 'favourites_count': 31285, 'utc_offset': None, 'time_zone': None, 'geo_enabled': False, 'verified': True, 'statuses_count': 22387, 'lang': None, 'contributors_enabled': False, 'is_translator': False, 'is_translation_enabled': False, 'profile_background_color': '131516', 'profile_background_image_url': 'http://abs.twimg.com/images/themes/theme14/bg.gif', 'profile_background_image_url_https': 'https://abs.twimg.com/images/themes/theme14/bg.gif', 'profile_background_tile': True, 'profile_image_url': 'http://pbs.twimg.com/profile_images/1190053205562007552/RIr1dK92_normal.jpg', 'profile_image_url_https': 'https://pbs.twimg.com/profile_images/1190053205562007552/RIr1dK92_normal.jpg', 'profile_banner_url': 'https://pbs.twimg.com/profile_banners/80575628/1617031023', 'profile_link_color': '009999', 'profile_sidebar_border_color': 'EEEEEE', 'profile_sidebar_fill_color': 'EFEFEF', 'profile_text_color': '333333', 'profile_use_background_image': True, 'has_extended_profile': True, 'default_profile': False, 'default_profile_image': False, 'following': False, 'follow_request_sent': False, 'notifications': False, 'translator_type': 'none', 'withheld_in_countries': []}, 'geo': None, 'coordinates': None, 'place': None, 'contributors': None, 'is_quote_status': False, 'retweet_count': 2, 'favorite_count': 15, 'favorited': False, 'retweeted': False, 'possibly_sensitive': False, 'lang': 'pt'}, created_at=datetime.datetime(2021, 10, 5, 22, 27, 11), id=1445515942688034827, id_str='1445515942688034827', text='ESTAMOS AO VIVO\\n\\nO deputado federal Helder Salomão e o economista @MarcioPochmann professor da Unicamp e da UFABC,… https://t.co/06UkCiC7JF', truncated=True, entities={'hashtags': [], 'symbols': [], 'user_mentions': [{'screen_name': 'MarcioPochmann', 'name': 'Marcio Pochmann', 'id': 342836049, 'id_str': '342836049', 'indices': [66, 81]}], 'urls': [{'url': 'https://t.co/06UkCiC7JF', 'expanded_url': 'https://twitter.com/i/web/status/1445515942688034827', 'display_url': 'twitter.com/i/web/status/1…', 'indices': [116, 139]}]}, metadata={'iso_language_code': 'pt', 'result_type': 'recent'}, source='Twitter for Android', source_url='http://twitter.com/download/android', in_reply_to_status_id=None, in_reply_to_status_id_str=None, in_reply_to_user_id=None, in_reply_to_user_id_str=None, in_reply_to_screen_name=None, author=User(_api=<tweepy.api.API object at 0x7fa72192ecd0>, _json={'id': 80575628, 'id_str': '80575628', 'name': 'Helder Salomão', 'screen_name': 'heldersalomao', 'location': 'Cariacica-ES', 'description': 'Deputado Federal PT-ES, ex-prefeito de Cariacica, poeta e professor de filosofia.', 'url': 'https://t.co/fx3RHTHwiP', 'entities': {'url': {'urls': [{'url': 'https://t.co/fx3RHTHwiP', 'expanded_url': 'https://www.facebook.com/heldersalomaoES', 'display_url': 'facebook.com/heldersalomaoES', 'indices': [0, 23]}]}, 'description': {'urls': []}}, 'protected': False, 'followers_count': 75414, 'friends_count': 9075, 'listed_count': 300, 'created_at': 'Wed Oct 07 13:25:06 +0000 2009', 'favourites_count': 31285, 'utc_offset': None, 'time_zone': None, 'geo_enabled': False, 'verified': True, 'statuses_count': 22387, 'lang': None, 'contributors_enabled': False, 'is_translator': False, 'is_translation_enabled': False, 'profile_background_color': '131516', 'profile_background_image_url': 'http://abs.twimg.com/images/themes/theme14/bg.gif', 'profile_background_image_url_https': 'https://abs.twimg.com/images/themes/theme14/bg.gif', 'profile_background_tile': True, 'profile_image_url': 'http://pbs.twimg.com/profile_images/1190053205562007552/RIr1dK92_normal.jpg', 'profile_image_url_https': 'https://pbs.twimg.com/profile_images/1190053205562007552/RIr1dK92_normal.jpg', 'profile_banner_url': 'https://pbs.twimg.com/profile_banners/80575628/1617031023', 'profile_link_color': '009999', 'profile_sidebar_border_color': 'EEEEEE', 'profile_sidebar_fill_color': 'EFEFEF', 'profile_text_color': '333333', 'profile_use_background_image': True, 'has_extended_profile': True, 'default_profile': False, 'default_profile_image': False, 'following': False, 'follow_request_sent': False, 'notifications': False, 'translator_type': 'none', 'withheld_in_countries': []}, id=80575628, id_str='80575628', name='Helder Salomão', screen_name='heldersalomao', location='Cariacica-ES', description='Deputado Federal PT-ES, ex-prefeito de Cariacica, poeta e professor de filosofia.', url='https://t.co/fx3RHTHwiP', entities={'url': {'urls': [{'url': 'https://t.co/fx3RHTHwiP', 'expanded_url': 'https://www.facebook.com/heldersalomaoES', 'display_url': 'facebook.com/heldersalomaoES', 'indices': [0, 23]}]}, 'description': {'urls': []}}, protected=False, followers_count=75414, friends_count=9075, listed_count=300, created_at=datetime.datetime(2009, 10, 7, 13, 25, 6), favourites_count=31285, utc_offset=None, time_zone=None, geo_enabled=False, verified=True, statuses_count=22387, lang=None, contributors_enabled=False, is_translator=False, is_translation_enabled=False, profile_background_color='131516', profile_background_image_url='http://abs.twimg.com/images/themes/theme14/bg.gif', profile_background_image_url_https='https://abs.twimg.com/images/themes/theme14/bg.gif', profile_background_tile=True, profile_image_url='http://pbs.twimg.com/profile_images/1190053205562007552/RIr1dK92_normal.jpg', profile_image_url_https='https://pbs.twimg.com/profile_images/1190053205562007552/RIr1dK92_normal.jpg', profile_banner_url='https://pbs.twimg.com/profile_banners/80575628/1617031023', profile_link_color='009999', profile_sidebar_border_color='EEEEEE', profile_sidebar_fill_color='EFEFEF', profile_text_color='333333', profile_use_background_image=True, has_extended_profile=True, default_profile=False, default_profile_image=False, following=False, follow_request_sent=False, notifications=False, translator_type='none', withheld_in_countries=[]), user=User(_api=<tweepy.api.API object at 0x7fa72192ecd0>, _json={'id': 80575628, 'id_str': '80575628', 'name': 'Helder Salomão', 'screen_name': 'heldersalomao', 'location': 'Cariacica-ES', 'description': 'Deputado Federal PT-ES, ex-prefeito de Cariacica, poeta e professor de filosofia.', 'url': 'https://t.co/fx3RHTHwiP', 'entities': {'url': {'urls': [{'url': 'https://t.co/fx3RHTHwiP', 'expanded_url': 'https://www.facebook.com/heldersalomaoES', 'display_url': 'facebook.com/heldersalomaoES', 'indices': [0, 23]}]}, 'description': {'urls': []}}, 'protected': False, 'followers_count': 75414, 'friends_count': 9075, 'listed_count': 300, 'created_at': 'Wed Oct 07 13:25:06 +0000 2009', 'favourites_count': 31285, 'utc_offset': None, 'time_zone': None, 'geo_enabled': False, 'verified': True, 'statuses_count': 22387, 'lang': None, 'contributors_enabled': False, 'is_translator': False, 'is_translation_enabled': False, 'profile_background_color': '131516', 'profile_background_image_url': 'http://abs.twimg.com/images/themes/theme14/bg.gif', 'profile_background_image_url_https': 'https://abs.twimg.com/images/themes/theme14/bg.gif', 'profile_background_tile': True, 'profile_image_url': 'http://pbs.twimg.com/profile_images/1190053205562007552/RIr1dK92_normal.jpg', 'profile_image_url_https': 'https://pbs.twimg.com/profile_images/1190053205562007552/RIr1dK92_normal.jpg', 'profile_banner_url': 'https://pbs.twimg.com/profile_banners/80575628/1617031023', 'profile_link_color': '009999', 'profile_sidebar_border_color': 'EEEEEE', 'profile_sidebar_fill_color': 'EFEFEF', 'profile_text_color': '333333', 'profile_use_background_image': True, 'has_extended_profile': True, 'default_profile': False, 'default_profile_image': False, 'following': False, 'follow_request_sent': False, 'notifications': False, 'translator_type': 'none', 'withheld_in_countries': []}, id=80575628, id_str='80575628', name='Helder Salomão', screen_name='heldersalomao', location='Cariacica-ES', description='Deputado Federal PT-ES, ex-prefeito de Cariacica, poeta e professor de filosofia.', url='https://t.co/fx3RHTHwiP', entities={'url': {'urls': [{'url': 'https://t.co/fx3RHTHwiP', 'expanded_url': 'https://www.facebook.com/heldersalomaoES', 'display_url': 'facebook.com/heldersalomaoES', 'indices': [0, 23]}]}, 'description': {'urls': []}}, protected=False, followers_count=75414, friends_count=9075, listed_count=300, created_at=datetime.datetime(2009, 10, 7, 13, 25, 6), favourites_count=31285, utc_offset=None, time_zone=None, geo_enabled=False, verified=True, statuses_count=22387, lang=None, contributors_enabled=False, is_translator=False, is_translation_enabled=False, profile_background_color='131516', profile_background_image_url='http://abs.twimg.com/images/themes/theme14/bg.gif', profile_background_image_url_https='https://abs.twimg.com/images/themes/theme14/bg.gif', profile_background_tile=True, profile_image_url='http://pbs.twimg.com/profile_images/1190053205562007552/RIr1dK92_normal.jpg', profile_image_url_https='https://pbs.twimg.com/profile_images/1190053205562007552/RIr1dK92_normal.jpg', profile_banner_url='https://pbs.twimg.com/profile_banners/80575628/1617031023', profile_link_color='009999', profile_sidebar_border_color='EEEEEE', profile_sidebar_fill_color='EFEFEF', profile_text_color='333333', profile_use_background_image=True, has_extended_profile=True, default_profile=False, default_profile_image=False, following=False, follow_request_sent=False, notifications=False, translator_type='none', withheld_in_countries=[]), geo=None, coordinates=None, place=None, contributors=None, is_quote_status=False, retweet_count=2, favorite_count=15, favorited=False, retweeted=False, possibly_sensitive=False, lang='pt')]"
            ]
          },
          "metadata": {},
          "execution_count": 15
        }
      ]
    },
    {
      "cell_type": "code",
      "metadata": {
        "colab": {
          "base_uri": "https://localhost:8080/"
        },
        "id": "nu5Bf5oqMgPy",
        "outputId": "4b525c54-2af5-4995-c412-3f811956319c"
      },
      "source": [
        "# Vendo os tweets resultado da query usando as chaves JSON\n",
        "for tweet in tweets:\n",
        "  print(f'Usuário: {tweet.user.name} - Tweet: {tweet.text}')"
      ],
      "execution_count": null,
      "outputs": [
        {
          "output_type": "stream",
          "name": "stdout",
          "text": [
            "Usuário: laure - Tweet: ainda bem q pra quem estuda na ufabc isso é normal https://t.co/KUX4IfkYsP\n",
            "Usuário: FanClub oficial da @Sabriquices - Tweet: @giovelani Fui ver essa lista aí e tô EM SHOCK em como a UFABC manda mto bem em Física, no Top 10 da UFABC tá praticamente só os carras\n",
            "Usuário: gabs| - Tweet: @_Bruque KAKSKSAH cê ia pra ufabc?\n",
            "Usuário: 👻Amora👻 - Tweet: MINHA NOSSA SENHORA COMO EU AMO A UFABC\n",
            "Usuário: Camis | 📖: RQ e Torre do Alvorecer - Tweet: @xheartbrekker Amg os prof da ufabc tão zero aí pra cola, pode ficar tranquila KKKAKSKAKDJ eles querem mais é ter o… https://t.co/c2cxfkHplQ\n",
            "Usuário: Laura - Tweet: Literalmente a ufabc https://t.co/JeBZ0GSyQg\n",
            "Usuário: gabs| - Tweet: não mas sério ufabc\n",
            "\n",
            "física quântica vai tomar no cu https://t.co/O0XUdZpIxV\n",
            "Usuário: Esquerda Diário - Tweet: UFABC | Homenagem aos terceirizados na UFABC sem igualdade salarial e direitos?\n",
            "\n",
            "https://t.co/WfeGX1khpw\n",
            "Usuário: batiam da silva ツ - Tweet: agora que ta bombando no tiktok esses video de que açucar não tira acidez do tomate CHEGOU O MEU MOMENTO. a minha m… https://t.co/0tLucZryKH\n",
            "Usuário: Henri - Tweet: bem vindos a ufabc https://t.co/YZizDvRvuc\n",
            "Usuário: Fofunista 🚩 - Tweet: RT @heldersalomao: ESTAMOS AO VIVO\n",
            "\n",
            "O deputado federal Helder Salomão e o economista @MarcioPochmann professor da Unicamp e da UFABC, conve…\n",
            "Usuário: Tainá Constância🦖 - Tweet: @SchwMatheus Ei, mas tem editora da universidade, acho que não cobram pra publicar. O @CoelhoPre publicou recente u… https://t.co/ol8XAhyNwc\n",
            "Usuário: Carminha Dias - Tweet: RT @heldersalomao: ESTAMOS AO VIVO\n",
            "\n",
            "O deputado federal Helder Salomão e o economista @MarcioPochmann professor da Unicamp e da UFABC, conve…\n",
            "Usuário: abi - Tweet: A ufabc tranquila com sistema quadrimestral sabendo que SEMPRE ENFIOU 3 SEMESTRES EM 11 MESES NO RABO DOS ALUNOS https://t.co/esr5MNLLQZ\n",
            "Usuário: Helder Salomão - Tweet: ESTAMOS AO VIVO\n",
            "\n",
            "O deputado federal Helder Salomão e o economista @MarcioPochmann professor da Unicamp e da UFABC,… https://t.co/06UkCiC7JF\n"
          ]
        }
      ]
    },
    {
      "cell_type": "code",
      "metadata": {
        "colab": {
          "base_uri": "https://localhost:8080/"
        },
        "id": "pLGllpakPADi",
        "outputId": "c0f3947e-eb7b-495c-ee93-718596064c09"
      },
      "source": [
        "# Também podemos ver alguns dados de uma conta\n",
        "user = api.get_user('SaoPauloFC')\n",
        "print(user.screen_name)"
      ],
      "execution_count": null,
      "outputs": [
        {
          "output_type": "stream",
          "name": "stdout",
          "text": [
            "SaoPauloFC\n"
          ]
        }
      ]
    },
    {
      "cell_type": "code",
      "metadata": {
        "colab": {
          "base_uri": "https://localhost:8080/"
        },
        "id": "-uZxDBnKPYn3",
        "outputId": "8d52e6d4-9131-4d40-cbc3-0653bea9a7cf"
      },
      "source": [
        "# Quais são os seguidores da conta\n",
        "i = 0\n",
        "for follower in user.followers():\n",
        "   print(follower.screen_name)"
      ],
      "execution_count": null,
      "outputs": [
        {
          "output_type": "stream",
          "name": "stdout",
          "text": [
            "AndenyMarks\n",
            "henriquedelbem1\n",
            "vitor_campoi\n",
            "newerson_\n",
            "biellnevida\n",
            "Lill_Vini_1704\n",
            "yass15moraeS\n",
            "Lzgod_spfc_ecb\n",
            "leo_lo80667188\n",
            "Singha23932515\n",
            "RafaelDellaPaz\n",
            "maquinhoshabib\n",
            "wellingtonh222\n",
            "GustavoGarcez20\n",
            "futney02\n",
            "MateusVarela8\n",
            "Gui51893197\n",
            "Gabriel48297553\n",
            "gimarquesmoura\n",
            "Guilher57589161\n"
          ]
        }
      ]
    },
    {
      "cell_type": "code",
      "metadata": {
        "colab": {
          "base_uri": "https://localhost:8080/"
        },
        "id": "_iPznLwlQJ4E",
        "outputId": "390632c9-a082-46b1-8de0-03b7daf74965"
      },
      "source": [
        "# Quantos seguidores a conta tem\n",
        "print(user.followers_count)"
      ],
      "execution_count": null,
      "outputs": [
        {
          "output_type": "stream",
          "name": "stdout",
          "text": [
            "4609027\n"
          ]
        }
      ]
    },
    {
      "cell_type": "code",
      "metadata": {
        "colab": {
          "base_uri": "https://localhost:8080/"
        },
        "id": "3dItAMkzP_BU",
        "outputId": "a749d050-3d3b-48e8-e941-98773941f8df"
      },
      "source": [
        "# Quais as contas que a conta segue\n",
        "for friend in user.friends():\n",
        "   print(friend.screen_name)"
      ],
      "execution_count": null,
      "outputs": [
        {
          "output_type": "stream",
          "name": "stdout",
          "text": [
            "CD_SaoPauloFC\n",
            "tricolorchip\n",
            "RokuBrasil\n",
            "abcdaconstrucao\n",
            "sportsbetiobr\n",
            "PrimeVideoBR\n",
            "Emirigoniok\n",
            "XandAviao\n",
            "GazinTeo\n",
            "SPFCBasquetebol\n",
            "BCLAmericas\n",
            "Alex10\n",
            "Edercitadin7\n",
            "GuiFera01\n",
            "NBB\n",
            "SaoPauloFCGG\n",
            "Crespo\n",
            "GilmarRinaldi\n",
            "juliocasares_SP\n",
            "passaportefcsp\n"
          ]
        }
      ]
    },
    {
      "cell_type": "code",
      "metadata": {
        "colab": {
          "base_uri": "https://localhost:8080/"
        },
        "id": "vL9QqCXKQemL",
        "outputId": "796005fd-133e-4af3-ae9e-864f68032e30"
      },
      "source": [
        "# Quantas contas a conta segue\n",
        "print(user.friends_count)"
      ],
      "execution_count": null,
      "outputs": [
        {
          "output_type": "stream",
          "name": "stdout",
          "text": [
            "74\n"
          ]
        }
      ]
    },
    {
      "cell_type": "markdown",
      "metadata": {
        "id": "z5fKFpD6Qi3U"
      },
      "source": [
        "Mais informações: http://docs.tweepy.org/en/latest/"
      ]
    },
    {
      "cell_type": "markdown",
      "metadata": {
        "id": "_93KdeF7Qmml"
      },
      "source": [
        "## 2. Coletando dados de um PDF"
      ]
    },
    {
      "cell_type": "code",
      "metadata": {
        "colab": {
          "base_uri": "https://localhost:8080/"
        },
        "id": "omiFUu6uQrud",
        "outputId": "65d7c11a-71ab-47b9-ed02-052acde5a9ae"
      },
      "source": [
        "# Intalando a biblioteca que será usada\n",
        "!pip install PyPDF2\n",
        "import PyPDF2"
      ],
      "execution_count": null,
      "outputs": [
        {
          "output_type": "stream",
          "name": "stdout",
          "text": [
            "Collecting PyPDF2\n",
            "  Downloading PyPDF2-1.26.0.tar.gz (77 kB)\n",
            "\u001b[?25l\r\u001b[K     |████▎                           | 10 kB 22.0 MB/s eta 0:00:01\r\u001b[K     |████████▌                       | 20 kB 28.0 MB/s eta 0:00:01\r\u001b[K     |████████████▊                   | 30 kB 21.5 MB/s eta 0:00:01\r\u001b[K     |█████████████████               | 40 kB 17.2 MB/s eta 0:00:01\r\u001b[K     |█████████████████████▏          | 51 kB 7.4 MB/s eta 0:00:01\r\u001b[K     |█████████████████████████▍      | 61 kB 8.5 MB/s eta 0:00:01\r\u001b[K     |█████████████████████████████▋  | 71 kB 8.2 MB/s eta 0:00:01\r\u001b[K     |████████████████████████████████| 77 kB 3.3 MB/s \n",
            "\u001b[?25hBuilding wheels for collected packages: PyPDF2\n",
            "  Building wheel for PyPDF2 (setup.py) ... \u001b[?25l\u001b[?25hdone\n",
            "  Created wheel for PyPDF2: filename=PyPDF2-1.26.0-py3-none-any.whl size=61101 sha256=fd14722e06c59de4b0328753f06915f24ca69e15b082a6605260b7048ff55157\n",
            "  Stored in directory: /root/.cache/pip/wheels/80/1a/24/648467ade3a77ed20f35cfd2badd32134e96dd25ca811e64b3\n",
            "Successfully built PyPDF2\n",
            "Installing collected packages: PyPDF2\n",
            "Successfully installed PyPDF2-1.26.0\n"
          ]
        }
      ]
    },
    {
      "cell_type": "code",
      "metadata": {
        "id": "NXTk7bu3RGa_"
      },
      "source": [
        "# Criando um objeto pdf\n",
        "pdf = open(\"/content/meetingminutes.pdf\",\"rb\")"
      ],
      "execution_count": null,
      "outputs": []
    },
    {
      "cell_type": "code",
      "metadata": {
        "id": "DPD5X03ZTCUH"
      },
      "source": [
        "# Criando um objeto leitor de PDF\n",
        "pdfReader = PyPDF2.PdfFileReader(pdf)"
      ],
      "execution_count": null,
      "outputs": []
    },
    {
      "cell_type": "code",
      "metadata": {
        "colab": {
          "base_uri": "https://localhost:8080/"
        },
        "id": "ZGkhkaitTJ0p",
        "outputId": "31c3cf49-5a0b-4901-d2c1-d2e0ca09414c"
      },
      "source": [
        "# Verificando quantas páginas o pdf tem\n",
        "print(pdfReader.numPages)"
      ],
      "execution_count": null,
      "outputs": [
        {
          "output_type": "stream",
          "name": "stdout",
          "text": [
            "19\n"
          ]
        }
      ]
    },
    {
      "cell_type": "code",
      "metadata": {
        "colab": {
          "base_uri": "https://localhost:8080/"
        },
        "id": "VQS08PiQTOS5",
        "outputId": "d65a3af3-fdbd-43c3-8d4b-3726d895ea74"
      },
      "source": [
        "# Criando um objeto página e verificando seu contéudo\n",
        "page = pdfReader.getPage(0)\n",
        "print(page.extractText())"
      ],
      "execution_count": null,
      "outputs": [
        {
          "output_type": "stream",
          "name": "stdout",
          "text": [
            "OOFFFFIICCIIAALL  BBOOAARRDD  MMIINNUUTTEESS   Meeting of \n",
            "March 7\n",
            ", 2014\n",
            "        \n",
            "     The Board of Elementary and Secondary Education shall provide leadership and \n",
            "create policies for education that expand opportunities for children, empower \n",
            "families and communities, and advance Louisiana in an increasingly \n",
            "competitive glob\n",
            "al market.\n",
            " BOARD \n",
            " of ELEMENTARY\n",
            " and \n",
            " SECONDARY\n",
            " EDUCATION\n",
            "  \n"
          ]
        }
      ]
    },
    {
      "cell_type": "code",
      "metadata": {
        "id": "Scca8igfTTaz"
      },
      "source": [
        "# Fechando o pdf\n",
        "pdf.close()"
      ],
      "execution_count": null,
      "outputs": []
    },
    {
      "cell_type": "markdown",
      "metadata": {
        "id": "THlOsP0bTmKw"
      },
      "source": [
        "A extração feita dessa forma não é eficiente, pois PDFs são arquivos complicados, por isso temos um notebook só sobre extração de arquivos PDF."
      ]
    },
    {
      "cell_type": "markdown",
      "metadata": {
        "id": "1YwpYRF6TdAL"
      },
      "source": [
        "## 3. Coletando dados de um documento word"
      ]
    },
    {
      "cell_type": "code",
      "metadata": {
        "colab": {
          "base_uri": "https://localhost:8080/"
        },
        "id": "shPizZDtTgwy",
        "outputId": "19ef5528-afe6-4767-c61d-c654f1720f02"
      },
      "source": [
        "# Instalando a biblioteca usada\n",
        "!pip install python-docx"
      ],
      "execution_count": null,
      "outputs": [
        {
          "output_type": "stream",
          "name": "stdout",
          "text": [
            "Collecting python-docx\n",
            "  Downloading python-docx-0.8.11.tar.gz (5.6 MB)\n",
            "\u001b[K     |████████████████████████████████| 5.6 MB 2.8 MB/s \n",
            "\u001b[?25hRequirement already satisfied: lxml>=2.3.2 in /usr/local/lib/python3.7/dist-packages (from python-docx) (4.2.6)\n",
            "Building wheels for collected packages: python-docx\n",
            "  Building wheel for python-docx (setup.py) ... \u001b[?25l\u001b[?25hdone\n",
            "  Created wheel for python-docx: filename=python_docx-0.8.11-py3-none-any.whl size=184508 sha256=d603b5da4ccdb66f6ffe87309feee06df84d3ebce483507de0858b056a5dcf3f\n",
            "  Stored in directory: /root/.cache/pip/wheels/f6/6f/b9/d798122a8b55b74ad30b5f52b01482169b445fbb84a11797a6\n",
            "Successfully built python-docx\n",
            "Installing collected packages: python-docx\n",
            "Successfully installed python-docx-0.8.11\n"
          ]
        }
      ]
    },
    {
      "cell_type": "code",
      "metadata": {
        "id": "K550OaeeT1Co"
      },
      "source": [
        "# Importando a biblioteca usada\n",
        "import docx"
      ],
      "execution_count": null,
      "outputs": []
    },
    {
      "cell_type": "code",
      "metadata": {
        "id": "Ql4cHqFGT_ZY"
      },
      "source": [
        "# Criando leitos de documento docx\n",
        "doc = docx.Document('/content/demo.docx')"
      ],
      "execution_count": null,
      "outputs": []
    },
    {
      "cell_type": "code",
      "metadata": {
        "colab": {
          "base_uri": "https://localhost:8080/"
        },
        "id": "05VFw3H-UDZB",
        "outputId": "ea640f7d-a9fa-4109-966a-82444f439406"
      },
      "source": [
        "# Verificando quantos parágrafos o documento tem\n",
        "len(doc.paragraphs)"
      ],
      "execution_count": null,
      "outputs": [
        {
          "output_type": "execute_result",
          "data": {
            "text/plain": [
              "7"
            ]
          },
          "metadata": {},
          "execution_count": 6
        }
      ]
    },
    {
      "cell_type": "code",
      "metadata": {
        "colab": {
          "base_uri": "https://localhost:8080/",
          "height": 36
        },
        "id": "KkQP2rR1Uz7C",
        "outputId": "17f27e68-d6f3-45c6-8ea9-006696021bca"
      },
      "source": [
        "# Obtendo o texto do primeiro parágrafo do documento\n",
        "doc.paragraphs[0].text"
      ],
      "execution_count": null,
      "outputs": [
        {
          "output_type": "execute_result",
          "data": {
            "application/vnd.google.colaboratory.intrinsic+json": {
              "type": "string"
            },
            "text/plain": [
              "'Document Title'"
            ]
          },
          "metadata": {},
          "execution_count": 7
        }
      ]
    },
    {
      "cell_type": "code",
      "metadata": {
        "colab": {
          "base_uri": "https://localhost:8080/"
        },
        "id": "ozOnfO5fU6dM",
        "outputId": "8954d360-25f6-4516-cd77-9be3765b114b"
      },
      "source": [
        "# Em textos word existem marcadores para identificar partes de um texto, como o que está em negrito, por exemplo\n",
        "# Esses trechos demarcados especialmente separam o texto em partes, o que cria diferentes partes\n",
        "# Cada parte de um texto é chamada pela biblioteca de run, sendo que um parágrafo possui uma ou mais runs\n",
        "# Runs nada mais são do que os types do texto\n",
        "# Vamos ver quantas runs o parágrafo 1 tem\n",
        "len(doc.paragraphs[1].runs)"
      ],
      "execution_count": null,
      "outputs": [
        {
          "output_type": "execute_result",
          "data": {
            "text/plain": [
              "5"
            ]
          },
          "metadata": {},
          "execution_count": 8
        }
      ]
    },
    {
      "cell_type": "code",
      "metadata": {
        "colab": {
          "base_uri": "https://localhost:8080/"
        },
        "id": "hMwQBUK5WMyM",
        "outputId": "920920b4-7738-420b-abdb-cb5b5b5c3953"
      },
      "source": [
        "# Podemos ainda ver em detalhe cada run\n",
        "for run in doc.paragraphs[1].runs:\n",
        "  print(run.text)"
      ],
      "execution_count": null,
      "outputs": [
        {
          "output_type": "stream",
          "name": "stdout",
          "text": [
            "A plain paragraph with\n",
            " some \n",
            "bold\n",
            " and some \n",
            "italic\n"
          ]
        }
      ]
    },
    {
      "cell_type": "code",
      "metadata": {
        "colab": {
          "base_uri": "https://localhost:8080/"
        },
        "id": "uV2KPl0XWeJ_",
        "outputId": "e87368c1-17c5-42dd-ada1-7165d192f34d"
      },
      "source": [
        "# A seguinte função percorre todos os parágrafos do nosso documento docx e adiciona seu conteúdo a uma variável\n",
        "def get_text(filename):\n",
        "   doc = docx.Document(filename)\n",
        "   fullText = []\n",
        "   for para in doc.paragraphs:\n",
        "      fullText.append(para.text)\n",
        "   return '\\n'.join(fullText)\n",
        "print(get_text('/content/demo.docx'))"
      ],
      "execution_count": null,
      "outputs": [
        {
          "output_type": "stream",
          "name": "stdout",
          "text": [
            "Document Title\n",
            "A plain paragraph with some bold and some italic\n",
            "Heading, level 1\n",
            "Intense quote\n",
            "first item in unordered list\n",
            "first item in ordered list\n",
            "\n",
            "\n"
          ]
        }
      ]
    },
    {
      "cell_type": "markdown",
      "metadata": {
        "id": "0CJWCeM4drlw"
      },
      "source": [
        "## 4. Criando um documento word"
      ]
    },
    {
      "cell_type": "code",
      "metadata": {
        "id": "1IH2Nq8GQuYL"
      },
      "source": [
        "# Importando as dependências necessárias da biblioteca docx\n",
        "from docx import Document\n",
        "from docx.shared import Inches"
      ],
      "execution_count": null,
      "outputs": []
    },
    {
      "cell_type": "code",
      "metadata": {
        "id": "K-wTF0j_fJuk"
      },
      "source": [
        "# Criando objeto documento\n",
        "documento = Document()"
      ],
      "execution_count": null,
      "outputs": []
    },
    {
      "cell_type": "code",
      "metadata": {
        "colab": {
          "base_uri": "https://localhost:8080/"
        },
        "id": "Nf8h0HurfRpj",
        "outputId": "f71f5716-c2cd-46d9-a226-0e6c7d782be5"
      },
      "source": [
        "# Adicionado título ao documento\n",
        "documento.add_heading('Título do documento')"
      ],
      "execution_count": null,
      "outputs": [
        {
          "output_type": "execute_result",
          "data": {
            "text/plain": [
              "<docx.text.paragraph.Paragraph at 0x7f5ee56489d0>"
            ]
          },
          "metadata": {},
          "execution_count": 13
        }
      ]
    },
    {
      "cell_type": "code",
      "metadata": {
        "id": "WxPjjBNHfbPB"
      },
      "source": [
        "# Adicionando um parágrafo ao documento\n",
        "p = documento.add_paragraph(\"Um parágrafo que contém algo em\")\n",
        "# Adicionando texto em negrito\n",
        "p.add_run(' negrito ').bold = True\n",
        "# Adicionando contéudo no parágrafo\n",
        "p.add_run('e em')\n",
        "# Adicionando texto em itálico\n",
        "p.add_run('itálico').italic = True\n",
        "# Lembrando que as unidades de texto no docx são as runs"
      ],
      "execution_count": null,
      "outputs": []
    },
    {
      "cell_type": "code",
      "metadata": {
        "colab": {
          "base_uri": "https://localhost:8080/"
        },
        "id": "bEqpYdB-gUSs",
        "outputId": "a8a04786-ed64-4a64-ac29-e39bd314d938"
      },
      "source": [
        "# Adicionando listas\n",
        "\n",
        "# Adicionando lista de tópicos\n",
        "documento.add_paragraph('Primeiro item', style='List Bullet')\n",
        "\n",
        "# Adicionando lista enumerada\n",
        "documento.add_paragraph('Primeiro item', style='List Number')"
      ],
      "execution_count": null,
      "outputs": [
        {
          "output_type": "execute_result",
          "data": {
            "text/plain": [
              "<docx.text.paragraph.Paragraph at 0x7f5ee56b8e10>"
            ]
          },
          "metadata": {},
          "execution_count": 16
        }
      ]
    },
    {
      "cell_type": "code",
      "metadata": {
        "colab": {
          "base_uri": "https://localhost:8080/"
        },
        "id": "WeHb4Au1uDqh",
        "outputId": "2b27544a-2403-445e-8559-137819bae1f9"
      },
      "source": [
        "# Adicionando uma imagem ao nosso documento\n",
        "documento.add_picture('/content/zophie.png', width=Inches(1.25))"
      ],
      "execution_count": null,
      "outputs": [
        {
          "output_type": "execute_result",
          "data": {
            "text/plain": [
              "<docx.shape.InlineShape at 0x7f5ee56efd10>"
            ]
          },
          "metadata": {},
          "execution_count": 17
        }
      ]
    },
    {
      "cell_type": "code",
      "metadata": {
        "id": "T06UqIvnucXK"
      },
      "source": [
        "# Adicionando uma tabela\n",
        "\n",
        "# Valores da tabela\n",
        "valores = (\n",
        "    (3, '101', 'Presunto'),\n",
        "    (7, '422', 'Ovos'),\n",
        "    (4, '631', 'Presunto, presunto, ovos e presunto')\n",
        ")\n",
        "\n",
        "# Definindo estrutura da tabela\n",
        "tabela = documento.add_table(rows=1, cols=3)\n",
        "celulas = tabela.rows[0].cells\n",
        "celulas[0].text = 'Qntd'\n",
        "celulas[1].text = 'ID'\n",
        "celulas[2].text = 'Prod'\n",
        "\n",
        "# Adicionando os valores das outras linhas\n",
        "for qntd, id, prod in valores:\n",
        "    linha_celula = tabela.add_row().cells\n",
        "    linha_celula[0].text = str(qntd)\n",
        "    linha_celula[1].text = id\n",
        "    linha_celula[2].text = prod"
      ],
      "execution_count": null,
      "outputs": []
    },
    {
      "cell_type": "code",
      "metadata": {
        "colab": {
          "base_uri": "https://localhost:8080/"
        },
        "id": "7hXL7usWv1ej",
        "outputId": "2bb18560-845d-49d0-9828-319a58fc5fdd"
      },
      "source": [
        "# Indo para a próxima página\n",
        "documento.add_page_break()"
      ],
      "execution_count": null,
      "outputs": [
        {
          "output_type": "execute_result",
          "data": {
            "text/plain": [
              "<docx.text.paragraph.Paragraph at 0x7f5ee55f2090>"
            ]
          },
          "metadata": {},
          "execution_count": 20
        }
      ]
    },
    {
      "cell_type": "code",
      "metadata": {
        "id": "n3ZwgBagwU7z"
      },
      "source": [
        "# Fechando e salvando o objeto documento como um docx\n",
        "documento.save('/content/demo2.docx')"
      ],
      "execution_count": null,
      "outputs": []
    },
    {
      "cell_type": "markdown",
      "metadata": {
        "id": "6ehX1EIPwmhC"
      },
      "source": [
        "## 5. Coletando dados no formato JSON"
      ]
    },
    {
      "cell_type": "code",
      "metadata": {
        "id": "cMXWTOkRwvrU"
      },
      "source": [
        "# Importando bibliotecas\n",
        "import requests\n",
        "import json"
      ],
      "execution_count": null,
      "outputs": []
    },
    {
      "cell_type": "code",
      "metadata": {
        "id": "RWUkfxyqx9Mo"
      },
      "source": [
        "# Usando a requests para requisitar um json com uma fala\n",
        "r = requests.get(\"https://quotes.rest/qod.json\")\n",
        "resposta = r.json()"
      ],
      "execution_count": null,
      "outputs": []
    },
    {
      "cell_type": "code",
      "metadata": {
        "colab": {
          "base_uri": "https://localhost:8080/"
        },
        "id": "rjLaPFmTyVC-",
        "outputId": "b98fc53c-2ef9-4631-b6ca-961a32285b8f"
      },
      "source": [
        "# Vamos usar biblioteca json para printar o json de maneira identada\n",
        "print(json.dumps(resposta, indent = 3))"
      ],
      "execution_count": null,
      "outputs": [
        {
          "output_type": "stream",
          "name": "stdout",
          "text": [
            "{\n",
            "   \"success\": {\n",
            "      \"total\": 1\n",
            "   },\n",
            "   \"contents\": {\n",
            "      \"quotes\": [\n",
            "         {\n",
            "            \"quote\": \"Vision without action is daydream. Action without vision is nightmare..\",\n",
            "            \"length\": \"73\",\n",
            "            \"author\": \"Japanese Proverb\",\n",
            "            \"tags\": {\n",
            "               \"0\": \"action\",\n",
            "               \"1\": \"inspire\",\n",
            "               \"3\": \"vision\"\n",
            "            },\n",
            "            \"category\": \"inspire\",\n",
            "            \"language\": \"en\",\n",
            "            \"date\": \"2021-10-09\",\n",
            "            \"permalink\": \"https://theysaidso.com/quote/japanese-proverb-vision-without-action-is-daydream-action-without-vision-is-nigh\",\n",
            "            \"id\": \"1frNkKmnuhbKYO4OyURZyQeF\",\n",
            "            \"background\": \"https://theysaidso.com/img/qod/qod-inspire.jpg\",\n",
            "            \"title\": \"Inspiring Quote of the day\"\n",
            "         }\n",
            "      ]\n",
            "   },\n",
            "   \"baseurl\": \"https://theysaidso.com\",\n",
            "   \"copyright\": {\n",
            "      \"year\": 2023,\n",
            "      \"url\": \"https://theysaidso.com\"\n",
            "   }\n",
            "}\n"
          ]
        }
      ]
    },
    {
      "cell_type": "code",
      "metadata": {
        "colab": {
          "base_uri": "https://localhost:8080/"
        },
        "id": "2EHQXUYEyt6o",
        "outputId": "a69207b9-7724-463a-d44b-0e27f622b2cf"
      },
      "source": [
        "# Vamos extrair somente a parte com conteúdo de interesse do json\n",
        "q = resposta['contents']['quotes']\n",
        "q"
      ],
      "execution_count": null,
      "outputs": [
        {
          "output_type": "execute_result",
          "data": {
            "text/plain": [
              "[{'author': 'Japanese Proverb',\n",
              "  'background': 'https://theysaidso.com/img/qod/qod-inspire.jpg',\n",
              "  'category': 'inspire',\n",
              "  'date': '2021-10-09',\n",
              "  'id': '1frNkKmnuhbKYO4OyURZyQeF',\n",
              "  'language': 'en',\n",
              "  'length': '73',\n",
              "  'permalink': 'https://theysaidso.com/quote/japanese-proverb-vision-without-action-is-daydream-action-without-vision-is-nigh',\n",
              "  'quote': 'Vision without action is daydream. Action without vision is nightmare..',\n",
              "  'tags': {'0': 'action', '1': 'inspire', '3': 'vision'},\n",
              "  'title': 'Inspiring Quote of the day'}]"
            ]
          },
          "metadata": {},
          "execution_count": 35
        }
      ]
    },
    {
      "cell_type": "code",
      "metadata": {
        "colab": {
          "base_uri": "https://localhost:8080/"
        },
        "id": "D_lLaug_zOmy",
        "outputId": "c926b7a2-1190-4ee0-c074-9073f8682935"
      },
      "source": [
        "# Vamos extrair somente a fala da parte com conteúdo\n",
        "print(q[0]['quote'], '\\n--', q[0]['author'])"
      ],
      "execution_count": null,
      "outputs": [
        {
          "output_type": "stream",
          "name": "stdout",
          "text": [
            "Vision without action is daydream. Action without vision is nightmare.. \n",
            "-- Japanese Proverb\n"
          ]
        }
      ]
    },
    {
      "cell_type": "markdown",
      "metadata": {
        "id": "0jwBjKrPzfs5"
      },
      "source": [
        "## 6. Coletando dados a partir de páginas HTML"
      ]
    },
    {
      "cell_type": "code",
      "metadata": {
        "colab": {
          "base_uri": "https://localhost:8080/"
        },
        "id": "M_kprhPhzjN0",
        "outputId": "2afaaee2-d419-4b3a-8a19-054a1087f79f"
      },
      "source": [
        "# Vamos começar instalando e importando a biblioteca beautifulsoup\n",
        "!pip install bs4\n",
        "import urllib.request as urllib2 \n",
        "from bs4 import BeautifulSoup"
      ],
      "execution_count": null,
      "outputs": [
        {
          "output_type": "stream",
          "name": "stdout",
          "text": [
            "Requirement already satisfied: bs4 in /usr/local/lib/python3.7/dist-packages (0.0.1)\n",
            "Requirement already satisfied: beautifulsoup4 in /usr/local/lib/python3.7/dist-packages (from bs4) (4.6.3)\n"
          ]
        }
      ]
    },
    {
      "cell_type": "code",
      "metadata": {
        "id": "NmjKSpRj0aaQ"
      },
      "source": [
        "# Vamos salvar a resposta de call numa determinada url\n",
        "resposta = urllib2.urlopen('https://en.wikipedia.org/wiki/Natural_language_processing')\n",
        "# Agora, vamos salvar o html dessa página em uma variável\n",
        "html = resposta.read()"
      ],
      "execution_count": null,
      "outputs": []
    },
    {
      "cell_type": "code",
      "metadata": {
        "id": "gPoe8SrN0tCP"
      },
      "source": [
        "# Vamos parsear o html\n",
        "soup = BeautifulSoup(html, \"html.parser\")"
      ],
      "execution_count": null,
      "outputs": []
    },
    {
      "cell_type": "code",
      "metadata": {
        "id": "xt95HQvg06o9"
      },
      "source": [
        "# Formatando o html parseado\n",
        "soup_format = soup.prettify()"
      ],
      "execution_count": null,
      "outputs": []
    },
    {
      "cell_type": "code",
      "metadata": {
        "colab": {
          "base_uri": "https://localhost:8080/"
        },
        "id": "GH6QnmvD1HSX",
        "outputId": "a573be7e-f3a8-48ea-e62c-c02754b2d7d2"
      },
      "source": [
        "# Dando uma olhada em alguns caracteres do html parseado e formatado\n",
        "print (soup_format[:99])"
      ],
      "execution_count": null,
      "outputs": [
        {
          "output_type": "stream",
          "name": "stdout",
          "text": [
            "<!DOCTYPE html>\n",
            "<html class=\"client-nojs\" dir=\"ltr\" lang=\"en\">\n",
            " <head>\n",
            "  <meta charset=\"utf-8\"/>\n",
            "  \n"
          ]
        }
      ]
    },
    {
      "cell_type": "code",
      "metadata": {
        "colab": {
          "base_uri": "https://localhost:8080/"
        },
        "id": "5Ere3pTD1T4R",
        "outputId": "86f0d71a-53a8-4f72-d38f-cba34be2591c"
      },
      "source": [
        "# Vendo alguns valores nos baseando em tags\n",
        "print(soup.title)\n",
        "print(soup.title.string)\n",
        "print(soup.a.string)\n",
        "print(soup.b.string)"
      ],
      "execution_count": null,
      "outputs": [
        {
          "output_type": "stream",
          "name": "stdout",
          "text": [
            "<title>Natural language processing - Wikipedia</title>\n",
            "Natural language processing - Wikipedia\n",
            "None\n",
            "Natural language processing\n"
          ]
        }
      ]
    },
    {
      "cell_type": "code",
      "metadata": {
        "id": "2cNoPrb01izm"
      },
      "source": [
        "# Extraindo todas as instâncias de uma determinada tag\n",
        "for x in soup.find_all('a'): \n",
        "  print(x.string)"
      ],
      "execution_count": null,
      "outputs": []
    },
    {
      "cell_type": "code",
      "metadata": {
        "id": "UW8I0TET2ICY"
      },
      "source": [
        "# Agora vamos ver todo o texto de uma determinada tag\n",
        "for x in soup.find_all('p'): \n",
        "  print(x.text)"
      ],
      "execution_count": null,
      "outputs": []
    },
    {
      "cell_type": "markdown",
      "metadata": {
        "id": "UvNCUzQG2WBg"
      },
      "source": [
        "## 7. Análise de texto usando RegEx"
      ]
    },
    {
      "cell_type": "code",
      "metadata": {
        "id": "lQMiKJbR2h-m"
      },
      "source": [
        "# Importando a libraria de regex\n",
        "import re"
      ],
      "execution_count": null,
      "outputs": []
    },
    {
      "cell_type": "code",
      "metadata": {
        "colab": {
          "base_uri": "https://localhost:8080/"
        },
        "id": "kDPDOASp2rtd",
        "outputId": "6057ce29-f792-410e-b46d-a9ec99fb5527"
      },
      "source": [
        "# Dividindo um texto usando regex\n",
        "re.split('\\s+','I like this book.')"
      ],
      "execution_count": null,
      "outputs": [
        {
          "output_type": "execute_result",
          "data": {
            "text/plain": [
              "['I', 'like', 'this', 'book.']"
            ]
          },
          "metadata": {},
          "execution_count": 52
        }
      ]
    },
    {
      "cell_type": "code",
      "metadata": {
        "colab": {
          "base_uri": "https://localhost:8080/"
        },
        "id": "6FbwckqB2yYg",
        "outputId": "f3fbc913-4e90-46d6-d32f-3c1d2883196e"
      },
      "source": [
        "# Extraindo emails seguindo um formato\n",
        "texto = \"For more details please mail us at: xyz@abc.com, pqr@mno.com\"\n",
        "ends_email = re.findall(r'[\\w\\.]+@[\\w+]+\\.com', texto)\n",
        "print(ends_email)"
      ],
      "execution_count": null,
      "outputs": [
        {
          "output_type": "stream",
          "name": "stdout",
          "text": [
            "['xyz@abc.com', 'pqr@mno.com']\n"
          ]
        }
      ]
    },
    {
      "cell_type": "code",
      "metadata": {
        "colab": {
          "base_uri": "https://localhost:8080/"
        },
        "id": "uzMXQwFS4UEc",
        "outputId": "f0adfb5a-a79b-4b81-df65-b80e5f10dae5"
      },
      "source": [
        "# Substituindo um email pelo outro\n",
        "texto = \"For more details please mail us at xyz@abc.com\"\n",
        "novo_email = re.sub(r'[\\w\\.]+@[\\w+]+\\.com', r'pqr@mno.com', texto)\n",
        "print(novo_email)"
      ],
      "execution_count": null,
      "outputs": [
        {
          "output_type": "stream",
          "name": "stdout",
          "text": [
            "For more details please mail us at pqr@mno.com\n"
          ]
        }
      ]
    },
    {
      "cell_type": "markdown",
      "metadata": {
        "id": "gpABtBlG5RYo"
      },
      "source": [
        "### 7.1 Processamento de texto com RegEx"
      ]
    },
    {
      "cell_type": "markdown",
      "metadata": {
        "id": "RelaQBcQ5b7x"
      },
      "source": [
        "Vamos agora tratar um longo texto de um livro.\n",
        "O texto vai ser obtido através de request.\n",
        "Acesse o seguinte site para entender os próximos passos: https://www.gutenberg.org/files/2638/2638-0.txt"
      ]
    },
    {
      "cell_type": "code",
      "metadata": {
        "id": "GEfsKTZu4UJo"
      },
      "source": [
        "# Importando bibliotecas\n",
        "import re\n",
        "import requests"
      ],
      "execution_count": null,
      "outputs": []
    },
    {
      "cell_type": "code",
      "metadata": {
        "id": "j_BZV6cV5mWs"
      },
      "source": [
        "# Definindo url para request\n",
        "url = 'https://www.gutenberg.org/files/2638/2638-0.txt'"
      ],
      "execution_count": null,
      "outputs": []
    },
    {
      "cell_type": "code",
      "metadata": {
        "id": "j388_TZV5pTA"
      },
      "source": [
        "# Função que vai obter o contéudo que desejamos do livro\n",
        "# A função vai realizar o request em si\n",
        "# Em seguida a função vai filtrar o request\n",
        "def obter_livro(url):\n",
        "  # Primeiro realizamos o request\n",
        "  raw = requests.get(url).text\n",
        "  # Vamos descartar os metadados do início e do fim do texto\n",
        "  # Para fazer isso vamos pegar a posição que queremos começar e a posição que queremos parar\n",
        "  comeco = re.search(r\"\\*\\*\\* START OF THE PROJECT GUTENBERG EBOOK .* \\*\\*\\*\",raw ).end()\n",
        "  fim = re.search(r\"II\\.\", raw).start()\n",
        "  # Agora só vamos pegar o contéudo entre as posições desejadas\n",
        "  texto = raw[comeco:fim]\n",
        "  return texto"
      ],
      "execution_count": null,
      "outputs": []
    },
    {
      "cell_type": "code",
      "metadata": {
        "id": "9JJvXqem7ALz"
      },
      "source": [
        "# Função que vai realizar nosso pré-processamento do texto\n",
        "# Consiste em:\n",
        "#   colocar todas as letras em minúsculo, \n",
        "#   retirar caracteres especiais e substituir por espaço\n",
        "def preprocessamento(texto):\n",
        "  return re.sub(r'[^A-Za-z0-9.]+', ' ', texto).lower()"
      ],
      "execution_count": null,
      "outputs": []
    },
    {
      "cell_type": "code",
      "metadata": {
        "colab": {
          "base_uri": "https://localhost:8080/",
          "height": 256
        },
        "id": "H7Wp-47n9DLq",
        "outputId": "df265915-6184-498c-a4eb-b78899d7ef59"
      },
      "source": [
        "# Chamando as funções criadas\n",
        "livro = obter_livro(url)\n",
        "livro_processado = preprocessamento(livro)\n",
        "livro_processado"
      ],
      "execution_count": null,
      "outputs": [
        {
          "output_type": "execute_result",
          "data": {
            "application/vnd.google.colaboratory.intrinsic+json": {
              "type": "string"
            },
            "text/plain": [
              "' the idiot by fyodor dostoyevsky translated by eva martin contents part i part ii part iii part iv part i i. towards the end of november during a thaw at nine o clock one morning a train on the warsaw and petersburg railway was approaching the latter city at full speed. the morning was so damp and misty that it was only with great difficulty that the day succeeded in breaking and it was impossible to distinguish anything more than a few yards away from the carriage windows. some of the passengers by this particular train were returning from abroad but the third class carriages were the best filled chiefly with insignificant persons of various occupations and degrees picked up at the different stations nearer town. all of them seemed weary and most of them had sleepy eyes and a shivering expression while their complexions generally appeared to have taken on the colour of the fog outside. when day dawned two passengers in one of the third class carriages found themselves opposite each other. both were young fellows both were rather poorly dressed both had remarkable faces and both were evidently anxious to start a conversation. if they had but known why at this particular moment they were both remarkable persons they would undoubtedly have wondered at the strange chance which had set them down opposite to one another in a third class carriage of the warsaw railway company. one of them was a young fellow of about twenty seven not tall with black curling hair and small grey fiery eyes. his nose was broad and flat and he had high cheek bones his thin lips were constantly compressed into an impudent ironical it might almost be called a malicious smile but his forehead was high and well formed and atoned for a good deal of the ugliness of the lower part of his face. a special feature of this physiognomy was its death like pallor which gave to the whole man an indescribably emaciated appearance in spite of his hard look and at the same time a sort of passionate and suffering expression which did not harmonize with his impudent sarcastic smile and keen self satisfied bearing. he wore a large fur or rather astrachan overcoat which had kept him warm all night while his neighbour had been obliged to bear the full severity of a russian november night entirely unprepared. his wide sleeveless mantle with a large cape to it the sort of cloak one sees upon travellers during the winter months in switzerland or north italy was by no means adapted to the long cold journey through russia from eydkuhnen to st. petersburg. the wearer of this cloak was a young fellow also of about twenty six or twenty seven years of age slightly above the middle height very fair with a thin pointed and very light coloured beard his eyes were large and blue and had an intent look about them yet that heavy expression which some people affirm to be a peculiarity as well as evidence of an epileptic subject. his face was decidedly a pleasant one for all that refined but quite colourless except for the circumstance that at this moment it was blue with cold. he held a bundle made up of an old faded silk handkerchief that apparently contained all his travelling wardrobe and wore thick shoes and gaiters his whole appearance being very un russian. his black haired neighbour inspected these peculiarities having nothing better to do and at length remarked with that rude enjoyment of the discomforts of others which the common classes so often show cold very said his neighbour readily and this is a thaw too. fancy if it had been a hard frost i never thought it would be so cold in the old country. i ve grown quite out of the way of it. what been abroad i suppose yes straight from switzerland. wheugh my goodness the black haired young fellow whistled and then laughed. the conversation proceeded. the readiness of the fair haired young man in the cloak to answer all his opposite neighbour s questions was surprising. he seemed to have no suspicion of any impertinence or inappropriateness in the fact of such questions being put to him. replying to them he made known to the inquirer that he certainly had been long absent from russia more than four years that he had been sent abroad for his health that he had suffered from some strange nervous malady a kind of epilepsy with convulsive spasms. his interlocutor burst out laughing several times at his answers and more than ever when to the question whether he had been cured the patient replied no they did not cure me. hey that s it you stumped up your money for nothing and we believe in those fellows here remarked the black haired individual sarcastically. gospel truth sir gospel truth exclaimed another passenger a shabbily dressed man of about forty who looked like a clerk and possessed a red nose and a very blotchy face. gospel truth all they do is to get hold of our good russian money free gratis and for nothing. oh but you re quite wrong in my particular instance said the swiss patient quietly. of course i can t argue the matter because i know only my own case but my doctor gave me money and he had very little to pay my journey back besides having kept me at his own expense while there for nearly two years. why was there no one else to pay for you asked the black haired one. no mr. pavlicheff who had been supporting me there died a couple of years ago. i wrote to mrs. general epanchin at the time she is a distant relative of mine but she did not answer my letter. and so eventually i came back. and where have you come to that is where am i going to stay i i really don t quite know yet i both the listeners laughed again. i suppose your whole set up is in that bundle then asked the first. i bet anything it is exclaimed the red nosed passenger with extreme satisfaction and that he has precious little in the luggage van though of course poverty is no crime we must remember that it appeared that it was indeed as they had surmised. the young fellow hastened to admit the fact with wonderful readiness. your bundle has some importance however continued the clerk when they had laughed their fill it was observable that the subject of their mirth joined in the laughter when he saw them laughing for though i dare say it is not stuffed full of friedrichs d or and louis d or judge from your costume and gaiters still if you can add to your possessions such a valuable property as a relation like mrs. general epanchin then your bundle becomes a significant object at once. that is of course if you really are a relative of mrs. epanchin s and have not made a little error through well absence of mind which is very common to human beings or say through a too luxuriant fancy oh you are right again said the fair haired traveller for i really am almost wrong when i say she and i are related. she is hardly a relation at all so little in fact that i was not in the least surprised to have no answer to my letter. i expected as much. h m you spent your postage for nothing then. h m you are candid however and that is commendable. h m mrs. epanchin oh yes a most eminent person. i know her. as for mr. pavlicheff who supported you in switzerland i know him too at least if it was nicolai andreevitch of that name a fine fellow he was and had a property of four thousand souls in his day. yes nicolai andreevitch that was his name and the young fellow looked earnestly and with curiosity at the all knowing gentleman with the red nose. this sort of character is met with pretty frequently in a certain class. they are people who know everyone that is they know where a man is employed what his salary is whom he knows whom he married what money his wife had who are his cousins and second cousins etc. etc. these men generally have about a hundred pounds a year to live on and they spend their whole time and talents in the amassing of this style of knowledge which they reduce or raise to the standard of a science. during the latter part of the conversation the black haired young man had become very impatient. he stared out of the window and fidgeted and evidently longed for the end of the journey. he was very absent he would appear to listen and heard nothing and he would laugh of a sudden evidently with no idea of what he was laughing about. excuse me said the red nosed man to the young fellow with the bundle rather suddenly whom have i the honour to be talking to prince lef nicolaievitch muishkin replied the latter with perfect readiness. prince muishkin lef nicolaievitch h m i don t know i m sure i may say i have never heard of such a person said the clerk thoughtfully. at least the name i admit is historical. karamsin must mention the family name of course in his history but as an individual one never hears of any prince muishkin nowadays. of course not replied the prince there are none except myself. i believe i am the last and only one. as to my forefathers they have always been a poor lot my own father was a sublieutenant in the army. i don t know how mrs. epanchin comes into the muishkin family but she is descended from the princess muishkin and she too is the last of her line. and did you learn science and all that with your professor over there asked the black haired passenger. oh yes i did learn a little but i ve never learned anything whatever said the other. oh but i learned very little you know added the prince as though excusing himself. they could not teach me very much on account of my illness. do you know the rogojins asked his questioner abruptly. no i don t not at all i hardly know anyone in russia. why is that your name yes i am rogojin parfen rogojin. parfen rogojin dear me then don t you belong to those very rogojins perhaps began the clerk with a very perceptible increase of civility in his tone. yes those very ones interrupted rogojin impatiently and with scant courtesy. i may remark that he had not once taken any notice of the blotchy faced passenger and had hitherto addressed all his remarks direct to the prince. dear me is it possible observed the clerk while his face assumed an expression of great deference and servility if not of absolute alarm what a son of that very semen rogojin hereditary honourable citizen who died a month or so ago and left two million and a half of roubles and how do you know that he left two million and a half of roubles asked rogojin disdainfully and not deigning so much as to look at the other. however it s true enough that my father died a month ago and that here am i returning from pskoff a month after with hardly a boot to my foot. they ve treated me like a dog i ve been ill of fever at pskoff the whole time and not a line nor farthing of money have i received from my mother or my confounded brother and now you ll have a million roubles at least goodness gracious me exclaimed the clerk rubbing his hands. five weeks since i was just like yourself continued rogojin addressing the prince with nothing but a bundle and the clothes i wore. i ran away from my father and came to pskoff to my aunt s house where i caved in at once with fever and he went and died while i was away. all honour to my respected father s memory but he uncommonly nearly killed me all the same. give you my word prince if i hadn t cut and run then when i did he d have murdered me like a dog. i suppose you angered him somehow asked the prince looking at the millionaire with considerable curiosity. but though there may have been something remarkable in the fact that this man was heir to millions of roubles there was something about him which surprised and interested the prince more than that. rogojin too seemed to have taken up the conversation with unusual alacrity it appeared that he was still in a considerable state of excitement if not absolutely feverish and was in real need of someone to talk to for the mere sake of talking as safety valve to his agitation. as for his red nosed neighbour the latter since the information as to the identity of rogojin hung over him seemed to be living on the honey of his words and in the breath of his nostrils catching at every syllable as though it were a pearl of great price. oh yes i angered him i certainly did anger him replied rogojin. but what puts me out so is my brother. of course my mother couldn t do anything she s too old and whatever brother senka says is law for her but why couldn t he let me know he sent a telegram they say. what s the good of a telegram it frightened my aunt so that she sent it back to the office unopened and there it s been ever since it s only thanks to konief that i heard at all he wrote me all about it. he says my brother cut off the gold tassels from my father s coffin at night because they re worth a lot of money says he. why i can get him sent off to siberia for that alone if i like it s sacrilege. here you scarecrow he added addressing the clerk at his side is it sacrilege or not by law sacrilege certainly certainly sacrilege said the latter. and it s siberia for sacrilege isn t it undoubtedly so siberia of course they will think that i m still ill continued rogojin to the prince but i sloped off quietly seedy as i was took the train and came away. aha brother senka you ll have to open your gates and let me in my boy i know he told tales about me to my father i know that well enough but i certainly did rile my father about nastasia philipovna that s very sure and that was my own doing. nastasia philipovna said the clerk as though trying to think out something. come you know nothing about her said rogojin impatiently. and supposing i do know something observed the other triumphantly. bosh there are plenty of nastasia philipovnas. and what an impertinent beast you are he added angrily. i thought some creature like you would hang on to me as soon as i got hold of my money. oh but i do know as it happens said the clerk in an aggravating manner. lebedeff knows all about her. you are pleased to reproach me your excellency but what if i prove that i am right after all nastasia philipovna s family name is barashkoff i know you see and she is a very well known lady indeed and comes of a good family too. she is connected with one totski afanasy ivanovitch a man of considerable property a director of companies and so on and a great friend of general epanchin who is interested in the same matters as he is. my eyes said rogojin really surprised at last. the devil take the fellow how does he know that why he knows everything lebedeff knows everything i was a month or two with lihachof after his father died your excellency and while he was knocking about he s in the debtor s prison now i was with him and he couldn t do a thing without lebedeff and i got to know nastasia philipovna and several people at that time. nastasia philipovna why you don t mean to say that she and lihachof cried rogojin turning quite pale. no no no no no nothing of the sort i assure you said lebedeff hastily. oh dear no not for the world totski s the only man with any chance there. oh no he takes her to his box at the opera at the french theatre of an evening and the officers and people all look at her and say by jove there s the famous nastasia philipovna but no one ever gets any further than that for there is nothing more to say. yes it s quite true said rogojin frowning gloomily so zaleshoff told me. i was walking about the nefsky one fine day prince in my father s old coat when she suddenly came out of a shop and stepped into her carriage. i swear i was all of a blaze at once. then i met zaleshoff looking like a hair dresser s assistant got up as fine as i don t know who while i looked like a tinker. don t flatter yourself my boy said he she s not for such as you she s a princess she is and her name is nastasia philipovna barashkoff and she lives with totski who wishes to get rid of her because he s growing rather old fifty five or so and wants to marry a certain beauty the loveliest woman in all petersburg. and then he told me that i could see nastasia philipovna at the opera house that evening if i liked and described which was her box. well i d like to see my father allowing any of us to go to the theatre he d sooner have killed us any day. however i went for an hour or so and saw nastasia philipovna and i never slept a wink all night after. next morning my father happened to give me two government loan bonds to sell worth nearly five thousand roubles each. sell them said he and then take seven thousand five hundred roubles to the office give them to the cashier and bring me back the rest of the ten thousand without looking in anywhere on the way look sharp i shall be waiting for you. well i sold the bonds but i didn t take the seven thousand roubles to the office i went straight to the english shop and chose a pair of earrings with a diamond the size of a nut in each. they cost four hundred roubles more than i had so i gave my name and they trusted me. with the earrings i went at once to zaleshoff s. come on i said come on to nastasia philipovna s and off we went without more ado. i tell you i hadn t a notion of what was about me or before me or below my feet all the way i saw nothing whatever. we went straight into her drawing room and then she came out to us. i didn t say right out who i was but zaleshoff said from parfen rogojin in memory of his first meeting with you yesterday be so kind as to accept these she opened the parcel looked at the earrings and laughed. thank your friend mr. rogojin for his kind attention says she and bowed and went off. why didn t i die there on the spot the worst of it all was though that the beast zaleshoff got all the credit of it i was short and abominably dressed and stood and stared in her face and never said a word because i was shy like an ass and there was he all in the fashion pomaded and dressed out with a smart tie on bowing and scraping and i bet anything she took him for me all the while look here now i said when we came out none of your interference here after this do you understand he laughed and how are you going to settle up with your father says he. i thought i might as well jump into the neva at once without going home first but it struck me that i wouldn t after all and i went home feeling like one of the damned. my goodness shivered the clerk. and his father he added for the prince s instruction and his father would have given a man a ticket to the other world for ten roubles any day not to speak of ten thousand the prince observed rogojin with great curiosity he seemed paler than ever at this moment. what do you know about it cried the latter. well my father learned the whole story at once and zaleshoff blabbed it all over the town besides. so he took me upstairs and locked me up and swore at me for an hour. this is only a foretaste says he wait a bit till night comes and i ll come back and talk to you again. well what do you think the old fellow went straight off to nastasia philipovna touched the floor with his forehead and began blubbering and beseeching her on his knees to give him back the diamonds. so after awhile she brought the box and flew out at him. there she says take your earrings you wretched old miser although they are ten times dearer than their value to me now that i know what it must have cost parfen to get them give parfen my compliments she says and thank him very much well i meanwhile had borrowed twenty five roubles from a friend and off i went to pskoff to my aunt s. the old woman there lectured me so that i left the house and went on a drinking tour round the public houses of the place. i was in a high fever when i got to pskoff and by nightfall i was lying delirious in the streets somewhere or other oho we ll make nastasia philipovna sing another song now giggled lebedeff rubbing his hands with glee. hey my boy we ll get her some proper earrings now we ll get her such earrings that look here cried rogojin seizing him fiercely by the arm look here if you so much as name nastasia philipovna again i ll tan your hide as sure as you sit there aha do by all means if you tan my hide you won t turn me away from your society. you ll bind me to you with your lash for ever. ha ha here we are at the station though. sure enough the train was just steaming in as he spoke. though rogojin had declared that he left pskoff secretly a large collection of friends had assembled to greet him and did so with profuse waving of hats and shouting. why there s zaleshoff here too he muttered gazing at the scene with a sort of triumphant but unpleasant smile. then he suddenly turned to the prince prince i don t know why i have taken a fancy to you perhaps because i met you just when i did. but no it can t be that for i met this fellow nodding at lebedeff too and i have not taken a fancy to him by any means. come to see me prince we ll take off those gaiters of yours and dress you up in a smart fur coat the best we can buy. you shall have a dress coat best quality white waistcoat anything you like and your pocket shall be full of money. come and you shall go with me to nastasia philipovna s. now then will you come or no accept accept prince lef nicolaievitch said lebedef solemnly don t let it slip accept quick prince muishkin rose and stretched out his hand courteously while he replied with some cordiality i will come with the greatest pleasure and thank you very much for taking a fancy to me. i dare say i may even come today if i have time for i tell you frankly that i like you very much too. i liked you especially when you told us about the diamond earrings but i liked you before that as well though you have such a dark clouded sort of face. thanks very much for the offer of clothes and a fur coat i certainly shall require both clothes and coat very soon. as for money i have hardly a copeck about me at this moment. you shall have lots of money by the evening i shall have plenty so come along that s true enough he ll have lots before evening put in lebedeff. but look here are you a great hand with the ladies let s know that first asked rogojin. oh no oh no said the prince i couldn t you know my illness i hardly ever saw a soul. h m well here you fellow you can come along with me now if you like cried rogojin to lebedeff and so they all left the carriage. lebedeff had his desire. he went off with the noisy group of rogojin s friends towards the voznesensky while the prince s route lay towards the litaynaya. it was damp and wet. the prince asked his way of passers by and finding that he was a couple of miles or so from his destination he determined to take a droshky. '"
            ]
          },
          "metadata": {},
          "execution_count": 67
        }
      ]
    },
    {
      "cell_type": "code",
      "metadata": {
        "colab": {
          "base_uri": "https://localhost:8080/"
        },
        "id": "TGKOS5Av9kre",
        "outputId": "a71d9417-ddb1-4b95-9a71-9693d339399f"
      },
      "source": [
        "# Contando quantas vezes a palavra \"the\" aparece no livro\n",
        "len(re.findall(r'the', livro_processado))"
      ],
      "execution_count": null,
      "outputs": [
        {
          "output_type": "execute_result",
          "data": {
            "text/plain": [
              "302"
            ]
          },
          "metadata": {},
          "execution_count": 63
        }
      ]
    },
    {
      "cell_type": "code",
      "metadata": {
        "colab": {
          "base_uri": "https://localhost:8080/"
        },
        "id": "-mPGkjeo95tB",
        "outputId": "167d5bb6-4001-48e8-da5c-7023f8258407"
      },
      "source": [
        "# Substituindo \"i\" po \"I\"\n",
        "livro_processado = re.sub(r'\\si\\s', \" I \", livro_processado)\n",
        "len(re.findall(r'I', livro_processado))"
      ],
      "execution_count": null,
      "outputs": [
        {
          "output_type": "execute_result",
          "data": {
            "text/plain": [
              "132"
            ]
          },
          "metadata": {},
          "execution_count": 64
        }
      ]
    },
    {
      "cell_type": "code",
      "metadata": {
        "colab": {
          "base_uri": "https://localhost:8080/"
        },
        "id": "ecYE0lbt-N7C",
        "outputId": "a2a01a7d-5a44-49fa-d22a-bc7abca41083"
      },
      "source": [
        "# Achando todas as ocorrências de palavras com hífen\n",
        "re.findall(r'[a-zA-Z0-9]*-[a-zA-Z0-9]*', livro)"
      ],
      "execution_count": null,
      "outputs": [
        {
          "output_type": "execute_result",
          "data": {
            "text/plain": [
              "['third-class',\n",
              " 'third-class',\n",
              " 'third-class',\n",
              " 'twenty-seven',\n",
              " 'death-like',\n",
              " 'self-satisfied',\n",
              " 'twenty-six',\n",
              " 'twenty-seven',\n",
              " 'un-Russian',\n",
              " 'black-haired',\n",
              " 'black-haired',\n",
              " 'fair-haired',\n",
              " 'black-haired',\n",
              " 'black-haired',\n",
              " 'set-up',\n",
              " 'red-nosed',\n",
              " 'fair-haired',\n",
              " 'all-knowing',\n",
              " 'black-haired',\n",
              " 'red-nosed',\n",
              " 'black-haired',\n",
              " 'blotchy-faced',\n",
              " 'safety-valve',\n",
              " 'red-nosed',\n",
              " 'hair-dresser',\n",
              " 'fifty-five',\n",
              " 'opera-house',\n",
              " 'drawing-room',\n",
              " 'twenty-five',\n",
              " 'public-houses',\n",
              " 'dark-clouded',\n",
              " 'passers-by']"
            ]
          },
          "metadata": {},
          "execution_count": 66
        }
      ]
    },
    {
      "cell_type": "markdown",
      "metadata": {
        "id": "b5PvJjKx-jga"
      },
      "source": [
        "## 8. Manipulando strings nos textos"
      ]
    },
    {
      "cell_type": "code",
      "metadata": {
        "id": "bSsk2w8H-kuZ"
      },
      "source": [
        "string_1 = \"I am exploring NLP\""
      ],
      "execution_count": null,
      "outputs": []
    },
    {
      "cell_type": "code",
      "metadata": {
        "colab": {
          "base_uri": "https://localhost:8080/"
        },
        "id": "sn-pw10--wJL",
        "outputId": "7b8f814b-7743-42a5-a552-15cca359f091"
      },
      "source": [
        "# Caractere específico da string\n",
        "print(string_1[0])"
      ],
      "execution_count": null,
      "outputs": [
        {
          "output_type": "stream",
          "name": "stdout",
          "text": [
            "I\n"
          ]
        }
      ]
    },
    {
      "cell_type": "code",
      "metadata": {
        "colab": {
          "base_uri": "https://localhost:8080/"
        },
        "id": "yatEI3Ub-00B",
        "outputId": "096c6892-3361-441e-eb17-99b9a4354cec"
      },
      "source": [
        "# Parte da string\n",
        "print(string_1[5:14])"
      ],
      "execution_count": null,
      "outputs": [
        {
          "output_type": "stream",
          "name": "stdout",
          "text": [
            "exploring\n"
          ]
        }
      ]
    },
    {
      "cell_type": "code",
      "metadata": {
        "id": "eMeyuwwb-7pB"
      },
      "source": [
        "# Substituindo na string\n",
        "string_2 = string_1.replace(\"exploring\", \"learning\")"
      ],
      "execution_count": null,
      "outputs": []
    },
    {
      "cell_type": "code",
      "metadata": {
        "colab": {
          "base_uri": "https://localhost:8080/"
        },
        "id": "QbUsVQyh_Fzq",
        "outputId": "d1063c46-1b12-4b17-fbe0-f0556591151a"
      },
      "source": [
        "# Concatenando strings\n",
        "s1 = \"nlp\"\n",
        "s2 = \"machine learning\"\n",
        "s3 = s1+s2\n",
        "print(s3)"
      ],
      "execution_count": null,
      "outputs": [
        {
          "output_type": "stream",
          "name": "stdout",
          "text": [
            "nlpmachine learning\n"
          ]
        }
      ]
    },
    {
      "cell_type": "code",
      "metadata": {
        "colab": {
          "base_uri": "https://localhost:8080/"
        },
        "id": "QtnR3rYb_r_z",
        "outputId": "a353f618-190c-45ca-d1c0-df8a0deb612e"
      },
      "source": [
        "# Encontrando a posição de início de uma primeira ocorrência\n",
        "var = \"I am learning NLP\"\n",
        "f = \"learn\"\n",
        "var.find(f)"
      ],
      "execution_count": null,
      "outputs": [
        {
          "output_type": "execute_result",
          "data": {
            "text/plain": [
              "5"
            ]
          },
          "metadata": {},
          "execution_count": 73
        }
      ]
    },
    {
      "cell_type": "markdown",
      "metadata": {
        "id": "CLpOv8Fk_1H_"
      },
      "source": [
        "## 9. Web Scrapping"
      ]
    },
    {
      "cell_type": "markdown",
      "metadata": {
        "id": "D8dEQYzPB9Cr"
      },
      "source": [
        "### 9.1 Página com resposta txt"
      ]
    },
    {
      "cell_type": "markdown",
      "metadata": {
        "id": "-uWtwaYuAaza"
      },
      "source": [
        "Vamos realizar um web scrapping com uma outra página do site Gutenberg."
      ]
    },
    {
      "cell_type": "code",
      "metadata": {
        "id": "IeNxxjr1_4N_"
      },
      "source": [
        "# Importando biblioteca\n",
        "resposta = requests.get('http://www.gutenberg.org/files/1112/1112.txt')"
      ],
      "execution_count": null,
      "outputs": []
    },
    {
      "cell_type": "code",
      "metadata": {
        "colab": {
          "base_uri": "https://localhost:8080/"
        },
        "id": "exlmPxayApYG",
        "outputId": "edde1e56-2a26-4ccd-c5f4-4a422b2cadf3"
      },
      "source": [
        "# Verificando se o request está ok\n",
        "resposta.status_code == requests.codes.ok"
      ],
      "execution_count": null,
      "outputs": [
        {
          "output_type": "execute_result",
          "data": {
            "text/plain": [
              "True"
            ]
          },
          "metadata": {},
          "execution_count": 76
        }
      ]
    },
    {
      "cell_type": "code",
      "metadata": {
        "colab": {
          "base_uri": "https://localhost:8080/"
        },
        "id": "q6oXKXYOAxgZ",
        "outputId": "606dac80-ac2c-44f6-e5ce-522f4986133e"
      },
      "source": [
        "# Tamanho da resposta, em caracteres\n",
        "len(resposta.text)"
      ],
      "execution_count": null,
      "outputs": [
        {
          "output_type": "execute_result",
          "data": {
            "text/plain": [
              "179410"
            ]
          },
          "metadata": {},
          "execution_count": 78
        }
      ]
    },
    {
      "cell_type": "markdown",
      "metadata": {
        "id": "d8ibmYsXCBKP"
      },
      "source": [
        "### 9.2 Parse de html"
      ]
    },
    {
      "cell_type": "markdown",
      "metadata": {
        "id": "R6xuCVQoCPKw"
      },
      "source": [
        "Parse html para contar elementos e entender a estrutura da página."
      ]
    },
    {
      "cell_type": "code",
      "metadata": {
        "id": "8EZ_Ys5fA7d8"
      },
      "source": [
        "# Vamos fazer o request\n",
        "response = requests.get('https://nostarch.com')\n",
        "pag = BeautifulSoup(response.text, 'html.parser')"
      ],
      "execution_count": null,
      "outputs": []
    },
    {
      "cell_type": "code",
      "metadata": {
        "colab": {
          "base_uri": "https://localhost:8080/"
        },
        "id": "XsP19XE7Cbpc",
        "outputId": "110f4879-85ca-4a99-fa37-2ba305edfc5e"
      },
      "source": [
        "# Encontrando todos os elementos com a tag p e colocando numa lista\n",
        "pElems = pag.select('p')\n",
        "# Contando a quantidade de elementos da lista\n",
        "len(pElems)"
      ],
      "execution_count": null,
      "outputs": [
        {
          "output_type": "execute_result",
          "data": {
            "text/plain": [
              "57"
            ]
          },
          "metadata": {},
          "execution_count": 83
        }
      ]
    },
    {
      "cell_type": "code",
      "metadata": {
        "colab": {
          "base_uri": "https://localhost:8080/",
          "height": 54
        },
        "id": "i94YpEe4C592",
        "outputId": "c30446d0-35ef-4da5-df4c-a201a2577645"
      },
      "source": [
        "# Verificando um item da nossa lista da tag p\n",
        "str(pElems[0])"
      ],
      "execution_count": null,
      "outputs": [
        {
          "output_type": "execute_result",
          "data": {
            "application/vnd.google.colaboratory.intrinsic+json": {
              "type": "string"
            },
            "text/plain": [
              "'<p class=\"cart-block-items collapsed uc-cart-empty\">There are no products in your shopping cart.</p>'"
            ]
          },
          "metadata": {},
          "execution_count": 84
        }
      ]
    },
    {
      "cell_type": "code",
      "metadata": {
        "colab": {
          "base_uri": "https://localhost:8080/",
          "height": 36
        },
        "id": "xyJcc4cBC-j5",
        "outputId": "d642852b-e277-41fa-8208-19fd9f38ad6a"
      },
      "source": [
        "# Pegando o texto do item que acabamos e ver\n",
        "pElems[0].getText()"
      ],
      "execution_count": null,
      "outputs": [
        {
          "output_type": "execute_result",
          "data": {
            "application/vnd.google.colaboratory.intrinsic+json": {
              "type": "string"
            },
            "text/plain": [
              "'There are no products in your shopping cart.'"
            ]
          },
          "metadata": {},
          "execution_count": 85
        }
      ]
    }
  ]
}