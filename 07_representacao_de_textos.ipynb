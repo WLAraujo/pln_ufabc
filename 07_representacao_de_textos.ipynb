{
  "nbformat": 4,
  "nbformat_minor": 0,
  "metadata": {
    "colab": {
      "name": "7. Representação de textos.ipynb",
      "provenance": [],
      "collapsed_sections": [
        "kMukD5P4aYHv",
        "roMlph7KaoMw",
        "oaXkNqecdKu_",
        "qRjJLaqphV0r",
        "-Sx7uw5ylmRr",
        "fXp6niLcsB8S",
        "VcbbA5MlxGSM",
        "gHW7oSmKyFMf",
        "5zb4TjJI097m"
      ],
      "authorship_tag": "ABX9TyOTUtag+6UbwjJ8QytS9/rh"
    },
    "kernelspec": {
      "name": "python3",
      "display_name": "Python 3"
    },
    "language_info": {
      "name": "python"
    }
  },
  "cells": [
    {
      "cell_type": "markdown",
      "metadata": {
        "id": "kMukD5P4aYHv"
      },
      "source": [
        "# 1. Representação de textos\n",
        "\n",
        "Nesse caderno vamos ver algumas técnicas de representação de features e de texto, como One-Hot, Bag of Words, Bag of N-grams e TF-IDF."
      ]
    },
    {
      "cell_type": "markdown",
      "metadata": {
        "id": "roMlph7KaoMw"
      },
      "source": [
        "## 1.1 Codificação One-Hot\n",
        "\n",
        "A codificação One-Hot consiste em representar cada possível palavra por um vetor binário de tamanho igual ao do corpus do texto analisado. Então, a posição em que tivermos o valor 1 indica qual a palavra."
      ]
    },
    {
      "cell_type": "code",
      "metadata": {
        "id": "SnTibXmDAWZ4"
      },
      "source": [
        "# Definindo sentenças com qual trabalharemos\n",
        "textos = [\"Cachorro morde homem.\",\"Homem morde cachorro.\",\"Cachorro come carne.\",\"Homem come comida.\"]"
      ],
      "execution_count": null,
      "outputs": []
    },
    {
      "cell_type": "code",
      "metadata": {
        "colab": {
          "base_uri": "https://localhost:8080/"
        },
        "id": "xPsX1a1lbL5g",
        "outputId": "a10a47df-b592-4a02-ca35-2a20572b988d"
      },
      "source": [
        "# Realizando um pequeno pré-processamento\n",
        "textos_tratados = [texto.lower().replace(\".\",\"\") for texto in textos]\n",
        "textos_tratados"
      ],
      "execution_count": null,
      "outputs": [
        {
          "output_type": "execute_result",
          "data": {
            "text/plain": [
              "['cachorro morde homem',\n",
              " 'homem morde cachorro',\n",
              " 'cachorro come carne',\n",
              " 'homem come comida']"
            ]
          },
          "metadata": {},
          "execution_count": 2
        }
      ]
    },
    {
      "cell_type": "code",
      "metadata": {
        "colab": {
          "base_uri": "https://localhost:8080/"
        },
        "id": "MsvfojFgbamb",
        "outputId": "2af06180-6adb-423b-ff66-24d49d9fcefe"
      },
      "source": [
        "# Construção do vocabulário através de dicionário indexado\n",
        "vocabulario = {}\n",
        "cont = 0\n",
        "for texto in textos_tratados:\n",
        "    for palavra in texto.split():\n",
        "        if palavra not in vocabulario:\n",
        "            cont = cont + 1\n",
        "            vocabulario[palavra] = cont\n",
        "print(vocabulario)"
      ],
      "execution_count": null,
      "outputs": [
        {
          "output_type": "stream",
          "name": "stdout",
          "text": [
            "{'cachorro': 1, 'morde': 2, 'homem': 3, 'come': 4, 'carne': 5, 'comida': 6}\n"
          ]
        }
      ]
    },
    {
      "cell_type": "code",
      "metadata": {
        "id": "p93yeSCTbxJp"
      },
      "source": [
        "# Criando função que devolve one-hot encoding para esse vocabulário\n",
        "# Caso a palavra não faça parte do vocabulário atribuimos a ela vetor 0\n",
        "def criar_ohe(texto):\n",
        "  codificado=[]\n",
        "  for palavra in texto.split():\n",
        "    aux = [0] * len(vocabulario)\n",
        "    if palavra in vocabulario:\n",
        "      aux[vocabulario[palavra]-1] = 1\n",
        "    codificado.append(aux)\n",
        "  return codificado"
      ],
      "execution_count": null,
      "outputs": []
    },
    {
      "cell_type": "code",
      "metadata": {
        "colab": {
          "base_uri": "https://localhost:8080/"
        },
        "id": "gppIbSChcsZv",
        "outputId": "561f033f-114f-4d65-e19c-0713b0c2f365"
      },
      "source": [
        "# Testando função de ohe\n",
        "print(textos_tratados)\n",
        "criar_ohe(textos_tratados[0])"
      ],
      "execution_count": null,
      "outputs": [
        {
          "output_type": "stream",
          "name": "stdout",
          "text": [
            "['cachorro morde homem', 'homem morde cachorro', 'cachorro come carne', 'homem come comida']\n"
          ]
        },
        {
          "output_type": "execute_result",
          "data": {
            "text/plain": [
              "[[1, 0, 0, 0, 0, 0], [0, 1, 0, 0, 0, 0], [0, 0, 1, 0, 0, 0]]"
            ]
          },
          "metadata": {},
          "execution_count": 7
        }
      ]
    },
    {
      "cell_type": "markdown",
      "metadata": {
        "id": "oaXkNqecdKu_"
      },
      "source": [
        "## 1.2 Codificação One-Hot Encoding com scikit-learn\n",
        "\n",
        "Agora, vamos usar a biblioteca scikit-learn para realizar a codificação OHE. "
      ]
    },
    {
      "cell_type": "code",
      "metadata": {
        "id": "XSi9Vjx4dkqm"
      },
      "source": [
        "# Importando dependências\n",
        "from sklearn.preprocessing import LabelEncoder, OneHotEncoder"
      ],
      "execution_count": null,
      "outputs": []
    },
    {
      "cell_type": "code",
      "metadata": {
        "colab": {
          "base_uri": "https://localhost:8080/"
        },
        "id": "gsqRdn-gdd8a",
        "outputId": "b8d32837-d014-467d-ccbc-2a3df5c14e4b"
      },
      "source": [
        "# Definindo textos e base de dados para criar vocabulário\n",
        "textos = [\"cachorro morde homem\",\"homem morde cachorro\",\"cachorro come carne\",\"homem come comida\"]\n",
        "tokens = [texto.split() for texto in textos]\n",
        "dados = []\n",
        "for frase in tokens:\n",
        "  for palavra in frase:\n",
        "    dados.append(palavra)\n",
        "dados"
      ],
      "execution_count": null,
      "outputs": [
        {
          "output_type": "execute_result",
          "data": {
            "text/plain": [
              "['cachorro',\n",
              " 'morde',\n",
              " 'homem',\n",
              " 'homem',\n",
              " 'morde',\n",
              " 'cachorro',\n",
              " 'cachorro',\n",
              " 'come',\n",
              " 'carne',\n",
              " 'homem',\n",
              " 'come',\n",
              " 'comida']"
            ]
          },
          "metadata": {},
          "execution_count": 21
        }
      ]
    },
    {
      "cell_type": "code",
      "metadata": {
        "colab": {
          "base_uri": "https://localhost:8080/"
        },
        "id": "8VwqL4qGgE_s",
        "outputId": "fcbc353b-3358-4b63-8f52-614a4a692106"
      },
      "source": [
        "# Obtendo codificação para números inteiros com todos os elementos do vocabulário\n",
        "encoder = LabelEncoder()\n",
        "indices = encoder.fit_transform(dados)\n",
        "print(\"Codificacao:\",indices)"
      ],
      "execution_count": null,
      "outputs": [
        {
          "output_type": "stream",
          "name": "stdout",
          "text": [
            "Codificacao: [0 5 4 4 5 0 0 2 1 4 2 3]\n"
          ]
        }
      ]
    },
    {
      "cell_type": "markdown",
      "metadata": {
        "id": "qRjJLaqphV0r"
      },
      "source": [
        "## 1.3 Representação bag of words\n",
        "\n",
        "A representação bag of words representa as palavras do texto através de uma espécie de bolsa, ignorando contexto e ordem. \n",
        "\n",
        "Aqui também representamos palavras através de índices que vão de 0 até o tamanho do vocabulário, mas diferentes do OHE, a representação de uma frase é feita apenas com um vetor de |V| posições."
      ]
    },
    {
      "cell_type": "code",
      "metadata": {
        "colab": {
          "base_uri": "https://localhost:8080/"
        },
        "id": "v7Rri0gdj3US",
        "outputId": "9bd39987-d61b-41c0-b0ef-3e702d0a0fe9"
      },
      "source": [
        "# Sentenças que usaremos e pré-processamento\n",
        "textos = [\"Cachorro morde homem.\",\"Homem morde cachorro.\",\"Cachorro come carne.\",\"Homem come comida.\"]\n",
        "textos_tratados = [texto.lower().replace(\".\",\"\") for texto in textos]\n",
        "textos_tratados"
      ],
      "execution_count": null,
      "outputs": [
        {
          "output_type": "execute_result",
          "data": {
            "text/plain": [
              "['cachorro morde homem',\n",
              " 'homem morde cachorro',\n",
              " 'cachorro come carne',\n",
              " 'homem come comida']"
            ]
          },
          "metadata": {},
          "execution_count": 30
        }
      ]
    },
    {
      "cell_type": "code",
      "metadata": {
        "id": "8osYOQ2SkKNA"
      },
      "source": [
        "# Importando dependências necessárias\n",
        "from sklearn.feature_extraction.text import CountVectorizer"
      ],
      "execution_count": null,
      "outputs": []
    },
    {
      "cell_type": "code",
      "metadata": {
        "id": "DmQlE1cykF3J"
      },
      "source": [
        "# Criando vetorizador\n",
        "vetorizador = CountVectorizer()"
      ],
      "execution_count": null,
      "outputs": []
    },
    {
      "cell_type": "code",
      "metadata": {
        "id": "rh3lHHiRkZQB"
      },
      "source": [
        "# Criando representação de Bag of Words\n",
        "bow = vetorizador.fit_transform(textos_tratados)"
      ],
      "execution_count": null,
      "outputs": []
    },
    {
      "cell_type": "code",
      "metadata": {
        "colab": {
          "base_uri": "https://localhost:8080/"
        },
        "id": "wVGJzcL7k5T3",
        "outputId": "5b9893fd-de71-4dd6-9ddb-d620b40c2c33"
      },
      "source": [
        "# Mapeamento realizado pelo vetorizador\n",
        "print(\"Vocabulario: \", vetorizador.vocabulary_)"
      ],
      "execution_count": null,
      "outputs": [
        {
          "output_type": "stream",
          "name": "stdout",
          "text": [
            "Vocabulario:  {'cachorro': 0, 'morde': 5, 'homem': 4, 'come': 2, 'carne': 1, 'comida': 3}\n"
          ]
        }
      ]
    },
    {
      "cell_type": "code",
      "metadata": {
        "colab": {
          "base_uri": "https://localhost:8080/"
        },
        "id": "eKE_falglDj1",
        "outputId": "39caec4d-d66c-4f0e-ebc8-97ed2b57add2"
      },
      "source": [
        "# Testando representação bow para os textos\n",
        "print(textos_tratados[0])\n",
        "print(bow[0].toarray())"
      ],
      "execution_count": null,
      "outputs": [
        {
          "output_type": "stream",
          "name": "stdout",
          "text": [
            "cachorro morde homem\n",
            "[[1 0 0 0 1 1]]\n"
          ]
        }
      ]
    },
    {
      "cell_type": "markdown",
      "metadata": {
        "id": "-Sx7uw5ylmRr"
      },
      "source": [
        "## 1.4 Bag of N-Grams\n",
        "\n",
        "O conceito dessa representação nada mais é que uma generalização da bag of words."
      ]
    },
    {
      "cell_type": "code",
      "metadata": {
        "colab": {
          "base_uri": "https://localhost:8080/"
        },
        "id": "3BiOBsZ_ltLJ",
        "outputId": "f47f3a66-96e6-44c5-cd17-38d7e463de78"
      },
      "source": [
        "# Sentenças que usaremos e pré-processamento\n",
        "textos = [\"Cachorro morde homem.\",\"Homem morde cachorro.\",\"Cachorro come carne.\",\"Homem come comida.\"]\n",
        "textos_tratados = [texto.lower().replace(\".\",\"\") for texto in textos]\n",
        "textos_tratados"
      ],
      "execution_count": null,
      "outputs": [
        {
          "output_type": "execute_result",
          "data": {
            "text/plain": [
              "['cachorro morde homem',\n",
              " 'homem morde cachorro',\n",
              " 'cachorro come carne',\n",
              " 'homem come comida']"
            ]
          },
          "metadata": {},
          "execution_count": 39
        }
      ]
    },
    {
      "cell_type": "code",
      "metadata": {
        "colab": {
          "base_uri": "https://localhost:8080/"
        },
        "id": "nVAfiQ3ilw2R",
        "outputId": "774d621d-b288-4403-f282-5eeb2c410bb0"
      },
      "source": [
        "# Aqui também vamos usar o vetorizador, mas passaremos um parâmetro adicional que indicará que queremos n-gramas de i até j\n",
        "from sklearn.feature_extraction.text import CountVectorizer\n",
        "vetorizador = CountVectorizer(ngram_range=(1,3))\n",
        "bon_rep = vetorizador.fit_transform(textos_tratados)\n",
        "print(\"Vocabulario: \", vetorizador.vocabulary_)"
      ],
      "execution_count": null,
      "outputs": [
        {
          "output_type": "stream",
          "name": "stdout",
          "text": [
            "Vocabulario:  {'cachorro': 0, 'morde': 15, 'homem': 10, 'cachorro morde': 3, 'morde homem': 17, 'cachorro morde homem': 4, 'homem morde': 13, 'morde cachorro': 16, 'homem morde cachorro': 14, 'come': 6, 'carne': 5, 'cachorro come': 1, 'come carne': 7, 'cachorro come carne': 2, 'comida': 9, 'homem come': 11, 'come comida': 8, 'homem come comida': 12}\n"
          ]
        }
      ]
    },
    {
      "cell_type": "code",
      "metadata": {
        "colab": {
          "base_uri": "https://localhost:8080/"
        },
        "id": "DuQVC2KJl5U3",
        "outputId": "047d32fc-a99a-428c-b2b1-1b7ad0185c7f"
      },
      "source": [
        "# Agora, vamos ver representações das nossas sentenças através da bag\n",
        "bon_rep[0].toarray()"
      ],
      "execution_count": null,
      "outputs": [
        {
          "output_type": "execute_result",
          "data": {
            "text/plain": [
              "array([[1, 0, 0, 1, 1, 0, 0, 0, 0, 0, 1, 0, 0, 0, 0, 1, 0, 1]])"
            ]
          },
          "metadata": {},
          "execution_count": 48
        }
      ]
    },
    {
      "cell_type": "markdown",
      "metadata": {
        "id": "fXp6niLcsB8S"
      },
      "source": [
        "## 1.5 TF-IDF (Term Frequency-Inverse Document Frequency)\n",
        "\n",
        "Nas outras abordagens de representação que trabalhamos todas as palavras tinham a mesma importância. Na abordagem do TF-IDF (Frequência do Termo - Inverso da Frequência no Documento) ocorre uma quantificação da importância de uma palavra. Normalmente, é um sistema usado na recuperação de informações.\n",
        "\n",
        "Para calcular a importância usamos o score que é a subtração entre a frequência da palavra num documento di (TF) e o inverso da frequência da palavra no corpus de todos os documentos dj (IDF).\n",
        "\n",
        "A representação vetorial de TF-IDF é então, simplesmente, a pontuação TF-IDF para cada termo nesse documento."
      ]
    },
    {
      "cell_type": "code",
      "metadata": {
        "colab": {
          "base_uri": "https://localhost:8080/"
        },
        "id": "QfSQkDrwsw7M",
        "outputId": "4012a70a-bf1a-4a78-8164-532ad2d37693"
      },
      "source": [
        "# Sentenças que usaremos e pré-processamento\n",
        "textos = [\"Cachorro morde homem.\",\"Homem morde cachorro.\",\"Cachorro come carne.\",\"Homem come comida.\"]\n",
        "textos_tratados = [texto.lower().replace(\".\",\"\") for texto in textos]\n",
        "textos_tratados"
      ],
      "execution_count": null,
      "outputs": [
        {
          "output_type": "execute_result",
          "data": {
            "text/plain": [
              "['cachorro morde homem',\n",
              " 'homem morde cachorro',\n",
              " 'cachorro come carne',\n",
              " 'homem come comida']"
            ]
          },
          "metadata": {},
          "execution_count": 89
        }
      ]
    },
    {
      "cell_type": "code",
      "metadata": {
        "id": "Foa1pHITtHp0"
      },
      "source": [
        "# Importando TF-IDF do scikit-learn\n",
        "from sklearn.feature_extraction.text import TfidfVectorizer"
      ],
      "execution_count": null,
      "outputs": []
    },
    {
      "cell_type": "code",
      "metadata": {
        "id": "4V29u1kAtMzO"
      },
      "source": [
        "# Criando objeto codificador sobre os textos\n",
        "tfidf = TfidfVectorizer()\n",
        "tfidf_rep = tfidf.fit_transform(textos_tratados)"
      ],
      "execution_count": null,
      "outputs": []
    },
    {
      "cell_type": "code",
      "metadata": {
        "colab": {
          "base_uri": "https://localhost:8080/"
        },
        "id": "rGpijayevwDx",
        "outputId": "f9cabf7b-5092-466d-d786-6e431e5556d9"
      },
      "source": [
        "# Todas as palavras no vocabulário\n",
        "print(\"Palavras: \",tfidf.get_feature_names_out())"
      ],
      "execution_count": null,
      "outputs": [
        {
          "output_type": "stream",
          "name": "stdout",
          "text": [
            "Palavras:  ['cachorro' 'carne' 'come' 'comida' 'homem' 'morde']\n"
          ]
        }
      ]
    },
    {
      "cell_type": "code",
      "metadata": {
        "colab": {
          "base_uri": "https://localhost:8080/"
        },
        "id": "5-XPVzdBupZT",
        "outputId": "7f138ea9-c10d-4d03-e15f-a125b7287afb"
      },
      "source": [
        "# Mostrando IDF de cada palavra\n",
        "print(\"IDFs: \",tfidf.idf_)"
      ],
      "execution_count": null,
      "outputs": [
        {
          "output_type": "stream",
          "name": "stdout",
          "text": [
            "IDFs:  [1.22314355 1.91629073 1.51082562 1.91629073 1.22314355 1.51082562]\n"
          ]
        }
      ]
    },
    {
      "cell_type": "code",
      "metadata": {
        "colab": {
          "base_uri": "https://localhost:8080/"
        },
        "id": "ybhsUDRlu7Z1",
        "outputId": "9bb4b49b-c22e-46e8-f3ea-ee1c5e810175"
      },
      "source": [
        "# Mostrando a representação TF-IDF de cda documento do corpus\n",
        "print(\"Representação TFIDF\", tfidf_rep.toarray())"
      ],
      "execution_count": null,
      "outputs": [
        {
          "output_type": "stream",
          "name": "stdout",
          "text": [
            "Representação TFIDF [[0.53256952 0.         0.         0.         0.53256952 0.65782931]\n",
            " [0.53256952 0.         0.         0.         0.53256952 0.65782931]\n",
            " [0.44809973 0.70203482 0.55349232 0.         0.         0.        ]\n",
            " [0.         0.         0.55349232 0.70203482 0.44809973 0.        ]]\n"
          ]
        }
      ]
    },
    {
      "cell_type": "markdown",
      "metadata": {
        "id": "-iKYBABmwTFh"
      },
      "source": [
        "# 2. Convertendo textos para features\n",
        "\n",
        "Vamos usar as técnicas de representação de texto que estudamos para criar features."
      ]
    },
    {
      "cell_type": "code",
      "metadata": {
        "id": "oHdJhWalw9OR"
      },
      "source": [
        "# Importando pandas\n",
        "import pandas as pd"
      ],
      "execution_count": null,
      "outputs": []
    },
    {
      "cell_type": "markdown",
      "metadata": {
        "id": "VcbbA5MlxGSM"
      },
      "source": [
        "## 2.1 One-Hot Encoding"
      ]
    },
    {
      "cell_type": "code",
      "metadata": {
        "id": "H73kvVUCxBw6"
      },
      "source": [
        "# Definindo sentença no qual trabalharemos\n",
        "sentenca = \"São Paulo é o maior do Brasil\""
      ],
      "execution_count": null,
      "outputs": []
    },
    {
      "cell_type": "code",
      "metadata": {
        "colab": {
          "base_uri": "https://localhost:8080/",
          "height": 269
        },
        "id": "pN65xwexx4g7",
        "outputId": "b0e17ab7-30e5-4032-a9d8-34123a73eaba"
      },
      "source": [
        "# Criando tabela pandas com atributos ohe\n",
        "pd.get_dummies(sentenca.split())"
      ],
      "execution_count": null,
      "outputs": [
        {
          "output_type": "execute_result",
          "data": {
            "text/html": [
              "<div>\n",
              "<style scoped>\n",
              "    .dataframe tbody tr th:only-of-type {\n",
              "        vertical-align: middle;\n",
              "    }\n",
              "\n",
              "    .dataframe tbody tr th {\n",
              "        vertical-align: top;\n",
              "    }\n",
              "\n",
              "    .dataframe thead th {\n",
              "        text-align: right;\n",
              "    }\n",
              "</style>\n",
              "<table border=\"1\" class=\"dataframe\">\n",
              "  <thead>\n",
              "    <tr style=\"text-align: right;\">\n",
              "      <th></th>\n",
              "      <th>Brasil</th>\n",
              "      <th>Paulo</th>\n",
              "      <th>São</th>\n",
              "      <th>do</th>\n",
              "      <th>maior</th>\n",
              "      <th>o</th>\n",
              "      <th>é</th>\n",
              "    </tr>\n",
              "  </thead>\n",
              "  <tbody>\n",
              "    <tr>\n",
              "      <th>0</th>\n",
              "      <td>0</td>\n",
              "      <td>0</td>\n",
              "      <td>1</td>\n",
              "      <td>0</td>\n",
              "      <td>0</td>\n",
              "      <td>0</td>\n",
              "      <td>0</td>\n",
              "    </tr>\n",
              "    <tr>\n",
              "      <th>1</th>\n",
              "      <td>0</td>\n",
              "      <td>1</td>\n",
              "      <td>0</td>\n",
              "      <td>0</td>\n",
              "      <td>0</td>\n",
              "      <td>0</td>\n",
              "      <td>0</td>\n",
              "    </tr>\n",
              "    <tr>\n",
              "      <th>2</th>\n",
              "      <td>0</td>\n",
              "      <td>0</td>\n",
              "      <td>0</td>\n",
              "      <td>0</td>\n",
              "      <td>0</td>\n",
              "      <td>0</td>\n",
              "      <td>1</td>\n",
              "    </tr>\n",
              "    <tr>\n",
              "      <th>3</th>\n",
              "      <td>0</td>\n",
              "      <td>0</td>\n",
              "      <td>0</td>\n",
              "      <td>0</td>\n",
              "      <td>0</td>\n",
              "      <td>1</td>\n",
              "      <td>0</td>\n",
              "    </tr>\n",
              "    <tr>\n",
              "      <th>4</th>\n",
              "      <td>0</td>\n",
              "      <td>0</td>\n",
              "      <td>0</td>\n",
              "      <td>0</td>\n",
              "      <td>1</td>\n",
              "      <td>0</td>\n",
              "      <td>0</td>\n",
              "    </tr>\n",
              "    <tr>\n",
              "      <th>5</th>\n",
              "      <td>0</td>\n",
              "      <td>0</td>\n",
              "      <td>0</td>\n",
              "      <td>1</td>\n",
              "      <td>0</td>\n",
              "      <td>0</td>\n",
              "      <td>0</td>\n",
              "    </tr>\n",
              "    <tr>\n",
              "      <th>6</th>\n",
              "      <td>1</td>\n",
              "      <td>0</td>\n",
              "      <td>0</td>\n",
              "      <td>0</td>\n",
              "      <td>0</td>\n",
              "      <td>0</td>\n",
              "      <td>0</td>\n",
              "    </tr>\n",
              "  </tbody>\n",
              "</table>\n",
              "</div>"
            ],
            "text/plain": [
              "   Brasil  Paulo  São  do  maior  o  é\n",
              "0       0      0    1   0      0  0  0\n",
              "1       0      1    0   0      0  0  0\n",
              "2       0      0    0   0      0  0  1\n",
              "3       0      0    0   0      0  1  0\n",
              "4       0      0    0   0      1  0  0\n",
              "5       0      0    0   1      0  0  0\n",
              "6       1      0    0   0      0  0  0"
            ]
          },
          "metadata": {},
          "execution_count": 62
        }
      ]
    },
    {
      "cell_type": "markdown",
      "metadata": {
        "id": "gHW7oSmKyFMf"
      },
      "source": [
        "## 2.2 Count Vectorizer\n",
        "\n",
        "Diferente da abordagem anterior nessa representação também consideramos a frequência das palavras na representação."
      ]
    },
    {
      "cell_type": "code",
      "metadata": {
        "id": "oEMEEFWeynoV"
      },
      "source": [
        "# Importando dependência\n",
        "from sklearn.feature_extraction.text import CountVectorizer"
      ],
      "execution_count": null,
      "outputs": []
    },
    {
      "cell_type": "code",
      "metadata": {
        "id": "IsB6F-LBzLCo"
      },
      "source": [
        "# Definindo texto usado para teste\n",
        "texto = [\"Time grande cai, mas time gigante não cai\"]"
      ],
      "execution_count": null,
      "outputs": []
    },
    {
      "cell_type": "code",
      "metadata": {
        "colab": {
          "base_uri": "https://localhost:8080/"
        },
        "id": "3zZfF0BYzkgY",
        "outputId": "1bdc79de-b7bb-42e8-a799-5f52b9e0219b"
      },
      "source": [
        "# Criando objeto de vetorização e realizando o fit\n",
        "vetorizador = CountVectorizer()\n",
        "vetorizador.fit(texto)"
      ],
      "execution_count": null,
      "outputs": [
        {
          "output_type": "execute_result",
          "data": {
            "text/plain": [
              "CountVectorizer()"
            ]
          },
          "metadata": {},
          "execution_count": 71
        }
      ]
    },
    {
      "cell_type": "code",
      "metadata": {
        "colab": {
          "base_uri": "https://localhost:8080/"
        },
        "id": "tE9yw7290NqP",
        "outputId": "2f06f210-30a6-4f7b-d9b5-41fa90f3b714"
      },
      "source": [
        "# Olhando o vocabulário do vetorizador\n",
        "print(vetorizador.vocabulary_)"
      ],
      "execution_count": null,
      "outputs": [
        {
          "output_type": "stream",
          "name": "stdout",
          "text": [
            "{'time': 5, 'grande': 2, 'cai': 0, 'mas': 3, 'gigante': 1, 'não': 4}\n"
          ]
        }
      ]
    },
    {
      "cell_type": "code",
      "metadata": {
        "colab": {
          "base_uri": "https://localhost:8080/"
        },
        "id": "JzBlHkDS0yMu",
        "outputId": "0d1d3d61-fc71-47ae-eb23-d3958dcccb16"
      },
      "source": [
        "# Olhando representação da nossa sentença com codificação vetorizada\n",
        "vetor = vetorizador.transform(texto)\n",
        "print(vetor.toarray())"
      ],
      "execution_count": null,
      "outputs": [
        {
          "output_type": "stream",
          "name": "stdout",
          "text": [
            "[[2 1 1 1 1 2]]\n"
          ]
        }
      ]
    },
    {
      "cell_type": "markdown",
      "metadata": {
        "id": "5zb4TjJI097m"
      },
      "source": [
        "## 2.3 N-Gramas"
      ]
    },
    {
      "cell_type": "code",
      "metadata": {
        "id": "pUaa-ePf09jm"
      },
      "source": [
        "# Importando vetorizador com contagem\n",
        "from sklearn.feature_extraction.text import CountVectorizer"
      ],
      "execution_count": null,
      "outputs": []
    },
    {
      "cell_type": "code",
      "metadata": {
        "id": "KlRveZ2J3Nu-"
      },
      "source": [
        "# Texto que usaremos\n",
        "texto = [\"Eu amo PLN e eu irei aprender PLN em 3 meses\"]"
      ],
      "execution_count": null,
      "outputs": []
    },
    {
      "cell_type": "code",
      "metadata": {
        "id": "xwMPSvt63RUc"
      },
      "source": [
        "# Criando a vetorização através de 2-gramas\n",
        "vetorizador = CountVectorizer(ngram_range=(2, 2))"
      ],
      "execution_count": null,
      "outputs": []
    },
    {
      "cell_type": "code",
      "metadata": {
        "colab": {
          "base_uri": "https://localhost:8080/"
        },
        "id": "Y2GinW_I3ZQy",
        "outputId": "9c5a4a64-9e4d-4868-d6b5-9b733dd3295f"
      },
      "source": [
        "# Treinando o vetorizador e vendo vocabulário\n",
        "vetorizador.fit(texto)\n",
        "print(vetorizador.vocabulary_)"
      ],
      "execution_count": null,
      "outputs": [
        {
          "output_type": "stream",
          "name": "stdout",
          "text": [
            "{'eu amo': 3, 'amo pln': 0, 'pln eu': 7, 'eu irei': 4, 'irei aprender': 5, 'aprender pln': 1, 'pln em': 6, 'em meses': 2}\n"
          ]
        }
      ]
    },
    {
      "cell_type": "code",
      "metadata": {
        "colab": {
          "base_uri": "https://localhost:8080/"
        },
        "id": "BdrI7Apf4LSM",
        "outputId": "c561eb86-f578-4c53-ec28-bc121f72f846"
      },
      "source": [
        "# Codificando nosso texto e mostrando resultado\n",
        "vetor = vetorizador.transform(texto)\n",
        "print(vetor.toarray())"
      ],
      "execution_count": null,
      "outputs": [
        {
          "output_type": "stream",
          "name": "stdout",
          "text": [
            "[[1 1 1 1 1 1 1 1]]\n"
          ]
        }
      ]
    },
    {
      "cell_type": "markdown",
      "metadata": {
        "id": "7P234SKO4Y8v"
      },
      "source": [
        "## 2.4 TF-IDF"
      ]
    },
    {
      "cell_type": "code",
      "metadata": {
        "id": "Y59pMvSA43ji"
      },
      "source": [
        "# Importando módulo\n",
        "from sklearn.feature_extraction.text import TfidfVectorizer"
      ],
      "execution_count": null,
      "outputs": []
    },
    {
      "cell_type": "code",
      "metadata": {
        "id": "CFx26kLH47O8"
      },
      "source": [
        "# Definindo os textos\n",
        "textos = [\"A ligeira raposa marrom saltou sobre o cachorro preguiçoso.\", \"O cachorro.\", \"A raposa\"]"
      ],
      "execution_count": null,
      "outputs": []
    },
    {
      "cell_type": "code",
      "metadata": {
        "id": "lKKO0jxJ6lSx"
      },
      "source": [
        "# Criando o objeto transformador\n",
        "vetorizador = TfidfVectorizer()"
      ],
      "execution_count": null,
      "outputs": []
    },
    {
      "cell_type": "code",
      "metadata": {
        "colab": {
          "base_uri": "https://localhost:8080/"
        },
        "id": "kGPGi8FN6OjB",
        "outputId": "c23e5296-6a63-4b57-e76d-1dfc6560a5b1"
      },
      "source": [
        "# Treinando o transformador\n",
        "vetorizador.fit(textos)"
      ],
      "execution_count": null,
      "outputs": [
        {
          "output_type": "execute_result",
          "data": {
            "text/plain": [
              "TfidfVectorizer()"
            ]
          },
          "metadata": {},
          "execution_count": 100
        }
      ]
    },
    {
      "cell_type": "code",
      "metadata": {
        "colab": {
          "base_uri": "https://localhost:8080/"
        },
        "id": "2EaTD3sI7It0",
        "outputId": "1b654b32-acd0-479a-96be-63bae41edcba"
      },
      "source": [
        "# Mostrando vocabulário\n",
        "print(vetorizador.vocabulary_)"
      ],
      "execution_count": null,
      "outputs": [
        {
          "output_type": "stream",
          "name": "stdout",
          "text": [
            "{'cachorro': 0, 'morde': 5, 'homem': 4, 'come': 2, 'carne': 1, 'comida': 3}\n"
          ]
        }
      ]
    },
    {
      "cell_type": "code",
      "metadata": {
        "colab": {
          "base_uri": "https://localhost:8080/"
        },
        "id": "JAemmDCg7LoQ",
        "outputId": "c67899e1-e4df-4366-8b84-34a3a5e4ffab"
      },
      "source": [
        "# Mostrando representação TF-IDF\n",
        "print(vetorizador.idf_)"
      ],
      "execution_count": null,
      "outputs": [
        {
          "output_type": "stream",
          "name": "stdout",
          "text": [
            "[1.22314355 1.91629073 1.51082562 1.91629073 1.22314355 1.51082562]\n"
          ]
        }
      ]
    },
    {
      "cell_type": "markdown",
      "metadata": {
        "id": "101Q5bHmxvQH"
      },
      "source": [
        "Parei no notebook 11"
      ]
    }
  ]
}